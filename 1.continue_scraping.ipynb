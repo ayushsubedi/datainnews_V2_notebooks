{
 "cells": [
  {
   "cell_type": "code",
   "execution_count": 1,
   "metadata": {},
   "outputs": [],
   "source": [
    "import pandas as pd\n",
    "from newspaper import Article\n",
    "import nltk\n",
    "import ast\n",
    "import requests\n",
    "from tqdm.auto import tqdm\n",
    "tqdm.pandas()\n",
    "from bs4 import BeautifulSoup, Comment\n",
    "import numpy as np"
   ]
  },
  {
   "cell_type": "code",
   "execution_count": 2,
   "metadata": {},
   "outputs": [],
   "source": [
    "headers = {\n",
    "    'Access-Control-Allow-Origin': '*',\n",
    "    'Access-Control-Allow-Methods': 'GET',\n",
    "    'Access-Control-Allow-Headers': 'Content-Type',\n",
    "    'Access-Control-Max-Age': '3600',\n",
    "    'User-Agent': 'Mozilla/5.0 (X11; Ubuntu; Linux x86_64; rv:52.0) Gecko/20100101 Firefox/52.0'\n",
    "    }"
   ]
  },
  {
   "cell_type": "code",
   "execution_count": 29,
   "metadata": {},
   "outputs": [],
   "source": [
    "df = pd.read_csv('RepublicaNepal.csv')"
   ]
  },
  {
   "cell_type": "code",
   "execution_count": 6,
   "metadata": {},
   "outputs": [],
   "source": [
    "# new = pd.read_csv(\"RepublicaNepal_articles.csv\")"
   ]
  },
  {
   "cell_type": "code",
   "execution_count": 7,
   "metadata": {},
   "outputs": [],
   "source": [
    "# joined = df[['id', 'created_at', 'urls']].set_index('id').join(new[['id', 'article']].set_index('id')).reset_index()"
   ]
  },
  {
   "cell_type": "code",
   "execution_count": 27,
   "metadata": {},
   "outputs": [],
   "source": [
    "# joined['article'] = joined['article'].replace('404', np.NaN)"
   ]
  },
  {
   "cell_type": "code",
   "execution_count": 28,
   "metadata": {},
   "outputs": [],
   "source": [
    "# joined.to_csv('RepublicaNepal.csv', index=False)"
   ]
  },
  {
   "cell_type": "code",
   "execution_count": 30,
   "metadata": {},
   "outputs": [
    {
     "data": {
      "text/plain": [
       "(41226, 4)"
      ]
     },
     "execution_count": 30,
     "metadata": {},
     "output_type": "execute_result"
    }
   ],
   "source": [
    "df.shape"
   ]
  },
  {
   "cell_type": "code",
   "execution_count": 31,
   "metadata": {},
   "outputs": [
    {
     "data": {
      "text/html": [
       "<div>\n",
       "<style scoped>\n",
       "    .dataframe tbody tr th:only-of-type {\n",
       "        vertical-align: middle;\n",
       "    }\n",
       "\n",
       "    .dataframe tbody tr th {\n",
       "        vertical-align: top;\n",
       "    }\n",
       "\n",
       "    .dataframe thead th {\n",
       "        text-align: right;\n",
       "    }\n",
       "</style>\n",
       "<table border=\"1\" class=\"dataframe\">\n",
       "  <thead>\n",
       "    <tr style=\"text-align: right;\">\n",
       "      <th></th>\n",
       "      <th>id</th>\n",
       "      <th>created_at</th>\n",
       "      <th>urls</th>\n",
       "      <th>article</th>\n",
       "    </tr>\n",
       "  </thead>\n",
       "  <tbody>\n",
       "    <tr>\n",
       "      <th>0</th>\n",
       "      <td>1376900077713678345</td>\n",
       "      <td>2021-03-30 19:57:14+05:45</td>\n",
       "      <td>https://myrepublica.nagariknetwork.com/news/ne...</td>\n",
       "      <td>KATHMANDU, March 30: The equity market opened ...</td>\n",
       "    </tr>\n",
       "    <tr>\n",
       "      <th>1</th>\n",
       "      <td>1376899173098745862</td>\n",
       "      <td>2021-03-30 19:53:39+05:45</td>\n",
       "      <td>https://myrepublica.nagariknetwork.com/news/go...</td>\n",
       "      <td>KATHMANDU, March 30: Expressing strong dissati...</td>\n",
       "    </tr>\n",
       "    <tr>\n",
       "      <th>2</th>\n",
       "      <td>1376885989214355469</td>\n",
       "      <td>2021-03-30 19:01:15+05:45</td>\n",
       "      <td>https://myrepublica.nagariknetwork.com/news/yo...</td>\n",
       "      <td>Pandey accuses Oli of misusing state power and...</td>\n",
       "    </tr>\n",
       "    <tr>\n",
       "      <th>3</th>\n",
       "      <td>1376871383347519488</td>\n",
       "      <td>2021-03-30 18:03:13+05:45</td>\n",
       "      <td>https://myrepublica.nagariknetwork.com/news/us...</td>\n",
       "      <td>KATHMANDU, March 30: Nepal Police's Central In...</td>\n",
       "    </tr>\n",
       "    <tr>\n",
       "      <th>4</th>\n",
       "      <td>1376866695051014146</td>\n",
       "      <td>2021-03-30 17:44:35+05:45</td>\n",
       "      <td>https://myrepublica.nagariknetwork.com/news/pm...</td>\n",
       "      <td>KATHMANDU, March 30: The government is all set...</td>\n",
       "    </tr>\n",
       "  </tbody>\n",
       "</table>\n",
       "</div>"
      ],
      "text/plain": [
       "                    id                 created_at  \\\n",
       "0  1376900077713678345  2021-03-30 19:57:14+05:45   \n",
       "1  1376899173098745862  2021-03-30 19:53:39+05:45   \n",
       "2  1376885989214355469  2021-03-30 19:01:15+05:45   \n",
       "3  1376871383347519488  2021-03-30 18:03:13+05:45   \n",
       "4  1376866695051014146  2021-03-30 17:44:35+05:45   \n",
       "\n",
       "                                                urls  \\\n",
       "0  https://myrepublica.nagariknetwork.com/news/ne...   \n",
       "1  https://myrepublica.nagariknetwork.com/news/go...   \n",
       "2  https://myrepublica.nagariknetwork.com/news/yo...   \n",
       "3  https://myrepublica.nagariknetwork.com/news/us...   \n",
       "4  https://myrepublica.nagariknetwork.com/news/pm...   \n",
       "\n",
       "                                             article  \n",
       "0  KATHMANDU, March 30: The equity market opened ...  \n",
       "1  KATHMANDU, March 30: Expressing strong dissati...  \n",
       "2  Pandey accuses Oli of misusing state power and...  \n",
       "3  KATHMANDU, March 30: Nepal Police's Central In...  \n",
       "4  KATHMANDU, March 30: The government is all set...  "
      ]
     },
     "execution_count": 31,
     "metadata": {},
     "output_type": "execute_result"
    }
   ],
   "source": [
    "df.head()"
   ]
  },
  {
   "cell_type": "code",
   "execution_count": 32,
   "metadata": {},
   "outputs": [
    {
     "data": {
      "text/html": [
       "<div>\n",
       "<style scoped>\n",
       "    .dataframe tbody tr th:only-of-type {\n",
       "        vertical-align: middle;\n",
       "    }\n",
       "\n",
       "    .dataframe tbody tr th {\n",
       "        vertical-align: top;\n",
       "    }\n",
       "\n",
       "    .dataframe thead th {\n",
       "        text-align: right;\n",
       "    }\n",
       "</style>\n",
       "<table border=\"1\" class=\"dataframe\">\n",
       "  <thead>\n",
       "    <tr style=\"text-align: right;\">\n",
       "      <th></th>\n",
       "      <th>id</th>\n",
       "      <th>created_at</th>\n",
       "      <th>urls</th>\n",
       "      <th>article</th>\n",
       "    </tr>\n",
       "  </thead>\n",
       "  <tbody>\n",
       "    <tr>\n",
       "      <th>41221</th>\n",
       "      <td>947658764064243713</td>\n",
       "      <td>2018-01-01 08:25:30+05:45</td>\n",
       "      <td>https://goo.gl/6aTfY9</td>\n",
       "      <td>NaN</td>\n",
       "    </tr>\n",
       "    <tr>\n",
       "      <th>41222</th>\n",
       "      <td>947658303290580993</td>\n",
       "      <td>2018-01-01 08:23:40+05:45</td>\n",
       "      <td>https://goo.gl/eLy4Pe</td>\n",
       "      <td>NaN</td>\n",
       "    </tr>\n",
       "    <tr>\n",
       "      <th>41223</th>\n",
       "      <td>947655493631188992</td>\n",
       "      <td>2018-01-01 08:12:30+05:45</td>\n",
       "      <td>https://goo.gl/CwpTUq</td>\n",
       "      <td>NaN</td>\n",
       "    </tr>\n",
       "    <tr>\n",
       "      <th>41224</th>\n",
       "      <td>947654732121743361</td>\n",
       "      <td>2018-01-01 08:09:29+05:45</td>\n",
       "      <td>https://goo.gl/WpfygX</td>\n",
       "      <td>NaN</td>\n",
       "    </tr>\n",
       "    <tr>\n",
       "      <th>41225</th>\n",
       "      <td>947654028317507584</td>\n",
       "      <td>2018-01-01 08:06:41+05:45</td>\n",
       "      <td>https://goo.gl/e47Gfo</td>\n",
       "      <td>NaN</td>\n",
       "    </tr>\n",
       "  </tbody>\n",
       "</table>\n",
       "</div>"
      ],
      "text/plain": [
       "                       id                 created_at                   urls  \\\n",
       "41221  947658764064243713  2018-01-01 08:25:30+05:45  https://goo.gl/6aTfY9   \n",
       "41222  947658303290580993  2018-01-01 08:23:40+05:45  https://goo.gl/eLy4Pe   \n",
       "41223  947655493631188992  2018-01-01 08:12:30+05:45  https://goo.gl/CwpTUq   \n",
       "41224  947654732121743361  2018-01-01 08:09:29+05:45  https://goo.gl/WpfygX   \n",
       "41225  947654028317507584  2018-01-01 08:06:41+05:45  https://goo.gl/e47Gfo   \n",
       "\n",
       "      article  \n",
       "41221     NaN  \n",
       "41222     NaN  \n",
       "41223     NaN  \n",
       "41224     NaN  \n",
       "41225     NaN  "
      ]
     },
     "execution_count": 32,
     "metadata": {},
     "output_type": "execute_result"
    }
   ],
   "source": [
    "df.tail()"
   ]
  },
  {
   "cell_type": "markdown",
   "metadata": {},
   "source": [
    "## Chunk"
   ]
  },
  {
   "cell_type": "code",
   "execution_count": 33,
   "metadata": {},
   "outputs": [],
   "source": [
    "def article_ktmpost(row):\n",
    "    try:\n",
    "        if (row.article != row.article):\n",
    "            url = row.urls\n",
    "            req = requests.get(url, headers)\n",
    "            soup = BeautifulSoup(req.content, 'html.parser')\n",
    "            result = soup.find(\"div\", {\"class\": \"col-sm-8\"})\n",
    "            return result.text\n",
    "        return row.article\n",
    "    except Exception as e:\n",
    "        print (str(e))\n",
    "        return 404\n",
    "    \n",
    "def article(row):\n",
    "    try:\n",
    "        if (row.article != row.article):\n",
    "            url = row.urls\n",
    "            article = Article(url)\n",
    "            article.download()\n",
    "            article.parse()\n",
    "            return article.text\n",
    "        return row.article\n",
    "    except Exception as e:\n",
    "        print (str(e))\n",
    "        return 404  "
   ]
  },
  {
   "cell_type": "code",
   "execution_count": 34,
   "metadata": {},
   "outputs": [
    {
     "data": {
      "application/vnd.jupyter.widget-view+json": {
       "model_id": "fdb3cc9741414a0e91ffacb7979c9b50",
       "version_major": 2,
       "version_minor": 0
      },
      "text/plain": [
       "HBox(children=(HTML(value=''), FloatProgress(value=0.0, max=1000.0), HTML(value='')))"
      ]
     },
     "metadata": {},
     "output_type": "display_data"
    },
    {
     "name": "stdout",
     "output_type": "stream",
     "text": [
      "Article `download()` failed with HTTPConnectionPool(host='www.iporesult.cdsc.com.np', port=80): Max retries exceeded with url: / (Caused by NewConnectionError('<urllib3.connection.HTTPConnection object at 0x7ff0f031bb50>: Failed to establish a new connection: [Errno 8] nodename nor servname provided, or not known')) on URL http://www.iporesult.cdsc.com.np\n",
      "\n"
     ]
    },
    {
     "data": {
      "application/vnd.jupyter.widget-view+json": {
       "model_id": "54962fc3df0e49df9eaf0de93ebc7330",
       "version_major": 2,
       "version_minor": 0
      },
      "text/plain": [
       "HBox(children=(HTML(value=''), FloatProgress(value=0.0, max=1000.0), HTML(value='')))"
      ]
     },
     "metadata": {},
     "output_type": "display_data"
    },
    {
     "name": "stdout",
     "output_type": "stream",
     "text": [
      "\n"
     ]
    },
    {
     "data": {
      "application/vnd.jupyter.widget-view+json": {
       "model_id": "149911c74805435b867a64f2bfb74743",
       "version_major": 2,
       "version_minor": 0
      },
      "text/plain": [
       "HBox(children=(HTML(value=''), FloatProgress(value=0.0, max=1000.0), HTML(value='')))"
      ]
     },
     "metadata": {},
     "output_type": "display_data"
    },
    {
     "name": "stdout",
     "output_type": "stream",
     "text": [
      "\n"
     ]
    },
    {
     "data": {
      "application/vnd.jupyter.widget-view+json": {
       "model_id": "95e6ff9f4330492fbf2755efe36661e5",
       "version_major": 2,
       "version_minor": 0
      },
      "text/plain": [
       "HBox(children=(HTML(value=''), FloatProgress(value=0.0, max=1000.0), HTML(value='')))"
      ]
     },
     "metadata": {},
     "output_type": "display_data"
    },
    {
     "name": "stdout",
     "output_type": "stream",
     "text": [
      "\n"
     ]
    },
    {
     "data": {
      "application/vnd.jupyter.widget-view+json": {
       "model_id": "ae88e72bcc8542cf828398560ea0feb8",
       "version_major": 2,
       "version_minor": 0
      },
      "text/plain": [
       "HBox(children=(HTML(value=''), FloatProgress(value=0.0, max=1000.0), HTML(value='')))"
      ]
     },
     "metadata": {},
     "output_type": "display_data"
    },
    {
     "name": "stdout",
     "output_type": "stream",
     "text": [
      "\n"
     ]
    },
    {
     "data": {
      "application/vnd.jupyter.widget-view+json": {
       "model_id": "bb94d9b1c22e4f7c913f28072ecea4ad",
       "version_major": 2,
       "version_minor": 0
      },
      "text/plain": [
       "HBox(children=(HTML(value=''), FloatProgress(value=0.0, max=1000.0), HTML(value='')))"
      ]
     },
     "metadata": {},
     "output_type": "display_data"
    },
    {
     "name": "stdout",
     "output_type": "stream",
     "text": [
      "\n"
     ]
    },
    {
     "data": {
      "application/vnd.jupyter.widget-view+json": {
       "model_id": "41806114ad24442bbd739d55d5003c29",
       "version_major": 2,
       "version_minor": 0
      },
      "text/plain": [
       "HBox(children=(HTML(value=''), FloatProgress(value=0.0, max=1000.0), HTML(value='')))"
      ]
     },
     "metadata": {},
     "output_type": "display_data"
    },
    {
     "name": "stdout",
     "output_type": "stream",
     "text": [
      "\n"
     ]
    },
    {
     "data": {
      "application/vnd.jupyter.widget-view+json": {
       "model_id": "39a859319745475c84df76ef344c8320",
       "version_major": 2,
       "version_minor": 0
      },
      "text/plain": [
       "HBox(children=(HTML(value=''), FloatProgress(value=0.0, max=1000.0), HTML(value='')))"
      ]
     },
     "metadata": {},
     "output_type": "display_data"
    },
    {
     "name": "stdout",
     "output_type": "stream",
     "text": [
      "\n"
     ]
    },
    {
     "data": {
      "application/vnd.jupyter.widget-view+json": {
       "model_id": "ced476a35e374607aa3b3b0c701892f4",
       "version_major": 2,
       "version_minor": 0
      },
      "text/plain": [
       "HBox(children=(HTML(value=''), FloatProgress(value=0.0, max=1000.0), HTML(value='')))"
      ]
     },
     "metadata": {},
     "output_type": "display_data"
    },
    {
     "name": "stdout",
     "output_type": "stream",
     "text": [
      "Article `download()` failed with HTTPConnectionPool(host='www.nepalarm.mil.np', port=80): Max retries exceeded with url: / (Caused by NewConnectionError('<urllib3.connection.HTTPConnection object at 0x7ff0eb5ea040>: Failed to establish a new connection: [Errno 8] nodename nor servname provided, or not known')) on URL http://www.nepalarm.mil.np\n",
      "Article `download()` failed with HTTPConnectionPool(host='www.covid.mohp.gov.np', port=80): Max retries exceeded with url: / (Caused by NewConnectionError('<urllib3.connection.HTTPConnection object at 0x7ff0eb5cf7c0>: Failed to establish a new connection: [Errno 8] nodename nor servname provided, or not known')) on URL http://www.covid.mohp.gov.np\n",
      "\n"
     ]
    },
    {
     "data": {
      "application/vnd.jupyter.widget-view+json": {
       "model_id": "0f8073f036c149eeab8e4485e8286591",
       "version_major": 2,
       "version_minor": 0
      },
      "text/plain": [
       "HBox(children=(HTML(value=''), FloatProgress(value=0.0, max=1000.0), HTML(value='')))"
      ]
     },
     "metadata": {},
     "output_type": "display_data"
    },
    {
     "name": "stdout",
     "output_type": "stream",
     "text": [
      "\n"
     ]
    },
    {
     "data": {
      "application/vnd.jupyter.widget-view+json": {
       "model_id": "4d4223de5cd34634a3c2de083ba2e256",
       "version_major": 2,
       "version_minor": 0
      },
      "text/plain": [
       "HBox(children=(HTML(value=''), FloatProgress(value=0.0, max=1000.0), HTML(value='')))"
      ]
     },
     "metadata": {},
     "output_type": "display_data"
    },
    {
     "name": "stdout",
     "output_type": "stream",
     "text": [
      "Article `download()` failed with 404 Client Error: Not Found for url: https://myrepublica.nagariknetwork.com/news/apex-court-seeks-written-reasons-for-not-indicting-former-pms-in-baluwatar-land-scam/A on URL https://myrepublica.nagariknetwork.com/news/apex-court-seeks-written-reasons-for-not-indicting-former-pms-in-baluwatar-land-scam/A\n",
      "\n"
     ]
    },
    {
     "data": {
      "application/vnd.jupyter.widget-view+json": {
       "model_id": "8bb3bd19164e4f689f849330cef1b554",
       "version_major": 2,
       "version_minor": 0
      },
      "text/plain": [
       "HBox(children=(HTML(value=''), FloatProgress(value=0.0, max=1000.0), HTML(value='')))"
      ]
     },
     "metadata": {},
     "output_type": "display_data"
    },
    {
     "name": "stdout",
     "output_type": "stream",
     "text": [
      "\n"
     ]
    },
    {
     "data": {
      "application/vnd.jupyter.widget-view+json": {
       "model_id": "6d2a112c36f2416ba2d08be3b3675e5a",
       "version_major": 2,
       "version_minor": 0
      },
      "text/plain": [
       "HBox(children=(HTML(value=''), FloatProgress(value=0.0, max=1000.0), HTML(value='')))"
      ]
     },
     "metadata": {},
     "output_type": "display_data"
    },
    {
     "name": "stdout",
     "output_type": "stream",
     "text": [
      "\n"
     ]
    },
    {
     "data": {
      "application/vnd.jupyter.widget-view+json": {
       "model_id": "a708f85832a64353b1f639378c6c9ab8",
       "version_major": 2,
       "version_minor": 0
      },
      "text/plain": [
       "HBox(children=(HTML(value=''), FloatProgress(value=0.0, max=1000.0), HTML(value='')))"
      ]
     },
     "metadata": {},
     "output_type": "display_data"
    },
    {
     "name": "stdout",
     "output_type": "stream",
     "text": [
      "\n"
     ]
    },
    {
     "data": {
      "application/vnd.jupyter.widget-view+json": {
       "model_id": "f400c046388e4456974add895b83d80c",
       "version_major": 2,
       "version_minor": 0
      },
      "text/plain": [
       "HBox(children=(HTML(value=''), FloatProgress(value=0.0, max=1000.0), HTML(value='')))"
      ]
     },
     "metadata": {},
     "output_type": "display_data"
    },
    {
     "name": "stdout",
     "output_type": "stream",
     "text": [
      "\n"
     ]
    },
    {
     "data": {
      "application/vnd.jupyter.widget-view+json": {
       "model_id": "46fe082e69824cfebed5e468f26b5a16",
       "version_major": 2,
       "version_minor": 0
      },
      "text/plain": [
       "HBox(children=(HTML(value=''), FloatProgress(value=0.0, max=1000.0), HTML(value='')))"
      ]
     },
     "metadata": {},
     "output_type": "display_data"
    },
    {
     "name": "stdout",
     "output_type": "stream",
     "text": [
      "\n"
     ]
    },
    {
     "data": {
      "application/vnd.jupyter.widget-view+json": {
       "model_id": "2e54c12a7ce6419bafce356f339efc8b",
       "version_major": 2,
       "version_minor": 0
      },
      "text/plain": [
       "HBox(children=(HTML(value=''), FloatProgress(value=0.0, max=1000.0), HTML(value='')))"
      ]
     },
     "metadata": {},
     "output_type": "display_data"
    },
    {
     "name": "stdout",
     "output_type": "stream",
     "text": [
      "\n"
     ]
    },
    {
     "data": {
      "application/vnd.jupyter.widget-view+json": {
       "model_id": "63f5f655ef07461daafdadccb3d04eec",
       "version_major": 2,
       "version_minor": 0
      },
      "text/plain": [
       "HBox(children=(HTML(value=''), FloatProgress(value=0.0, max=1000.0), HTML(value='')))"
      ]
     },
     "metadata": {},
     "output_type": "display_data"
    },
    {
     "name": "stdout",
     "output_type": "stream",
     "text": [
      "\n"
     ]
    },
    {
     "data": {
      "application/vnd.jupyter.widget-view+json": {
       "model_id": "a668da73ebf2449a8d37889a941f8fcb",
       "version_major": 2,
       "version_minor": 0
      },
      "text/plain": [
       "HBox(children=(HTML(value=''), FloatProgress(value=0.0, max=1000.0), HTML(value='')))"
      ]
     },
     "metadata": {},
     "output_type": "display_data"
    },
    {
     "name": "stdout",
     "output_type": "stream",
     "text": [
      "Article `download()` failed with HTTPSConnectionPool(host='tinyurl.com', port=443): Read timed out. (read timeout=7) on URL https://tinyurl.com/y3fsmklc\n",
      "\n"
     ]
    },
    {
     "data": {
      "application/vnd.jupyter.widget-view+json": {
       "model_id": "2faef4fc50834a409be68a14b293e4da",
       "version_major": 2,
       "version_minor": 0
      },
      "text/plain": [
       "HBox(children=(HTML(value=''), FloatProgress(value=0.0, max=1000.0), HTML(value='')))"
      ]
     },
     "metadata": {},
     "output_type": "display_data"
    },
    {
     "name": "stdout",
     "output_type": "stream",
     "text": [
      "Article `download()` failed with 404 Client Error: Not Found for url: https://myrepublica.nagariknetwork.com/mycity/news/bharat-hits-double-century-crosses-rs-200-cr-mark on URL https://myrepublica.nagariknetwork.com/mycity/news/bharat-hits-double-century-crosses-rs-200-cr-mark\n",
      "\n"
     ]
    },
    {
     "data": {
      "application/vnd.jupyter.widget-view+json": {
       "model_id": "2d9ae4c587754a30a4f98dd216ed03b4",
       "version_major": 2,
       "version_minor": 0
      },
      "text/plain": [
       "HBox(children=(HTML(value=''), FloatProgress(value=0.0, max=1000.0), HTML(value='')))"
      ]
     },
     "metadata": {},
     "output_type": "display_data"
    },
    {
     "name": "stdout",
     "output_type": "stream",
     "text": [
      "Article `download()` failed with HTTPConnectionPool(host='groups.it', port=80): Max retries exceeded with url: / (Caused by NewConnectionError('<urllib3.connection.HTTPConnection object at 0x7ff0eb735670>: Failed to establish a new connection: [Errno 8] nodename nor servname provided, or not known')) on URL http://groups.It\n",
      "Article `download()` failed with HTTPConnectionPool(host='tinyw.in', port=80): Max retries exceeded with url: /9F5h (Caused by NewConnectionError('<urllib3.connection.HTTPConnection object at 0x7ff0f031b4c0>: Failed to establish a new connection: [Errno 8] nodename nor servname provided, or not known')) on URL http://tinyw.in/9F5h\n",
      "Article `download()` failed with HTTPConnectionPool(host='tinyw.in', port=80): Max retries exceeded with url: /EYfq (Caused by NewConnectionError('<urllib3.connection.HTTPConnection object at 0x7ff0f031bd30>: Failed to establish a new connection: [Errno 8] nodename nor servname provided, or not known')) on URL http://tinyw.in/EYfq\n",
      "Article `download()` failed with HTTPConnectionPool(host='tinyw.in', port=80): Max retries exceeded with url: /Qxe0 (Caused by NewConnectionError('<urllib3.connection.HTTPConnection object at 0x7ff0eb735520>: Failed to establish a new connection: [Errno 8] nodename nor servname provided, or not known')) on URL http://tinyw.in/Qxe0\n",
      "Article `download()` failed with HTTPConnectionPool(host='tinyw.in', port=80): Max retries exceeded with url: /MfYk (Caused by NewConnectionError('<urllib3.connection.HTTPConnection object at 0x7ff0ea6cd490>: Failed to establish a new connection: [Errno 8] nodename nor servname provided, or not known')) on URL http://tinyw.in/MfYk\n",
      "Article `download()` failed with HTTPConnectionPool(host='tinyw.in', port=80): Max retries exceeded with url: /moUJ (Caused by NewConnectionError('<urllib3.connection.HTTPConnection object at 0x7ff0ea6cda00>: Failed to establish a new connection: [Errno 8] nodename nor servname provided, or not known')) on URL http://tinyw.in/moUJ\n",
      "Article `download()` failed with HTTPSConnectionPool(host='tinyurl.com', port=443): Read timed out. (read timeout=7) on URL https://tinyurl.com/y4z9ste3\n",
      "Article `download()` failed with 404 Client Error: Not Found for url: https://myrepublica.nagariknetwork.com/mycity/news/gearing-up-for-nepal-s-plus-size-mode on URL https://myrepublica.nagariknetwork.com/mycity/news/gearing-up-for-nepal-s-plus-size-mode\n",
      "Article `download()` failed with HTTPConnectionPool(host='tinyw.in', port=80): Max retries exceeded with url: /m1VP (Caused by NewConnectionError('<urllib3.connection.HTTPConnection object at 0x7ff0f031b3a0>: Failed to establish a new connection: [Errno 8] nodename nor servname provided, or not known')) on URL http://tinyw.in/m1VP\n",
      "Article `download()` failed with HTTPConnectionPool(host='tinyw.in', port=80): Max retries exceeded with url: /UQxX (Caused by NewConnectionError('<urllib3.connection.HTTPConnection object at 0x7ff0f031be50>: Failed to establish a new connection: [Errno 8] nodename nor servname provided, or not known')) on URL http://tinyw.in/UQxX\n",
      "Article `download()` failed with HTTPConnectionPool(host='tinyw.in', port=80): Max retries exceeded with url: /O0Ud (Caused by NewConnectionError('<urllib3.connection.HTTPConnection object at 0x7ff0ea6bf460>: Failed to establish a new connection: [Errno 8] nodename nor servname provided, or not known')) on URL http://tinyw.in/O0Ud\n",
      "Article `download()` failed with HTTPConnectionPool(host='tinyw.in', port=80): Max retries exceeded with url: /lTkp (Caused by NewConnectionError('<urllib3.connection.HTTPConnection object at 0x7ff0ea6cdfd0>: Failed to establish a new connection: [Errno 8] nodename nor servname provided, or not known')) on URL http://tinyw.in/lTkp\n",
      "Article `download()` failed with HTTPConnectionPool(host='tinyw.in', port=80): Max retries exceeded with url: /Xc8Y (Caused by NewConnectionError('<urllib3.connection.HTTPConnection object at 0x7ff0ea6cd430>: Failed to establish a new connection: [Errno 8] nodename nor servname provided, or not known')) on URL http://tinyw.in/Xc8Y\n",
      "Article `download()` failed with HTTPConnectionPool(host='tinyw.in', port=80): Max retries exceeded with url: /VjSP (Caused by NewConnectionError('<urllib3.connection.HTTPConnection object at 0x7ff0ea6cd0a0>: Failed to establish a new connection: [Errno 8] nodename nor servname provided, or not known')) on URL http://tinyw.in/VjSP\n",
      "Article `download()` failed with HTTPConnectionPool(host='tinyw.in', port=80): Max retries exceeded with url: /kZFS (Caused by NewConnectionError('<urllib3.connection.HTTPConnection object at 0x7ff0eb735190>: Failed to establish a new connection: [Errno 8] nodename nor servname provided, or not known')) on URL http://tinyw.in/kZFS\n",
      "Article `download()` failed with HTTPConnectionPool(host='tinyw.in', port=80): Max retries exceeded with url: /fk5R (Caused by NewConnectionError('<urllib3.connection.HTTPConnection object at 0x7ff0eb5ea250>: Failed to establish a new connection: [Errno 8] nodename nor servname provided, or not known')) on URL http://tinyw.in/fk5R\n",
      "Article `download()` failed with HTTPConnectionPool(host='tinyw.in', port=80): Max retries exceeded with url: /03cy (Caused by NewConnectionError('<urllib3.connection.HTTPConnection object at 0x7ff0eb735520>: Failed to establish a new connection: [Errno 8] nodename nor servname provided, or not known')) on URL http://tinyw.in/03cy\n",
      "Article `download()` failed with HTTPConnectionPool(host='tinyw.in', port=80): Max retries exceeded with url: /LMX0 (Caused by NewConnectionError('<urllib3.connection.HTTPConnection object at 0x7ff0eb735490>: Failed to establish a new connection: [Errno 8] nodename nor servname provided, or not known')) on URL http://tinyw.in/LMX0\n",
      "Article `download()` failed with HTTPConnectionPool(host='tinyw.in', port=80): Max retries exceeded with url: /eq1l (Caused by NewConnectionError('<urllib3.connection.HTTPConnection object at 0x7ff0eb735460>: Failed to establish a new connection: [Errno 8] nodename nor servname provided, or not known')) on URL http://tinyw.in/eq1l\n",
      "Article `download()` failed with HTTPConnectionPool(host='tinyw.in', port=80): Max retries exceeded with url: /tinl (Caused by NewConnectionError('<urllib3.connection.HTTPConnection object at 0x7ff0f031bd30>: Failed to establish a new connection: [Errno 8] nodename nor servname provided, or not known')) on URL http://tinyw.in/tinl\n",
      "Article `download()` failed with HTTPConnectionPool(host='tinyw.in', port=80): Max retries exceeded with url: /QGRj (Caused by NewConnectionError('<urllib3.connection.HTTPConnection object at 0x7ff0eb5b5a00>: Failed to establish a new connection: [Errno 8] nodename nor servname provided, or not known')) on URL http://tinyw.in/QGRj\n",
      "Article `download()` failed with HTTPConnectionPool(host='tinyw.in', port=80): Max retries exceeded with url: /a3r2 (Caused by NewConnectionError('<urllib3.connection.HTTPConnection object at 0x7ff0eb5b56d0>: Failed to establish a new connection: [Errno 8] nodename nor servname provided, or not known')) on URL http://tinyw.in/a3r2\n",
      "Article `download()` failed with HTTPConnectionPool(host='tinyw.in', port=80): Max retries exceeded with url: /f1fs (Caused by NewConnectionError('<urllib3.connection.HTTPConnection object at 0x7ff0eb5b5190>: Failed to establish a new connection: [Errno 8] nodename nor servname provided, or not known')) on URL http://tinyw.in/f1fs\n",
      "Article `download()` failed with HTTPConnectionPool(host='tinyw.in', port=80): Max retries exceeded with url: /tpPk (Caused by NewConnectionError('<urllib3.connection.HTTPConnection object at 0x7ff0eb5b57f0>: Failed to establish a new connection: [Errno 8] nodename nor servname provided, or not known')) on URL http://tinyw.in/tpPk\n",
      "Article `download()` failed with HTTPConnectionPool(host='tinyw.in', port=80): Max retries exceeded with url: /U6Yv (Caused by NewConnectionError('<urllib3.connection.HTTPConnection object at 0x7ff0eb5b5a60>: Failed to establish a new connection: [Errno 8] nodename nor servname provided, or not known')) on URL http://tinyw.in/U6Yv\n",
      "Article `download()` failed with HTTPConnectionPool(host='tinyw.in', port=80): Max retries exceeded with url: /5mN5 (Caused by NewConnectionError('<urllib3.connection.HTTPConnection object at 0x7ff0ea6bfc40>: Failed to establish a new connection: [Errno 8] nodename nor servname provided, or not known')) on URL http://tinyw.in/5mN5\n",
      "Article `download()` failed with HTTPConnectionPool(host='tinyw.in', port=80): Max retries exceeded with url: /xRYg (Caused by NewConnectionError('<urllib3.connection.HTTPConnection object at 0x7ff0ea6bf730>: Failed to establish a new connection: [Errno 8] nodename nor servname provided, or not known')) on URL http://tinyw.in/xRYg\n",
      "Article `download()` failed with HTTPConnectionPool(host='tinyw.in', port=80): Max retries exceeded with url: /mVNo (Caused by NewConnectionError('<urllib3.connection.HTTPConnection object at 0x7ff0ea6bfc40>: Failed to establish a new connection: [Errno 8] nodename nor servname provided, or not known')) on URL http://tinyw.in/mVNo\n",
      "Article `download()` failed with HTTPConnectionPool(host='tinyw.in', port=80): Max retries exceeded with url: /Tf1j (Caused by NewConnectionError('<urllib3.connection.HTTPConnection object at 0x7ff0ea6bf7f0>: Failed to establish a new connection: [Errno 8] nodename nor servname provided, or not known')) on URL http://tinyw.in/Tf1j\n",
      "Article `download()` failed with HTTPConnectionPool(host='tinyw.in', port=80): Max retries exceeded with url: /QQcc (Caused by NewConnectionError('<urllib3.connection.HTTPConnection object at 0x7ff0ea6bf6d0>: Failed to establish a new connection: [Errno 8] nodename nor servname provided, or not known')) on URL http://tinyw.in/QQcc\n",
      "Article `download()` failed with HTTPConnectionPool(host='tinyw.in', port=80): Max retries exceeded with url: /llwR (Caused by NewConnectionError('<urllib3.connection.HTTPConnection object at 0x7ff0ea6bfb20>: Failed to establish a new connection: [Errno 8] nodename nor servname provided, or not known')) on URL http://tinyw.in/llwR\n"
     ]
    },
    {
     "name": "stdout",
     "output_type": "stream",
     "text": [
      "\n"
     ]
    },
    {
     "data": {
      "application/vnd.jupyter.widget-view+json": {
       "model_id": "1ca2b0adf6f84a3b848c4f59254e0ef1",
       "version_major": 2,
       "version_minor": 0
      },
      "text/plain": [
       "HBox(children=(HTML(value=''), FloatProgress(value=0.0, max=1000.0), HTML(value='')))"
      ]
     },
     "metadata": {},
     "output_type": "display_data"
    },
    {
     "name": "stdout",
     "output_type": "stream",
     "text": [
      "Article `download()` failed with HTTPConnectionPool(host='tinyw.in', port=80): Max retries exceeded with url: /krDe (Caused by NewConnectionError('<urllib3.connection.HTTPConnection object at 0x7ff0eb5cfe80>: Failed to establish a new connection: [Errno 8] nodename nor servname provided, or not known')) on URL http://tinyw.in/krDe\n",
      "Article `download()` failed with HTTPConnectionPool(host='tinyw.in', port=80): Max retries exceeded with url: /0Wrl (Caused by NewConnectionError('<urllib3.connection.HTTPConnection object at 0x7ff0eb5cfc70>: Failed to establish a new connection: [Errno 8] nodename nor servname provided, or not known')) on URL http://tinyw.in/0Wrl\n",
      "Article `download()` failed with HTTPConnectionPool(host='tinyw.in', port=80): Max retries exceeded with url: /fgQu (Caused by NewConnectionError('<urllib3.connection.HTTPConnection object at 0x7ff0eb5cf4c0>: Failed to establish a new connection: [Errno 8] nodename nor servname provided, or not known')) on URL http://tinyw.in/fgQu\n",
      "Article `download()` failed with HTTPConnectionPool(host='tinyw.in', port=80): Max retries exceeded with url: /wUPu (Caused by NewConnectionError('<urllib3.connection.HTTPConnection object at 0x7ff0eb5cfdc0>: Failed to establish a new connection: [Errno 8] nodename nor servname provided, or not known')) on URL http://tinyw.in/wUPu\n",
      "Article `download()` failed with HTTPConnectionPool(host='tinyw.in', port=80): Max retries exceeded with url: /kv99 (Caused by NewConnectionError('<urllib3.connection.HTTPConnection object at 0x7ff0eb5cfaf0>: Failed to establish a new connection: [Errno 8] nodename nor servname provided, or not known')) on URL http://tinyw.in/kv99\n",
      "Article `download()` failed with HTTPConnectionPool(host='tinyw.in', port=80): Max retries exceeded with url: /swH5 (Caused by NewConnectionError('<urllib3.connection.HTTPConnection object at 0x7ff0eb5cfd90>: Failed to establish a new connection: [Errno 8] nodename nor servname provided, or not known')) on URL http://tinyw.in/swH5\n",
      "Article `download()` failed with HTTPConnectionPool(host='tinyw.in', port=80): Max retries exceeded with url: /sc5n (Caused by NewConnectionError('<urllib3.connection.HTTPConnection object at 0x7ff0eb5cfb80>: Failed to establish a new connection: [Errno 8] nodename nor servname provided, or not known')) on URL http://tinyw.in/sc5n\n",
      "Article `download()` failed with HTTPConnectionPool(host='tinyw.in', port=80): Max retries exceeded with url: /JQIu (Caused by NewConnectionError('<urllib3.connection.HTTPConnection object at 0x7ff0eb5cf370>: Failed to establish a new connection: [Errno 8] nodename nor servname provided, or not known')) on URL http://tinyw.in/JQIu\n",
      "Article `download()` failed with 404 Client Error: Not Found for url: https://myrepublica.nagariknetwork.com/news/malaysian-climber-stuck-at-7-500-meters-on-annapurna-1-for-3-days/ on URL https://is.gd/RnBk0X\n",
      "Article `download()` failed with HTTPConnectionPool(host='tinyw.in', port=80): Max retries exceeded with url: /pGyA (Caused by NewConnectionError('<urllib3.connection.HTTPConnection object at 0x7ff0eb735070>: Failed to establish a new connection: [Errno 8] nodename nor servname provided, or not known')) on URL http://tinyw.in/pGyA\n",
      "Article `download()` failed with HTTPConnectionPool(host='tinyw.in', port=80): Max retries exceeded with url: /HEyh (Caused by NewConnectionError('<urllib3.connection.HTTPConnection object at 0x7ff0eb5b5d30>: Failed to establish a new connection: [Errno 8] nodename nor servname provided, or not known')) on URL http://tinyw.in/HEyh\n",
      "Article `download()` failed with HTTPConnectionPool(host='tinyw.in', port=80): Max retries exceeded with url: /Nysu (Caused by NewConnectionError('<urllib3.connection.HTTPConnection object at 0x7ff0eb5b5190>: Failed to establish a new connection: [Errno 8] nodename nor servname provided, or not known')) on URL http://tinyw.in/Nysu\n",
      "Article `download()` failed with 404 Client Error: Not Found for url: https://myrepublica.nagariknetwork.com/news/easter-day-bombs-kill-about-100-in-attacks-on-sri-lankan-churches-hotels/ on URL https://is.gd/J8rLAK\n",
      "\n"
     ]
    },
    {
     "data": {
      "application/vnd.jupyter.widget-view+json": {
       "model_id": "6e98481deb3e40da9a69e4dcac969668",
       "version_major": 2,
       "version_minor": 0
      },
      "text/plain": [
       "HBox(children=(HTML(value=''), FloatProgress(value=0.0, max=1000.0), HTML(value='')))"
      ]
     },
     "metadata": {},
     "output_type": "display_data"
    },
    {
     "name": "stdout",
     "output_type": "stream",
     "text": [
      "Article `download()` failed with 404 Client Error: Not Found for url: https://myrepublica.nagariknetwork.com/news/court-slaps-life-term-on-ex-parliamentarian-sah/ on URL https://myrepublica.nagariknetwork.com/news/court-slaps-life-term-on-ex-parliamentarian-sah/\n",
      "Article `download()` failed with 404 Client Error: Not Found for url: https://is.gd/pYX8MU on URL https://is.gd/pYX8MU\n",
      "Article `download()` failed with 404 Client Error: Not Found for url: https://myrepublica.nagariknetwork.com/news/cabinet-decides-to-purchase-two-trains/ on URL https://is.gd/FwTtrY\n",
      "Article `download()` failed with 404 Client Error: Not Found for url: https://myrepublica.nagariknetwork.com/news/update-40-people-killed-in-new-zealand-mosque-shootings-4-held/ on URL https://myrepublica.nagariknetwork.com/news/update-40-people-killed-in-new-zealand-mosque-shootings-4-held/\n",
      "\n"
     ]
    },
    {
     "data": {
      "application/vnd.jupyter.widget-view+json": {
       "model_id": "56037c806d294d58ba017b79c38dd1f4",
       "version_major": 2,
       "version_minor": 0
      },
      "text/plain": [
       "HBox(children=(HTML(value=''), FloatProgress(value=0.0, max=1000.0), HTML(value='')))"
      ]
     },
     "metadata": {},
     "output_type": "display_data"
    },
    {
     "name": "stdout",
     "output_type": "stream",
     "text": [
      "\n"
     ]
    },
    {
     "ename": "KeyboardInterrupt",
     "evalue": "",
     "output_type": "error",
     "traceback": [
      "\u001b[0;31m---------------------------------------------------------------------------\u001b[0m",
      "\u001b[0;31mKeyboardInterrupt\u001b[0m                         Traceback (most recent call last)",
      "\u001b[0;32m<ipython-input-34-6c48d31d6e70>\u001b[0m in \u001b[0;36m<module>\u001b[0;34m\u001b[0m\n\u001b[1;32m      6\u001b[0m \u001b[0;34m\u001b[0m\u001b[0m\n\u001b[1;32m      7\u001b[0m \u001b[0;32mfor\u001b[0m \u001b[0mchunk\u001b[0m \u001b[0;32min\u001b[0m \u001b[0mdataframe\u001b[0m\u001b[0;34m:\u001b[0m\u001b[0;34m\u001b[0m\u001b[0;34m\u001b[0m\u001b[0m\n\u001b[0;32m----> 8\u001b[0;31m    \u001b[0mchunk\u001b[0m\u001b[0;34m[\u001b[0m\u001b[0;34m'article'\u001b[0m\u001b[0;34m]\u001b[0m \u001b[0;34m=\u001b[0m \u001b[0mchunk\u001b[0m\u001b[0;34m.\u001b[0m\u001b[0mprogress_apply\u001b[0m\u001b[0;34m(\u001b[0m\u001b[0marticle\u001b[0m\u001b[0;34m,\u001b[0m \u001b[0maxis\u001b[0m\u001b[0;34m=\u001b[0m\u001b[0;36m1\u001b[0m\u001b[0;34m)\u001b[0m\u001b[0;34m\u001b[0m\u001b[0;34m\u001b[0m\u001b[0m\n\u001b[0m\u001b[1;32m      9\u001b[0m    \u001b[0mchunk\u001b[0m\u001b[0;34m.\u001b[0m\u001b[0mto_csv\u001b[0m\u001b[0;34m(\u001b[0m\u001b[0mresult_file_path\u001b[0m\u001b[0;34m,\u001b[0m \u001b[0mmode\u001b[0m\u001b[0;34m=\u001b[0m\u001b[0;34m'a'\u001b[0m\u001b[0;34m,\u001b[0m \u001b[0mheader\u001b[0m\u001b[0;34m=\u001b[0m\u001b[0;32mNone\u001b[0m\u001b[0;34m)\u001b[0m\u001b[0;34m\u001b[0m\u001b[0;34m\u001b[0m\u001b[0m\n",
      "\u001b[0;32m~/opt/anaconda3/lib/python3.8/site-packages/tqdm/std.py\u001b[0m in \u001b[0;36minner\u001b[0;34m(df, func, *args, **kwargs)\u001b[0m\n\u001b[1;32m    801\u001b[0m                 \u001b[0;31m# on the df using our wrapper (which provides bar updating)\u001b[0m\u001b[0;34m\u001b[0m\u001b[0;34m\u001b[0m\u001b[0;34m\u001b[0m\u001b[0m\n\u001b[1;32m    802\u001b[0m                 \u001b[0;32mtry\u001b[0m\u001b[0;34m:\u001b[0m\u001b[0;34m\u001b[0m\u001b[0;34m\u001b[0m\u001b[0m\n\u001b[0;32m--> 803\u001b[0;31m                     \u001b[0;32mreturn\u001b[0m \u001b[0mgetattr\u001b[0m\u001b[0;34m(\u001b[0m\u001b[0mdf\u001b[0m\u001b[0;34m,\u001b[0m \u001b[0mdf_function\u001b[0m\u001b[0;34m)\u001b[0m\u001b[0;34m(\u001b[0m\u001b[0mwrapper\u001b[0m\u001b[0;34m,\u001b[0m \u001b[0;34m**\u001b[0m\u001b[0mkwargs\u001b[0m\u001b[0;34m)\u001b[0m\u001b[0;34m\u001b[0m\u001b[0;34m\u001b[0m\u001b[0m\n\u001b[0m\u001b[1;32m    804\u001b[0m                 \u001b[0;32mfinally\u001b[0m\u001b[0;34m:\u001b[0m\u001b[0;34m\u001b[0m\u001b[0;34m\u001b[0m\u001b[0m\n\u001b[1;32m    805\u001b[0m                     \u001b[0mt\u001b[0m\u001b[0;34m.\u001b[0m\u001b[0mclose\u001b[0m\u001b[0;34m(\u001b[0m\u001b[0;34m)\u001b[0m\u001b[0;34m\u001b[0m\u001b[0;34m\u001b[0m\u001b[0m\n",
      "\u001b[0;32m~/opt/anaconda3/lib/python3.8/site-packages/pandas/core/frame.py\u001b[0m in \u001b[0;36mapply\u001b[0;34m(self, func, axis, raw, result_type, args, **kwds)\u001b[0m\n\u001b[1;32m   7766\u001b[0m             \u001b[0mkwds\u001b[0m\u001b[0;34m=\u001b[0m\u001b[0mkwds\u001b[0m\u001b[0;34m,\u001b[0m\u001b[0;34m\u001b[0m\u001b[0;34m\u001b[0m\u001b[0m\n\u001b[1;32m   7767\u001b[0m         )\n\u001b[0;32m-> 7768\u001b[0;31m         \u001b[0;32mreturn\u001b[0m \u001b[0mop\u001b[0m\u001b[0;34m.\u001b[0m\u001b[0mget_result\u001b[0m\u001b[0;34m(\u001b[0m\u001b[0;34m)\u001b[0m\u001b[0;34m\u001b[0m\u001b[0;34m\u001b[0m\u001b[0m\n\u001b[0m\u001b[1;32m   7769\u001b[0m \u001b[0;34m\u001b[0m\u001b[0m\n\u001b[1;32m   7770\u001b[0m     \u001b[0;32mdef\u001b[0m \u001b[0mapplymap\u001b[0m\u001b[0;34m(\u001b[0m\u001b[0mself\u001b[0m\u001b[0;34m,\u001b[0m \u001b[0mfunc\u001b[0m\u001b[0;34m,\u001b[0m \u001b[0mna_action\u001b[0m\u001b[0;34m:\u001b[0m \u001b[0mOptional\u001b[0m\u001b[0;34m[\u001b[0m\u001b[0mstr\u001b[0m\u001b[0;34m]\u001b[0m \u001b[0;34m=\u001b[0m \u001b[0;32mNone\u001b[0m\u001b[0;34m)\u001b[0m \u001b[0;34m->\u001b[0m \u001b[0mDataFrame\u001b[0m\u001b[0;34m:\u001b[0m\u001b[0;34m\u001b[0m\u001b[0;34m\u001b[0m\u001b[0m\n",
      "\u001b[0;32m~/opt/anaconda3/lib/python3.8/site-packages/pandas/core/apply.py\u001b[0m in \u001b[0;36mget_result\u001b[0;34m(self)\u001b[0m\n\u001b[1;32m    183\u001b[0m             \u001b[0;32mreturn\u001b[0m \u001b[0mself\u001b[0m\u001b[0;34m.\u001b[0m\u001b[0mapply_raw\u001b[0m\u001b[0;34m(\u001b[0m\u001b[0;34m)\u001b[0m\u001b[0;34m\u001b[0m\u001b[0;34m\u001b[0m\u001b[0m\n\u001b[1;32m    184\u001b[0m \u001b[0;34m\u001b[0m\u001b[0m\n\u001b[0;32m--> 185\u001b[0;31m         \u001b[0;32mreturn\u001b[0m \u001b[0mself\u001b[0m\u001b[0;34m.\u001b[0m\u001b[0mapply_standard\u001b[0m\u001b[0;34m(\u001b[0m\u001b[0;34m)\u001b[0m\u001b[0;34m\u001b[0m\u001b[0;34m\u001b[0m\u001b[0m\n\u001b[0m\u001b[1;32m    186\u001b[0m \u001b[0;34m\u001b[0m\u001b[0m\n\u001b[1;32m    187\u001b[0m     \u001b[0;32mdef\u001b[0m \u001b[0mapply_empty_result\u001b[0m\u001b[0;34m(\u001b[0m\u001b[0mself\u001b[0m\u001b[0;34m)\u001b[0m\u001b[0;34m:\u001b[0m\u001b[0;34m\u001b[0m\u001b[0;34m\u001b[0m\u001b[0m\n",
      "\u001b[0;32m~/opt/anaconda3/lib/python3.8/site-packages/pandas/core/apply.py\u001b[0m in \u001b[0;36mapply_standard\u001b[0;34m(self)\u001b[0m\n\u001b[1;32m    274\u001b[0m \u001b[0;34m\u001b[0m\u001b[0m\n\u001b[1;32m    275\u001b[0m     \u001b[0;32mdef\u001b[0m \u001b[0mapply_standard\u001b[0m\u001b[0;34m(\u001b[0m\u001b[0mself\u001b[0m\u001b[0;34m)\u001b[0m\u001b[0;34m:\u001b[0m\u001b[0;34m\u001b[0m\u001b[0;34m\u001b[0m\u001b[0m\n\u001b[0;32m--> 276\u001b[0;31m         \u001b[0mresults\u001b[0m\u001b[0;34m,\u001b[0m \u001b[0mres_index\u001b[0m \u001b[0;34m=\u001b[0m \u001b[0mself\u001b[0m\u001b[0;34m.\u001b[0m\u001b[0mapply_series_generator\u001b[0m\u001b[0;34m(\u001b[0m\u001b[0;34m)\u001b[0m\u001b[0;34m\u001b[0m\u001b[0;34m\u001b[0m\u001b[0m\n\u001b[0m\u001b[1;32m    277\u001b[0m \u001b[0;34m\u001b[0m\u001b[0m\n\u001b[1;32m    278\u001b[0m         \u001b[0;31m# wrap results\u001b[0m\u001b[0;34m\u001b[0m\u001b[0;34m\u001b[0m\u001b[0;34m\u001b[0m\u001b[0m\n",
      "\u001b[0;32m~/opt/anaconda3/lib/python3.8/site-packages/pandas/core/apply.py\u001b[0m in \u001b[0;36mapply_series_generator\u001b[0;34m(self)\u001b[0m\n\u001b[1;32m    288\u001b[0m             \u001b[0;32mfor\u001b[0m \u001b[0mi\u001b[0m\u001b[0;34m,\u001b[0m \u001b[0mv\u001b[0m \u001b[0;32min\u001b[0m \u001b[0menumerate\u001b[0m\u001b[0;34m(\u001b[0m\u001b[0mseries_gen\u001b[0m\u001b[0;34m)\u001b[0m\u001b[0;34m:\u001b[0m\u001b[0;34m\u001b[0m\u001b[0;34m\u001b[0m\u001b[0m\n\u001b[1;32m    289\u001b[0m                 \u001b[0;31m# ignore SettingWithCopy here in case the user mutates\u001b[0m\u001b[0;34m\u001b[0m\u001b[0;34m\u001b[0m\u001b[0;34m\u001b[0m\u001b[0m\n\u001b[0;32m--> 290\u001b[0;31m                 \u001b[0mresults\u001b[0m\u001b[0;34m[\u001b[0m\u001b[0mi\u001b[0m\u001b[0;34m]\u001b[0m \u001b[0;34m=\u001b[0m \u001b[0mself\u001b[0m\u001b[0;34m.\u001b[0m\u001b[0mf\u001b[0m\u001b[0;34m(\u001b[0m\u001b[0mv\u001b[0m\u001b[0;34m)\u001b[0m\u001b[0;34m\u001b[0m\u001b[0;34m\u001b[0m\u001b[0m\n\u001b[0m\u001b[1;32m    291\u001b[0m                 \u001b[0;32mif\u001b[0m \u001b[0misinstance\u001b[0m\u001b[0;34m(\u001b[0m\u001b[0mresults\u001b[0m\u001b[0;34m[\u001b[0m\u001b[0mi\u001b[0m\u001b[0;34m]\u001b[0m\u001b[0;34m,\u001b[0m \u001b[0mABCSeries\u001b[0m\u001b[0;34m)\u001b[0m\u001b[0;34m:\u001b[0m\u001b[0;34m\u001b[0m\u001b[0;34m\u001b[0m\u001b[0m\n\u001b[1;32m    292\u001b[0m                     \u001b[0;31m# If we have a view on v, we need to make a copy because\u001b[0m\u001b[0;34m\u001b[0m\u001b[0;34m\u001b[0m\u001b[0;34m\u001b[0m\u001b[0m\n",
      "\u001b[0;32m~/opt/anaconda3/lib/python3.8/site-packages/tqdm/std.py\u001b[0m in \u001b[0;36mwrapper\u001b[0;34m(*args, **kwargs)\u001b[0m\n\u001b[1;32m    796\u001b[0m                     \u001b[0;31m# take a fast or slow code path; so stop when t.total==t.n\u001b[0m\u001b[0;34m\u001b[0m\u001b[0;34m\u001b[0m\u001b[0;34m\u001b[0m\u001b[0m\n\u001b[1;32m    797\u001b[0m                     \u001b[0mt\u001b[0m\u001b[0;34m.\u001b[0m\u001b[0mupdate\u001b[0m\u001b[0;34m(\u001b[0m\u001b[0mn\u001b[0m\u001b[0;34m=\u001b[0m\u001b[0;36m1\u001b[0m \u001b[0;32mif\u001b[0m \u001b[0;32mnot\u001b[0m \u001b[0mt\u001b[0m\u001b[0;34m.\u001b[0m\u001b[0mtotal\u001b[0m \u001b[0;32mor\u001b[0m \u001b[0mt\u001b[0m\u001b[0;34m.\u001b[0m\u001b[0mn\u001b[0m \u001b[0;34m<\u001b[0m \u001b[0mt\u001b[0m\u001b[0;34m.\u001b[0m\u001b[0mtotal\u001b[0m \u001b[0;32melse\u001b[0m \u001b[0;36m0\u001b[0m\u001b[0;34m)\u001b[0m\u001b[0;34m\u001b[0m\u001b[0;34m\u001b[0m\u001b[0m\n\u001b[0;32m--> 798\u001b[0;31m                     \u001b[0;32mreturn\u001b[0m \u001b[0mfunc\u001b[0m\u001b[0;34m(\u001b[0m\u001b[0;34m*\u001b[0m\u001b[0margs\u001b[0m\u001b[0;34m,\u001b[0m \u001b[0;34m**\u001b[0m\u001b[0mkwargs\u001b[0m\u001b[0;34m)\u001b[0m\u001b[0;34m\u001b[0m\u001b[0;34m\u001b[0m\u001b[0m\n\u001b[0m\u001b[1;32m    799\u001b[0m \u001b[0;34m\u001b[0m\u001b[0m\n\u001b[1;32m    800\u001b[0m                 \u001b[0;31m# Apply the provided function (in **kwargs)\u001b[0m\u001b[0;34m\u001b[0m\u001b[0;34m\u001b[0m\u001b[0;34m\u001b[0m\u001b[0m\n",
      "\u001b[0;32m<ipython-input-33-d399933ba024>\u001b[0m in \u001b[0;36marticle\u001b[0;34m(row)\u001b[0m\n\u001b[1;32m     18\u001b[0m             \u001b[0marticle\u001b[0m \u001b[0;34m=\u001b[0m \u001b[0mArticle\u001b[0m\u001b[0;34m(\u001b[0m\u001b[0murl\u001b[0m\u001b[0;34m)\u001b[0m\u001b[0;34m\u001b[0m\u001b[0;34m\u001b[0m\u001b[0m\n\u001b[1;32m     19\u001b[0m             \u001b[0marticle\u001b[0m\u001b[0;34m.\u001b[0m\u001b[0mdownload\u001b[0m\u001b[0;34m(\u001b[0m\u001b[0;34m)\u001b[0m\u001b[0;34m\u001b[0m\u001b[0;34m\u001b[0m\u001b[0m\n\u001b[0;32m---> 20\u001b[0;31m             \u001b[0marticle\u001b[0m\u001b[0;34m.\u001b[0m\u001b[0mparse\u001b[0m\u001b[0;34m(\u001b[0m\u001b[0;34m)\u001b[0m\u001b[0;34m\u001b[0m\u001b[0;34m\u001b[0m\u001b[0m\n\u001b[0m\u001b[1;32m     21\u001b[0m             \u001b[0;32mreturn\u001b[0m \u001b[0marticle\u001b[0m\u001b[0;34m.\u001b[0m\u001b[0mtext\u001b[0m\u001b[0;34m\u001b[0m\u001b[0;34m\u001b[0m\u001b[0m\n\u001b[1;32m     22\u001b[0m         \u001b[0;32mreturn\u001b[0m \u001b[0mrow\u001b[0m\u001b[0;34m.\u001b[0m\u001b[0marticle\u001b[0m\u001b[0;34m\u001b[0m\u001b[0;34m\u001b[0m\u001b[0m\n",
      "\u001b[0;32m~/opt/anaconda3/lib/python3.8/site-packages/newspaper/article.py\u001b[0m in \u001b[0;36mparse\u001b[0;34m(self)\u001b[0m\n\u001b[1;32m    208\u001b[0m         \u001b[0mself\u001b[0m\u001b[0;34m.\u001b[0m\u001b[0mset_title\u001b[0m\u001b[0;34m(\u001b[0m\u001b[0mtitle\u001b[0m\u001b[0;34m)\u001b[0m\u001b[0;34m\u001b[0m\u001b[0;34m\u001b[0m\u001b[0m\n\u001b[1;32m    209\u001b[0m \u001b[0;34m\u001b[0m\u001b[0m\n\u001b[0;32m--> 210\u001b[0;31m         \u001b[0mauthors\u001b[0m \u001b[0;34m=\u001b[0m \u001b[0mself\u001b[0m\u001b[0;34m.\u001b[0m\u001b[0mextractor\u001b[0m\u001b[0;34m.\u001b[0m\u001b[0mget_authors\u001b[0m\u001b[0;34m(\u001b[0m\u001b[0mself\u001b[0m\u001b[0;34m.\u001b[0m\u001b[0mclean_doc\u001b[0m\u001b[0;34m)\u001b[0m\u001b[0;34m\u001b[0m\u001b[0;34m\u001b[0m\u001b[0m\n\u001b[0m\u001b[1;32m    211\u001b[0m         \u001b[0mself\u001b[0m\u001b[0;34m.\u001b[0m\u001b[0mset_authors\u001b[0m\u001b[0;34m(\u001b[0m\u001b[0mauthors\u001b[0m\u001b[0;34m)\u001b[0m\u001b[0;34m\u001b[0m\u001b[0;34m\u001b[0m\u001b[0m\n\u001b[1;32m    212\u001b[0m \u001b[0;34m\u001b[0m\u001b[0m\n",
      "\u001b[0;32m~/opt/anaconda3/lib/python3.8/site-packages/newspaper/extractors.py\u001b[0m in \u001b[0;36mget_authors\u001b[0;34m(self, doc)\u001b[0m\n\u001b[1;32m    144\u001b[0m             \u001b[0;32mfor\u001b[0m \u001b[0mval\u001b[0m \u001b[0;32min\u001b[0m \u001b[0mVALS\u001b[0m\u001b[0;34m:\u001b[0m\u001b[0;34m\u001b[0m\u001b[0;34m\u001b[0m\u001b[0m\n\u001b[1;32m    145\u001b[0m                 \u001b[0;31m# found = doc.xpath('//*[@%s=\"%s\"]' % (attr, val))\u001b[0m\u001b[0;34m\u001b[0m\u001b[0;34m\u001b[0m\u001b[0;34m\u001b[0m\u001b[0m\n\u001b[0;32m--> 146\u001b[0;31m                 \u001b[0mfound\u001b[0m \u001b[0;34m=\u001b[0m \u001b[0mself\u001b[0m\u001b[0;34m.\u001b[0m\u001b[0mparser\u001b[0m\u001b[0;34m.\u001b[0m\u001b[0mgetElementsByTag\u001b[0m\u001b[0;34m(\u001b[0m\u001b[0mdoc\u001b[0m\u001b[0;34m,\u001b[0m \u001b[0mattr\u001b[0m\u001b[0;34m=\u001b[0m\u001b[0mattr\u001b[0m\u001b[0;34m,\u001b[0m \u001b[0mvalue\u001b[0m\u001b[0;34m=\u001b[0m\u001b[0mval\u001b[0m\u001b[0;34m)\u001b[0m\u001b[0;34m\u001b[0m\u001b[0;34m\u001b[0m\u001b[0m\n\u001b[0m\u001b[1;32m    147\u001b[0m                 \u001b[0mmatches\u001b[0m\u001b[0;34m.\u001b[0m\u001b[0mextend\u001b[0m\u001b[0;34m(\u001b[0m\u001b[0mfound\u001b[0m\u001b[0;34m)\u001b[0m\u001b[0;34m\u001b[0m\u001b[0;34m\u001b[0m\u001b[0m\n\u001b[1;32m    148\u001b[0m \u001b[0;34m\u001b[0m\u001b[0m\n",
      "\u001b[0;32m~/opt/anaconda3/lib/python3.8/site-packages/newspaper/parsers.py\u001b[0m in \u001b[0;36mgetElementsByTag\u001b[0;34m(cls, node, tag, attr, value, childs, use_regex)\u001b[0m\n\u001b[1;32m    121\u001b[0m                 \u001b[0mtrans\u001b[0m \u001b[0;34m=\u001b[0m \u001b[0;34m'translate(@%s, \"%s\", \"%s\")'\u001b[0m \u001b[0;34m%\u001b[0m \u001b[0;34m(\u001b[0m\u001b[0mattr\u001b[0m\u001b[0;34m,\u001b[0m \u001b[0mstring\u001b[0m\u001b[0;34m.\u001b[0m\u001b[0mascii_uppercase\u001b[0m\u001b[0;34m,\u001b[0m \u001b[0mstring\u001b[0m\u001b[0;34m.\u001b[0m\u001b[0mascii_lowercase\u001b[0m\u001b[0;34m)\u001b[0m\u001b[0;34m\u001b[0m\u001b[0;34m\u001b[0m\u001b[0m\n\u001b[1;32m    122\u001b[0m                 \u001b[0mselector\u001b[0m \u001b[0;34m=\u001b[0m \u001b[0;34m'%s[contains(%s, \"%s\")]'\u001b[0m \u001b[0;34m%\u001b[0m \u001b[0;34m(\u001b[0m\u001b[0mselector\u001b[0m\u001b[0;34m,\u001b[0m \u001b[0mtrans\u001b[0m\u001b[0;34m,\u001b[0m \u001b[0mvalue\u001b[0m\u001b[0;34m.\u001b[0m\u001b[0mlower\u001b[0m\u001b[0;34m(\u001b[0m\u001b[0;34m)\u001b[0m\u001b[0;34m)\u001b[0m\u001b[0;34m\u001b[0m\u001b[0;34m\u001b[0m\u001b[0m\n\u001b[0;32m--> 123\u001b[0;31m         \u001b[0melems\u001b[0m \u001b[0;34m=\u001b[0m \u001b[0mnode\u001b[0m\u001b[0;34m.\u001b[0m\u001b[0mxpath\u001b[0m\u001b[0;34m(\u001b[0m\u001b[0mselector\u001b[0m\u001b[0;34m,\u001b[0m \u001b[0mnamespaces\u001b[0m\u001b[0;34m=\u001b[0m\u001b[0mNS\u001b[0m\u001b[0;34m)\u001b[0m\u001b[0;34m\u001b[0m\u001b[0;34m\u001b[0m\u001b[0m\n\u001b[0m\u001b[1;32m    124\u001b[0m         \u001b[0;31m# remove the root node\u001b[0m\u001b[0;34m\u001b[0m\u001b[0;34m\u001b[0m\u001b[0;34m\u001b[0m\u001b[0m\n\u001b[1;32m    125\u001b[0m         \u001b[0;31m# if we have a selection tag\u001b[0m\u001b[0;34m\u001b[0m\u001b[0;34m\u001b[0m\u001b[0;34m\u001b[0m\u001b[0m\n",
      "\u001b[0;31mKeyboardInterrupt\u001b[0m: "
     ]
    }
   ],
   "source": [
    "file_path = \"RepublicaNepal.csv\"\n",
    "result_file_path = \"RepublicaNepal_articles_continue.csv\"\n",
    "\n",
    "pd.read_csv(file_path, nrows=1).head(0).to_csv(result_file_path)\n",
    "dataframe = pd.read_csv(file_path, iterator=True, chunksize=1000)\n",
    "\n",
    "for chunk in dataframe:\n",
    "   chunk['article'] = chunk.progress_apply(article, axis=1)\n",
    "   chunk.to_csv(result_file_path, mode='a', header=None)"
   ]
  },
  {
   "cell_type": "code",
   "execution_count": 46,
   "metadata": {},
   "outputs": [],
   "source": [
    "new = pd.read_csv(result_file_path)"
   ]
  },
  {
   "cell_type": "code",
   "execution_count": 50,
   "metadata": {},
   "outputs": [
    {
     "data": {
      "text/plain": [
       "(29565, 5)"
      ]
     },
     "execution_count": 50,
     "metadata": {},
     "output_type": "execute_result"
    }
   ],
   "source": [
    "new.shape"
   ]
  },
  {
   "cell_type": "code",
   "execution_count": 52,
   "metadata": {},
   "outputs": [],
   "source": [
    "new[new.article!='404'][['id', 'created_at', 'urls', 'article']].to_csv('KathmanduPost.csv', index=False)"
   ]
  }
 ],
 "metadata": {
  "kernelspec": {
   "display_name": "Python 3",
   "language": "python",
   "name": "python3"
  },
  "language_info": {
   "codemirror_mode": {
    "name": "ipython",
    "version": 3
   },
   "file_extension": ".py",
   "mimetype": "text/x-python",
   "name": "python",
   "nbconvert_exporter": "python",
   "pygments_lexer": "ipython3",
   "version": "3.8.5"
  }
 },
 "nbformat": 4,
 "nbformat_minor": 4
}
