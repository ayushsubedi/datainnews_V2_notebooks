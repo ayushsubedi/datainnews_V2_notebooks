{
 "cells": [
  {
   "cell_type": "code",
   "execution_count": 60,
   "metadata": {},
   "outputs": [],
   "source": [
    "import pandas as pd\n",
    "from newspaper import Article\n",
    "import nltk\n",
    "import ast\n",
    "import requests\n",
    "from tqdm.auto import tqdm\n",
    "tqdm.pandas()\n",
    "from bs4 import BeautifulSoup, Comment\n",
    "import numpy as np"
   ]
  },
  {
   "cell_type": "code",
   "execution_count": 61,
   "metadata": {},
   "outputs": [],
   "source": [
    "headers = {\n",
    "    'Access-Control-Allow-Origin': '*',\n",
    "    'Access-Control-Allow-Methods': 'GET',\n",
    "    'Access-Control-Allow-Headers': 'Content-Type',\n",
    "    'Access-Control-Max-Age': '3600',\n",
    "    'User-Agent': 'Mozilla/5.0 (X11; Ubuntu; Linux x86_64; rv:52.0) Gecko/20100101 Firefox/52.0'\n",
    "    }"
   ]
  },
  {
   "cell_type": "code",
   "execution_count": 73,
   "metadata": {},
   "outputs": [],
   "source": [
    "df = pd.read_csv('thehimalayan.csv')"
   ]
  },
  {
   "cell_type": "code",
   "execution_count": 74,
   "metadata": {},
   "outputs": [],
   "source": [
    "# new = pd.read_csv(\"thehimalayan_articles.csv\")"
   ]
  },
  {
   "cell_type": "code",
   "execution_count": 75,
   "metadata": {},
   "outputs": [],
   "source": [
    "# joined = df[['id', 'created_at', 'urls']].set_index('id').join(new[['id', 'article']].set_index('id')).reset_index()"
   ]
  },
  {
   "cell_type": "code",
   "execution_count": 76,
   "metadata": {},
   "outputs": [],
   "source": [
    "# joined"
   ]
  },
  {
   "cell_type": "code",
   "execution_count": 77,
   "metadata": {},
   "outputs": [],
   "source": [
    "# joined = joined[joined.article!=\"404\"]"
   ]
  },
  {
   "cell_type": "code",
   "execution_count": 78,
   "metadata": {},
   "outputs": [],
   "source": [
    "# joined"
   ]
  },
  {
   "cell_type": "code",
   "execution_count": 79,
   "metadata": {},
   "outputs": [],
   "source": [
    "# joined.to_csv('thehimalayan.csv', index=False)"
   ]
  },
  {
   "cell_type": "code",
   "execution_count": 80,
   "metadata": {},
   "outputs": [
    {
     "data": {
      "text/plain": [
       "(32485, 4)"
      ]
     },
     "execution_count": 80,
     "metadata": {},
     "output_type": "execute_result"
    }
   ],
   "source": [
    "df.shape"
   ]
  },
  {
   "cell_type": "code",
   "execution_count": 81,
   "metadata": {},
   "outputs": [
    {
     "data": {
      "text/html": [
       "<div>\n",
       "<style scoped>\n",
       "    .dataframe tbody tr th:only-of-type {\n",
       "        vertical-align: middle;\n",
       "    }\n",
       "\n",
       "    .dataframe tbody tr th {\n",
       "        vertical-align: top;\n",
       "    }\n",
       "\n",
       "    .dataframe thead th {\n",
       "        text-align: right;\n",
       "    }\n",
       "</style>\n",
       "<table border=\"1\" class=\"dataframe\">\n",
       "  <thead>\n",
       "    <tr style=\"text-align: right;\">\n",
       "      <th></th>\n",
       "      <th>id</th>\n",
       "      <th>created_at</th>\n",
       "      <th>urls</th>\n",
       "      <th>article</th>\n",
       "    </tr>\n",
       "  </thead>\n",
       "  <tbody>\n",
       "    <tr>\n",
       "      <th>0</th>\n",
       "      <td>1386731977542455296</td>\n",
       "      <td>2021-04-26 23:05:42+05:45</td>\n",
       "      <td>https://bit.ly/3gBXQpn</td>\n",
       "      <td>NEW DELHI, APRIL 26\\n\\nIndia ordered its armed...</td>\n",
       "    </tr>\n",
       "    <tr>\n",
       "      <th>1</th>\n",
       "      <td>1386727294434254857</td>\n",
       "      <td>2021-04-26 22:47:05+05:45</td>\n",
       "      <td>https://bit.ly/2RWCAjG</td>\n",
       "      <td>KATHMANDU, APRIL 26\\n\\nAs Nepal is currently g...</td>\n",
       "    </tr>\n",
       "    <tr>\n",
       "      <th>2</th>\n",
       "      <td>1386722788099170307</td>\n",
       "      <td>2021-04-26 22:29:11+05:45</td>\n",
       "      <td>https://bit.ly/2PpCtwj</td>\n",
       "      <td>DHANGADHI, APRIL 26\\n\\nFollowing the rise in t...</td>\n",
       "    </tr>\n",
       "    <tr>\n",
       "      <th>3</th>\n",
       "      <td>1386713496511975428</td>\n",
       "      <td>2021-04-26 21:52:16+05:45</td>\n",
       "      <td>https://bit.ly/3evKsAu</td>\n",
       "      <td>MELBOURNE, APRIL 26\\n\\nAustralia leg-spinner A...</td>\n",
       "    </tr>\n",
       "    <tr>\n",
       "      <th>4</th>\n",
       "      <td>1386709296264658950</td>\n",
       "      <td>2021-04-26 21:35:34+05:45</td>\n",
       "      <td>https://bit.ly/2R0XC0g</td>\n",
       "      <td>KATHMANDU, APRIL 26\\n\\n​​​​​​​Authorities in N...</td>\n",
       "    </tr>\n",
       "  </tbody>\n",
       "</table>\n",
       "</div>"
      ],
      "text/plain": [
       "                    id                 created_at                    urls  \\\n",
       "0  1386731977542455296  2021-04-26 23:05:42+05:45  https://bit.ly/3gBXQpn   \n",
       "1  1386727294434254857  2021-04-26 22:47:05+05:45  https://bit.ly/2RWCAjG   \n",
       "2  1386722788099170307  2021-04-26 22:29:11+05:45  https://bit.ly/2PpCtwj   \n",
       "3  1386713496511975428  2021-04-26 21:52:16+05:45  https://bit.ly/3evKsAu   \n",
       "4  1386709296264658950  2021-04-26 21:35:34+05:45  https://bit.ly/2R0XC0g   \n",
       "\n",
       "                                             article  \n",
       "0  NEW DELHI, APRIL 26\\n\\nIndia ordered its armed...  \n",
       "1  KATHMANDU, APRIL 26\\n\\nAs Nepal is currently g...  \n",
       "2  DHANGADHI, APRIL 26\\n\\nFollowing the rise in t...  \n",
       "3  MELBOURNE, APRIL 26\\n\\nAustralia leg-spinner A...  \n",
       "4  KATHMANDU, APRIL 26\\n\\n​​​​​​​Authorities in N...  "
      ]
     },
     "execution_count": 81,
     "metadata": {},
     "output_type": "execute_result"
    }
   ],
   "source": [
    "df.head()"
   ]
  },
  {
   "cell_type": "code",
   "execution_count": 84,
   "metadata": {},
   "outputs": [
    {
     "data": {
      "text/html": [
       "<div>\n",
       "<style scoped>\n",
       "    .dataframe tbody tr th:only-of-type {\n",
       "        vertical-align: middle;\n",
       "    }\n",
       "\n",
       "    .dataframe tbody tr th {\n",
       "        vertical-align: top;\n",
       "    }\n",
       "\n",
       "    .dataframe thead th {\n",
       "        text-align: right;\n",
       "    }\n",
       "</style>\n",
       "<table border=\"1\" class=\"dataframe\">\n",
       "  <thead>\n",
       "    <tr style=\"text-align: right;\">\n",
       "      <th></th>\n",
       "      <th>id</th>\n",
       "      <th>created_at</th>\n",
       "      <th>urls</th>\n",
       "      <th>article</th>\n",
       "    </tr>\n",
       "  </thead>\n",
       "  <tbody>\n",
       "    <tr>\n",
       "      <th>32480</th>\n",
       "      <td>947678773498933249</td>\n",
       "      <td>2018-01-01 09:45:01+05:45</td>\n",
       "      <td>https://wp.me/p6iC0n-1YTA</td>\n",
       "      <td>NaN</td>\n",
       "    </tr>\n",
       "    <tr>\n",
       "      <th>32481</th>\n",
       "      <td>947677332487020544</td>\n",
       "      <td>2018-01-01 09:39:17+05:45</td>\n",
       "      <td>https://wp.me/p6iC0n-1YUL</td>\n",
       "      <td>NaN</td>\n",
       "    </tr>\n",
       "    <tr>\n",
       "      <th>32482</th>\n",
       "      <td>947674994766516224</td>\n",
       "      <td>2018-01-01 09:30:00+05:45</td>\n",
       "      <td>https://wp.me/p6iC0n-1YU4</td>\n",
       "      <td>NaN</td>\n",
       "    </tr>\n",
       "    <tr>\n",
       "      <th>32483</th>\n",
       "      <td>947668683454799878</td>\n",
       "      <td>2018-01-01 09:04:55+05:45</td>\n",
       "      <td>https://wp.me/p6iC0n-1YU3</td>\n",
       "      <td>NaN</td>\n",
       "    </tr>\n",
       "    <tr>\n",
       "      <th>32484</th>\n",
       "      <td>947656457888993281</td>\n",
       "      <td>2018-01-01 08:16:20+05:45</td>\n",
       "      <td>https://wp.me/p6iC0n-1YTU</td>\n",
       "      <td>NaN</td>\n",
       "    </tr>\n",
       "  </tbody>\n",
       "</table>\n",
       "</div>"
      ],
      "text/plain": [
       "                       id                 created_at  \\\n",
       "32480  947678773498933249  2018-01-01 09:45:01+05:45   \n",
       "32481  947677332487020544  2018-01-01 09:39:17+05:45   \n",
       "32482  947674994766516224  2018-01-01 09:30:00+05:45   \n",
       "32483  947668683454799878  2018-01-01 09:04:55+05:45   \n",
       "32484  947656457888993281  2018-01-01 08:16:20+05:45   \n",
       "\n",
       "                            urls article  \n",
       "32480  https://wp.me/p6iC0n-1YTA     NaN  \n",
       "32481  https://wp.me/p6iC0n-1YUL     NaN  \n",
       "32482  https://wp.me/p6iC0n-1YU4     NaN  \n",
       "32483  https://wp.me/p6iC0n-1YU3     NaN  \n",
       "32484  https://wp.me/p6iC0n-1YTU     NaN  "
      ]
     },
     "execution_count": 84,
     "metadata": {},
     "output_type": "execute_result"
    }
   ],
   "source": [
    "df.tail()"
   ]
  },
  {
   "cell_type": "markdown",
   "metadata": {},
   "source": [
    "## Chunk"
   ]
  },
  {
   "cell_type": "code",
   "execution_count": 87,
   "metadata": {},
   "outputs": [],
   "source": [
    "def article_ktmpost(row):\n",
    "    try:\n",
    "        if (row.article != row.article):\n",
    "            url = row.urls\n",
    "            req = requests.get(url, headers)\n",
    "            soup = BeautifulSoup(req.content, 'html.parser')\n",
    "            result = soup.find(\"div\", {\"class\": \"col-sm-8\"})\n",
    "            return result.text\n",
    "        return row.article\n",
    "    except Exception as e:\n",
    "        print (str(e))\n",
    "        return 404\n",
    "    \n",
    "# for himalayan times\n",
    "from newspaper import Config\n",
    "\n",
    "user_agent = 'Mozilla/5.0 (Macintosh; Intel Mac OS X 10.15; rv:78.0) Gecko/20100101 Firefox/78.0'\n",
    "\n",
    "config = Config()\n",
    "config.browser_user_agent = user_agent\n",
    "config.request_timeout = 3\n",
    "    \n",
    "def article(row):\n",
    "    try:\n",
    "        if (row.article != row.article):\n",
    "            url = row.urls\n",
    "            article = Article(url, config=config)\n",
    "            article.download()\n",
    "            article.parse()\n",
    "            return article.text\n",
    "        return row.article\n",
    "    except Exception as e:\n",
    "        print (str(e))\n",
    "        return 404  "
   ]
  },
  {
   "cell_type": "code",
   "execution_count": null,
   "metadata": {},
   "outputs": [
    {
     "data": {
      "application/vnd.jupyter.widget-view+json": {
       "model_id": "69d3aee48336471ca7f0cda6dafef982",
       "version_major": 2,
       "version_minor": 0
      },
      "text/plain": [
       "HBox(children=(HTML(value=''), FloatProgress(value=0.0, max=1000.0), HTML(value='')))"
      ]
     },
     "metadata": {},
     "output_type": "display_data"
    },
    {
     "name": "stdout",
     "output_type": "stream",
     "text": [
      "\n"
     ]
    },
    {
     "data": {
      "application/vnd.jupyter.widget-view+json": {
       "model_id": "1bb21841b38e4722bf171055f03b3e34",
       "version_major": 2,
       "version_minor": 0
      },
      "text/plain": [
       "HBox(children=(HTML(value=''), FloatProgress(value=0.0, max=1000.0), HTML(value='')))"
      ]
     },
     "metadata": {},
     "output_type": "display_data"
    },
    {
     "name": "stdout",
     "output_type": "stream",
     "text": [
      "\n"
     ]
    },
    {
     "data": {
      "application/vnd.jupyter.widget-view+json": {
       "model_id": "1ab5531f8ca34fba8a9febe1f665f936",
       "version_major": 2,
       "version_minor": 0
      },
      "text/plain": [
       "HBox(children=(HTML(value=''), FloatProgress(value=0.0, max=1000.0), HTML(value='')))"
      ]
     },
     "metadata": {},
     "output_type": "display_data"
    },
    {
     "name": "stdout",
     "output_type": "stream",
     "text": [
      "\n"
     ]
    },
    {
     "data": {
      "application/vnd.jupyter.widget-view+json": {
       "model_id": "d94cf8db0d45464f8a1d1862ae289f1e",
       "version_major": 2,
       "version_minor": 0
      },
      "text/plain": [
       "HBox(children=(HTML(value=''), FloatProgress(value=0.0, max=1000.0), HTML(value='')))"
      ]
     },
     "metadata": {},
     "output_type": "display_data"
    },
    {
     "name": "stdout",
     "output_type": "stream",
     "text": [
      "\n"
     ]
    },
    {
     "data": {
      "application/vnd.jupyter.widget-view+json": {
       "model_id": "e7c33587a909434fb2fde0229c6edbed",
       "version_major": 2,
       "version_minor": 0
      },
      "text/plain": [
       "HBox(children=(HTML(value=''), FloatProgress(value=0.0, max=1000.0), HTML(value='')))"
      ]
     },
     "metadata": {},
     "output_type": "display_data"
    },
    {
     "name": "stdout",
     "output_type": "stream",
     "text": [
      "\n"
     ]
    },
    {
     "data": {
      "application/vnd.jupyter.widget-view+json": {
       "model_id": "c10d73263aab4775bc979336f8bde657",
       "version_major": 2,
       "version_minor": 0
      },
      "text/plain": [
       "HBox(children=(HTML(value=''), FloatProgress(value=0.0, max=1000.0), HTML(value='')))"
      ]
     },
     "metadata": {},
     "output_type": "display_data"
    },
    {
     "name": "stdout",
     "output_type": "stream",
     "text": [
      "\n"
     ]
    },
    {
     "data": {
      "application/vnd.jupyter.widget-view+json": {
       "model_id": "f894456622514dcb888eadbb478d23c0",
       "version_major": 2,
       "version_minor": 0
      },
      "text/plain": [
       "HBox(children=(HTML(value=''), FloatProgress(value=0.0, max=1000.0), HTML(value='')))"
      ]
     },
     "metadata": {},
     "output_type": "display_data"
    },
    {
     "name": "stdout",
     "output_type": "stream",
     "text": [
      "\n"
     ]
    },
    {
     "data": {
      "application/vnd.jupyter.widget-view+json": {
       "model_id": "51334fe3c9ef48f9b212eab67c264057",
       "version_major": 2,
       "version_minor": 0
      },
      "text/plain": [
       "HBox(children=(HTML(value=''), FloatProgress(value=0.0, max=1000.0), HTML(value='')))"
      ]
     },
     "metadata": {},
     "output_type": "display_data"
    },
    {
     "name": "stdout",
     "output_type": "stream",
     "text": [
      "\n"
     ]
    },
    {
     "data": {
      "application/vnd.jupyter.widget-view+json": {
       "model_id": "cd3cfcc1724e4c6a8f8db45261faf659",
       "version_major": 2,
       "version_minor": 0
      },
      "text/plain": [
       "HBox(children=(HTML(value=''), FloatProgress(value=0.0, max=1000.0), HTML(value='')))"
      ]
     },
     "metadata": {},
     "output_type": "display_data"
    },
    {
     "name": "stdout",
     "output_type": "stream",
     "text": [
      "\n"
     ]
    },
    {
     "data": {
      "application/vnd.jupyter.widget-view+json": {
       "model_id": "3a97dff850514bb4bb51a02301c52375",
       "version_major": 2,
       "version_minor": 0
      },
      "text/plain": [
       "HBox(children=(HTML(value=''), FloatProgress(value=0.0, max=1000.0), HTML(value='')))"
      ]
     },
     "metadata": {},
     "output_type": "display_data"
    },
    {
     "name": "stdout",
     "output_type": "stream",
     "text": [
      "\n"
     ]
    },
    {
     "data": {
      "application/vnd.jupyter.widget-view+json": {
       "model_id": "4ad7fae6d7744e9b9c99c621d9ab0802",
       "version_major": 2,
       "version_minor": 0
      },
      "text/plain": [
       "HBox(children=(HTML(value=''), FloatProgress(value=0.0, max=1000.0), HTML(value='')))"
      ]
     },
     "metadata": {},
     "output_type": "display_data"
    },
    {
     "name": "stdout",
     "output_type": "stream",
     "text": [
      "\n"
     ]
    },
    {
     "data": {
      "application/vnd.jupyter.widget-view+json": {
       "model_id": "ffcf1cf8cf514e2b91bf5ba223c3b0dc",
       "version_major": 2,
       "version_minor": 0
      },
      "text/plain": [
       "HBox(children=(HTML(value=''), FloatProgress(value=0.0, max=1000.0), HTML(value='')))"
      ]
     },
     "metadata": {},
     "output_type": "display_data"
    },
    {
     "name": "stdout",
     "output_type": "stream",
     "text": [
      "\n"
     ]
    },
    {
     "data": {
      "application/vnd.jupyter.widget-view+json": {
       "model_id": "1c957a35f3c8424798e10b5635313f20",
       "version_major": 2,
       "version_minor": 0
      },
      "text/plain": [
       "HBox(children=(HTML(value=''), FloatProgress(value=0.0, max=1000.0), HTML(value='')))"
      ]
     },
     "metadata": {},
     "output_type": "display_data"
    },
    {
     "name": "stdout",
     "output_type": "stream",
     "text": [
      "Article `download()` failed with HTTPConnectionPool(host='tht.wpengine.com', port=80): Max retries exceeded with url: /?p=641835 (Caused by ConnectTimeoutError(<urllib3.connection.HTTPConnection object at 0x7ff0bc63b520>, 'Connection to tht.wpengine.com timed out. (connect timeout=3)')) on URL https://wp.me/p6iC0n-2GYb\n",
      "Article `download()` failed with HTTPConnectionPool(host='tht.wpengine.com', port=80): Max retries exceeded with url: /?p=641762 (Caused by ConnectTimeoutError(<urllib3.connection.HTTPConnection object at 0x7ff0bc6a2160>, 'Connection to tht.wpengine.com timed out. (connect timeout=3)')) on URL https://wp.me/p6iC0n-2GX0\n",
      "Article `download()` failed with HTTPConnectionPool(host='tht.wpengine.com', port=80): Max retries exceeded with url: /?p=641838 (Caused by ConnectTimeoutError(<urllib3.connection.HTTPConnection object at 0x7ff0bc63bc70>, 'Connection to tht.wpengine.com timed out. (connect timeout=3)')) on URL https://wp.me/p6iC0n-2GYe\n",
      "Article `download()` failed with HTTPConnectionPool(host='tht.wpengine.com', port=80): Max retries exceeded with url: /?p=641813 (Caused by ConnectTimeoutError(<urllib3.connection.HTTPConnection object at 0x7ff0bc6365b0>, 'Connection to tht.wpengine.com timed out. (connect timeout=3)')) on URL https://wp.me/p6iC0n-2GXP\n",
      "Article `download()` failed with HTTPConnectionPool(host='tht.wpengine.com', port=80): Max retries exceeded with url: /?p=641760 (Caused by ConnectTimeoutError(<urllib3.connection.HTTPConnection object at 0x7ff0bb676ee0>, 'Connection to tht.wpengine.com timed out. (connect timeout=3)')) on URL https://wp.me/p6iC0n-2GWY\n",
      "Article `download()` failed with 404 Client Error: Not Found for url: https://thehimalayantimes.com/lifestyle/environment/heavy-rains-dampen-fires-in-australias-queensland-state-cause-flooding/ on URL https://thehimalayantimes.com/lifestyle/environment/heavy-rains-dampen-fires-in-australias-queensland-state-cause-flooding/\n",
      "Article `download()` failed with HTTPConnectionPool(host='tht.wpengine.com', port=80): Max retries exceeded with url: /?p=641690 (Caused by ConnectTimeoutError(<urllib3.connection.HTTPConnection object at 0x7ff0bc69da00>, 'Connection to tht.wpengine.com timed out. (connect timeout=3)')) on URL https://wp.me/p6iC0n-2GVQ\n",
      "Article `download()` failed with HTTPConnectionPool(host='tht.wpengine.com', port=80): Max retries exceeded with url: /?p=641657 (Caused by ConnectTimeoutError(<urllib3.connection.HTTPConnection object at 0x7ff0bc69c640>, 'Connection to tht.wpengine.com timed out. (connect timeout=3)')) on URL https://wp.me/p6iC0n-2GVj\n",
      "Article `download()` failed with HTTPConnectionPool(host='tht.wpengine.com', port=80): Max retries exceeded with url: /?p=641673 (Caused by ConnectTimeoutError(<urllib3.connection.HTTPConnection object at 0x7ff0bc631130>, 'Connection to tht.wpengine.com timed out. (connect timeout=3)')) on URL https://wp.me/p6iC0n-2GVz\n",
      "Article `download()` failed with HTTPConnectionPool(host='tht.wpengine.com', port=80): Max retries exceeded with url: /?p=641683 (Caused by ConnectTimeoutError(<urllib3.connection.HTTPConnection object at 0x7ff0bc63bbe0>, 'Connection to tht.wpengine.com timed out. (connect timeout=3)')) on URL https://wp.me/p6iC0n-2GVJ\n",
      "Article `download()` failed with HTTPConnectionPool(host='tht.wpengine.com', port=80): Max retries exceeded with url: /?p=641665 (Caused by ConnectTimeoutError(<urllib3.connection.HTTPConnection object at 0x7ff0bc63bcd0>, 'Connection to tht.wpengine.com timed out. (connect timeout=3)')) on URL https://wp.me/p6iC0n-2GVr\n",
      "Article `download()` failed with HTTPConnectionPool(host='tht.wpengine.com', port=80): Max retries exceeded with url: /?p=641580 (Caused by ConnectTimeoutError(<urllib3.connection.HTTPConnection object at 0x7ff0bc69d190>, 'Connection to tht.wpengine.com timed out. (connect timeout=3)')) on URL https://wp.me/p6iC0n-2GU4\n",
      "Article `download()` failed with 404 Client Error: Not Found for url: https://thehimalayantimes.com/lifestyle/health/with-wuhan-virus-genetic-code-in-hand-scientists-begin-work-on-a-vaccine/ on URL https://thehimalayantimes.com/lifestyle/health/with-wuhan-virus-genetic-code-in-hand-scientists-begin-work-on-a-vaccine/\n",
      "Article `download()` failed with HTTPConnectionPool(host='tht.wpengine.com', port=80): Max retries exceeded with url: /?p=641621 (Caused by ConnectTimeoutError(<urllib3.connection.HTTPConnection object at 0x7ff0bb676e50>, 'Connection to tht.wpengine.com timed out. (connect timeout=3)')) on URL https://wp.me/p6iC0n-2GUJ\n",
      "Article `download()` failed with HTTPConnectionPool(host='tht.wpengine.com', port=80): Max retries exceeded with url: /?p=641614 (Caused by ConnectTimeoutError(<urllib3.connection.HTTPConnection object at 0x7ff0bc69ddc0>, 'Connection to tht.wpengine.com timed out. (connect timeout=3)')) on URL https://wp.me/p6iC0n-2GUC\n",
      "Article `download()` failed with HTTPConnectionPool(host='tht.wpengine.com', port=80): Max retries exceeded with url: /?p=641572 (Caused by ConnectTimeoutError(<urllib3.connection.HTTPConnection object at 0x7ff0ef1663d0>, 'Connection to tht.wpengine.com timed out. (connect timeout=3)')) on URL https://wp.me/p6iC0n-2GTW\n",
      "Article `download()` failed with HTTPConnectionPool(host='tht.wpengine.com', port=80): Max retries exceeded with url: /?p=641568 (Caused by ConnectTimeoutError(<urllib3.connection.HTTPConnection object at 0x7ff0bc63bb20>, 'Connection to tht.wpengine.com timed out. (connect timeout=3)')) on URL https://wp.me/p6iC0n-2GTS\n",
      "Article `download()` failed with HTTPConnectionPool(host='tht.wpengine.com', port=80): Max retries exceeded with url: /?p=641566 (Caused by ConnectTimeoutError(<urllib3.connection.HTTPConnection object at 0x7ff0bc63ba60>, 'Connection to tht.wpengine.com timed out. (connect timeout=3)')) on URL https://wp.me/p6iC0n-2GTQ\n",
      "Article `download()` failed with HTTPConnectionPool(host='tht.wpengine.com', port=80): Max retries exceeded with url: /?p=641488 (Caused by ConnectTimeoutError(<urllib3.connection.HTTPConnection object at 0x7ff0bb676c40>, 'Connection to tht.wpengine.com timed out. (connect timeout=3)')) on URL https://wp.me/p6iC0n-2GSA\n",
      "Article `download()` failed with HTTPConnectionPool(host='tht.wpengine.com', port=80): Max retries exceeded with url: /?p=641533 (Caused by ConnectTimeoutError(<urllib3.connection.HTTPConnection object at 0x7ff0bc636700>, 'Connection to tht.wpengine.com timed out. (connect timeout=3)')) on URL https://wp.me/p6iC0n-2GTj\n",
      "Article `download()` failed with HTTPConnectionPool(host='tht.wpengine.com', port=80): Max retries exceeded with url: /?p=641444 (Caused by ConnectTimeoutError(<urllib3.connection.HTTPConnection object at 0x7ff0bc69c6d0>, 'Connection to tht.wpengine.com timed out. (connect timeout=3)')) on URL https://wp.me/p6iC0n-2GRS\n",
      "Article `download()` failed with HTTPConnectionPool(host='tht.wpengine.com', port=80): Max retries exceeded with url: /?p=641499 (Caused by ConnectTimeoutError(<urllib3.connection.HTTPConnection object at 0x7ff0bc69dcd0>, 'Connection to tht.wpengine.com timed out. (connect timeout=3)')) on URL https://wp.me/p6iC0n-2GSL\n",
      "Article `download()` failed with HTTPConnectionPool(host='tht.wpengine.com', port=80): Max retries exceeded with url: /?p=641486 (Caused by ConnectTimeoutError(<urllib3.connection.HTTPConnection object at 0x7ff0bc69dee0>, 'Connection to tht.wpengine.com timed out. (connect timeout=3)')) on URL https://wp.me/p6iC0n-2GSy\n",
      "Article `download()` failed with HTTPConnectionPool(host='tht.wpengine.com', port=80): Max retries exceeded with url: /?p=641457 (Caused by ConnectTimeoutError(<urllib3.connection.HTTPConnection object at 0x7ff0bc6312e0>, 'Connection to tht.wpengine.com timed out. (connect timeout=3)')) on URL https://wp.me/p6iC0n-2GS5\n",
      "Article `download()` failed with HTTPConnectionPool(host='tht.wpengine.com', port=80): Max retries exceeded with url: /?p=641451 (Caused by ConnectTimeoutError(<urllib3.connection.HTTPConnection object at 0x7ff0bb676bb0>, 'Connection to tht.wpengine.com timed out. (connect timeout=3)')) on URL https://wp.me/p6iC0n-2GRZ\n",
      "Article `download()` failed with HTTPConnectionPool(host='tht.wpengine.com', port=80): Max retries exceeded with url: /?p=641387 (Caused by ConnectTimeoutError(<urllib3.connection.HTTPConnection object at 0x7ff0bc69c220>, 'Connection to tht.wpengine.com timed out. (connect timeout=3)')) on URL https://wp.me/p6iC0n-2GQX\n"
     ]
    },
    {
     "name": "stdout",
     "output_type": "stream",
     "text": [
      "Article `download()` failed with HTTPConnectionPool(host='tht.wpengine.com', port=80): Max retries exceeded with url: /?p=641424 (Caused by ConnectTimeoutError(<urllib3.connection.HTTPConnection object at 0x7ff0bc63b160>, 'Connection to tht.wpengine.com timed out. (connect timeout=3)')) on URL https://wp.me/p6iC0n-2GRy\n",
      "Article `download()` failed with HTTPConnectionPool(host='tht.wpengine.com', port=80): Max retries exceeded with url: /?p=641412 (Caused by ConnectTimeoutError(<urllib3.connection.HTTPConnection object at 0x7ff0bc6368b0>, 'Connection to tht.wpengine.com timed out. (connect timeout=3)')) on URL https://wp.me/p6iC0n-2GRm\n",
      "Article `download()` failed with HTTPConnectionPool(host='tht.wpengine.com', port=80): Max retries exceeded with url: /?p=641400 (Caused by ConnectTimeoutError(<urllib3.connection.HTTPConnection object at 0x7ff0bc69ca90>, 'Connection to tht.wpengine.com timed out. (connect timeout=3)')) on URL https://wp.me/p6iC0n-2GRa\n",
      "Article `download()` failed with HTTPConnectionPool(host='tht.wpengine.com', port=80): Max retries exceeded with url: /?p=641337 (Caused by ConnectTimeoutError(<urllib3.connection.HTTPConnection object at 0x7ff0bc69ce50>, 'Connection to tht.wpengine.com timed out. (connect timeout=3)')) on URL https://wp.me/p6iC0n-2GQ9\n",
      "Article `download()` failed with HTTPConnectionPool(host='tht.wpengine.com', port=80): Max retries exceeded with url: /?p=641378 (Caused by ConnectTimeoutError(<urllib3.connection.HTTPConnection object at 0x7ff0bc63b8e0>, 'Connection to tht.wpengine.com timed out. (connect timeout=3)')) on URL https://wp.me/p6iC0n-2GQO\n",
      "Article `download()` failed with HTTPConnectionPool(host='tht.wpengine.com', port=80): Max retries exceeded with url: /?p=641359 (Caused by ConnectTimeoutError(<urllib3.connection.HTTPConnection object at 0x7ff0bc63b880>, 'Connection to tht.wpengine.com timed out. (connect timeout=3)')) on URL https://wp.me/p6iC0n-2GQv\n",
      "Article `download()` failed with HTTPConnectionPool(host='tht.wpengine.com', port=80): Max retries exceeded with url: /?p=641346 (Caused by ConnectTimeoutError(<urllib3.connection.HTTPConnection object at 0x7ff0eb478fa0>, 'Connection to tht.wpengine.com timed out. (connect timeout=3)')) on URL https://wp.me/p6iC0n-2GQi\n",
      "Article `download()` failed with HTTPConnectionPool(host='tht.wpengine.com', port=80): Max retries exceeded with url: /?p=641350 (Caused by ConnectTimeoutError(<urllib3.connection.HTTPConnection object at 0x7ff0bc636d00>, 'Connection to tht.wpengine.com timed out. (connect timeout=3)')) on URL https://wp.me/p6iC0n-2GQm\n",
      "Article `download()` failed with HTTPConnectionPool(host='tht.wpengine.com', port=80): Max retries exceeded with url: /?p=641348 (Caused by ConnectTimeoutError(<urllib3.connection.HTTPConnection object at 0x7ff0bc69c1c0>, 'Connection to tht.wpengine.com timed out. (connect timeout=3)')) on URL http://wp.me/p6iC0n-2GQk\n",
      "Article `download()` failed with HTTPConnectionPool(host='tht.wpengine.com', port=80): Max retries exceeded with url: /?p=641336 (Caused by ConnectTimeoutError(<urllib3.connection.HTTPConnection object at 0x7ff0bc6158e0>, 'Connection to tht.wpengine.com timed out. (connect timeout=3)')) on URL https://wp.me/p6iC0n-2GQ8\n",
      "Article `download()` failed with HTTPConnectionPool(host='tht.wpengine.com', port=80): Max retries exceeded with url: /?p=641333 (Caused by ConnectTimeoutError(<urllib3.connection.HTTPConnection object at 0x7ff0bc631130>, 'Connection to tht.wpengine.com timed out. (connect timeout=3)')) on URL https://wp.me/p6iC0n-2GQ5\n",
      "Article `download()` failed with HTTPConnectionPool(host='tht.wpengine.com', port=80): Max retries exceeded with url: /?p=641291 (Caused by ConnectTimeoutError(<urllib3.connection.HTTPConnection object at 0x7ff0bc636c10>, 'Connection to tht.wpengine.com timed out. (connect timeout=3)')) on URL https://wp.me/p6iC0n-2GPp\n",
      "Article `download()` failed with 404 Client Error: Not Found for url: https://thehimalayantimes.com/lifestyle/health/more-vegetables-doctors-visits-for-shanghai-elderly-looking-to-beat-virus/ on URL https://thehimalayantimes.com/lifestyle/health/more-vegetables-doctors-visits-for-shanghai-elderly-looking-to-beat-virus/\n",
      "Article `download()` failed with HTTPConnectionPool(host='tht.wpengine.com', port=80): Max retries exceeded with url: /?p=641205 (Caused by ConnectTimeoutError(<urllib3.connection.HTTPConnection object at 0x7ff0bc69c9a0>, 'Connection to tht.wpengine.com timed out. (connect timeout=3)')) on URL https://wp.me/p6iC0n-2GO1\n",
      "Article `download()` failed with HTTPConnectionPool(host='tht.wpengine.com', port=80): Max retries exceeded with url: /?p=641191 (Caused by ConnectTimeoutError(<urllib3.connection.HTTPConnection object at 0x7ff0bc6158b0>, 'Connection to tht.wpengine.com timed out. (connect timeout=3)')) on URL https://wp.me/p6iC0n-2GNN\n",
      "Article `download()` failed with HTTPConnectionPool(host='tht.wpengine.com', port=80): Max retries exceeded with url: /?p=641131 (Caused by ConnectTimeoutError(<urllib3.connection.HTTPConnection object at 0x7ff0bc63bbb0>, 'Connection to tht.wpengine.com timed out. (connect timeout=3)')) on URL https://wp.me/p6iC0n-2GMP\n",
      "Article `download()` failed with HTTPConnectionPool(host='tht.wpengine.com', port=80): Max retries exceeded with url: /?p=641166 (Caused by ConnectTimeoutError(<urllib3.connection.HTTPConnection object at 0x7ff0bc60e1c0>, 'Connection to tht.wpengine.com timed out. (connect timeout=3)')) on URL https://wp.me/p6iC0n-2GNo\n",
      "Article `download()` failed with HTTPConnectionPool(host='tht.wpengine.com', port=80): Max retries exceeded with url: /?p=641115 (Caused by ConnectTimeoutError(<urllib3.connection.HTTPConnection object at 0x7ff0bc69ceb0>, 'Connection to tht.wpengine.com timed out. (connect timeout=3)')) on URL https://wp.me/p6iC0n-2GMz\n",
      "Article `download()` failed with HTTPConnectionPool(host='tht.wpengine.com', port=80): Max retries exceeded with url: /?p=641096 (Caused by ConnectTimeoutError(<urllib3.connection.HTTPConnection object at 0x7ff0bc69c970>, 'Connection to tht.wpengine.com timed out. (connect timeout=3)')) on URL https://wp.me/p6iC0n-2GMg\n",
      "Article `download()` failed with HTTPConnectionPool(host='tht.wpengine.com', port=80): Max retries exceeded with url: /?p=641108 (Caused by ConnectTimeoutError(<urllib3.connection.HTTPConnection object at 0x7ff0bc636670>, 'Connection to tht.wpengine.com timed out. (connect timeout=3)')) on URL https://wp.me/p6iC0n-2GMs\n",
      "Article `download()` failed with HTTPConnectionPool(host='tht.wpengine.com', port=80): Max retries exceeded with url: /?p=641129 (Caused by ConnectTimeoutError(<urllib3.connection.HTTPConnection object at 0x7ff0bb69f3a0>, 'Connection to tht.wpengine.com timed out. (connect timeout=3)')) on URL https://wp.me/p6iC0n-2GMN\n",
      "Article `download()` failed with HTTPConnectionPool(host='tht.wpengine.com', port=80): Max retries exceeded with url: /?p=641102 (Caused by ConnectTimeoutError(<urllib3.connection.HTTPConnection object at 0x7ff0bc636a30>, 'Connection to tht.wpengine.com timed out. (connect timeout=3)')) on URL https://wp.me/p6iC0n-2GMm\n",
      "Article `download()` failed with HTTPConnectionPool(host='tht.wpengine.com', port=80): Max retries exceeded with url: /?p=641094 (Caused by ConnectTimeoutError(<urllib3.connection.HTTPConnection object at 0x7ff0ba97b6d0>, 'Connection to tht.wpengine.com timed out. (connect timeout=3)')) on URL https://wp.me/p6iC0n-2GMe\n",
      "Article `download()` failed with HTTPConnectionPool(host='tht.wpengine.com', port=80): Max retries exceeded with url: /?p=640899 (Caused by ConnectTimeoutError(<urllib3.connection.HTTPConnection object at 0x7ff0bc615be0>, 'Connection to tht.wpengine.com timed out. (connect timeout=3)')) on URL https://wp.me/p6iC0n-2GJ5\n",
      "Article `download()` failed with HTTPConnectionPool(host='tht.wpengine.com', port=80): Max retries exceeded with url: /?p=641087 (Caused by ConnectTimeoutError(<urllib3.connection.HTTPConnection object at 0x7ff0bb69f820>, 'Connection to tht.wpengine.com timed out. (connect timeout=3)')) on URL https://wp.me/p6iC0n-2GM7\n",
      "Article `download()` failed with HTTPConnectionPool(host='tht.wpengine.com', port=80): Max retries exceeded with url: /?p=641053 (Caused by ConnectTimeoutError(<urllib3.connection.HTTPConnection object at 0x7ff0bc6b2460>, 'Connection to tht.wpengine.com timed out. (connect timeout=3)')) on URL https://wp.me/p6iC0n-2GLz\n"
     ]
    },
    {
     "name": "stdout",
     "output_type": "stream",
     "text": [
      "Article `download()` failed with HTTPConnectionPool(host='tht.wpengine.com', port=80): Max retries exceeded with url: /?p=641046 (Caused by ConnectTimeoutError(<urllib3.connection.HTTPConnection object at 0x7ff0bc615b50>, 'Connection to tht.wpengine.com timed out. (connect timeout=3)')) on URL https://wp.me/p6iC0n-2GLs\n",
      "Article `download()` failed with HTTPConnectionPool(host='tht.wpengine.com', port=80): Max retries exceeded with url: /?p=640890 (Caused by ConnectTimeoutError(<urllib3.connection.HTTPConnection object at 0x7ff0bc631e20>, 'Connection to tht.wpengine.com timed out. (connect timeout=3)')) on URL https://wp.me/p6iC0n-2GIW\n",
      "Article `download()` failed with 404 Client Error: Not Found for url: https://thehimalayantimes.com/lifestyle/health/science-says-what-to-know-about-the-viral-outbreak-in-china/ on URL https://thehimalayantimes.com/lifestyle/health/science-says-what-to-know-about-the-viral-outbreak-in-china/\n",
      "Article `download()` failed with HTTPConnectionPool(host='tht.wpengine.com', port=80): Max retries exceeded with url: /?p=640965 (Caused by ConnectTimeoutError(<urllib3.connection.HTTPConnection object at 0x7ff0bc636b80>, 'Connection to tht.wpengine.com timed out. (connect timeout=3)')) on URL https://wp.me/p6iC0n-2GK9\n",
      "Article `download()` failed with HTTPConnectionPool(host='tht.wpengine.com', port=80): Max retries exceeded with url: /?p=640932 (Caused by ConnectTimeoutError(<urllib3.connection.HTTPConnection object at 0x7ff0bc6b26a0>, 'Connection to tht.wpengine.com timed out. (connect timeout=3)')) on URL https://wp.me/p6iC0n-2GJC\n",
      "Article `download()` failed with HTTPConnectionPool(host='tht.wpengine.com', port=80): Max retries exceeded with url: /?p=640976 (Caused by ConnectTimeoutError(<urllib3.connection.HTTPConnection object at 0x7ff0bb400ac0>, 'Connection to tht.wpengine.com timed out. (connect timeout=3)')) on URL https://wp.me/p6iC0n-2GKk\n",
      "Article `download()` failed with HTTPConnectionPool(host='tht.wpengine.com', port=80): Max retries exceeded with url: /?p=640956 (Caused by ConnectTimeoutError(<urllib3.connection.HTTPConnection object at 0x7ff0bc6365e0>, 'Connection to tht.wpengine.com timed out. (connect timeout=3)')) on URL https://wp.me/p6iC0n-2GK0\n",
      "Article `download()` failed with HTTPConnectionPool(host='tht.wpengine.com', port=80): Max retries exceeded with url: /?p=640897 (Caused by ConnectTimeoutError(<urllib3.connection.HTTPConnection object at 0x7ff0bc6b2760>, 'Connection to tht.wpengine.com timed out. (connect timeout=3)')) on URL https://wp.me/p6iC0n-2GJ3\n"
     ]
    }
   ],
   "source": [
    "file_path = \"thehimalayan.csv\"\n",
    "result_file_path = \"thehimalayan_continue.csv\"\n",
    "\n",
    "pd.read_csv(file_path, nrows=1).head(0).to_csv(result_file_path)\n",
    "dataframe = pd.read_csv(file_path, iterator=True, chunksize=1000)\n",
    "\n",
    "for chunk in dataframe:\n",
    "   chunk['article'] = chunk.progress_apply(article, axis=1)\n",
    "   chunk.to_csv(result_file_path, mode='a', header=None)"
   ]
  },
  {
   "cell_type": "code",
   "execution_count": 55,
   "metadata": {},
   "outputs": [],
   "source": [
    "new = pd.read_csv(result_file_path)"
   ]
  },
  {
   "cell_type": "code",
   "execution_count": 56,
   "metadata": {},
   "outputs": [
    {
     "data": {
      "text/plain": [
       "(41172, 5)"
      ]
     },
     "execution_count": 56,
     "metadata": {},
     "output_type": "execute_result"
    }
   ],
   "source": [
    "new.shape"
   ]
  },
  {
   "cell_type": "code",
   "execution_count": 59,
   "metadata": {},
   "outputs": [],
   "source": [
    "new[new.article!='404'][['id', 'created_at', 'urls', 'article']].to_csv('RepublicaNepal.csv', index=False)"
   ]
  }
 ],
 "metadata": {
  "kernelspec": {
   "display_name": "Python 3",
   "language": "python",
   "name": "python3"
  },
  "language_info": {
   "codemirror_mode": {
    "name": "ipython",
    "version": 3
   },
   "file_extension": ".py",
   "mimetype": "text/x-python",
   "name": "python",
   "nbconvert_exporter": "python",
   "pygments_lexer": "ipython3",
   "version": "3.8.5"
  }
 },
 "nbformat": 4,
 "nbformat_minor": 4
}
