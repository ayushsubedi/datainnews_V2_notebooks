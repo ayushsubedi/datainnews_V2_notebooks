{
 "cells": [
  {
   "cell_type": "code",
   "execution_count": 35,
   "metadata": {},
   "outputs": [],
   "source": [
    "import pandas as pd\n",
    "from newspaper import Article\n",
    "import nltk\n",
    "import ast\n",
    "import requests\n",
    "from tqdm.auto import tqdm\n",
    "tqdm.pandas()\n",
    "from bs4 import BeautifulSoup, Comment\n",
    "import numpy as np"
   ]
  },
  {
   "cell_type": "code",
   "execution_count": 36,
   "metadata": {},
   "outputs": [],
   "source": [
    "headers = {\n",
    "    'Access-Control-Allow-Origin': '*',\n",
    "    'Access-Control-Allow-Methods': 'GET',\n",
    "    'Access-Control-Allow-Headers': 'Content-Type',\n",
    "    'Access-Control-Max-Age': '3600',\n",
    "    'User-Agent': 'Mozilla/5.0 (X11; Ubuntu; Linux x86_64; rv:52.0) Gecko/20100101 Firefox/52.0'\n",
    "    }"
   ]
  },
  {
   "cell_type": "code",
   "execution_count": 46,
   "metadata": {},
   "outputs": [],
   "source": [
    "df = pd.read_csv('RepublicaNepal.csv')"
   ]
  },
  {
   "cell_type": "code",
   "execution_count": 38,
   "metadata": {},
   "outputs": [],
   "source": [
    "# new = pd.read_csv(\"RepublicaNepal_articles_continue.csv\")"
   ]
  },
  {
   "cell_type": "code",
   "execution_count": 39,
   "metadata": {},
   "outputs": [],
   "source": [
    "# joined = df[['id', 'created_at', 'urls']].set_index('id').join(new[['id', 'article']].set_index('id')).reset_index()"
   ]
  },
  {
   "cell_type": "code",
   "execution_count": 40,
   "metadata": {},
   "outputs": [
    {
     "data": {
      "text/html": [
       "<div>\n",
       "<style scoped>\n",
       "    .dataframe tbody tr th:only-of-type {\n",
       "        vertical-align: middle;\n",
       "    }\n",
       "\n",
       "    .dataframe tbody tr th {\n",
       "        vertical-align: top;\n",
       "    }\n",
       "\n",
       "    .dataframe thead th {\n",
       "        text-align: right;\n",
       "    }\n",
       "</style>\n",
       "<table border=\"1\" class=\"dataframe\">\n",
       "  <thead>\n",
       "    <tr style=\"text-align: right;\">\n",
       "      <th></th>\n",
       "      <th>id</th>\n",
       "      <th>created_at</th>\n",
       "      <th>urls</th>\n",
       "      <th>article</th>\n",
       "    </tr>\n",
       "  </thead>\n",
       "  <tbody>\n",
       "    <tr>\n",
       "      <th>0</th>\n",
       "      <td>1376900077713678345</td>\n",
       "      <td>2021-03-30 19:57:14+05:45</td>\n",
       "      <td>https://myrepublica.nagariknetwork.com/news/ne...</td>\n",
       "      <td>KATHMANDU, March 30: The equity market opened ...</td>\n",
       "    </tr>\n",
       "    <tr>\n",
       "      <th>1</th>\n",
       "      <td>1376899173098745862</td>\n",
       "      <td>2021-03-30 19:53:39+05:45</td>\n",
       "      <td>https://myrepublica.nagariknetwork.com/news/go...</td>\n",
       "      <td>KATHMANDU, March 30: Expressing strong dissati...</td>\n",
       "    </tr>\n",
       "    <tr>\n",
       "      <th>2</th>\n",
       "      <td>1376885989214355469</td>\n",
       "      <td>2021-03-30 19:01:15+05:45</td>\n",
       "      <td>https://myrepublica.nagariknetwork.com/news/yo...</td>\n",
       "      <td>Pandey accuses Oli of misusing state power and...</td>\n",
       "    </tr>\n",
       "    <tr>\n",
       "      <th>3</th>\n",
       "      <td>1376871383347519488</td>\n",
       "      <td>2021-03-30 18:03:13+05:45</td>\n",
       "      <td>https://myrepublica.nagariknetwork.com/news/us...</td>\n",
       "      <td>KATHMANDU, March 30: Nepal Police's Central In...</td>\n",
       "    </tr>\n",
       "    <tr>\n",
       "      <th>4</th>\n",
       "      <td>1376866695051014146</td>\n",
       "      <td>2021-03-30 17:44:35+05:45</td>\n",
       "      <td>https://myrepublica.nagariknetwork.com/news/pm...</td>\n",
       "      <td>KATHMANDU, March 30: The government is all set...</td>\n",
       "    </tr>\n",
       "    <tr>\n",
       "      <th>...</th>\n",
       "      <td>...</td>\n",
       "      <td>...</td>\n",
       "      <td>...</td>\n",
       "      <td>...</td>\n",
       "    </tr>\n",
       "    <tr>\n",
       "      <th>41221</th>\n",
       "      <td>947658764064243713</td>\n",
       "      <td>2018-01-01 08:25:30+05:45</td>\n",
       "      <td>https://goo.gl/6aTfY9</td>\n",
       "      <td>NaN</td>\n",
       "    </tr>\n",
       "    <tr>\n",
       "      <th>41222</th>\n",
       "      <td>947658303290580993</td>\n",
       "      <td>2018-01-01 08:23:40+05:45</td>\n",
       "      <td>https://goo.gl/eLy4Pe</td>\n",
       "      <td>NaN</td>\n",
       "    </tr>\n",
       "    <tr>\n",
       "      <th>41223</th>\n",
       "      <td>947655493631188992</td>\n",
       "      <td>2018-01-01 08:12:30+05:45</td>\n",
       "      <td>https://goo.gl/CwpTUq</td>\n",
       "      <td>NaN</td>\n",
       "    </tr>\n",
       "    <tr>\n",
       "      <th>41224</th>\n",
       "      <td>947654732121743361</td>\n",
       "      <td>2018-01-01 08:09:29+05:45</td>\n",
       "      <td>https://goo.gl/WpfygX</td>\n",
       "      <td>NaN</td>\n",
       "    </tr>\n",
       "    <tr>\n",
       "      <th>41225</th>\n",
       "      <td>947654028317507584</td>\n",
       "      <td>2018-01-01 08:06:41+05:45</td>\n",
       "      <td>https://goo.gl/e47Gfo</td>\n",
       "      <td>NaN</td>\n",
       "    </tr>\n",
       "  </tbody>\n",
       "</table>\n",
       "<p>41226 rows × 4 columns</p>\n",
       "</div>"
      ],
      "text/plain": [
       "                        id                 created_at  \\\n",
       "0      1376900077713678345  2021-03-30 19:57:14+05:45   \n",
       "1      1376899173098745862  2021-03-30 19:53:39+05:45   \n",
       "2      1376885989214355469  2021-03-30 19:01:15+05:45   \n",
       "3      1376871383347519488  2021-03-30 18:03:13+05:45   \n",
       "4      1376866695051014146  2021-03-30 17:44:35+05:45   \n",
       "...                    ...                        ...   \n",
       "41221   947658764064243713  2018-01-01 08:25:30+05:45   \n",
       "41222   947658303290580993  2018-01-01 08:23:40+05:45   \n",
       "41223   947655493631188992  2018-01-01 08:12:30+05:45   \n",
       "41224   947654732121743361  2018-01-01 08:09:29+05:45   \n",
       "41225   947654028317507584  2018-01-01 08:06:41+05:45   \n",
       "\n",
       "                                                    urls  \\\n",
       "0      https://myrepublica.nagariknetwork.com/news/ne...   \n",
       "1      https://myrepublica.nagariknetwork.com/news/go...   \n",
       "2      https://myrepublica.nagariknetwork.com/news/yo...   \n",
       "3      https://myrepublica.nagariknetwork.com/news/us...   \n",
       "4      https://myrepublica.nagariknetwork.com/news/pm...   \n",
       "...                                                  ...   \n",
       "41221                              https://goo.gl/6aTfY9   \n",
       "41222                              https://goo.gl/eLy4Pe   \n",
       "41223                              https://goo.gl/CwpTUq   \n",
       "41224                              https://goo.gl/WpfygX   \n",
       "41225                              https://goo.gl/e47Gfo   \n",
       "\n",
       "                                                 article  \n",
       "0      KATHMANDU, March 30: The equity market opened ...  \n",
       "1      KATHMANDU, March 30: Expressing strong dissati...  \n",
       "2      Pandey accuses Oli of misusing state power and...  \n",
       "3      KATHMANDU, March 30: Nepal Police's Central In...  \n",
       "4      KATHMANDU, March 30: The government is all set...  \n",
       "...                                                  ...  \n",
       "41221                                                NaN  \n",
       "41222                                                NaN  \n",
       "41223                                                NaN  \n",
       "41224                                                NaN  \n",
       "41225                                                NaN  \n",
       "\n",
       "[41226 rows x 4 columns]"
      ]
     },
     "execution_count": 40,
     "metadata": {},
     "output_type": "execute_result"
    }
   ],
   "source": [
    "# joined"
   ]
  },
  {
   "cell_type": "code",
   "execution_count": 43,
   "metadata": {},
   "outputs": [],
   "source": [
    "# joined = joined[joined.article!=\"404\"]"
   ]
  },
  {
   "cell_type": "code",
   "execution_count": 44,
   "metadata": {},
   "outputs": [],
   "source": [
    "# joined.to_csv('RepublicaNepal.csv', index=False)"
   ]
  },
  {
   "cell_type": "code",
   "execution_count": 47,
   "metadata": {},
   "outputs": [
    {
     "data": {
      "text/plain": [
       "(41172, 4)"
      ]
     },
     "execution_count": 47,
     "metadata": {},
     "output_type": "execute_result"
    }
   ],
   "source": [
    "df.shape"
   ]
  },
  {
   "cell_type": "code",
   "execution_count": 48,
   "metadata": {},
   "outputs": [
    {
     "data": {
      "text/html": [
       "<div>\n",
       "<style scoped>\n",
       "    .dataframe tbody tr th:only-of-type {\n",
       "        vertical-align: middle;\n",
       "    }\n",
       "\n",
       "    .dataframe tbody tr th {\n",
       "        vertical-align: top;\n",
       "    }\n",
       "\n",
       "    .dataframe thead th {\n",
       "        text-align: right;\n",
       "    }\n",
       "</style>\n",
       "<table border=\"1\" class=\"dataframe\">\n",
       "  <thead>\n",
       "    <tr style=\"text-align: right;\">\n",
       "      <th></th>\n",
       "      <th>id</th>\n",
       "      <th>created_at</th>\n",
       "      <th>urls</th>\n",
       "      <th>article</th>\n",
       "    </tr>\n",
       "  </thead>\n",
       "  <tbody>\n",
       "    <tr>\n",
       "      <th>0</th>\n",
       "      <td>1376900077713678345</td>\n",
       "      <td>2021-03-30 19:57:14+05:45</td>\n",
       "      <td>https://myrepublica.nagariknetwork.com/news/ne...</td>\n",
       "      <td>KATHMANDU, March 30: The equity market opened ...</td>\n",
       "    </tr>\n",
       "    <tr>\n",
       "      <th>1</th>\n",
       "      <td>1376899173098745862</td>\n",
       "      <td>2021-03-30 19:53:39+05:45</td>\n",
       "      <td>https://myrepublica.nagariknetwork.com/news/go...</td>\n",
       "      <td>KATHMANDU, March 30: Expressing strong dissati...</td>\n",
       "    </tr>\n",
       "    <tr>\n",
       "      <th>2</th>\n",
       "      <td>1376885989214355469</td>\n",
       "      <td>2021-03-30 19:01:15+05:45</td>\n",
       "      <td>https://myrepublica.nagariknetwork.com/news/yo...</td>\n",
       "      <td>Pandey accuses Oli of misusing state power and...</td>\n",
       "    </tr>\n",
       "    <tr>\n",
       "      <th>3</th>\n",
       "      <td>1376871383347519488</td>\n",
       "      <td>2021-03-30 18:03:13+05:45</td>\n",
       "      <td>https://myrepublica.nagariknetwork.com/news/us...</td>\n",
       "      <td>KATHMANDU, March 30: Nepal Police's Central In...</td>\n",
       "    </tr>\n",
       "    <tr>\n",
       "      <th>4</th>\n",
       "      <td>1376866695051014146</td>\n",
       "      <td>2021-03-30 17:44:35+05:45</td>\n",
       "      <td>https://myrepublica.nagariknetwork.com/news/pm...</td>\n",
       "      <td>KATHMANDU, March 30: The government is all set...</td>\n",
       "    </tr>\n",
       "  </tbody>\n",
       "</table>\n",
       "</div>"
      ],
      "text/plain": [
       "                    id                 created_at  \\\n",
       "0  1376900077713678345  2021-03-30 19:57:14+05:45   \n",
       "1  1376899173098745862  2021-03-30 19:53:39+05:45   \n",
       "2  1376885989214355469  2021-03-30 19:01:15+05:45   \n",
       "3  1376871383347519488  2021-03-30 18:03:13+05:45   \n",
       "4  1376866695051014146  2021-03-30 17:44:35+05:45   \n",
       "\n",
       "                                                urls  \\\n",
       "0  https://myrepublica.nagariknetwork.com/news/ne...   \n",
       "1  https://myrepublica.nagariknetwork.com/news/go...   \n",
       "2  https://myrepublica.nagariknetwork.com/news/yo...   \n",
       "3  https://myrepublica.nagariknetwork.com/news/us...   \n",
       "4  https://myrepublica.nagariknetwork.com/news/pm...   \n",
       "\n",
       "                                             article  \n",
       "0  KATHMANDU, March 30: The equity market opened ...  \n",
       "1  KATHMANDU, March 30: Expressing strong dissati...  \n",
       "2  Pandey accuses Oli of misusing state power and...  \n",
       "3  KATHMANDU, March 30: Nepal Police's Central In...  \n",
       "4  KATHMANDU, March 30: The government is all set...  "
      ]
     },
     "execution_count": 48,
     "metadata": {},
     "output_type": "execute_result"
    }
   ],
   "source": [
    "df.head()"
   ]
  },
  {
   "cell_type": "code",
   "execution_count": 49,
   "metadata": {},
   "outputs": [
    {
     "data": {
      "text/html": [
       "<div>\n",
       "<style scoped>\n",
       "    .dataframe tbody tr th:only-of-type {\n",
       "        vertical-align: middle;\n",
       "    }\n",
       "\n",
       "    .dataframe tbody tr th {\n",
       "        vertical-align: top;\n",
       "    }\n",
       "\n",
       "    .dataframe thead th {\n",
       "        text-align: right;\n",
       "    }\n",
       "</style>\n",
       "<table border=\"1\" class=\"dataframe\">\n",
       "  <thead>\n",
       "    <tr style=\"text-align: right;\">\n",
       "      <th></th>\n",
       "      <th>id</th>\n",
       "      <th>created_at</th>\n",
       "      <th>urls</th>\n",
       "      <th>article</th>\n",
       "    </tr>\n",
       "  </thead>\n",
       "  <tbody>\n",
       "    <tr>\n",
       "      <th>41167</th>\n",
       "      <td>947658764064243713</td>\n",
       "      <td>2018-01-01 08:25:30+05:45</td>\n",
       "      <td>https://goo.gl/6aTfY9</td>\n",
       "      <td>NaN</td>\n",
       "    </tr>\n",
       "    <tr>\n",
       "      <th>41168</th>\n",
       "      <td>947658303290580993</td>\n",
       "      <td>2018-01-01 08:23:40+05:45</td>\n",
       "      <td>https://goo.gl/eLy4Pe</td>\n",
       "      <td>NaN</td>\n",
       "    </tr>\n",
       "    <tr>\n",
       "      <th>41169</th>\n",
       "      <td>947655493631188992</td>\n",
       "      <td>2018-01-01 08:12:30+05:45</td>\n",
       "      <td>https://goo.gl/CwpTUq</td>\n",
       "      <td>NaN</td>\n",
       "    </tr>\n",
       "    <tr>\n",
       "      <th>41170</th>\n",
       "      <td>947654732121743361</td>\n",
       "      <td>2018-01-01 08:09:29+05:45</td>\n",
       "      <td>https://goo.gl/WpfygX</td>\n",
       "      <td>NaN</td>\n",
       "    </tr>\n",
       "    <tr>\n",
       "      <th>41171</th>\n",
       "      <td>947654028317507584</td>\n",
       "      <td>2018-01-01 08:06:41+05:45</td>\n",
       "      <td>https://goo.gl/e47Gfo</td>\n",
       "      <td>NaN</td>\n",
       "    </tr>\n",
       "  </tbody>\n",
       "</table>\n",
       "</div>"
      ],
      "text/plain": [
       "                       id                 created_at                   urls  \\\n",
       "41167  947658764064243713  2018-01-01 08:25:30+05:45  https://goo.gl/6aTfY9   \n",
       "41168  947658303290580993  2018-01-01 08:23:40+05:45  https://goo.gl/eLy4Pe   \n",
       "41169  947655493631188992  2018-01-01 08:12:30+05:45  https://goo.gl/CwpTUq   \n",
       "41170  947654732121743361  2018-01-01 08:09:29+05:45  https://goo.gl/WpfygX   \n",
       "41171  947654028317507584  2018-01-01 08:06:41+05:45  https://goo.gl/e47Gfo   \n",
       "\n",
       "      article  \n",
       "41167     NaN  \n",
       "41168     NaN  \n",
       "41169     NaN  \n",
       "41170     NaN  \n",
       "41171     NaN  "
      ]
     },
     "execution_count": 49,
     "metadata": {},
     "output_type": "execute_result"
    }
   ],
   "source": [
    "df.tail()"
   ]
  },
  {
   "cell_type": "code",
   "execution_count": 51,
   "metadata": {},
   "outputs": [
    {
     "data": {
      "text/html": [
       "<div>\n",
       "<style scoped>\n",
       "    .dataframe tbody tr th:only-of-type {\n",
       "        vertical-align: middle;\n",
       "    }\n",
       "\n",
       "    .dataframe tbody tr th {\n",
       "        vertical-align: top;\n",
       "    }\n",
       "\n",
       "    .dataframe thead th {\n",
       "        text-align: right;\n",
       "    }\n",
       "</style>\n",
       "<table border=\"1\" class=\"dataframe\">\n",
       "  <thead>\n",
       "    <tr style=\"text-align: right;\">\n",
       "      <th></th>\n",
       "      <th>id</th>\n",
       "      <th>created_at</th>\n",
       "      <th>urls</th>\n",
       "      <th>article</th>\n",
       "    </tr>\n",
       "  </thead>\n",
       "  <tbody>\n",
       "    <tr>\n",
       "      <th>0</th>\n",
       "      <td>1376900077713678345</td>\n",
       "      <td>2021-03-30 19:57:14+05:45</td>\n",
       "      <td>https://myrepublica.nagariknetwork.com/news/ne...</td>\n",
       "      <td>KATHMANDU, March 30: The equity market opened ...</td>\n",
       "    </tr>\n",
       "    <tr>\n",
       "      <th>1</th>\n",
       "      <td>1376899173098745862</td>\n",
       "      <td>2021-03-30 19:53:39+05:45</td>\n",
       "      <td>https://myrepublica.nagariknetwork.com/news/go...</td>\n",
       "      <td>KATHMANDU, March 30: Expressing strong dissati...</td>\n",
       "    </tr>\n",
       "    <tr>\n",
       "      <th>2</th>\n",
       "      <td>1376885989214355469</td>\n",
       "      <td>2021-03-30 19:01:15+05:45</td>\n",
       "      <td>https://myrepublica.nagariknetwork.com/news/yo...</td>\n",
       "      <td>Pandey accuses Oli of misusing state power and...</td>\n",
       "    </tr>\n",
       "    <tr>\n",
       "      <th>3</th>\n",
       "      <td>1376871383347519488</td>\n",
       "      <td>2021-03-30 18:03:13+05:45</td>\n",
       "      <td>https://myrepublica.nagariknetwork.com/news/us...</td>\n",
       "      <td>KATHMANDU, March 30: Nepal Police's Central In...</td>\n",
       "    </tr>\n",
       "    <tr>\n",
       "      <th>4</th>\n",
       "      <td>1376866695051014146</td>\n",
       "      <td>2021-03-30 17:44:35+05:45</td>\n",
       "      <td>https://myrepublica.nagariknetwork.com/news/pm...</td>\n",
       "      <td>KATHMANDU, March 30: The government is all set...</td>\n",
       "    </tr>\n",
       "    <tr>\n",
       "      <th>...</th>\n",
       "      <td>...</td>\n",
       "      <td>...</td>\n",
       "      <td>...</td>\n",
       "      <td>...</td>\n",
       "    </tr>\n",
       "    <tr>\n",
       "      <th>41167</th>\n",
       "      <td>947658764064243713</td>\n",
       "      <td>2018-01-01 08:25:30+05:45</td>\n",
       "      <td>https://goo.gl/6aTfY9</td>\n",
       "      <td>NaN</td>\n",
       "    </tr>\n",
       "    <tr>\n",
       "      <th>41168</th>\n",
       "      <td>947658303290580993</td>\n",
       "      <td>2018-01-01 08:23:40+05:45</td>\n",
       "      <td>https://goo.gl/eLy4Pe</td>\n",
       "      <td>NaN</td>\n",
       "    </tr>\n",
       "    <tr>\n",
       "      <th>41169</th>\n",
       "      <td>947655493631188992</td>\n",
       "      <td>2018-01-01 08:12:30+05:45</td>\n",
       "      <td>https://goo.gl/CwpTUq</td>\n",
       "      <td>NaN</td>\n",
       "    </tr>\n",
       "    <tr>\n",
       "      <th>41170</th>\n",
       "      <td>947654732121743361</td>\n",
       "      <td>2018-01-01 08:09:29+05:45</td>\n",
       "      <td>https://goo.gl/WpfygX</td>\n",
       "      <td>NaN</td>\n",
       "    </tr>\n",
       "    <tr>\n",
       "      <th>41171</th>\n",
       "      <td>947654028317507584</td>\n",
       "      <td>2018-01-01 08:06:41+05:45</td>\n",
       "      <td>https://goo.gl/e47Gfo</td>\n",
       "      <td>NaN</td>\n",
       "    </tr>\n",
       "  </tbody>\n",
       "</table>\n",
       "<p>41172 rows × 4 columns</p>\n",
       "</div>"
      ],
      "text/plain": [
       "                        id                 created_at  \\\n",
       "0      1376900077713678345  2021-03-30 19:57:14+05:45   \n",
       "1      1376899173098745862  2021-03-30 19:53:39+05:45   \n",
       "2      1376885989214355469  2021-03-30 19:01:15+05:45   \n",
       "3      1376871383347519488  2021-03-30 18:03:13+05:45   \n",
       "4      1376866695051014146  2021-03-30 17:44:35+05:45   \n",
       "...                    ...                        ...   \n",
       "41167   947658764064243713  2018-01-01 08:25:30+05:45   \n",
       "41168   947658303290580993  2018-01-01 08:23:40+05:45   \n",
       "41169   947655493631188992  2018-01-01 08:12:30+05:45   \n",
       "41170   947654732121743361  2018-01-01 08:09:29+05:45   \n",
       "41171   947654028317507584  2018-01-01 08:06:41+05:45   \n",
       "\n",
       "                                                    urls  \\\n",
       "0      https://myrepublica.nagariknetwork.com/news/ne...   \n",
       "1      https://myrepublica.nagariknetwork.com/news/go...   \n",
       "2      https://myrepublica.nagariknetwork.com/news/yo...   \n",
       "3      https://myrepublica.nagariknetwork.com/news/us...   \n",
       "4      https://myrepublica.nagariknetwork.com/news/pm...   \n",
       "...                                                  ...   \n",
       "41167                              https://goo.gl/6aTfY9   \n",
       "41168                              https://goo.gl/eLy4Pe   \n",
       "41169                              https://goo.gl/CwpTUq   \n",
       "41170                              https://goo.gl/WpfygX   \n",
       "41171                              https://goo.gl/e47Gfo   \n",
       "\n",
       "                                                 article  \n",
       "0      KATHMANDU, March 30: The equity market opened ...  \n",
       "1      KATHMANDU, March 30: Expressing strong dissati...  \n",
       "2      Pandey accuses Oli of misusing state power and...  \n",
       "3      KATHMANDU, March 30: Nepal Police's Central In...  \n",
       "4      KATHMANDU, March 30: The government is all set...  \n",
       "...                                                  ...  \n",
       "41167                                                NaN  \n",
       "41168                                                NaN  \n",
       "41169                                                NaN  \n",
       "41170                                                NaN  \n",
       "41171                                                NaN  \n",
       "\n",
       "[41172 rows x 4 columns]"
      ]
     },
     "execution_count": 51,
     "metadata": {},
     "output_type": "execute_result"
    }
   ],
   "source": [
    "df"
   ]
  },
  {
   "cell_type": "markdown",
   "metadata": {},
   "source": [
    "## Chunk"
   ]
  },
  {
   "cell_type": "code",
   "execution_count": 52,
   "metadata": {},
   "outputs": [],
   "source": [
    "def article_ktmpost(row):\n",
    "    try:\n",
    "        if (row.article != row.article):\n",
    "            url = row.urls\n",
    "            req = requests.get(url, headers)\n",
    "            soup = BeautifulSoup(req.content, 'html.parser')\n",
    "            result = soup.find(\"div\", {\"class\": \"col-sm-8\"})\n",
    "            return result.text\n",
    "        return row.article\n",
    "    except Exception as e:\n",
    "        print (str(e))\n",
    "        return 404\n",
    "    \n",
    "def article(row):\n",
    "    try:\n",
    "        if (row.article != row.article):\n",
    "            url = row.urls\n",
    "            article = Article(url)\n",
    "            article.download()\n",
    "            article.parse()\n",
    "            return article.text\n",
    "        return row.article\n",
    "    except Exception as e:\n",
    "        print (str(e))\n",
    "        return 404  "
   ]
  },
  {
   "cell_type": "code",
   "execution_count": 54,
   "metadata": {},
   "outputs": [
    {
     "data": {
      "application/vnd.jupyter.widget-view+json": {
       "model_id": "f43fcd5fa69a4123b18eabda16e605d9",
       "version_major": 2,
       "version_minor": 0
      },
      "text/plain": [
       "HBox(children=(HTML(value=''), FloatProgress(value=0.0, max=1000.0), HTML(value='')))"
      ]
     },
     "metadata": {},
     "output_type": "display_data"
    },
    {
     "name": "stdout",
     "output_type": "stream",
     "text": [
      "\n"
     ]
    },
    {
     "data": {
      "application/vnd.jupyter.widget-view+json": {
       "model_id": "90e78be7198d4abc8d6bb8f498a995ff",
       "version_major": 2,
       "version_minor": 0
      },
      "text/plain": [
       "HBox(children=(HTML(value=''), FloatProgress(value=0.0, max=1000.0), HTML(value='')))"
      ]
     },
     "metadata": {},
     "output_type": "display_data"
    },
    {
     "name": "stdout",
     "output_type": "stream",
     "text": [
      "\n"
     ]
    },
    {
     "data": {
      "application/vnd.jupyter.widget-view+json": {
       "model_id": "2c4e20c886da4a64bd60ae5ce86066b3",
       "version_major": 2,
       "version_minor": 0
      },
      "text/plain": [
       "HBox(children=(HTML(value=''), FloatProgress(value=0.0, max=1000.0), HTML(value='')))"
      ]
     },
     "metadata": {},
     "output_type": "display_data"
    },
    {
     "name": "stdout",
     "output_type": "stream",
     "text": [
      "\n"
     ]
    },
    {
     "data": {
      "application/vnd.jupyter.widget-view+json": {
       "model_id": "b5f5dc3337b0482388a0c5262f8ab77e",
       "version_major": 2,
       "version_minor": 0
      },
      "text/plain": [
       "HBox(children=(HTML(value=''), FloatProgress(value=0.0, max=1000.0), HTML(value='')))"
      ]
     },
     "metadata": {},
     "output_type": "display_data"
    },
    {
     "name": "stdout",
     "output_type": "stream",
     "text": [
      "\n"
     ]
    },
    {
     "data": {
      "application/vnd.jupyter.widget-view+json": {
       "model_id": "6fb7626019d4486da4f09ab902029d6a",
       "version_major": 2,
       "version_minor": 0
      },
      "text/plain": [
       "HBox(children=(HTML(value=''), FloatProgress(value=0.0, max=1000.0), HTML(value='')))"
      ]
     },
     "metadata": {},
     "output_type": "display_data"
    },
    {
     "name": "stdout",
     "output_type": "stream",
     "text": [
      "\n"
     ]
    },
    {
     "data": {
      "application/vnd.jupyter.widget-view+json": {
       "model_id": "0ef9c74683e94c9e84778c1763a09630",
       "version_major": 2,
       "version_minor": 0
      },
      "text/plain": [
       "HBox(children=(HTML(value=''), FloatProgress(value=0.0, max=1000.0), HTML(value='')))"
      ]
     },
     "metadata": {},
     "output_type": "display_data"
    },
    {
     "name": "stdout",
     "output_type": "stream",
     "text": [
      "\n"
     ]
    },
    {
     "data": {
      "application/vnd.jupyter.widget-view+json": {
       "model_id": "f99f81e4ea4c42118869aafe86e35fca",
       "version_major": 2,
       "version_minor": 0
      },
      "text/plain": [
       "HBox(children=(HTML(value=''), FloatProgress(value=0.0, max=1000.0), HTML(value='')))"
      ]
     },
     "metadata": {},
     "output_type": "display_data"
    },
    {
     "name": "stdout",
     "output_type": "stream",
     "text": [
      "\n"
     ]
    },
    {
     "data": {
      "application/vnd.jupyter.widget-view+json": {
       "model_id": "6842a03ecc934b6dbacdae32f5a7e2f2",
       "version_major": 2,
       "version_minor": 0
      },
      "text/plain": [
       "HBox(children=(HTML(value=''), FloatProgress(value=0.0, max=1000.0), HTML(value='')))"
      ]
     },
     "metadata": {},
     "output_type": "display_data"
    },
    {
     "name": "stdout",
     "output_type": "stream",
     "text": [
      "\n"
     ]
    },
    {
     "data": {
      "application/vnd.jupyter.widget-view+json": {
       "model_id": "01716242e85f4db9aacc0e2d26193504",
       "version_major": 2,
       "version_minor": 0
      },
      "text/plain": [
       "HBox(children=(HTML(value=''), FloatProgress(value=0.0, max=1000.0), HTML(value='')))"
      ]
     },
     "metadata": {},
     "output_type": "display_data"
    },
    {
     "name": "stdout",
     "output_type": "stream",
     "text": [
      "\n"
     ]
    },
    {
     "data": {
      "application/vnd.jupyter.widget-view+json": {
       "model_id": "f51409009f514b11b26dc680d7dda2e9",
       "version_major": 2,
       "version_minor": 0
      },
      "text/plain": [
       "HBox(children=(HTML(value=''), FloatProgress(value=0.0, max=1000.0), HTML(value='')))"
      ]
     },
     "metadata": {},
     "output_type": "display_data"
    },
    {
     "name": "stdout",
     "output_type": "stream",
     "text": [
      "\n"
     ]
    },
    {
     "data": {
      "application/vnd.jupyter.widget-view+json": {
       "model_id": "8a71d04aa7644b9380f222ae8ba3ff9e",
       "version_major": 2,
       "version_minor": 0
      },
      "text/plain": [
       "HBox(children=(HTML(value=''), FloatProgress(value=0.0, max=1000.0), HTML(value='')))"
      ]
     },
     "metadata": {},
     "output_type": "display_data"
    },
    {
     "name": "stdout",
     "output_type": "stream",
     "text": [
      "\n"
     ]
    },
    {
     "data": {
      "application/vnd.jupyter.widget-view+json": {
       "model_id": "01f372f3660d4af1815cc0eaa56473ba",
       "version_major": 2,
       "version_minor": 0
      },
      "text/plain": [
       "HBox(children=(HTML(value=''), FloatProgress(value=0.0, max=1000.0), HTML(value='')))"
      ]
     },
     "metadata": {},
     "output_type": "display_data"
    },
    {
     "name": "stdout",
     "output_type": "stream",
     "text": [
      "\n"
     ]
    },
    {
     "data": {
      "application/vnd.jupyter.widget-view+json": {
       "model_id": "840e7b08f37d463fbfdec570dcdf1b81",
       "version_major": 2,
       "version_minor": 0
      },
      "text/plain": [
       "HBox(children=(HTML(value=''), FloatProgress(value=0.0, max=1000.0), HTML(value='')))"
      ]
     },
     "metadata": {},
     "output_type": "display_data"
    },
    {
     "name": "stdout",
     "output_type": "stream",
     "text": [
      "\n"
     ]
    },
    {
     "data": {
      "application/vnd.jupyter.widget-view+json": {
       "model_id": "af8d3ff1df5746e3b068db73e96e4a5a",
       "version_major": 2,
       "version_minor": 0
      },
      "text/plain": [
       "HBox(children=(HTML(value=''), FloatProgress(value=0.0, max=1000.0), HTML(value='')))"
      ]
     },
     "metadata": {},
     "output_type": "display_data"
    },
    {
     "name": "stdout",
     "output_type": "stream",
     "text": [
      "\n"
     ]
    },
    {
     "data": {
      "application/vnd.jupyter.widget-view+json": {
       "model_id": "01201f5826354f96a4c780a21e73145b",
       "version_major": 2,
       "version_minor": 0
      },
      "text/plain": [
       "HBox(children=(HTML(value=''), FloatProgress(value=0.0, max=1000.0), HTML(value='')))"
      ]
     },
     "metadata": {},
     "output_type": "display_data"
    },
    {
     "name": "stdout",
     "output_type": "stream",
     "text": [
      "\n"
     ]
    },
    {
     "data": {
      "application/vnd.jupyter.widget-view+json": {
       "model_id": "7c915d09bc754ceea9cdb21c8b97b0d8",
       "version_major": 2,
       "version_minor": 0
      },
      "text/plain": [
       "HBox(children=(HTML(value=''), FloatProgress(value=0.0, max=1000.0), HTML(value='')))"
      ]
     },
     "metadata": {},
     "output_type": "display_data"
    },
    {
     "name": "stdout",
     "output_type": "stream",
     "text": [
      "\n"
     ]
    },
    {
     "data": {
      "application/vnd.jupyter.widget-view+json": {
       "model_id": "f63d22d0b42b4e90b72456c4852b36ba",
       "version_major": 2,
       "version_minor": 0
      },
      "text/plain": [
       "HBox(children=(HTML(value=''), FloatProgress(value=0.0, max=1000.0), HTML(value='')))"
      ]
     },
     "metadata": {},
     "output_type": "display_data"
    },
    {
     "name": "stdout",
     "output_type": "stream",
     "text": [
      "\n"
     ]
    },
    {
     "data": {
      "application/vnd.jupyter.widget-view+json": {
       "model_id": "5a2b6df8b33340bbba9c67d562c4caa3",
       "version_major": 2,
       "version_minor": 0
      },
      "text/plain": [
       "HBox(children=(HTML(value=''), FloatProgress(value=0.0, max=1000.0), HTML(value='')))"
      ]
     },
     "metadata": {},
     "output_type": "display_data"
    },
    {
     "name": "stdout",
     "output_type": "stream",
     "text": [
      "\n"
     ]
    },
    {
     "data": {
      "application/vnd.jupyter.widget-view+json": {
       "model_id": "da6bfc7de1fc433a9303a8a6bcc6b00d",
       "version_major": 2,
       "version_minor": 0
      },
      "text/plain": [
       "HBox(children=(HTML(value=''), FloatProgress(value=0.0, max=1000.0), HTML(value='')))"
      ]
     },
     "metadata": {},
     "output_type": "display_data"
    },
    {
     "name": "stdout",
     "output_type": "stream",
     "text": [
      "\n"
     ]
    },
    {
     "data": {
      "application/vnd.jupyter.widget-view+json": {
       "model_id": "7e5d9a767f80488e8ac54dd35af54a93",
       "version_major": 2,
       "version_minor": 0
      },
      "text/plain": [
       "HBox(children=(HTML(value=''), FloatProgress(value=0.0, max=1000.0), HTML(value='')))"
      ]
     },
     "metadata": {},
     "output_type": "display_data"
    },
    {
     "name": "stdout",
     "output_type": "stream",
     "text": [
      "\n"
     ]
    },
    {
     "data": {
      "application/vnd.jupyter.widget-view+json": {
       "model_id": "6eccb660ad1646a2ab40599ed7d26f74",
       "version_major": 2,
       "version_minor": 0
      },
      "text/plain": [
       "HBox(children=(HTML(value=''), FloatProgress(value=0.0, max=1000.0), HTML(value='')))"
      ]
     },
     "metadata": {},
     "output_type": "display_data"
    },
    {
     "name": "stdout",
     "output_type": "stream",
     "text": [
      "\n"
     ]
    },
    {
     "data": {
      "application/vnd.jupyter.widget-view+json": {
       "model_id": "b85f0e82929f435b82522391afedc94d",
       "version_major": 2,
       "version_minor": 0
      },
      "text/plain": [
       "HBox(children=(HTML(value=''), FloatProgress(value=0.0, max=1000.0), HTML(value='')))"
      ]
     },
     "metadata": {},
     "output_type": "display_data"
    },
    {
     "name": "stdout",
     "output_type": "stream",
     "text": [
      "\n"
     ]
    },
    {
     "data": {
      "application/vnd.jupyter.widget-view+json": {
       "model_id": "9b7b563e138a40b188d54da2e618beae",
       "version_major": 2,
       "version_minor": 0
      },
      "text/plain": [
       "HBox(children=(HTML(value=''), FloatProgress(value=0.0, max=1000.0), HTML(value='')))"
      ]
     },
     "metadata": {},
     "output_type": "display_data"
    },
    {
     "name": "stdout",
     "output_type": "stream",
     "text": [
      "\n"
     ]
    },
    {
     "data": {
      "application/vnd.jupyter.widget-view+json": {
       "model_id": "fc46d31dabfc4045951edefa202bff3a",
       "version_major": 2,
       "version_minor": 0
      },
      "text/plain": [
       "HBox(children=(HTML(value=''), FloatProgress(value=0.0, max=1000.0), HTML(value='')))"
      ]
     },
     "metadata": {},
     "output_type": "display_data"
    },
    {
     "name": "stdout",
     "output_type": "stream",
     "text": [
      "\n"
     ]
    },
    {
     "data": {
      "application/vnd.jupyter.widget-view+json": {
       "model_id": "5c851492625f4603a79ad98e09ac7ede",
       "version_major": 2,
       "version_minor": 0
      },
      "text/plain": [
       "HBox(children=(HTML(value=''), FloatProgress(value=0.0, max=1000.0), HTML(value='')))"
      ]
     },
     "metadata": {},
     "output_type": "display_data"
    },
    {
     "name": "stdout",
     "output_type": "stream",
     "text": [
      "Article `download()` failed with HTTPConnectionPool(host='uk.news-republic.com', port=80): Max retries exceeded with url: /M/4/1460940 (Caused by NewConnectionError('<urllib3.connection.HTTPConnection object at 0x7ff0cad30be0>: Failed to establish a new connection: [Errno 8] nodename nor servname provided, or not known')) on URL https://goo.gl/rXZVC\n",
      "Article `download()` failed with 404 Client Error: Not Found for url: https://myrepublica.nagariknetwork.com/news/police-arrest-30-for-flagging-off-pm-oli/01-5010277 on URL https://myrepublica.nagariknetwork.com/news/police-arrest-30-for-flagging-off-pm-oli/01-5010277\n",
      "Article `download()` failed with 404 Client Error: Not Found for url: https://myrepublica.nagariknetwork.com/news/us-concerned-over-peace-in-indo-pacific-region-says-us-admiral-davidson/ on URL https://goo.gl/dMYuSW\n",
      "Article `download()` failed with 404 Client Error: Not Found for url: https://myrepublica.nagariknetwork.com/news/bibeksheel-sajha-party-split-as-thapa-camp-quits/ on URL https://is.gd/A43p4F\n",
      "Article `download()` failed with 404 Client Error: Not Found for url: https://myrepublica.nagariknetwork.com/news/police-intensifies-search-after-murder-evidences-found-inside-aashram/ on URL https://myrepublica.nagariknetwork.com/news/police-intensifies-search-after-murder-evidences-found-inside-aashram/\n",
      "Article `download()` failed with 404 Client Error: Not Found for url: https://myrepublica.nagariknetwork.com/news/prithvi-narayan-deserves-credit-for-nepal-s-integrity-pm/ on URL https://myrepublica.nagariknetwork.com/news/prithvi-narayan-deserves-credit-for-nepal-s-integrity-pm/\n",
      "Article `download()` failed with 404 Client Error: Not Found for url: https://myrepublica.nagariknetwork.com/news/i-ll-take-full-responsibility-for-judicial-reform-cj-rana/ on URL https://myrepublica.nagariknetwork.com/news/i-ll-take-full-responsibility-for-judicial-reform-cj-rana/\n",
      "Article `download()` failed with 404 Client Error: Not Found for url: https://myrepublica.nagariknetwork.com/news/usindopacom-commander-davidson-in-nepal/ on URL https://goo.gl/faCWKk\n",
      "Article `download()` failed with 404 Client Error: Not Found for url: https://myrepublica.nagariknetwork.com/news/taliban-kill-more-than-30-members-of-afghan-security-forces-and-militias/ on URL https://is.gd/zrlsOm\n",
      "Article `download()` failed with 404 Client Error: Not Found for url: https://myrepublica.nagariknetwork.com/news/foreign-minister-gyawali-leaving-for-india-tomorrow/ on URL https://goo.gl/qRPjoU\n",
      "Article `download()` failed with 404 Client Error: Not Found for url: https://myrepublica.nagariknetwork.com/news/5-common-myths-about-fertility-with-video/ on URL https://is.gd/gBiSNC\n",
      "Article `download()` failed with 404 Client Error: Not Found for url: https://myrepublica.nagariknetwork.com/news/ciaa-files-illegal-wealth-amassing-case-against-ex-chief-of-noc-khadka/ on URL https://goo.gl/98XzKQ\n",
      "Article `download()` failed with 404 Client Error: Not Found for url: https://myrepublica.nagariknetwork.com/news/fire-destroys-furniture-factory-guts-property-worth-rs-7-million-with-video/ on URL https://is.gd/2oFGzP\n",
      "Article `download()` failed with 404 Client Error: Not Found for url: https://myrepublica.nagariknetwork.com/news/widebody-probe-body-should-include-aviation-expert-top-ex-caan-officials/ on URL https://is.gd/kPvWRB\n",
      "Article `download()` failed with 404 Client Error: Not Found for url: https://myrepublica.nagariknetwork.com/news/drop-beef-to-save-millions-of-lives-and-cut-greenhouse-gas-emissions-world-economic-forum/ on URL https://myrepublica.nagariknetwork.com/news/drop-beef-to-save-millions-of-lives-and-cut-greenhouse-gas-emissions-world-economic-forum/\n",
      "\n"
     ]
    },
    {
     "data": {
      "application/vnd.jupyter.widget-view+json": {
       "model_id": "8390ebf1fc434d80995f8d767db15297",
       "version_major": 2,
       "version_minor": 0
      },
      "text/plain": [
       "HBox(children=(HTML(value=''), FloatProgress(value=0.0, max=1000.0), HTML(value='')))"
      ]
     },
     "metadata": {},
     "output_type": "display_data"
    },
    {
     "name": "stdout",
     "output_type": "stream",
     "text": [
      "Article `download()` failed with 404 Client Error: Not Found for url: https://myrepublica.nagariknetwork.com/news/joshi-no-more-in-constitutional-bench/ on URL https://bit.ly/2BWeGt3\n",
      "Article `download()` failed with 404 Client Error: Not Found for url: https://myrepublica.nagariknetwork.com/news/massive-fire-engulfs-cotton-factory-in-satungal/ on URL https://is.gd/JPPFnJ\n",
      "Article `download()` failed with 404 Client Error: Not Found for url: https://myrepublica.nagariknetwork.com/news/high-level-committee-formed-to-probe-na-wide-body-aircraft-purchase-scam/ on URL https://is.gd/BzZHg7\n",
      "Article `download()` failed with 404 Client Error: Not Found for url: https://myrepublica.nagariknetwork.com/news/rjp-n-lawmaker-resham-chaudhary-sworn-in-amid-protest-with-photos/ on URL https://is.gd/7i03hR\n",
      "Article `download()` failed with 404 Client Error: Not Found for url: https://myrepublica.nagariknetwork.com/news/govt-employees-should-go-to-assigned-workplace-minister-pandit/ on URL https://is.gd/ahan9V\n",
      "Article `download()` failed with 404 Client Error: Not Found for url: https://myrepublica.nagariknetwork.com/news/abortion-services-made-available-in-republic-following-referendum-result/ on URL https://myrepublica.nagariknetwork.com/news/abortion-services-made-available-in-republic-following-referendum-result/\n",
      "Article `download()` failed with 404 Client Error: Not Found for url: https://myrepublica.nagariknetwork.com/news/2018-a-year-of-election-and-implementation-of-federalism/ on URL https://is.gd/f6YVZB\n",
      "Article `download()` failed with 404 Client Error: Not Found for url: https://myrepublica.nagariknetwork.com/news/govt-to-buy-300-electric-buses-for-valley/ on URL https://is.gd/6lGbKj\n",
      "Article `download()` failed with 404 Client Error: Not Found for url: https://myrepublica.nagariknetwork.com/news/dharahara-construction-officially-begins/ on URL https://is.gd/baIHSq\n",
      "Article `download()` failed with 401 Client Error: Unauthorized for url: http://teszt11.webmark.hu/onkormanyzati/budosarok-zaportarozo-fejlesztese---keszthely-varos-belteruletet-vedo-csapadekviz-elvezetese on URL https://goo.gl/t1hq\n",
      "Article `download()` failed with 404 Client Error: Not Found for url: https://myrepublica.nagariknetwork.com/news/experts-stress-on-usage-of-quality-cement-for-better-construction/ on URL https://is.gd/h07b7p\n",
      "Article `download()` failed with 404 Client Error: Not Found for url: https://myrepublica.nagariknetwork.com/news/prime-minister-oli-seeks-one-week-s-time-to-address-rjp-n-s-demands/ on URL https://is.gd/FcuMVx\n",
      "Article `download()` failed with 404 Client Error: Not Found for url: https://myrepublica.nagariknetwork.com/news/at-least-29-killed-in-assault-on-afghan-government-building/ on URL https://is.gd/i5FjdJ\n",
      "Article `download()` failed with 404 Client Error: Not Found for url: https://myrepublica.nagariknetwork.com/news/at-least-30-houses-destroyed-in-kalikot-fire/ on URL https://is.gd/Z18uyC\n",
      "Article `download()` failed with HTTPConnectionPool(host='50.115.175.176', port=80): Max retries exceeded with url: /adj3.php?t=0&o=0.2068704852792973 (Caused by NewConnectionError('<urllib3.connection.HTTPConnection object at 0x7ff0cad30c70>: Failed to establish a new connection: [Errno 61] Connection refused')) on URL https://goo.gl/toHw3\n",
      "Article `download()` failed with 404 Client Error: Not Found for url: https://myrepublica.nagariknetwork.com/news/america-visit-has-been-very-successful-minister-gyawali/ on URL https://goo.gl/Pgbnbu\n",
      "Article `download()` failed with 404 Client Error: Not Found for url: https://myrepublica.nagariknetwork.com/news/expelled-by-family-for-not-bearing-son-woman-desperately-awaits-generous-heart-to-save-ailing-female-child/ on URL https://is.gd/DxfYsa\n",
      "Article `download()` failed with 404 Client Error: Not Found for url: https://myrepublica.nagariknetwork.com/news/early-morning-tremor/ on URL https://is.gd/pb6aIb\n",
      "Article `download()` failed with 404 Client Error: Not Found for url: https://myrepublica.nagariknetwork.com/news/police-constable-injured-as-firing-goes-at-lankuribhanjyang/ on URL https://goo.gl/wU6uAd\n",
      "Article `download()` failed with 404 Client Error: Not Found for url: https://myrepublica.nagariknetwork.com/news/death-toll-in-dang-bus-accident-climbs-to-23-12-deaths-identified/ on URL https://is.gd/RS0w3r\n",
      "Article `download()` failed with 404 Client Error: Not Found for url: https://myrepublica.nagariknetwork.com/news/death-toll-in-dang-bus-accident-climbs-to-23/ on URL https://goo.gl/AHuCy8\n",
      "Article `download()` failed with 404 Client Error: Not Found for url: https://myrepublica.nagariknetwork.com/news/nepal-elected-pbc-organizational-committee-member/ on URL https://goo.gl/zr6JD8\n",
      "Article `download()` failed with 404 Client Error: Not Found for url: https://myrepublica.nagariknetwork.com/news/at-least-21-die-2-missing-in-dang-school-trip-bus-crash/ on URL https://goo.gl/hxN1Ve\n",
      "Article `download()` failed with 404 Client Error: Not Found for url: https://myrepublica.nagariknetwork.com/news/10-die-as-school-bus-plunges-into-gorge-in-dang/ on URL https://is.gd/ZG8zdc\n",
      "Article `download()` failed with 404 Client Error: Not Found for url: https://myrepublica.nagariknetwork.com/news/when-barack-obama-reached-hospital-with-a-red-bag-of-gifts/ on URL https://goo.gl/id7TNv\n",
      "Article `download()` failed with 404 Client Error: Not Found for url: https://myrepublica.nagariknetwork.com/news/sc-deciding-fate-of-hotel-waterfront-case-today/ on URL https://is.gd/eIVJHb\n",
      "Article `download()` failed with 404 Client Error: Not Found for url: https://myrepublica.nagariknetwork.com/news/us-seeks-key-role-for-nepal-in-indo-pacific-as-china-ups-forays-here/ on URL https://is.gd/MX2SqG\n",
      "Article `download()` failed with 404 Client Error: Not Found for url: https://myrepublica.nagariknetwork.com/news/lalitpur-patriots-clinches-1-wicket-win-over-kathmandu-kings-xi/ on URL https://goo.gl/hEf7H5\n",
      "Article `download()` failed with 404 Client Error: Not Found for url: https://myrepublica.nagariknetwork.com/news/task-force-tabling-report-at-inter-state-council-meet/ on URL https://goo.gl/CVpYMT\n",
      "Article `download()` failed with 404 Client Error: Not Found for url: https://myrepublica.nagariknetwork.com/news/india-s-congress-i-leader-lambasts-modi-gov-t-for-ban-on-indian-notes-in-nepal/ on URL https://is.gd/7s1z9z\n",
      "Article `download()` failed with 404 Client Error: Not Found for url: https://myrepublica.nagariknetwork.com/news/property-worth-over-rs-1-2-million-gutted-in-fire/https:/bit.ly/2QzP0N3 on URL https://bit.ly/2LlPyA8\n",
      "Article `download()` failed with 404 Client Error: Not Found for url: https://myrepublica.nagariknetwork.com/news/sankata-reclaims-second-spot/https:/bit.ly/2rHhZ2o on URL https://bit.ly/2Ez2WjP\n",
      "Article `download()` failed with 404 Client Error: Not Found for url: https://myrepublica.nagariknetwork.com/news/dip-in-donuts/https:/bit.ly/2LlWJsf on URL https://bit.ly/2PLdAoX\n",
      "Article `download()` failed with 404 Client Error: Not Found for url: https://myrepublica.nagariknetwork.com/news/pm-oli-leaders-express-grief-over-ex-pm-giri-s-demise/https:/bit.ly/2A5gIqG on URL https://bit.ly/2S2uOA1\n",
      "Article `download()` failed with 404 Client Error: Not Found for url: https://myrepublica.nagariknetwork.com/news/provinces-have-achieved-only-1-18-percent-progress-in-development-spending-in-five-months/https:/bit.ly/2S1YGww on URL https://bit.ly/2Bw5MlE\n",
      "Article `download()` failed with 404 Client Error: Not Found for url: https://myrepublica.nagariknetwork.com/news/trc-still-clueless-about-rolpa-house-massacre/https:/bit.ly/2ECfVS1 on URL https://bit.ly/2CiOQ3L\n",
      "Article `download()` failed with 404 Client Error: Not Found for url: https://myrepublica.nagariknetwork.com/news/koshi-tappu-witnesses-further-decline-in-the-arrival-of-migratory-birds/https:/bit.ly/2Epqff0 on URL https://bit.ly/2PJrlnP\n",
      "Article `download()` failed with 404 Client Error: Not Found for url: https://myrepublica.nagariknetwork.com/news/oli-criticized-in-party-over-poor-govt-performance/https:/bit.ly/2A2N0Tk on URL https://bit.ly/2PMf3v0\n",
      "Article `download()` failed with 404 Client Error: Not Found for url: https://myrepublica.nagariknetwork.com/news/ncp-standing-committee-meet-underway/ on URL https://goo.gl/5txyYd\n"
     ]
    },
    {
     "name": "stdout",
     "output_type": "stream",
     "text": [
      "Article `download()` failed with 404 Client Error: Not Found for url: https://myrepublica.nagariknetwork.com/news/17-killed-in-nuwakot-bus-accident-update/ on URL https://goo.gl/xkUCT2\n",
      "Article `download()` failed with 404 Client Error: Not Found for url: https://myrepublica.nagariknetwork.com/news/16-killed-in-nuwakot-bus-accident/ on URL https://goo.gl/zMnc6P\n",
      "Article `download()` failed with 404 Client Error: Not Found for url: https://myrepublica.nagariknetwork.com/news/babar-hayat-s-90-insufficient-as-chitwan-tigers-register-their-first-win/ on URL https://is.gd/HPWBPd\n",
      "Article `download()` failed with 404 Client Error: Not Found for url: https://myrepublica.nagariknetwork.com/news/constitution-council-recommends-justice-cholendra-shumsher-rana-as-new-cj/ on URL https://myrepublica.nagariknetwork.com/news/constitution-council-recommends-justice-cholendra-shumsher-rana-as-new-cj/\n",
      "Article `download()` failed with 404 Client Error: Not Found for url: https://myrepublica.nagariknetwork.com/news/asia-pacific-summit-has-established-nepal-s-image-in-a-better-way-minister-gyawali/ on URL https://is.gd/EPNTrl\n",
      "Article `download()` failed with 404 Client Error: Not Found for url: https://myrepublica.nagariknetwork.com/news/bhairahawa-gladiators-defeat-chitwan-tigers-by-12-runs/ on URL https://is.gd/I4Z4Sb\n",
      "Article `download()` failed with 404 Client Error: Not Found for url: https://myrepublica.nagariknetwork.com/news/epl-2018-bhairahawa-gladiators-sets-144-runs-target-for-chitwan-tigers/ on URL https://goo.gl/zpzMvM\n",
      "Article `download()` failed with 404 Client Error: Not Found for url: https://myrepublica.nagariknetwork.com/news/biratnagar-warriors-win-by-7-runs-in-dramatic-super-over/ on URL https://goo.gl/m22493\n",
      "Article `download()` failed with 404 Client Error: Not Found for url: https://myrepublica.nagariknetwork.com/news/committee-formed-to-identify-and-recommend-solutions-to-existing-provincial-issues/ on URL https://myrepublica.nagariknetwork.com/news/committee-formed-to-identify-and-recommend-solutions-to-existing-provincial-issues/\n",
      "Article `download()` failed with 404 Client Error: Not Found for url: https://myrepublica.nagariknetwork.com/news/envoy-sherpa-at-mofa-to-clarify-on-human-trafficking-charge/ on URL https://is.gd/dWs4sV\n",
      "\n"
     ]
    },
    {
     "data": {
      "application/vnd.jupyter.widget-view+json": {
       "model_id": "df4f3fa1316e46f7a669c614e320c0b4",
       "version_major": 2,
       "version_minor": 0
      },
      "text/plain": [
       "HBox(children=(HTML(value=''), FloatProgress(value=0.0, max=1000.0), HTML(value='')))"
      ]
     },
     "metadata": {},
     "output_type": "display_data"
    },
    {
     "name": "stdout",
     "output_type": "stream",
     "text": [
      "Article `download()` failed with 404 Client Error: Not Found for url: https://myrepublica.nagariknetwork.com/news/first-inter-provincial-council-meeting-to-start-at-11-30/ on URL https://is.gd/HGsNJa\n",
      "Article `download()` failed with 404 Client Error: Not Found for url: https://myrepublica.nagariknetwork.com/news/srinkhala-khatiwada-selected-as-12-finalists-of-miss-world/ on URL https://goo.gl/pf9eZK\n",
      "Article `download()` failed with 404 Client Error: Not Found for url: https://myrepublica.nagariknetwork.com/news/cc-meeting-which-is-to-pick-new-cj-rescheduled/ on URL https://is.gd/c3uQuh\n",
      "Article `download()` failed with 404 Client Error: Not Found for url: https://myrepublica.nagariknetwork.com/news/court-orders-to-take-raut-into-custody/ on URL https://myrepublica.nagariknetwork.com/news/court-orders-to-take-raut-into-custody/\n",
      "Article `download()` failed with 404 Client Error: Not Found for url: https://myrepublica.nagariknetwork.com/news/minimum-temperature-dips-more-chilly-weather-expected/ on URL https://is.gd/XxAkzL\n",
      "Article `download()` failed with 404 Client Error: Not Found for url: https://myrepublica.nagariknetwork.com/news/accused-rawal-s-statement-retaken/ on URL https://bit.ly/2E4Ajdu\n",
      "Article `download()` failed with 404 Client Error: Not Found for url: https://myrepublica.nagariknetwork.com/news/devotees-observe-bala-chaturdashi-at-pashupatinath/ on URL https://bit.ly/2Pnz7Ug\n",
      "Article `download()` failed with 404 Client Error: Not Found for url: https://myrepublica.nagariknetwork.com/news/kevin-o-brien-arrives-at-tia-for-second-season-of-english-premier-league/ on URL https://goo.gl/4mFhQY\n",
      "Article `download()` failed with 404 Client Error: Not Found for url: https://myrepublica.nagariknetwork.com/news/eu-to-lift-its-ban-on-nepali-aircraft-soon-minister-adhikari/ on URL https://goo.gl/Tq4Ph7\n",
      "Article `download()` failed with 404 Client Error: Not Found for url: https://myrepublica.nagariknetwork.com/news/macron-set-for-tax-u-turn-to-quell-yellow-vest-protests/ on URL https://is.gd/ftcbg9\n",
      "Article `download()` failed with 404 Client Error: Not Found for url: https://myrepublica.nagariknetwork.com/news/nssu-launches-signature-campaign-for-nirmla-s-justice/ on URL https://goo.gl/kw5Fdr\n",
      "Article `download()` failed with 404 Client Error: Not Found for url: https://myrepublica.nagariknetwork.com/news/80-of-nepalis-will-use-nokia-device-to-connect-to-internet-by-2020/ on URL https://goo.gl/mJJ1dr\n",
      "Article `download()` failed with 404 Client Error: Not Found for url: https://myrepublica.nagariknetwork.com/news/tarun-dal-urges-govt-to-nab-culprit-involved-in-nirmala-s-case/ on URL https://goo.gl/MYwu7L\n",
      "Article `download()` failed with 404 Client Error: Not Found for url: https://myrepublica.nagariknetwork.com/news/leaders-at-asia-pacific-summit-stress-on-collective-efforts-for-global-peace/ on URL https://is.gd/l4o14z\n",
      "Article `download()` failed with 404 Client Error: Not Found for url: https://myrepublica.nagariknetwork.com/news/nepal-s-peace-process-exemplary-says-pm-oli/ on URL https://myrepublica.nagariknetwork.com/news/nepal-s-peace-process-exemplary-says-pm-oli/\n",
      "Article `download()` failed with 404 Client Error: Not Found for url: https://myrepublica.nagariknetwork.com/news/two-day-asia-pacific-summit-2018-begins-in-capital/ on URL https://is.gd/1mLXFp\n",
      "Article `download()` failed with 404 Client Error: Not Found for url: https://myrepublica.nagariknetwork.com/news/mpto-withdraws-odd-even-rule-amid-criticism/https:/bit.ly/2BGT3OA on URL https://bit.ly/2E20XnS\n",
      "Article `download()` failed with 404 Client Error: Not Found for url: https://myrepublica.nagariknetwork.com/news/pm-may-says-focussed-on-december-11-brexit-vote-not-alternatives/https:/bit.ly/2KKt8Z8 on URL https://bit.ly/2TZ8M2w\n",
      "Article `download()` failed with 404 Client Error: Not Found for url: https://myrepublica.nagariknetwork.com/news/sports-injury-occurs-due-to-lack-of-inadequate-fitness-inability-to-warm-up-properly-nyaupane/ on URL https://myrepublica.nagariknetwork.com/news/sports-injury-occurs-due-to-lack-of-inadequate-fitness-inability-to-warm-up-properly-nyaupane/\n",
      "Article `download()` failed with 404 Client Error: Not Found for url: https://myrepublica.nagariknetwork.com/news/187-including-23-officials-to-face-music-for-irregularities-in-army-intake/ on URL https://goo.gl/776XcP\n",
      "Article `download()` failed with 404 Client Error: Not Found for url: https://myrepublica.nagariknetwork.com/news/ai-nepal-to-campaign-world-s-biggest-human-rights-campaign/ on URL https://is.gd/PEI5Yg\n",
      "Article `download()` failed with 404 Client Error: Not Found for url: https://myrepublica.nagariknetwork.com/news/suu-kyi-stresses-on-boosting-nepal-myanmar-trade/ on URL https://is.gd/YS3PJQ\n",
      "Article `download()` failed with 404 Client Error: Not Found for url: https://myrepublica.nagariknetwork.com/news/fire-guts-property-worth-over-rs-16-million-in-mustang/ on URL https://goo.gl/Buef6w\n",
      "Article `download()` failed with 404 Client Error: Not Found for url: https://myrepublica.nagariknetwork.com/news/ustad-zakir-hussain-performs-tabala-concert-in-kathmandu/ on URL https://bit.ly/2TSrPLS\n",
      "Article `download()` failed with 404 Client Error: Not Found for url: https://myrepublica.nagariknetwork.com/news/property-worth-over-rs-50-m-destroyed-as-fire-breaks-out-at-furniture-showroom/ on URL https://goo.gl/5qJPTi\n",
      "Article `download()` failed with 404 Client Error: Not Found for url: https://myrepublica.nagariknetwork.com/news/teacher-faces-music-for-using-fake-educational-certificate/ on URL https://goo.gl/YuB1sG\n",
      "Article `download()` failed with 404 Client Error: Not Found for url: https://myrepublica.nagariknetwork.com/news/former-pm-and-nspn-coordinator-bhattarai-inquires-yagya-raj-panta-s-health-condition/ on URL https://myrepublica.nagariknetwork.com/news/former-pm-and-nspn-coordinator-bhattarai-inquires-yagya-raj-panta-s-health-condition/\n",
      "Article `download()` failed with 404 Client Error: Not Found for url: https://myrepublica.nagariknetwork.com/news/provincial-election-s-independent-candidate-from-kapilvastu-killed-by-multiple-gun-shot/ on URL https://goo.gl/hniVGj\n",
      "Article `download()` failed with HTTPSConnectionPool(host='goo.gl', port=443): Max retries exceeded with url: /Tjj811 (Caused by ConnectTimeoutError(<urllib3.connection.HTTPSConnection object at 0x7ff0ca51e4f0>, 'Connection to goo.gl timed out. (connect timeout=7)')) on URL https://goo.gl/Tjj811\n",
      "Article `download()` failed with 404 Client Error: Not Found for url: https://myrepublica.nagariknetwork.com/news/suicide-bombers-storm-chinese-consulate-in-pakistan-s-karachi-2-killed/ on URL https://is.gd/6vsAeX\n",
      "Article `download()` failed with 404 Client Error: Not Found for url: https://myrepublica.nagariknetwork.com/news/krishi-fresh-fobbing-off-balkhu-vegetables-as-organic-produce/ on URL https://goo.gl/HL1B5s\n",
      "Article `download()` failed with 404 Client Error: Not Found for url: https://myrepublica.nagariknetwork.com/news/protracted-insurance-process-hits-deadline-of-upper-mailung-hydro-project/ on URL https://myrepublica.nagariknetwork.com/news/protracted-insurance-process-hits-deadline-of-upper-mailung-hydro-project/\n",
      "Article `download()` failed with 404 Client Error: Not Found for url: https://myrepublica.nagariknetwork.com/news/conflict-victims-grief-has-been-alleviated-claims-leader-dahal/ on URL https://myrepublica.nagariknetwork.com/news/conflict-victims-grief-has-been-alleviated-claims-leader-dahal/\n",
      "Article `download()` failed with 404 Client Error: Not Found for url: https://myrepublica.nagariknetwork.com/news/six-indian-nationals-held-in-connection-with-hussain-s-murder-in-sunsari/ on URL https://is.gd/MLSRko\n",
      "Article `download()` failed with 404 Client Error: Not Found for url: https://myrepublica.nagariknetwork.com/news/six-indian-nationals-held-in-connection-with-hussain-s-murder-in-sunsari/ on URL https://goo.gl/XL1Jpu\n",
      "Article `download()` failed with 404 Client Error: Not Found for url: https://myrepublica.nagariknetwork.com/news/brick-entrepreneur-shot-dead-in-sunsari/ on URL https://is.gd/5PAnJv\n",
      "Article `download()` failed with 404 Client Error: Not Found for url: https://myrepublica.nagariknetwork.com/news/pokhara-airport-to-remain-close-for-15-hours-daily-for-renovation/ on URL https://bit.ly/2QRo5Ix\n"
     ]
    },
    {
     "name": "stdout",
     "output_type": "stream",
     "text": [
      "Article `download()` failed with 404 Client Error: Not Found for url: https://myrepublica.nagariknetwork.com/news/rukum-man-murders-wife-son/ on URL https://myrepublica.nagariknetwork.com/news/rukum-man-murders-wife-son/\n",
      "Article `download()` failed with 404 Client Error: Not Found for url: https://myrepublica.nagariknetwork.com/news/nc-leaders-students-divided-over-nsu-leadership-fate/ on URL https://is.gd/hQFXuY\n",
      "\n"
     ]
    },
    {
     "data": {
      "application/vnd.jupyter.widget-view+json": {
       "model_id": "89cbd8e0fd214ba787037975b7305378",
       "version_major": 2,
       "version_minor": 0
      },
      "text/plain": [
       "HBox(children=(HTML(value=''), FloatProgress(value=0.0, max=1000.0), HTML(value='')))"
      ]
     },
     "metadata": {},
     "output_type": "display_data"
    },
    {
     "name": "stdout",
     "output_type": "stream",
     "text": [
      "Article `download()` failed with 404 Client Error: Not Found for url: https://myrepublica.nagariknetwork.com/news/two-die-in-jeep-accident/ on URL https://is.gd/Y4NxOX\n",
      "Article `download()` failed with 404 Client Error: Not Found for url: https://myrepublica.nagariknetwork.com/news/bhattarai-flays-govt-for-failing-to-live-up-to-people-s-expectations/ on URL https://goo.gl/d5erG5\n",
      "Article `download()` failed with 404 Client Error: Not Found for url: https://myrepublica.nagariknetwork.com/news/joint-attorney-caught-with-rs-500-000-bribe/ on URL https://goo.gl/13F9yR\n",
      "Article `download()` failed with 404 Client Error: Not Found for url: https://myrepublica.nagariknetwork.com/news/party-president-fails-to-play-role-of-opposition-leader-poudel-says/ on URL https://is.gd/n6PD1z\n",
      "Article `download()` failed with 404 Client Error: Not Found for url: https://myrepublica.nagariknetwork.com/news/nepal-ends-draw-with-bangladesh-qualifies-to-second-round/ on URL https://is.gd/xWMDrB\n",
      "Article `download()` failed with 404 Client Error: Not Found for url: https://myrepublica.nagariknetwork.com/news/pm-oli-extends-greetings-on-the-occasion-of-chhat-with-video/ on URL https://goo.gl/ZGCQ6X\n",
      "Article `download()` failed with 404 Client Error: Not Found for url: https://myrepublica.nagariknetwork.com/news/wary-of-china-us-wants-s-asia-to-join-indo-pacific-strategy/ on URL https://goo.gl/FwDfyP\n",
      "Article `download()` failed with 404 Client Error: Not Found for url: https://myrepublica.nagariknetwork.com/news/rajan-bhattarai-appointed-as-foreign-affairs-advisor/ on URL https://myrepublica.nagariknetwork.com/news/rajan-bhattarai-appointed-as-foreign-affairs-advisor/\n",
      "Article `download()` failed with 404 Client Error: Not Found for url: https://myrepublica.nagariknetwork.com/news/nepal-draws-with-myanmar-in-qualifying-round-for-tokyo-2020-summer-olympics/ on URL https://goo.gl/kXRpAM\n",
      "Article `download()` failed with 404 Client Error: Not Found for url: https://myrepublica.nagariknetwork.com/news/nirmala-s-parents-stage-sit-in-in-kanchhanpur/ on URL https://goo.gl/L5jCVy\n",
      "Article `download()` failed with 404 Client Error: Not Found for url: https://myrepublica.nagariknetwork.com/news/i-do-not-see-it-happening-in-our-generation-says-dpm-yadav/ on URL https://goo.gl/6KYMc4\n",
      "Article `download()` failed with 404 Client Error: Not Found for url: https://myrepublica.nagariknetwork.com/news/brother-in-law-of-sherdhan-rai-s-assistant-hit-a-nepali-journalist-in-new-york/ on URL https://goo.gl/V6uU9o\n",
      "Article `download()` failed with 404 Client Error: Not Found for url: https://myrepublica.nagariknetwork.com/news/tara-air-s-plane-flies-to-kathmandu-after-being-fixatoin-from-june-9-accident/ on URL https://goo.gl/5JHSjy\n",
      "Article `download()` failed with 404 Client Error: Not Found for url: https://myrepublica.nagariknetwork.com/news/it-is-unto-us-to-build-the-country-pm-oli/ on URL https://myrepublica.nagariknetwork.com/news/it-is-unto-us-to-build-the-country-pm-oli/\n",
      "Article `download()` failed with 404 Client Error: Not Found for url: https://myrepublica.nagariknetwork.com/news/nepal-telecom-s-post-paid-mobile-service-problem/ on URL https://goo.gl/roo94Z\n",
      "Article `download()` failed with 404 Client Error: Not Found for url: https://myrepublica.nagariknetwork.com/news/biratnagar-titans-registers-first-win-defeats-butwal-blasters-by-12-runs/ on URL https://goo.gl/jqKng6\n",
      "Article `download()` failed with 404 Client Error: Not Found for url: https://myrepublica.nagariknetwork.com/news/one-die-one-injured-in-microbus-motorbike-collision-in-lainchaur/ on URL https://myrepublica.nagariknetwork.com/news/one-die-one-injured-in-microbus-motorbike-collision-in-lainchaur/\n",
      "Article `download()` failed with 404 Client Error: Not Found for url: https://myrepublica.nagariknetwork.com/news/one-die-one-injured-in-jajarkot-jeep-mishap/ on URL https://myrepublica.nagariknetwork.com/news/one-die-one-injured-in-jajarkot-jeep-mishap/\n",
      "Article `download()` failed with 404 Client Error: Not Found for url: https://myrepublica.nagariknetwork.com/news/dahal-enquires-pm-s-health-condition/ on URL https://myrepublica.nagariknetwork.com/news/dahal-enquires-pm-s-health-condition/\n",
      "Article `download()` failed with 404 Client Error: Not Found for url: https://myrepublica.nagariknetwork.com/news/pm-oli-likely-to-be-admitted-for-next-few-days/ on URL https://myrepublica.nagariknetwork.com/news/pm-oli-likely-to-be-admitted-for-next-few-days/\n",
      "Article `download()` failed with 404 Client Error: Not Found for url: https://myrepublica.nagariknetwork.com/news/indonesia-says-plane-crashes-in-java-sea-with-188-aboard-wreckage-found/ on URL https://myrepublica.nagariknetwork.com/news/indonesia-says-plane-crashes-in-java-sea-with-188-aboard-wreckage-found/\n",
      "Article `download()` failed with 404 Client Error: Not Found for url: https://myrepublica.nagariknetwork.com/news/mahottari-health-facilities-in-short-of-medicines/ on URL https://myrepublica.nagariknetwork.com/news/mahottari-health-facilities-in-short-of-medicines/\n",
      "Article `download()` failed with 404 Client Error: Not Found for url: https://myrepublica.nagariknetwork.com/news/sri-lankan-president-suspends-parliament-amid-political-crisis/ on URL https://myrepublica.nagariknetwork.com/news/sri-lankan-president-suspends-parliament-amid-political-crisis/\n",
      "Article `download()` failed with 404 Client Error: Not Found for url: https://myrepublica.nagariknetwork.com/news/icc-world-cup-s-trophy-in-exhibition-at-pokhara/ on URL https://myrepublica.nagariknetwork.com/news/icc-world-cup-s-trophy-in-exhibition-at-pokhara/\n",
      "Article `download()` failed with 404 Client Error: Not Found for url: https://myrepublica.nagariknetwork.com/news/prez-bhandari-to-invite-investors-in-nepal-at-qatar/ on URL https://myrepublica.nagariknetwork.com/news/prez-bhandari-to-invite-investors-in-nepal-at-qatar/\n",
      "Article `download()` failed with 404 Client Error: Not Found for url: https://myrepublica.nagariknetwork.com/news/pokhara-paltan-wins-by-58-runs/ on URL https://goo.gl/HbWTxG\n",
      "Article `download()` failed with 404 Client Error: Not Found for url: https://myrepublica.nagariknetwork.com/news/truck-crushes-two-pedestrians-to-death-one-injured-in-capital/ on URL https://goo.gl/61hias\n",
      "Article `download()` failed with 404 Client Error: Not Found for url: https://myrepublica.nagariknetwork.com/news/pokhara-premier-league-starts-from-friday-in-photos/ on URL https://goo.gl/Goe8NA\n",
      "Article `download()` failed with 404 Client Error: Not Found for url: https://myrepublica.nagariknetwork.com/news/sp-bista-inspector-bhatta-dismissed-from-active-police-duty/ on URL https://myrepublica.nagariknetwork.com/news/sp-bista-inspector-bhatta-dismissed-from-active-police-duty/\n",
      "Article `download()` failed with 404 Client Error: Not Found for url: https://myrepublica.nagariknetwork.com/news/sp-bista-inspector-bhatta-likely-to-be-dismissed/ on URL https://myrepublica.nagariknetwork.com/news/sp-bista-inspector-bhatta-likely-to-be-dismissed/\n",
      "Article `download()` failed with 404 Client Error: Not Found for url: https://myrepublica.nagariknetwork.com/news/seven-rhinos-died-of-natural-causes-in-three-months/ on URL https://myrepublica.nagariknetwork.com/news/seven-rhinos-died-of-natural-causes-in-three-months/\n",
      "\n"
     ]
    },
    {
     "data": {
      "application/vnd.jupyter.widget-view+json": {
       "model_id": "d46a761760fb4438b77fbd5f7ce5702d",
       "version_major": 2,
       "version_minor": 0
      },
      "text/plain": [
       "HBox(children=(HTML(value=''), FloatProgress(value=0.0, max=1000.0), HTML(value='')))"
      ]
     },
     "metadata": {},
     "output_type": "display_data"
    },
    {
     "name": "stdout",
     "output_type": "stream",
     "text": [
      "Article `download()` failed with 404 Client Error: Not Found for url: https://myrepublica.nagariknetwork.com/news/fnj-sends-protest-memo-to-saudi-arabian-govt-condemning-khashoggi-s-murder/ on URL https://goo.gl/TPUCgi\n",
      "Article `download()` failed with 404 Client Error: Not Found for url: https://myrepublica.nagariknetwork.com/news/1-killed-12-injured-in-sindhupalchowk-tripper-acci/ on URL https://goo.gl/ziRuoj\n",
      "Article `download()` failed with 404 Client Error: Not Found for url: https://myrepublica.nagariknetwork.com/news/meetoo-impact-mj-akbar-resigns-over-sexual-harassment-allegations/ on URL https://is.gd/gPQfq5\n",
      "Article `download()` failed with 404 Client Error: Not Found for url: https://myrepublica.nagariknetwork.com/news/one-held-in-rape-charge/ on URL https://myrepublica.nagariknetwork.com/news/one-held-in-rape-charge/\n",
      "Article `download()` failed with 404 Client Error: Not Found for url: https://myrepublica.nagariknetwork.com/news/one-die-37-injured-in-bus-accident-in-ramechhap/ on URL https://myrepublica.nagariknetwork.com/news/one-die-37-injured-in-bus-accident-in-ramechhap/\n",
      "Article `download()` failed with 404 Client Error: Not Found for url: https://myrepublica.nagariknetwork.com/news/one-child-killed-in-bus-accident/ on URL https://is.gd/OJBuZK\n",
      "Article `download()` failed with 404 Client Error: Not Found for url: https://myrepublica.nagariknetwork.com/news/motorbike-accident-claims-one-injures-one/ on URL https://myrepublica.nagariknetwork.com/news/motorbike-accident-claims-one-injures-one/\n",
      "Article `download()` failed with 404 Client Error: Not Found for url: https://myrepublica.nagariknetwork.com/news/crown-on-display-for-public-with-video/ on URL https://is.gd/8ely2x\n",
      "Article `download()` failed with 404 Client Error: Not Found for url: https://myrepublica.nagariknetwork.com/news/giant-of-nepali-media-industry-hem-raj-gyawali-passes-away/ on URL https://is.gd/wZARQL\n",
      "Article `download()` failed with 404 Client Error: Not Found for url: https://myrepublica.nagariknetwork.com/news/first-nepal-paragliding-world-cup-2018-to-be-held-on-nov-1-15/ on URL https://goo.gl/ZZaNN1\n",
      "Article `download()` failed with 404 Client Error: Not Found for url: https://myrepublica.nagariknetwork.com/news/two-severely-injured-in-dang-bus-motorcycle-collision/ on URL https://myrepublica.nagariknetwork.com/news/two-severely-injured-in-dang-bus-motorcycle-collision/\n",
      "Article `download()` failed with 404 Client Error: Not Found for url: https://myrepublica.nagariknetwork.com/news/63rd-police-day-being-celebrated-today/ on URL https://myrepublica.nagariknetwork.com/news/63rd-police-day-being-celebrated-today/\n",
      "Article `download()` failed with 404 Client Error: Not Found for url: https://myrepublica.nagariknetwork.com/news/17-35-demography-more-venerable-to-road-fatalities/ on URL https://is.gd/0CdCe0\n",
      "Article `download()` failed with 404 Client Error: Not Found for url: https://myrepublica.nagariknetwork.com/news/my-resignation-will-pave-out-a-way-for-bam-dev-gautam-lawmaker-manadhar/ on URL https://is.gd/XfS1BW\n",
      "Article `download()` failed with 404 Client Error: Not Found for url: https://myrepublica.nagariknetwork.com/news/karnali-province-parliament-meeting-disrupted-again/ on URL https://goo.gl/ov96h6\n",
      "Article `download()` failed with 404 Client Error: Not Found for url: https://myrepublica.nagariknetwork.com/news/three-nepali-women-gets-rescue-from-mumbai/ on URL https://is.gd/7B5roz\n",
      "Article `download()` failed with 404 Client Error: Not Found for url: https://myrepublica.nagariknetwork.com/news/nirmala-panta-rape-and-murder-case-two-more-police-officers-suspended/ on URL https://myrepublica.nagariknetwork.com/news/nirmala-panta-rape-and-murder-case-two-more-police-officers-suspended/\n",
      "Article `download()` failed with 404 Client Error: Not Found for url: https://myrepublica.nagariknetwork.com/news/nepal-wins-by-140-runs-against-thailand/ on URL https://goo.gl/dWh8ci\n",
      "Article `download()` failed with 404 Client Error: Not Found for url: https://myrepublica.nagariknetwork.com/news/what-rupee-s-free-fall-means-for-country/ on URL https://myrepublica.nagariknetwork.com/news/what-rupee-s-free-fall-means-for-country/\n",
      "Article `download()` failed with 404 Client Error: Not Found for url: https://myrepublica.nagariknetwork.com/news/nepalgunj-truck-microbus-collision-claims-6-injuring-17/ on URL https://goo.gl/sy18J8\n",
      "Article `download()` failed with 404 Client Error: Not Found for url: https://myrepublica.nagariknetwork.com/news/icc-world-t20-nepal-wraps-malaysia-to-101-runs/ on URL https://is.gd/ru4Wt9\n",
      "Article `download()` failed with 404 Client Error: Not Found for url: https://myrepublica.nagariknetwork.com/news/nepal-u-18-enters-into-the-final-of-saff-u-18-women-c-ship-after-penalty-shoot-out-win-against-india-u-18/ on URL https://goo.gl/rtzvJs\n",
      "Article `download()` failed with 404 Client Error: Not Found for url: https://myrepublica.nagariknetwork.com/news/randy-william-berry-appointed-as-new-ambassador-to-neal/ on URL https://goo.gl/S9qcVC\n",
      "Article `download()` failed with 404 Client Error: Not Found for url: https://myrepublica.nagariknetwork.com/news/student-wings-of-ruling-ncp-demand-resignation-of-igp-khanal/ on URL https://goo.gl/QmrK7k\n",
      "Article `download()` failed with 404 Client Error: Not Found for url: https://myrepublica.nagariknetwork.com/news/demonstration-in-front-of-singha-durbar-against-nirmala-rape-murder-case/ on URL https://goo.gl/mKKRp9\n",
      "Article `download()` failed with 404 Client Error: Not Found for url: https://myrepublica.nagariknetwork.com/news/govt-s-latest-stint-against-vaw-integrated-efforts-between-people-and-govt/ on URL https://myrepublica.nagariknetwork.com/news/govt-s-latest-stint-against-vaw-integrated-efforts-between-people-and-govt/\n",
      "Article `download()` failed with 404 Client Error: Not Found for url: https://myrepublica.nagariknetwork.com/news/nepal-u-19-defeat-uae-by-3-wickets/ on URL https://myrepublica.nagariknetwork.com/news/nepal-u-19-defeat-uae-by-3-wickets/\n",
      "Article `download()` failed with 404 Client Error: Not Found for url: https://myrepublica.nagariknetwork.com/news/fund-raising-campaign-expedited-as-time-running-out-to-save-jogi/ on URL https://goo.gl/9kjhtb\n",
      "Article `download()` failed with 404 Client Error: Not Found for url: https://myrepublica.nagariknetwork.com/news/tu-rector-office-vanalized/ on URL https://goo.gl/6TXrEy\n",
      "Article `download()` failed with 404 Client Error: Not Found for url: https://myrepublica.nagariknetwork.com/news/conservationists-making-godawari-as-capital/ on URL https://goo.gl/mWUFz6\n",
      "Article `download()` failed with 404 Client Error: Not Found for url: https://myrepublica.nagariknetwork.com/news/govt-to-amend-constitution-to-protect-girl-right-dpm-pokharel/ on URL https://myrepublica.nagariknetwork.com/news/govt-to-amend-constitution-to-protect-girl-right-dpm-pokharel/\n",
      "Article `download()` failed with 404 Client Error: Not Found for url: https://myrepublica.nagariknetwork.com/news/don-t-fly-kites-near-airport-premises-caan/ on URL https://bit.ly/2Qec5jP\n",
      "Article `download()` failed with 404 Client Error: Not Found for url: https://myrepublica.nagariknetwork.com/news/govt-stops-fuel-supplies-to-seven-petrol-pumps/ on URL https://bit.ly/2IiVwjI\n",
      "\n"
     ]
    },
    {
     "data": {
      "application/vnd.jupyter.widget-view+json": {
       "model_id": "d65b06066c73404ebb6869c277de5e4d",
       "version_major": 2,
       "version_minor": 0
      },
      "text/plain": [
       "HBox(children=(HTML(value=''), FloatProgress(value=0.0, max=1000.0), HTML(value='')))"
      ]
     },
     "metadata": {},
     "output_type": "display_data"
    },
    {
     "name": "stdout",
     "output_type": "stream",
     "text": [
      "Article `download()` failed with 404 Client Error: Not Found for url: https://myrepublica.nagariknetwork.com/news/man-held-on-10-yr-old-shreya-s-murderer-and-rape-charge/ on URL https://goo.gl/98tnJt\n",
      "Article `download()` failed with 404 Client Error: Not Found for url: https://myrepublica.nagariknetwork.com/news/27-year-old-father-admits-of-raping-and-murdering-10-year-old-shriya/ on URL https://goo.gl/iV4ds7\n",
      "Article `download()` failed with 404 Client Error: Not Found for url: https://myrepublica.nagariknetwork.com/news/pm-to-deliver-message-about-homegrown-ideas-to-troubleshoot/ on URL https://is.gd/TNAwZZ\n",
      "Article `download()` failed with 404 Client Error: Not Found for url: https://myrepublica.nagariknetwork.com/news/district-police-issues-arrest-warrant-against-pappu-s-chairman/ on URL https://goo.gl/FR6rxq\n",
      "Article `download()` failed with 404 Client Error: Not Found for url: https://myrepublica.nagariknetwork.com/news/victim-of-acid-attack-samjhana-dies/ on URL https://goo.gl/kerD7M\n",
      "Article `download()` failed with 404 Client Error: Not Found for url: https://myrepublica.nagariknetwork.com/news/fire-breaks-out-in-limchumbung-three-houses-burn-to-ashes/ on URL https://is.gd/e4hXYv\n",
      "Article `download()` failed with 404 Client Error: Not Found for url: https://myrepublica.nagariknetwork.com/news/mohan-dangi-elected-tehrathum-sarokar-samaj-new-chairman/ on URL https://goo.gl/Xm6npM\n",
      "Article `download()` failed with 404 Client Error: Not Found for url: https://myrepublica.nagariknetwork.com/news/nepal-likely-to-become-first-country-to-double-wild-tiger-population/ on URL https://is.gd/ZZAYp0\n",
      "Article `download()` failed with 404 Client Error: Not Found for url: https://myrepublica.nagariknetwork.com/news/govt-not-hastening-to-hit-sixes-to-endure-long-inning-minister-dhakal/ on URL https://goo.gl/eeAuSF\n",
      "Article `download()` failed with 404 Client Error: Not Found for url: https://myrepublica.nagariknetwork.com/news/rastrakavi-ghimire-turns-100-today/ on URL https://myrepublica.nagariknetwork.com/news/rastrakavi-ghimire-turns-100-today/\n",
      "Article `download()` failed with 404 Client Error: Not Found for url: https://myrepublica.nagariknetwork.com/news/upper-arun-hydropower-project-to-be-developed-in-domestic-investment/ on URL https://is.gd/YvcdQe\n",
      "Article `download()` failed with 404 Client Error: Not Found for url: https://myrepublica.nagariknetwork.com/news/natta-organising-various-programmes-as-part-of-world-tourism-day/ on URL https://goo.gl/yCBKNN\n",
      "Article `download()` failed with 404 Client Error: Not Found for url: https://myrepublica.nagariknetwork.com/news/nid-demands-25-percent-budget-for-women-empowerment/ on URL https://goo.gl/Gmqh3L\n",
      "Article `download()` failed with 404 Client Error: Not Found for url: https://myrepublica.nagariknetwork.com/news/amid-ongoing-agitation-noc-introduces-fuel-limits-in-vehicles/ on URL https://myrepublica.nagariknetwork.com/news/amid-ongoing-agitation-noc-introduces-fuel-limits-in-vehicles/\n",
      "Article `download()` failed with 404 Client Error: Not Found for url: https://myrepublica.nagariknetwork.com/news/trashing-cop-locals-will-be-investigated-sp-ram-dutta-joshi/ on URL https://myrepublica.nagariknetwork.com/news/trashing-cop-locals-will-be-investigated-sp-ram-dutta-joshi/\n",
      "Article `download()` failed with 404 Client Error: Not Found for url: https://myrepublica.nagariknetwork.com/news/lawmaker-tripathi-lashes-out-at-govt-for-dawdling-nijgadh-int-l-airport-construction/ on URL https://bit.ly/2xAmPRT\n",
      "Article `download()` failed with 404 Client Error: Not Found for url: https://myrepublica.nagariknetwork.com/news/nabin-ghimire-to-face-parliamentary-hearing-today/ on URL https://goo.gl/abPv44\n",
      "Article `download()` failed with 404 Client Error: Not Found for url: https://myrepublica.nagariknetwork.com/news/nepali-people-will-be-happy-and-prosperous-only-when-constitution-is-fully-implemented/ on URL https://goo.gl/5dEkfo\n",
      "Article `download()` failed with 404 Client Error: Not Found for url: https://myrepublica.nagariknetwork.com/news/pm-stresses-on-responsible-implementation-of-federalism/ on URL https://myrepublica.nagariknetwork.com/news/pm-stresses-on-responsible-implementation-of-federalism/\n",
      "Article `download()` failed with 404 Client Error: Not Found for url: https://myrepublica.nagariknetwork.com/news/chocolate-red-wine-and-bee-can-help-you-live-longer-study-claims/ on URL https://myrepublica.nagariknetwork.com/news/chocolate-red-wine-and-bee-can-help-you-live-longer-study-claims/\n",
      "Article `download()` failed with 404 Client Error: Not Found for url: https://myrepublica.nagariknetwork.com/news/first-tourist-to-the-moon-is-japanese-fashion-magnate-maezawa/SpaceX on URL https://myrepublica.nagariknetwork.com/news/first-tourist-to-the-moon-is-japanese-fashion-magnate-maezawa/SpaceX\n",
      "Article `download()` failed with 404 Client Error: Not Found for url: https://myrepublica.nagariknetwork.com/news/constitution-amendment-main-agenda-of-rjp-nepal-leader-mahato/ on URL https://myrepublica.nagariknetwork.com/news/constitution-amendment-main-agenda-of-rjp-nepal-leader-mahato/\n",
      "Article `download()` failed with 404 Client Error: Not Found for url: https://myrepublica.nagariknetwork.com/news/hotels-in-abc-gear-to-expand-as-tourists-soar/ on URL https://myrepublica.nagariknetwork.com/news/hotels-in-abc-gear-to-expand-as-tourists-soar/\n",
      "Article `download()` failed with 404 Client Error: Not Found for url: https://myrepublica.nagariknetwork.com/news/two-australian-nat-ls-killed-7-injured-in-udayapur-jeep-mishap/ on URL https://goo.gl/1p4wDX\n",
      "Article `download()` failed with 404 Client Error: Not Found for url: https://myrepublica.nagariknetwork.com/news/acid-attack-victim-sisters-await-financial-support-for-treatment/ on URL https://goo.gl/qUj17D\n",
      "Article `download()` failed with 404 Client Error: Not Found for url: https://myrepublica.nagariknetwork.com/news/nepal-wins-afghanistan-by-25-runs-in-u19-quadrangular-one-day-series/ on URL https://goo.gl/hukNML\n",
      "Article `download()` failed with 404 Client Error: Not Found for url: https://myrepublica.nagariknetwork.com/news/minister-for-energy-and-ex-speaker-plays-badminton/ on URL https://goo.gl/dNtCh3\n",
      "Article `download()` failed with 404 Client Error: Not Found for url: https://myrepublica.nagariknetwork.com/news/legalizing-sex-cm-should-resign-on-moral-grounds-shanta-chaudhary/ on URL https://myrepublica.nagariknetwork.com/news/legalizing-sex-cm-should-resign-on-moral-grounds-shanta-chaudhary/\n",
      "Article `download()` failed with 404 Client Error: Not Found for url: https://myrepublica.nagariknetwork.com/news/justicefornirmala-rallies-across-nation/ on URL https://is.gd/vrkkV0\n",
      "Article `download()` failed with 404 Client Error: Not Found for url: https://myrepublica.nagariknetwork.com/news/12-injured-in-surkhet-vehicular-collision/ on URL https://goo.gl/FqzvuA\n",
      "Article `download()` failed with HTTPSConnectionPool(host='goo.gl', port=443): Max retries exceeded with url: /kwHXqW (Caused by ConnectTimeoutError(<urllib3.connection.HTTPSConnection object at 0x7ff0cad303d0>, 'Connection to goo.gl timed out. (connect timeout=7)')) on URL https://goo.gl/kwHXqW\n",
      "Article `download()` failed with 404 Client Error: Not Found for url: https://myrepublica.nagariknetwork.com/news/citizens-rise-for-justicefornirmala/ on URL https://goo.gl/HtP7Sb\n",
      "Article `download()` failed with 404 Client Error: Not Found for url: https://myrepublica.nagariknetwork.com/news/landslides-form-artifical-lake-in-baglung-settlements-at-greater-risks/ on URL https://myrepublica.nagariknetwork.com/news/landslides-form-artifical-lake-in-baglung-settlements-at-greater-risks/\n",
      "Article `download()` failed with 404 Client Error: Not Found for url: https://myrepublica.nagariknetwork.com/news/caan-asks-activists-not-to-scuttle-nijgadh-airport-project/ on URL https://goo.gl/WLn1Jc\n",
      "Article `download()` failed with 404 Client Error: Not Found for url: https://myrepublica.nagariknetwork.com/news/teenage-researchers-find-alternative-to-petrol/ on URL https://goo.gl/bBimBt\n",
      "Article `download()` failed with 404 Client Error: Not Found for url: https://is.gd/y4YcQP on URL https://is.gd/y4YcQP\n",
      "Article `download()` failed with 400 Client Error: Bad Request for url: https://goo.gl/6MjWfwhttps://goo.gl/6MjWfw on URL https://goo.gl/6MjWfwhttps://goo.gl/6MjWfw\n"
     ]
    },
    {
     "name": "stdout",
     "output_type": "stream",
     "text": [
      "Article `download()` failed with 404 Client Error: Not Found for url: https://myrepublica.nagariknetwork.com/news/landslides-claim-3-in-lamjung/ on URL https://goo.gl/XkPNFx\n",
      "Article `download()` failed with 404 Client Error: Not Found for url: https://myrepublica.nagariknetwork.com/news/bus-accident-at-doti/ on URL https://goo.gl/NiGVra\n",
      "Article `download()` failed with 404 Client Error: Not Found for url: https://myrepublica.nagariknetwork.com/news/nirmala-rape-murder-case-kc-explains-why-he-returns-to-probe-team-with-video/ on URL https://goo.gl/uPKYJD\n",
      "Article `download()` failed with 404 Client Error: Not Found for url: https://myrepublica.nagariknetwork.com/news/teej-festival-being-observed-across-the-country/ on URL https://myrepublica.nagariknetwork.com/news/teej-festival-being-observed-across-the-country/\n",
      "Article `download()` failed with 404 Client Error: Not Found for url: https://myrepublica.nagariknetwork.com/news/inaugurating-auto-show-finmin-stresses-on-lesser-vehicular-imports/ on URL https://myrepublica.nagariknetwork.com/news/inaugurating-auto-show-finmin-stresses-on-lesser-vehicular-imports/\n",
      "Article `download()` failed with 404 Client Error: Not Found for url: https://myrepublica.nagariknetwork.com/news/oli-dahal-dwell-into-issues-affecting-party-merger/ on URL https://myrepublica.nagariknetwork.com/news/oli-dahal-dwell-into-issues-affecting-party-merger/\n",
      "Article `download()` failed with 404 Client Error: Not Found for url: https://myrepublica.nagariknetwork.com/news/om-prakash-mishra-appointed-as-new-chief-justice/ on URL https://goo.gl/rdfHzn\n",
      "\n"
     ]
    },
    {
     "data": {
      "application/vnd.jupyter.widget-view+json": {
       "model_id": "0f05138196404bf79d3ffe3fcfa44b82",
       "version_major": 2,
       "version_minor": 0
      },
      "text/plain": [
       "HBox(children=(HTML(value=''), FloatProgress(value=0.0, max=1000.0), HTML(value='')))"
      ]
     },
     "metadata": {},
     "output_type": "display_data"
    },
    {
     "name": "stdout",
     "output_type": "stream",
     "text": [
      "Article `download()` failed with 404 Client Error: Not Found for url: https://myrepublica.nagariknetwork.com/news/justice-denied-how-state-and-human-rights-group-cheated-ganga-maya-s-quest-for-justice/ on URL https://myrepublica.nagariknetwork.com/news/justice-denied-how-state-and-human-rights-group-cheated-ganga-maya-s-quest-for-justice/\n",
      "Article `download()` failed with 404 Client Error: Not Found for url: https://myrepublica.nagariknetwork.com/news/the-case-of-ganga-maya/ on URL https://goo.gl/Pg4Arn\n",
      "Article `download()` failed with 404 Client Error: Not Found for url: https://myrepublica.nagariknetwork.com/news/tarun-dal-leader-shot-dead-in-rolpa/ on URL https://myrepublica.nagariknetwork.com/news/tarun-dal-leader-shot-dead-in-rolpa/\n",
      "Article `download()` failed with 404 Client Error: Not Found for url: https://myrepublica.nagariknetwork.com/news/12-people-accused-in-gorkha-fujhel-case-acquitted/ on URL https://goo.gl/t8ZSK8\n",
      "Article `download()` failed with 404 Client Error: Not Found for url: https://myrepublica.nagariknetwork.com/mycity/news/ability-in-disability on URL https://goo.gl/h9AAxF\n",
      "Article `download()` failed with 404 Client Error: Not Found for url: https://myrepublica.nagariknetwork.com/news/thapa-appointed-as-army-chief/ on URL https://is.gd/FS6AvQ\n",
      "Article `download()` failed with 404 Client Error: Not Found for url: https://myrepublica.nagariknetwork.com/news/five-exemplary-steps-by-local-bodies/ on URL https://myrepublica.nagariknetwork.com/news/five-exemplary-steps-by-local-bodies/\n",
      "Article `download()` failed with 404 Client Error: Not Found for url: https://myrepublica.nagariknetwork.com/news/five-exemplary-steps-by-local-bodies/ on URL https://is.gd/ijP7vg\n",
      "Article `download()` failed with 404 Client Error: Not Found for url: https://myrepublica.nagariknetwork.com/news/nepal-leads-in-first-half-with-free-kick-of-bimal/ on URL https://myrepublica.nagariknetwork.com/news/nepal-leads-in-first-half-with-free-kick-of-bimal/\n",
      "Article `download()` failed with 404 Client Error: Not Found for url: https://myrepublica.nagariknetwork.com/news/update-begnas-boat-capsize-death-toll-climbs-to-2-4-still-missing/ on URL https://myrepublica.nagariknetwork.com/news/update-begnas-boat-capsize-death-toll-climbs-to-2-4-still-missing/\n",
      "Article `download()` failed with 404 Client Error: Not Found for url: https://myrepublica.nagariknetwork.com/news/update-5-killed-1-critically-injured-in-nuwakot-chopper-crash/ on URL https://myrepublica.nagariknetwork.com/news/update-5-killed-1-critically-injured-in-nuwakot-chopper-crash/\n",
      "Article `download()` failed with 404 Client Error: Not Found for url: https://myrepublica.nagariknetwork.com/news/update-5-killed-1-critically-injured-in-nuwakot-chopper-crash/ on URL https://is.gd/9rn4eq\n",
      "Article `download()` failed with 404 Client Error: Not Found for url: https://myrepublica.nagariknetwork.com/news/update-4-killed-3-still-missing-in-nuwakot-chopper-crash/ on URL https://is.gd/W3pzDO\n",
      "Article `download()` failed with 404 Client Error: Not Found for url: https://myrepublica.nagariknetwork.com/news/1-dead-five-still-missing-in-begans-boat-capsize/ on URL https://goo.gl/3mnVuX\n",
      "Article `download()` failed with 404 Client Error: Not Found for url: https://myrepublica.nagariknetwork.com/news/chopper-with-passenger-onboard-loses-contact/ on URL https://myrepublica.nagariknetwork.com/news/chopper-with-passenger-onboard-loses-contact/\n",
      "Article `download()` failed with 400 Client Error: Bad Request for url: https://goo.gl/9Nzk8Phttps://goo.gl/9Nzk8P on URL https://goo.gl/9Nzk8Phttps://goo.gl/9Nzk8P\n",
      "Article `download()` failed with 404 Client Error: Not Found for url: https://myrepublica.nagariknetwork.com/news/a-hope-of-walk-to-beat-ovarian-cancer/ on URL https://myrepublica.nagariknetwork.com/news/a-hope-of-walk-to-beat-ovarian-cancer/\n",
      "Article `download()` failed with 404 Client Error: Not Found for url: https://myrepublica.nagariknetwork.com/news/saff-ch-ship-nepal-scores-goal-against-bhutan/ on URL https://myrepublica.nagariknetwork.com/news/saff-ch-ship-nepal-scores-goal-against-bhutan/\n",
      "Article `download()` failed with 404 Client Error: Not Found for url: https://myrepublica.nagariknetwork.com/news/12-held-for-illegally-transferring-company-s-ownership-worth-rs-700-m-in-their-name/ on URL https://myrepublica.nagariknetwork.com/news/12-held-for-illegally-transferring-company-s-ownership-worth-rs-700-m-in-their-name/\n",
      "Article `download()` failed with 404 Client Error: Not Found for url: https://myrepublica.nagariknetwork.com/news/was-kathmandu-bimstec-summit-worth-it/ on URL https://goo.gl/sEJurD\n",
      "Article `download()` failed with 404 Client Error: Not Found for url: https://myrepublica.nagariknetwork.com/news/parliament-drawn-attention-on-joint-military-drill/ on URL https://myrepublica.nagariknetwork.com/news/parliament-drawn-attention-on-joint-military-drill/\n",
      "Article `download()` failed with 404 Client Error: Not Found for url: https://myrepublica.nagariknetwork.com/news/cc-recommends-nabin-ghimire-as-ciaa-s-chief/ on URL https://myrepublica.nagariknetwork.com/news/cc-recommends-nabin-ghimire-as-ciaa-s-chief/\n",
      "Article `download()` failed with 404 Client Error: Not Found for url: https://myrepublica.nagariknetwork.com/news/typhoon-kills-10-in-japan-boats-move-stranded-passengers-from-airport/ on URL https://myrepublica.nagariknetwork.com/news/typhoon-kills-10-in-japan-boats-move-stranded-passengers-from-airport/\n",
      "Article `download()` failed with 404 Client Error: Not Found for url: https://myrepublica.nagariknetwork.com/news/first-look-of-the-man-of-kathmandu/ on URL https://goo.gl/69HAjR\n",
      "Article `download()` failed with 404 Client Error: Not Found for url: https://myrepublica.nagariknetwork.com/news/hong-kong-defeats-nepal-by-3-wickets-in-asia-cup-qualifiers/ on URL https://is.gd/yjuL3q\n",
      "Article `download()` failed with 404 Client Error: Not Found for url: https://myrepublica.nagariknetwork.com/news/rs-300-spent-on-sanjel-s-wedding/ on URL https://goo.gl/vH16LH\n",
      "Article `download()` failed with 404 Client Error: Not Found for url: https://myrepublica.nagariknetwork.com/news/what-did-nepal-benefit-from-bimstec-that-cost-over-rs-2-billion/ on URL https://goo.gl/LPnqVp\n",
      "Article `download()` failed with 404 Client Error: Not Found for url: https://myrepublica.nagariknetwork.com/news/marriage-that-cost-just-rs-300/ on URL https://is.gd/Wuhx5v\n",
      "Article `download()` failed with 404 Client Error: Not Found for url: https://myrepublica.nagariknetwork.com/news/sc-orders-government-to-arrange-voting-system-for-nepali-residing-abroad-with-full-text/ on URL https://myrepublica.nagariknetwork.com/news/sc-orders-government-to-arrange-voting-system-for-nepali-residing-abroad-with-full-text/\n",
      "Article `download()` failed with 404 Client Error: Not Found for url: https://myrepublica.nagariknetwork.com/news/an-innovation-concept-to-prevent-rape/ on URL https://goo.gl/GK6Fnm\n",
      "Article `download()` failed with 404 Client Error: Not Found for url: https://myrepublica.nagariknetwork.com/news/hospitals-halts-all-opd-services-except-emergency/ on URL https://goo.gl/18fd1E\n",
      "Article `download()` failed with 404 Client Error: Not Found for url: https://myrepublica.nagariknetwork.com/news/tia-resumes-services-after-12-hours/ on URL https://goo.gl/JzFuxV\n",
      "Article `download()` failed with 404 Client Error: Not Found for url: https://myrepublica.nagariknetwork.com/news/bhadra-16-a-black-day-for-manpower-agencies/ on URL https://myrepublica.nagariknetwork.com/news/bhadra-16-a-black-day-for-manpower-agencies/\n",
      "Article `download()` failed with 404 Client Error: Not Found for url: https://myrepublica.nagariknetwork.com/news/sri-lankan-prez-srisena-offers-prayers-at-lumbini/ on URL https://is.gd/0Knb3l\n",
      "Article `download()` failed with 404 Client Error: Not Found for url: https://myrepublica.nagariknetwork.com/news/two-arrested-for-rape-in-udayapur/ on URL https://myrepublica.nagariknetwork.com/news/two-arrested-for-rape-in-udayapur/\n",
      "Article `download()` failed with 404 Client Error: Not Found for url: https://myrepublica.nagariknetwork.com/news/namuna-hospital-vandalized-after-the-death-of-a-new-mother/ on URL https://goo.gl/LhhPfY\n",
      "Article `download()` failed with 404 Client Error: Not Found for url: https://myrepublica.nagariknetwork.com/news/lenin-bista-files-case-against-moha-tia-s-immigration-dept/ on URL https://myrepublica.nagariknetwork.com/news/lenin-bista-files-case-against-moha-tia-s-immigration-dept/\n"
     ]
    },
    {
     "name": "stdout",
     "output_type": "stream",
     "text": [
      "Article `download()` failed with 404 Client Error: Not Found for url: https://myrepublica.nagariknetwork.com/news/bimstec-summit-concludes-signing-18-pt-kathmandu-declaration-with-full-text/ on URL https://myrepublica.nagariknetwork.com/news/bimstec-summit-concludes-signing-18-pt-kathmandu-declaration-with-full-text/\n",
      "Article `download()` failed with 404 Client Error: Not Found for url: https://myrepublica.nagariknetwork.com/news/teenage-girl-gang-raped-in-her-own-house-2-held/ on URL https://myrepublica.nagariknetwork.com/news/teenage-girl-gang-raped-in-her-own-house-2-held/\n",
      "Article `download()` failed with 404 Client Error: Not Found for url: https://myrepublica.nagariknetwork.com/news/if-we-accelerate-economic-dev-no-one-will-be-left-behind-pm-oli/ on URL https://myrepublica.nagariknetwork.com/news/if-we-accelerate-economic-dev-no-one-will-be-left-behind-pm-oli/\n",
      "Article `download()` failed with 404 Client Error: Not Found for url: https://myrepublica.nagariknetwork.com/news/bimstec-summit-begins-at-soaltee-crowne-plaza/ on URL https://myrepublica.nagariknetwork.com/news/bimstec-summit-begins-at-soaltee-crowne-plaza/\n",
      "Article `download()` failed with 404 Client Error: Not Found for url: https://myrepublica.nagariknetwork.com/news/uae-reaches-200-runs-mark/ on URL https://goo.gl/pog3fx\n",
      "Article `download()` failed with 404 Client Error: Not Found for url: https://myrepublica.nagariknetwork.com/news/16th-ministerial-level-bimstec-meet-prepares-agendas-concludes/ on URL https://myrepublica.nagariknetwork.com/news/16th-ministerial-level-bimstec-meet-prepares-agendas-concludes/\n",
      "Article `download()` failed with 404 Client Error: Not Found for url: https://myrepublica.nagariknetwork.com/news/nepal-loses-the-first-asia-cup-qualifier-match-against-oman/ on URL https://goo.gl/bNXhqu\n",
      "Article `download()` failed with 404 Client Error: Not Found for url: https://myrepublica.nagariknetwork.com/news/nepal-sets-the-target-of-222-to-oman/ on URL https://goo.gl/sWxrY9\n",
      "Article `download()` failed with 404 Client Error: Not Found for url: https://myrepublica.nagariknetwork.com/news/floods-inundate-villages-in-saptari-over-500-families-affected/ on URL https://is.gd/9PeWhh\n",
      "Article `download()` failed with 404 Client Error: Not Found for url: https://myrepublica.nagariknetwork.com/news/will-bimstec-address-rohingya-refugee-issue-with-video/ on URL https://myrepublica.nagariknetwork.com/news/will-bimstec-address-rohingya-refugee-issue-with-video/\n",
      "Article `download()` failed with 404 Client Error: Not Found for url: https://myrepublica.nagariknetwork.com/news/biplav-bhatta-of-gorkha-who-narrowly-escaped-being-killed-recalls-it-on-14th-anniv-of-gruesome-killing-of-12-nepalis-in-iraq/ on URL https://goo.gl/4W1yAE\n",
      "Article `download()` failed with 404 Client Error: Not Found for url: https://myrepublica.nagariknetwork.com/news/biplav-bhatta-of-gorkha-who-narrowly-escaped-being-killed-recalls-14th-anniv-of-gruesome-killing-of-12-nepalis-in-iraq/ on URL https://goo.gl/xvT4fF\n",
      "Article `download()` failed with 404 Client Error: Not Found for url: https://myrepublica.nagariknetwork.com/news/stolen-child-found-dead/ on URL https://myrepublica.nagariknetwork.com/news/stolen-child-found-dead/\n",
      "Article `download()` failed with 404 Client Error: Not Found for url: https://myrepublica.nagariknetwork.com/news/gaijatra-festival-being-observed-with-gusto/ on URL https://goo.gl/wFjuSV\n",
      "Article `download()` failed with 404 Client Error: Not Found for url: https://myrepublica.nagariknetwork.com/news/update-one-body-found-two-still-missing-in-kamala-river/ on URL https://myrepublica.nagariknetwork.com/news/update-one-body-found-two-still-missing-in-kamala-river/\n",
      "Article `download()` failed with 404 Client Error: Not Found for url: https://myrepublica.nagariknetwork.com/news/three-people-missing-in-kamala-river/ on URL https://myrepublica.nagariknetwork.com/news/three-people-missing-in-kamala-river/\n",
      "Article `download()` failed with 404 Client Error: Not Found for url: https://myrepublica.nagariknetwork.com/news/sunny-khuna-killed-while-out-to-collected-his-wages/ on URL https://is.gd/8uVu6u\n",
      "Article `download()` failed with 404 Client Error: Not Found for url: https://myrepublica.nagariknetwork.com/news/curfew-released-for-five-hours/ on URL https://is.gd/l7XCRe\n",
      "Article `download()` failed with 404 Client Error: Not Found for url: https://myrepublica.nagariknetwork.com/news/35-missing-as-boat-swept-away-by-lalbakaiya-river/ on URL https://myrepublica.nagariknetwork.com/news/35-missing-as-boat-swept-away-by-lalbakaiya-river/\n",
      "Article `download()` failed with 404 Client Error: Not Found for url: https://myrepublica.nagariknetwork.com/news/govt-will-leave-no-stone-unturned-to-bring-culprit-to-book-pm-oli/ on URL https://myrepublica.nagariknetwork.com/news/govt-will-leave-no-stone-unturned-to-bring-culprit-to-book-pm-oli/\n",
      "Article `download()` failed with 404 Client Error: Not Found for url: https://myrepublica.nagariknetwork.com/news/hotel-fire-kills-18-in-northeast/ on URL https://myrepublica.nagariknetwork.com/news/hotel-fire-kills-18-in-northeast/\n",
      "Article `download()` failed with 404 Client Error: Not Found for url: https://myrepublica.nagariknetwork.com/news/repair-goes-on-with-photos/ on URL https://myrepublica.nagariknetwork.com/news/repair-goes-on-with-photos/\n",
      "Article `download()` failed with 404 Client Error: Not Found for url: https://myrepublica.nagariknetwork.com/news/om-prakash-mishra-recommended-for-cj/ on URL https://myrepublica.nagariknetwork.com/news/om-prakash-mishra-recommended-for-cj/\n",
      "Article `download()` failed with 404 Client Error: Not Found for url: https://myrepublica.nagariknetwork.com/news/curfew-imposed-in-mahendranagar/ on URL https://myrepublica.nagariknetwork.com/news/curfew-imposed-in-mahendranagar/\n",
      "Article `download()` failed with 404 Client Error: Not Found for url: https://myrepublica.nagariknetwork.com/news/govt-pulls-back-kanchanpur-cdo-khadka-in-view-of-ongoing-protest/ on URL https://myrepublica.nagariknetwork.com/news/govt-pulls-back-kanchanpur-cdo-khadka-in-view-of-ongoing-protest/\n",
      "Article `download()` failed with 404 Client Error: Not Found for url: https://myrepublica.nagariknetwork.com/news/israeli-defense-officials-approve-plans-for-1-000-west-bank-settlement-homes-watchdog/ on URL https://myrepublica.nagariknetwork.com/news/israeli-defense-officials-approve-plans-for-1-000-west-bank-settlement-homes-watchdog/\n",
      "Article `download()` failed with 404 Client Error: Not Found for url: https://myrepublica.nagariknetwork.com/news/updated-4-hurt-as-police-open-fire-on-protesters-in-kanchanpur/ on URL https://myrepublica.nagariknetwork.com/news/updated-4-hurt-as-police-open-fire-on-protesters-in-kanchanpur/\n",
      "Article `download()` failed with 404 Client Error: Not Found for url: https://myrepublica.nagariknetwork.com/news/revenue-collection-affected-in-rasuwa/ on URL https://myrepublica.nagariknetwork.com/news/revenue-collection-affected-in-rasuwa/\n",
      "Article `download()` failed with 404 Client Error: Not Found for url: https://myrepublica.nagariknetwork.com/news/1-hurt-as-firing-goes-in-khanchanpur/ on URL https://myrepublica.nagariknetwork.com/news/1-hurt-as-firing-goes-in-khanchanpur/\n",
      "\n"
     ]
    },
    {
     "data": {
      "application/vnd.jupyter.widget-view+json": {
       "model_id": "b4853d391226478a9b7b3332a6357a64",
       "version_major": 2,
       "version_minor": 0
      },
      "text/plain": [
       "HBox(children=(HTML(value=''), FloatProgress(value=0.0, max=1000.0), HTML(value='')))"
      ]
     },
     "metadata": {},
     "output_type": "display_data"
    },
    {
     "name": "stdout",
     "output_type": "stream",
     "text": [
      "Article `download()` failed with 404 Client Error: Not Found for url: https://myrepublica.nagariknetwork.com/news/a-dream-shared-by-dolpa-s-people-will-come-true-after-500-meters/ on URL https://myrepublica.nagariknetwork.com/news/a-dream-shared-by-dolpa-s-people-will-come-true-after-500-meters/\n",
      "Article `download()` failed with 404 Client Error: Not Found for url: https://myrepublica.nagariknetwork.com/news/lift-exorbitant-tariff-curb-unbridled-corruption-lawmakers/ on URL https://myrepublica.nagariknetwork.com/news/lift-exorbitant-tariff-curb-unbridled-corruption-lawmakers/\n",
      "Article `download()` failed with 404 Client Error: Not Found for url: https://myrepublica.nagariknetwork.com/news/oli-s-tweet-twist-from-bhojpuri-to-english-pm-tweets-in-eight-ntl-languages/ on URL https://myrepublica.nagariknetwork.com/news/oli-s-tweet-twist-from-bhojpuri-to-english-pm-tweets-in-eight-ntl-languages/\n",
      "Article `download()` failed with 404 Client Error: Not Found for url: https://myrepublica.nagariknetwork.com/mycity/news/advocating-for-a-voice on URL https://myrepublica.nagariknetwork.com/news/advocating-for-a-voice/\n",
      "Article `download()` failed with 404 Client Error: Not Found for url: https://myrepublica.nagariknetwork.com/news/former-un-secretary-general-kofi-annan-dies-at-80/ on URL https://myrepublica.nagariknetwork.com/news/former-un-secretary-general-kofi-annan-dies-at-80/\n",
      "Article `download()` failed with 404 Client Error: Not Found for url: https://myrepublica.nagariknetwork.com/news/pm-oli-congratulates-newly-elected-pakistani-counterpart-imran-khan/ on URL https://myrepublica.nagariknetwork.com/news/pm-oli-congratulates-newly-elected-pakistani-counterpart-imran-khan/\n",
      "Article `download()` failed with 404 Client Error: Not Found for url: https://myrepublica.nagariknetwork.com/news/pm-oli-stresses-the-need-to-modernize-agriculture-sector/ on URL https://myrepublica.nagariknetwork.com/news/pm-oli-stresses-the-need-to-modernize-agriculture-sector/\n",
      "Article `download()` failed with 404 Client Error: Not Found for url: https://myrepublica.nagariknetwork.com/news/praise-for-vajpayee-from-among-nepals-who-s-who/ on URL https://myrepublica.nagariknetwork.com/news/praise-for-vajpayee-from-among-nepals-who-s-who/\n",
      "Article `download()` failed with 404 Client Error: Not Found for url: https://myrepublica.nagariknetwork.com/news/full-military-honors-as-nation-bids-farewell-to-prime-minister-atal-bihari-vajpayee/ on URL https://myrepublica.nagariknetwork.com/news/full-military-honors-as-nation-bids-farewell-to-prime-minister-atal-bihari-vajpayee/\n",
      "Article `download()` failed with 404 Client Error: Not Found for url: https://myrepublica.nagariknetwork.com/news/india-monsoon-floods-kill-106-in-kerala/ on URL https://myrepublica.nagariknetwork.com/news/india-monsoon-floods-kill-106-in-kerala/\n",
      "Article `download()` failed with 404 Client Error: Not Found for url: https://myrepublica.nagariknetwork.com/news/indian-ex-pm-vajpayee-passes-away-at-93/ on URL https://myrepublica.nagariknetwork.com/news/indian-ex-pm-vajpayee-passes-away-at-93/\n",
      "Article `download()` failed with 404 Client Error: Not Found for url: https://myrepublica.nagariknetwork.com/news/rjpn-lawmakers-tripathi-and-gupta-defect-to-ncp/ on URL https://myrepublica.nagariknetwork.com/news/rjpn-lawmakers-tripathi-and-gupta-defect-to-ncp/\n",
      "Article `download()` failed with 404 Client Error: Not Found for url: https://myrepublica.nagariknetwork.com/news/souls-of-my-city-13/ on URL https://myrepublica.nagariknetwork.com/news/souls-of-my-city-13/\n",
      "Article `download()` failed with 404 Client Error: Not Found for url: https://myrepublica.nagariknetwork.com/news/govt-splashes-millions-for-asian-games-with-slim-prospect-of-medals/ on URL https://myrepublica.nagariknetwork.com/news/govt-splashes-millions-for-asian-games-with-slim-prospect-of-medals/\n",
      "Article `download()` failed with 404 Client Error: Not Found for url: https://myrepublica.nagariknetwork.com/news/nra-gets-gyawali-as-its-ceo-again/ on URL https://myrepublica.nagariknetwork.com/news/nra-gets-gyawali-as-its-ceo-again/\n",
      "Article `download()` failed with 404 Client Error: Not Found for url: https://myrepublica.nagariknetwork.com/news/pennsylvania-priests-abused-over-1-000-children/ on URL https://myrepublica.nagariknetwork.com/news/pennsylvania-priests-abused-over-1-000-children/\n",
      "Article `download()` failed with 404 Client Error: Not Found for url: https://myrepublica.nagariknetwork.com/news/indian-national-beheaded-by-chopper-blade/ on URL https://myrepublica.nagariknetwork.com/news/indian-national-beheaded-by-chopper-blade/\n",
      "Article `download()` failed with 404 Client Error: Not Found for url: https://myrepublica.nagariknetwork.com/news/docs-threatens-to-stop-work-from-august-17-to-protest-new-code/ on URL https://myrepublica.nagariknetwork.com/news/docs-threatens-to-stop-work-from-august-17-to-protest-new-code/\n",
      "Article `download()` failed with 404 Client Error: Not Found for url: https://myrepublica.nagariknetwork.com/news/sc-orders-to-present-khadga-bishwakarma-within-48-hours/ on URL https://myrepublica.nagariknetwork.com/news/sc-orders-to-present-khadga-bishwakarma-within-48-hours/\n",
      "Article `download()` failed with 404 Client Error: Not Found for url: https://myrepublica.nagariknetwork.com/news/first-opposition-leader-bharat-shamsher-passes-away/ on URL https://myrepublica.nagariknetwork.com/news/first-opposition-leader-bharat-shamsher-passes-away/\n",
      "Article `download()` failed with 404 Client Error: Not Found for url: https://myrepublica.nagariknetwork.com/news/govt-pays-heed-to-public-concern-chairman-prachanda/ on URL https://myrepublica.nagariknetwork.com/news/govt-pays-heed-to-public-concern-chairman-prachanda/\n",
      "Article `download()` failed with 404 Client Error: Not Found for url: https://myrepublica.nagariknetwork.com/news/flood-alert-rainfall-level-to-increase-in-next-three-days/ on URL https://myrepublica.nagariknetwork.com/news/flood-alert-rainfall-level-to-increase-in-next-three-days/\n",
      "Article `download()` failed with 404 Client Error: Not Found for url: https://myrepublica.nagariknetwork.com/news/nepali-u-23-defeated-by-thailand/ on URL https://goo.gl/1G7uAi\n",
      "Article `download()` failed with 404 Client Error: Not Found for url: https://myrepublica.nagariknetwork.com/news/nepal-holds-formal-talks-with-india-to-review-trade-treaty/ on URL https://myrepublica.nagariknetwork.com/news/nepal-holds-formal-talks-with-india-to-review-trade-treaty/\n",
      "Article `download()` failed with 404 Client Error: Not Found for url: https://myrepublica.nagariknetwork.com/news/ica-to-host-barata-mahotsav-on-70th-indian-independence-day/ on URL https://myrepublica.nagariknetwork.com/news/ica-to-host-barata-mahotsav-on-70th-indian-independence-day/\n",
      "Article `download()` failed with 404 Client Error: Not Found for url: https://myrepublica.nagariknetwork.com/news/1-killed-2-injured-after-a-house-collapsed-in-nuwakot/ on URL https://myrepublica.nagariknetwork.com/news/1-killed-2-injured-after-a-house-collapsed-in-nuwakot/\n",
      "Article `download()` failed with 404 Client Error: Not Found for url: https://myrepublica.nagariknetwork.com/news/ncp-spokesperson-bishwakarma-held-for-his-involvement-in-criminal-activities-home-minister-thapa/ on URL https://myrepublica.nagariknetwork.com/news/ncp-spokesperson-bishwakarma-held-for-his-involvement-in-criminal-activities-home-minister-thapa/\n",
      "Article `download()` failed with 404 Client Error: Not Found for url: https://myrepublica.nagariknetwork.com/news/special-court-slaps-one-year-jail-term-on-ganesh-lama-on-money-laundering-case/ on URL https://myrepublica.nagariknetwork.com/news/special-court-slaps-one-year-jail-term-on-ganesh-lama-on-money-laundering-case/\n",
      "Article `download()` failed with 404 Client Error: Not Found for url: https://myrepublica.nagariknetwork.com/news/third-strong-earthquake-shakes-lombok-as-death-toll-tops-220/ on URL https://myrepublica.nagariknetwork.com/news/third-strong-earthquake-shakes-lombok-as-death-toll-tops-220/\n",
      "Article `download()` failed with 404 Client Error: Not Found for url: https://myrepublica.nagariknetwork.com/news/unidentified-group-detonate-bomb-at-deuti-tobacco-factory/ on URL https://myrepublica.nagariknetwork.com/news/unidentified-group-detonate-bomb-at-deuti-tobacco-factory/\n"
     ]
    },
    {
     "name": "stdout",
     "output_type": "stream",
     "text": [
      "Article `download()` failed with 404 Client Error: Not Found for url: https://myrepublica.nagariknetwork.com/news/govt-to-table-fundamental-rights-bill-in-parliament/ on URL https://myrepublica.nagariknetwork.com/news/govt-to-table-fundamental-rights-bill-in-parliament/\n",
      "Article `download()` failed with 404 Client Error: Not Found for url: https://myrepublica.nagariknetwork.com/news/kepa-arrizabalaga-girlfriend-who-is-new-chelsea-fc-star-s-partner-andrea-perez/ on URL https://myrepublica.nagariknetwork.com/news/kepa-arrizabalaga-girlfriend-who-is-new-chelsea-fc-star-s-partner-andrea-perez/\n",
      "Article `download()` failed with 404 Client Error: Not Found for url: https://myrepublica.nagariknetwork.com/news/biplab-led-cpn-spokesperson-prakanda-lands-in-police-net/ on URL https://myrepublica.nagariknetwork.com/news/biplab-led-cpn-spokesperson-prakanda-lands-in-police-net/\n",
      "Article `download()` failed with 404 Client Error: Not Found for url: https://myrepublica.nagariknetwork.com/news/3-members-of-same-family-sent-to-jail-for-further-investigation/ on URL https://myrepublica.nagariknetwork.com/news/3-members-of-same-family-sent-to-jail-for-further-investigation/\n",
      "Article `download()` failed with 404 Client Error: Not Found for url: https://myrepublica.nagariknetwork.com/news/11-year-feared-to-be-kidnapped-police-chief-too-early-to-decide/ on URL https://myrepublica.nagariknetwork.com/news/11-year-feared-to-be-kidnapped-police-chief-too-early-to-decide/\n",
      "Article `download()` failed with 404 Client Error: Not Found for url: https://myrepublica.nagariknetwork.com/news/nepali-congress-leader-kamal-prasad-pangeni-no-more/ on URL https://myrepublica.nagariknetwork.com/news/nepali-congress-leader-kamal-prasad-pangeni-no-more/\n",
      "Article `download()` failed with 404 Client Error: Not Found for url: https://myrepublica.nagariknetwork.com/news/jajarkot-landslide-bodies-of-5-children-recovered-rescue-efforts-ongoing/ on URL https://myrepublica.nagariknetwork.com/news/jajarkot-landslide-bodies-of-5-children-recovered-rescue-efforts-ongoing/\n",
      "Article `download()` failed with 404 Client Error: Not Found for url: https://myrepublica.nagariknetwork.com/news/children-among-dozen-feared-buried-at-jajarkot/ on URL https://myrepublica.nagariknetwork.com/news/children-among-dozen-feared-buried-at-jajarkot/\n",
      "\n"
     ]
    },
    {
     "data": {
      "application/vnd.jupyter.widget-view+json": {
       "model_id": "312cd2f8c81e45888a29806e3b6ab5b2",
       "version_major": 2,
       "version_minor": 0
      },
      "text/plain": [
       "HBox(children=(HTML(value=''), FloatProgress(value=0.0, max=1000.0), HTML(value='')))"
      ]
     },
     "metadata": {},
     "output_type": "display_data"
    },
    {
     "name": "stdout",
     "output_type": "stream",
     "text": [
      "Article `download()` failed with 404 Client Error: Not Found for url: https://myrepublica.nagariknetwork.com/news/no-vehicular-movement-in-rasuwagadhi-border-until-end-of-shrawan/ on URL https://myrepublica.nagariknetwork.com/news/no-vehicular-movement-in-rasuwagadhi-border-until-end-of-shrawan/\n",
      "Article `download()` failed with 404 Client Error: Not Found for url: https://myrepublica.nagariknetwork.com/news/nepal-seals-the-victory-with-1-run-in-the-last-ball-of-the-game/ on URL https://myrepublica.nagariknetwork.com/news/nepal-seals-the-victory-with-1-run-in-the-last-ball-of-the-game/\n",
      "Article `download()` failed with 404 Client Error: Not Found for url: https://myrepublica.nagariknetwork.com/news/sompal-glorifies-in-second-odi-as-nepal-set-target-of-217-runs-for-dutch/ on URL https://myrepublica.nagariknetwork.com/news/sompal-glorifies-in-second-odi-as-nepal-set-target-of-217-runs-for-dutch/\n",
      "Article `download()` failed with 404 Client Error: Not Found for url: https://myrepublica.nagariknetwork.com/news/sompal-glorifies-in-second-odi-as-nepal-set-target-of-217-runs-for-dutch/ on URL https://goo.gl/fWFeiG\n",
      "Article `download()` failed with 404 Client Error: Not Found for url: https://myrepublica.nagariknetwork.com/news/sompal-kami-scored-half-century/ on URL https://goo.gl/JAh2Ch\n",
      "Article `download()` failed with 404 Client Error: Not Found for url: https://myrepublica.nagariknetwork.com/news/here-s-what-legal-experts-have-to-say-as-phsc-turns-down-joshee/ on URL https://myrepublica.nagariknetwork.com/news/here-s-what-legal-experts-have-to-say-as-phsc-turns-down-joshee/\n",
      "Article `download()` failed with 404 Client Error: Not Found for url: https://myrepublica.nagariknetwork.com/news/cholendra-and-om-in-line-for-cj-as-phsc-turns-down-joshee/ on URL https://myrepublica.nagariknetwork.com/news/cholendra-and-om-in-line-for-cj-as-phsc-turns-down-joshee/\n",
      "Article `download()` failed with 404 Client Error: Not Found for url: https://myrepublica.nagariknetwork.com/news/nepal-won-the-toss-and-will-bat-first/ on URL https://goo.gl/HGkE94\n",
      "Article `download()` failed with 404 Client Error: Not Found for url: https://myrepublica.nagariknetwork.com/news/dhakal-appointed-law-minister/ on URL https://myrepublica.nagariknetwork.com/news/dhakal-appointed-law-minister/\n",
      "Article `download()` failed with 404 Client Error: Not Found for url: https://myrepublica.nagariknetwork.com/news/phsc-turns-down-joshee-for-chief-justice/ on URL https://myrepublica.nagariknetwork.com/news/phsc-turns-down-joshee-for-chief-justice/\n",
      "Article `download()` failed with 404 Client Error: Not Found for url: https://myrepublica.nagariknetwork.com/news/3-member-probe-panel-formed-to-investigate-lawmaker-pal-s-assault/ on URL https://myrepublica.nagariknetwork.com/news/3-member-probe-panel-formed-to-investigate-lawmaker-pal-s-assault/\n",
      "Article `download()` failed with 404 Client Error: Not Found for url: https://myrepublica.nagariknetwork.com/news/phsc-meet-taking-place-amid-hamletian-dilemma/ on URL https://myrepublica.nagariknetwork.com/news/phsc-meet-taking-place-amid-hamletian-dilemma/\n",
      "Article `download()` failed with 404 Client Error: Not Found for url: https://myrepublica.nagariknetwork.com/news/govt-unveils-new-plan-aims-to-attract-2-5-m-tourists-in-5-years/ on URL https://myrepublica.nagariknetwork.com/news/govt-unveils-new-plan-aims-to-attract-2-5-m-tourists-in-5-years/\n",
      "Article `download()` failed with 404 Client Error: Not Found for url: https://myrepublica.nagariknetwork.com/news/nepal-defeated-by-netherland-by-55-runs-in-first-odi-match/ on URL https://myrepublica.nagariknetwork.com/news/nepal-defeated-by-netherland-by-55-runs-in-first-odi-match/\n",
      "Article `download()` failed with 404 Client Error: Not Found for url: https://myrepublica.nagariknetwork.com/news/phsc-yet-again-failed-to-make-decision-on-acting-cj-joshee-meeting-postponed-till-friday/ on URL https://myrepublica.nagariknetwork.com/news/phsc-yet-again-failed-to-make-decision-on-acting-cj-joshee-meeting-postponed-till-friday/\n",
      "Article `download()` failed with 404 Client Error: Not Found for url: https://myrepublica.nagariknetwork.com/news/3-killed-1-severely-injured-in-rasuwa-road-accident/ on URL https://myrepublica.nagariknetwork.com/news/3-killed-1-severely-injured-in-rasuwa-road-accident/\n",
      "Article `download()` failed with 404 Client Error: Not Found for url: https://myrepublica.nagariknetwork.com/news/phsc-fails-to-decide-on-fate-of-acting-cj-joshee-meeting-adjourned-till-wednesday/ on URL https://myrepublica.nagariknetwork.com/news/phsc-fails-to-decide-on-fate-of-acting-cj-joshee-meeting-adjourned-till-wednesday/\n",
      "Article `download()` failed with 404 Client Error: Not Found for url: https://myrepublica.nagariknetwork.com/news/tanahun-microbus-container-collision-one-dead-twelve-injured/ on URL https://myrepublica.nagariknetwork.com/news/tanahun-microbus-container-collision-one-dead-twelve-injured/\n",
      "Article `download()` failed with 404 Client Error: Not Found for url: https://myrepublica.nagariknetwork.com/news/one-dead-one-severely-injured-in-rautahat-truck-jeep-and-bike-collision/ on URL https://myrepublica.nagariknetwork.com/news/one-dead-one-severely-injured-in-rautahat-truck-jeep-and-bike-collision/\n",
      "Article `download()` failed with 404 Client Error: Not Found for url: https://myrepublica.nagariknetwork.com/news/press-release-on-regional-conference-of-nepali-ambassadors-based-in-europe-in-brussels-belgium/ on URL https://goo.gl/qjJ48M\n",
      "Article `download()` failed with 404 Client Error: Not Found for url: https://myrepublica.nagariknetwork.com/news/46411/1 on URL https://myrepublica.nagariknetwork.com/news/46411/1\n",
      "Article `download()` failed with 404 Client Error: Not Found for url: https://myrepublica.nagariknetwork.com/news/dr-kc-s-supporters-thank-govt-from-maitighar-mandala/ on URL https://goo.gl/KXQq6j\n",
      "Article `download()` failed with 404 Client Error: Not Found for url: https://myrepublica.nagariknetwork.com/news/dr-kc-s-supporters-thank-govt-from-maitighar-mandala/ on URL https://myrepublica.nagariknetwork.com/news/dr-kc-s-supporters-thank-govt-from-maitighar-mandala/\n",
      "Article `download()` failed with 404 Client Error: Not Found for url: https://myrepublica.nagariknetwork.com/news/chinese-investment-pouring-in-in-jhapa/ on URL https://goo.gl/2cXiHd\n",
      "Article `download()` failed with 404 Client Error: Not Found for url: https://myrepublica.nagariknetwork.com/news/medical-education-bill-presented-in-house/ on URL https://myrepublica.nagariknetwork.com/news/medical-education-bill-presented-in-house/\n",
      "Article `download()` failed with 404 Client Error: Not Found for url: https://myrepublica.nagariknetwork.com/news/update-death-toll-rises-to-7/ on URL https://myrepublica.nagariknetwork.com/news/update-death-toll-rises-to-7/\n",
      "Article `download()` failed with 404 Client Error: Not Found for url: https://myrepublica.nagariknetwork.com/news/five-killed-17-injured-in-trishuli-bus-plunge/ on URL https://myrepublica.nagariknetwork.com/news/five-killed-17-injured-in-trishuli-bus-plunge/\n",
      "Article `download()` failed with 404 Client Error: Not Found for url: https://myrepublica.nagariknetwork.com/news/bus-plunges-into-trishuli-river-after-collision-with-truck/ on URL https://myrepublica.nagariknetwork.com/news/bus-plunges-into-trishuli-river-after-collision-with-truck/\n",
      "Article `download()` failed with 404 Client Error: Not Found for url: https://myrepublica.nagariknetwork.com/news/in-pictures-students-protesting-at-tuth-in-support-of-dr-kc/ on URL https://myrepublica.nagariknetwork.com/news/in-pictures-students-protesting-at-tuth-in-support-of-dr-kc/\n",
      "Article `download()` failed with 404 Client Error: Not Found for url: https://myrepublica.nagariknetwork.com/news/another-nac-wide-body-airbus-lands-at-tia/ on URL https://myrepublica.nagariknetwork.com/news/another-nac-wide-body-airbus-lands-at-tia/\n",
      "Article `download()` failed with 404 Client Error: Not Found for url: https://myrepublica.nagariknetwork.com/news/1-dies-8-missing-in-rasuwa-lanslide/ on URL https://goo.gl/bA2uDp\n",
      "Article `download()` failed with 404 Client Error: Not Found for url: https://myrepublica.nagariknetwork.com/news/28-killed-dozens-wounded-in-suicide-attack-in-pakistan-on-election-day/ on URL https://myrepublica.nagariknetwork.com/news/28-killed-dozens-wounded-in-suicide-attack-in-pakistan-on-election-day/\n"
     ]
    },
    {
     "name": "stdout",
     "output_type": "stream",
     "text": [
      "Article `download()` failed with 404 Client Error: Not Found for url: https://myrepublica.nagariknetwork.com/news/dpm-yadav-s-tantrums-stature-delays-flight-by-30-minutes/ on URL https://myrepublica.nagariknetwork.com/news/dpm-yadav-s-tantrums-stature-delays-flight-by-30-minutes/\n",
      "Article `download()` failed with 404 Client Error: Not Found for url: https://myrepublica.nagariknetwork.com/news/law-minister-tamang-steps-down/ on URL https://myrepublica.nagariknetwork.com/news/law-minister-tamang-steps-down/\n",
      "Article `download()` failed with 404 Client Error: Not Found for url: https://myrepublica.nagariknetwork.com/news/dr-kc-s-blood-test-on-request-of-his-80-years-old-mother/ on URL https://myrepublica.nagariknetwork.com/news/dr-kc-s-blood-test-on-request-of-his-80-years-old-mother/\n",
      "Article `download()` failed with 404 Client Error: Not Found for url: https://myrepublica.nagariknetwork.com/news/new-army-hospital-functioning-from-today-in-nepalgunj/ on URL https://myrepublica.nagariknetwork.com/news/new-army-hospital-functioning-from-today-in-nepalgunj/\n",
      "Article `download()` failed with 404 Client Error: Not Found for url: https://myrepublica.nagariknetwork.com/news/drug-traffickers-held/ on URL https://myrepublica.nagariknetwork.com/news/drug-traffickers-held/\n",
      "Article `download()` failed with 404 Client Error: Not Found for url: https://myrepublica.nagariknetwork.com/news/26-metric-tonnes-waste-removed-from-valley-rivers-and-ring-road/ on URL https://myrepublica.nagariknetwork.com/news/26-metric-tonnes-waste-removed-from-valley-rivers-and-ring-road/\n",
      "Article `download()` failed with 404 Client Error: Not Found for url: https://myrepublica.nagariknetwork.com/news/chopper-carrying-dr-kc-landed-at-tudikhel-rushed-to-bir-hospital/ on URL https://myrepublica.nagariknetwork.com/news/chopper-carrying-dr-kc-landed-at-tudikhel-rushed-to-bir-hospital/\n",
      "Article `download()` failed with 404 Client Error: Not Found for url: https://myrepublica.nagariknetwork.com/news/dr-kc-brought-to-surkhet/ on URL https://myrepublica.nagariknetwork.com/news/dr-kc-brought-to-surkhet/\n",
      "Article `download()` failed with 404 Client Error: Not Found for url: https://myrepublica.nagariknetwork.com/news/dr-kc-airlifted-to-kathmandu/ on URL https://myrepublica.nagariknetwork.com/news/dr-kc-airlifted-to-kathmandu/\n",
      "Article `download()` failed with 404 Client Error: Not Found for url: https://myrepublica.nagariknetwork.com/news/dr-govinda-kc-slams-govt-s-abduction-style-with-video/ on URL https://myrepublica.nagariknetwork.com/news/dr-govinda-kc-slams-govt-s-abduction-style-with-video/\n",
      "Article `download()` failed with 404 Client Error: Not Found for url: https://myrepublica.nagariknetwork.com/news/kc-agrees-to-come-to-kathmandu/ on URL https://myrepublica.nagariknetwork.com/news/kc-agrees-to-come-to-kathmandu/\n",
      "Article `download()` failed with 404 Client Error: Not Found for url: https://myrepublica.nagariknetwork.com/news/beni-jomsom-korala-highway-should-be-under-purview-of-gandaki-province/ on URL https://myrepublica.nagariknetwork.com/news/beni-jomsom-korala-highway-should-be-under-purview-of-gandaki-province/\n",
      "Article `download()` failed with 404 Client Error: Not Found for url: https://myrepublica.nagariknetwork.com/news/death-toll-in-rukum-jeep-mishap-climbs-to-7-identified/ on URL https://myrepublica.nagariknetwork.com/news/death-toll-in-rukum-jeep-mishap-climbs-to-7-identified/\n",
      "Article `download()` failed with 404 Client Error: Not Found for url: https://myrepublica.nagariknetwork.com/news/shakti-gauchan-retires/ on URL https://myrepublica.nagariknetwork.com/news/shakti-gauchan-retires/\n",
      "Article `download()` failed with 404 Client Error: Not Found for url: https://myrepublica.nagariknetwork.com/news/govt-working-to-lead-the-nation-towards-the-right-track-pm-oli/ on URL http://myrepublica.nagariknetwork.com/news/govt-working-to-lead-the-nation-towards-the-right-track-pm-oli/\n",
      "Article `download()` failed with 404 Client Error: Not Found for url: https://myrepublica.nagariknetwork.com/news/number-of-criminal-cases-soars-up-in-udayapur-police/ on URL http://myrepublica.nagariknetwork.com/news/number-of-criminal-cases-soars-up-in-udayapur-police/\n",
      "Article `download()` failed with 404 Client Error: Not Found for url: https://myrepublica.nagariknetwork.com/news/house-deferred-by-an-hour-following-nc-s-protest/ on URL http://myrepublica.nagariknetwork.com/news/house-deferred-by-an-hour-following-nc-s-protest/\n",
      "Article `download()` failed with 404 Client Error: Not Found for url: https://myrepublica.nagariknetwork.com/news/in-pictures-more-than-a-dozen-rights-activists-arrested/ on URL https://myrepublica.nagariknetwork.com/news/in-pictures-more-than-a-dozen-rights-activists-arrested/\n",
      "\n"
     ]
    },
    {
     "data": {
      "application/vnd.jupyter.widget-view+json": {
       "model_id": "e5f192e553004dc69e0e5b7d52e94efc",
       "version_major": 2,
       "version_minor": 0
      },
      "text/plain": [
       "HBox(children=(HTML(value=''), FloatProgress(value=0.0, max=1000.0), HTML(value='')))"
      ]
     },
     "metadata": {},
     "output_type": "display_data"
    },
    {
     "name": "stdout",
     "output_type": "stream",
     "text": [
      "Article `download()` failed with 404 Client Error: Not Found for url: https://myrepublica.nagariknetwork.com/news/ganga-maya-ends-her-45-day-long-hunger-strike-by-drinking-juice/ on URL http://myrepublica.nagariknetwork.com/news/ganga-maya-ends-her-45-day-long-hunger-strike-by-drinking-juice/\n",
      "Article `download()` failed with 404 Client Error: Not Found for url: https://myrepublica.nagariknetwork.com/news/one-way-vehicular-movement-as-bridge-subsides/ on URL http://myrepublica.nagariknetwork.com/news/one-way-vehicular-movement-as-bridge-subsides/\n",
      "Article `download()` failed with 404 Client Error: Not Found for url: https://myrepublica.nagariknetwork.com/news/three-die-as-bhaktapur-and-thimi-inundates/ on URL http://myrepublica.nagariknetwork.com/news/three-die-as-bhaktapur-and-thimi-inundates/\n",
      "Article `download()` failed with 404 Client Error: Not Found for url: https://myrepublica.nagariknetwork.com/news/world-cup-thrills-kathmandu-s-wheelchair-bound/ on URL http://myrepublica.nagariknetwork.com/news/world-cup-thrills-kathmandu-s-wheelchair-bound/\n",
      "Article `download()` failed with 404 Client Error: Not Found for url: https://myrepublica.nagariknetwork.com/news/jumla-altra-myarathan-kicks-off/ on URL http://myrepublica.nagariknetwork.com/news/jumla-altra-myarathan-kicks-off/\n",
      "Article `download()` failed with 404 Client Error: Not Found for url: https://myrepublica.nagariknetwork.com/news/eleventh-person-rescued-from-thai-cave-on-third-day-of-operation/ on URL http://myrepublica.nagariknetwork.com/news/eleventh-person-rescued-from-thai-cave-on-third-day-of-operation/\n",
      "Article `download()` failed with 404 Client Error: Not Found for url: https://myrepublica.nagariknetwork.com/news/psc-agrees-on-installation-of-railway-lines-by-stipulated-time/ on URL http://myrepublica.nagariknetwork.com/news/psc-agrees-on-installation-of-railway-lines-by-stipulated-time/\n",
      "Article `download()` failed with 404 Client Error: Not Found for url: https://myrepublica.nagariknetwork.com/news/motion-of-public-interest-disinterests-home-minster-skips-kc-and-ganga-maya/ on URL http://myrepublica.nagariknetwork.com/news/motion-of-public-interest-disinterests-home-minster-skips-kc-and-ganga-maya/\n",
      "Article `download()` failed with 404 Client Error: Not Found for url: https://myrepublica.nagariknetwork.com/news/dying-community-of-gold-miners-struggles-for-survival/ on URL http://myrepublica.nagariknetwork.com/news/dying-community-of-gold-miners-struggles-for-survival/\n",
      "Article `download()` failed with 404 Client Error: Not Found for url: https://myrepublica.nagariknetwork.com/news/jwg-agrees-to-promote-inter-country-tourism/ on URL https://goo.gl/sEZGoe\n",
      "Article `download()` failed with 404 Client Error: Not Found for url: https://myrepublica.nagariknetwork.com/news/jwg-to-build-infrastructure-to-promote-intra-country-tourism/ on URL http://myrepublica.nagariknetwork.com/news/jwg-to-build-infrastructure-to-promote-intra-country-tourism/\n",
      "Article `download()` failed with 404 Client Error: Not Found for url: https://myrepublica.nagariknetwork.com/news/residents-draw-attention-of-govt-as-gorkha-brewery-fills-narayani-river-with-toxic-chemicals/ on URL http://myrepublica.nagariknetwork.com/news/residents-draw-attention-of-govt-as-gorkha-brewery-fills-narayani-river-with-toxic-chemicals/\n",
      "Article `download()` failed with 404 Client Error: Not Found for url: https://myrepublica.nagariknetwork.com/news/at-least-10-killed-scores-injured-in-upper-mustang-tipper-mishap/ on URL http://myrepublica.nagariknetwork.com/news/at-least-10-killed-scores-injured-in-upper-mustang-tipper-mishap/\n",
      "Article `download()` failed with 404 Client Error: Not Found for url: https://myrepublica.nagariknetwork.com/news/award-winning-photographs-of-2018/ on URL http://myrepublica.nagariknetwork.com/news/award-winning-photographs-of-2018/\n",
      "Article `download()` failed with 404 Client Error: Not Found for url: https://myrepublica.nagariknetwork.com/news/narayanghat-muglin-road-section-resumed-after-11-hours-of-obstruction/ on URL http://myrepublica.nagariknetwork.com/news/narayanghat-muglin-road-section-resumed-after-11-hours-of-obstruction/\n",
      "Article `download()` failed with 404 Client Error: Not Found for url: https://myrepublica.nagariknetwork.com/news/sweden-win-scrappy-swiss-encounter-to-reach-world-cup-quarter-finals/ on URL http://myrepublica.nagariknetwork.com/news/sweden-win-scrappy-swiss-encounter-to-reach-world-cup-quarter-finals/\n",
      "Article `download()` failed with 404 Client Error: Not Found for url: https://myrepublica.nagariknetwork.com/news/man-flown-away-by-swollen-river-found-dead/ on URL http://myrepublica.nagariknetwork.com/news/man-flown-away-by-swollen-river-found-dead/\n",
      "Article `download()` failed with 404 Client Error: Not Found for url: https://myrepublica.nagariknetwork.com/news/child-born-with-4-legs-4-hands-and-2-backbones/ on URL http://myrepublica.nagariknetwork.com/news/child-born-with-4-legs-4-hands-and-2-backbones/\n",
      "Article `download()` failed with 404 Client Error: Not Found for url: https://myrepublica.nagariknetwork.com/news/jeep-buried-as-landslide-obstructs-narayangadh-muglin-road/ on URL http://myrepublica.nagariknetwork.com/news/jeep-buried-as-landslide-obstructs-narayangadh-muglin-road/\n",
      "Article `download()` failed with 404 Client Error: Not Found for url: https://myrepublica.nagariknetwork.com/news/dr-kc-s-health-condition-vulnerable-1/ on URL http://myrepublica.nagariknetwork.com/news/dr-kc-s-health-condition-vulnerable-1/\n",
      "Article `download()` failed with 404 Client Error: Not Found for url: https://myrepublica.nagariknetwork.com/news/transportation-blocked-after-big-rock-fell-on-narayangadh-mugling-road/ on URL http://myrepublica.nagariknetwork.com/news/transportation-blocked-after-big-rock-fell-on-narayangadh-mugling-road/\n",
      "Article `download()` failed with 404 Client Error: Not Found for url: https://myrepublica.nagariknetwork.com/news/epg-s-recommendations-will-benefit-both-nations-koshyari/ on URL http://myrepublica.nagariknetwork.com/news/epg-s-recommendations-will-benefit-both-nations-koshyari/\n",
      "Article `download()` failed with 404 Client Error: Not Found for url: https://myrepublica.nagariknetwork.com/news/12-gold-dealers-held-from-bardiya/ on URL http://myrepublica.nagariknetwork.com/news/12-gold-dealers-held-from-bardiya/\n",
      "Article `download()` failed with 404 Client Error: Not Found for url: https://myrepublica.nagariknetwork.com/news/mbappe-double-helps-france-beat-argentina-4-3/ on URL https://goo.gl/HDypKt\n",
      "Article `download()` failed with 404 Client Error: Not Found for url: https://myrepublica.nagariknetwork.com/news/bus-plunges-into-sesmati-river-at-balaju/ on URL http://myrepublica.nagariknetwork.com/news/bus-plunges-into-sesmati-river-at-balaju/\n",
      "Article `download()` failed with 404 Client Error: Not Found for url: https://myrepublica.nagariknetwork.com/news/update-six-die-as-jeep-veers-off-the-road-in-solukhumbu/1 on URL http://myrepublica.nagariknetwork.com/news/update-six-die-as-jeep-veers-off-the-road-in-solukhumbu/1\n",
      "Article `download()` failed with 404 Client Error: Not Found for url: https://myrepublica.nagariknetwork.com/news/update-six-die-as-jeep-veers-off-the-road-in-solukhumbu/ on URL http://myrepublica.nagariknetwork.com/news/update-six-die-as-jeep-veers-off-the-road-in-solukhumbu/\n",
      "Article `download()` failed with 404 Client Error: Not Found for url: https://myrepublica.nagariknetwork.com/news/us-government-awards-sunita-danuwar-with-trafficking-in-persons-award/ on URL http://myrepublica.nagariknetwork.com/news/us-government-awards-sunita-danuwar-with-trafficking-in-persons-award/\n",
      "Article `download()` failed with 404 Client Error: Not Found for url: https://myrepublica.nagariknetwork.com/news/japan-survive-in-world-cup-despite-1-0-loss-to-poland/ on URL http://myrepublica.nagariknetwork.com/news/japan-survive-in-world-cup-despite-1-0-loss-to-poland/\n",
      "Article `download()` failed with 404 Client Error: Not Found for url: https://myrepublica.nagariknetwork.com/news/colombia-through-to-last-16-with-1-0-win-senegal-out/ on URL http://myrepublica.nagariknetwork.com/news/colombia-through-to-last-16-with-1-0-win-senegal-out/\n",
      "Article `download()` failed with 404 Client Error: Not Found for url: https://myrepublica.nagariknetwork.com/news/fifa-worl-cup-2018-senegal-v-colombia-preview/ on URL http://myrepublica.nagariknetwork.com/news/fifa-worl-cup-2018-senegal-v-colombia-preview/\n"
     ]
    },
    {
     "name": "stdout",
     "output_type": "stream",
     "text": [
      "Article `download()` failed with 404 Client Error: Not Found for url: https://myrepublica.nagariknetwork.com/news/fifa-worl-cup-2018-japan-v-poland-preview/ on URL http://myrepublica.nagariknetwork.com/news/fifa-worl-cup-2018-japan-v-poland-preview/\n",
      "Article `download()` failed with 404 Client Error: Not Found for url: https://myrepublica.nagariknetwork.com/news/country-already-into-new-era-of-prosperity-and-development-pm-says/ on URL http://myrepublica.nagariknetwork.com/news/country-already-into-new-era-of-prosperity-and-development-pm-says/\n",
      "Article `download()` failed with 404 Client Error: Not Found for url: https://myrepublica.nagariknetwork.com/news/narayangadh-muglin-road-section-back-into-operati/ on URL http://myrepublica.nagariknetwork.com/news/narayangadh-muglin-road-section-back-into-operati/\n",
      "Article `download()` failed with 404 Client Error: Not Found for url: https://myrepublica.nagariknetwork.com/news/ex-king-gyanendra-shah-to-visit-mid-western-region-next-week/ on URL http://myrepublica.nagariknetwork.com/news/ex-king-gyanendra-shah-to-visit-mid-western-region-next-week/\n",
      "Article `download()` failed with 404 Client Error: Not Found for url: https://myrepublica.nagariknetwork.com/news/traffic-resumes-one-way-route-along-narayangadh-mugling-route-1/ on URL http://myrepublica.nagariknetwork.com/news/traffic-resumes-one-way-route-along-narayangadh-mugling-route-1/\n",
      "Article `download()` failed with 404 Client Error: Not Found for url: https://myrepublica.nagariknetwork.com/news/spain-snatch-late-draw-with-morocco-to-top-group/ on URL https://goo.gl/vwNKRy\n",
      "Article `download()` failed with 404 Client Error: Not Found for url: https://myrepublica.nagariknetwork.com/news/algeria-abandons-13-000-migrants-in-the-sahara-in-waves/ on URL http://myrepublica.nagariknetwork.com/news/algeria-abandons-13-000-migrants-in-the-sahara-in-waves/\n",
      "Article `download()` failed with 404 Client Error: Not Found for url: https://myrepublica.nagariknetwork.com/news/tippers-go-unruly-on-highway/ on URL http://myrepublica.nagariknetwork.com/news/tippers-go-unruly-on-highway/\n",
      "Article `download()` failed with 404 Client Error: Not Found for url: https://myrepublica.nagariknetwork.com/news/honda-drives-japan-to-deserved-2-2-draw-against-senegal/ on URL https://goo.gl/7wXWun\n",
      "Article `download()` failed with 404 Client Error: Not Found for url: https://myrepublica.nagariknetwork.com/news/kane-hits-hat-trick-as-england-thrashes-panama/ on URL http://myrepublica.nagariknetwork.com/news/kane-hits-hat-trick-as-england-thrashes-panama/\n",
      "Article `download()` failed with 404 Client Error: Not Found for url: https://myrepublica.nagariknetwork.com/news/english-bulldog-zsa-zsa-wins-ugliest-dog-contest/ on URL http://myrepublica.nagariknetwork.com/news/english-bulldog-zsa-zsa-wins-ugliest-dog-contest/\n",
      "Article `download()` failed with 404 Client Error: Not Found for url: https://myrepublica.nagariknetwork.com/news/see-results-paint-bleak-picture/ on URL http://myrepublica.nagariknetwork.com/news/see-results-paint-bleak-picture/\n",
      "Article `download()` failed with 404 Client Error: Not Found for url: https://myrepublica.nagariknetwork.com/news/ganga-maya-again-at-bir-since-25-days-in-lone-struggle-for-justice/ on URL https://bit.ly/2tw8lQW\n",
      "\n"
     ]
    },
    {
     "data": {
      "application/vnd.jupyter.widget-view+json": {
       "model_id": "f9475f402467423cbc207204b8156a38",
       "version_major": 2,
       "version_minor": 0
      },
      "text/plain": [
       "HBox(children=(HTML(value=''), FloatProgress(value=0.0, max=1000.0), HTML(value='')))"
      ]
     },
     "metadata": {},
     "output_type": "display_data"
    },
    {
     "name": "stdout",
     "output_type": "stream",
     "text": [
      "Article `download()` failed with 404 Client Error: Not Found for url: https://myrepublica.nagariknetwork.com/news/kids-demonstrating-yog-asanas-at-shiva-yog-sadhana-kendra-photo-feature/ on URL http://myrepublica.nagariknetwork.com/news/kids-demonstrating-yog-asanas-at-shiva-yog-sadhana-kendra-photo-feature/\n",
      "Article `download()` failed with 404 Client Error: Not Found for url: https://myrepublica.nagariknetwork.com/news/ronaldo-header-knocks-out-morocco/ on URL http://myrepublica.nagariknetwork.com/news/ronaldo-header-knocks-out-morocco/\n",
      "Article `download()` failed with 404 Client Error: Not Found for url: https://myrepublica.nagariknetwork.com/news/2-killed-7-injured-in-koshi-bridge-truck-plunge/ on URL http://myrepublica.nagariknetwork.com/news/2-killed-7-injured-in-koshi-bridge-truck-plunge/\n",
      "Article `download()` failed with 404 Client Error: Not Found for url: https://myrepublica.nagariknetwork.com/news/pm-s-oli-speech-sounded-high-but-hollow/ on URL http://myrepublica.nagariknetwork.com/news/pm-s-oli-speech-sounded-high-but-hollow/\n",
      "Article `download()` failed with 404 Client Error: Not Found for url: https://myrepublica.nagariknetwork.com/news/senior-neurosurgeon-devkota-cremated/ on URL http://myrepublica.nagariknetwork.com/news/senior-neurosurgeon-devkota-cremated/\n",
      "Article `download()` failed with 404 Client Error: Not Found for url: https://myrepublica.nagariknetwork.com/news/rohingyas-in-kathmandu-search-for-their-loved-ones/ on URL http://myrepublica.nagariknetwork.com/news/rohingyas-in-kathmandu-search-for-their-loved-ones/\n",
      "Article `download()` failed with 404 Client Error: Not Found for url: https://myrepublica.nagariknetwork.com/news/senior-neurosurgeon-dr-upendra-devkota-passes-away/ on URL http://myrepublica.nagariknetwork.com/news/senior-neurosurgeon-dr-upendra-devkota-passes-away/\n",
      "Article `download()` failed with 404 Client Error: Not Found for url: https://myrepublica.nagariknetwork.com/mycity/news/the-gems-of-sauraha on URL http://myrepublica.nagariknetwork.com/news/43731/\n",
      "Article `download()` failed with 404 Client Error: Not Found for url: https://myrepublica.nagariknetwork.com/news/contractors-are-not-to-be-blamed-solely-for-delay-minister-mahaseth/ on URL http://myrepublica.nagariknetwork.com/news/contractors-are-not-to-be-blamed-solely-for-delay-minister-mahaseth/\n",
      "Article `download()` failed with 404 Client Error: Not Found for url: https://myrepublica.nagariknetwork.com/news/iceland-hold-argentina-to-1-1-draw-as-messi-misses-penalty/ on URL https://goo.gl/QBez37\n",
      "Article `download()` failed with 404 Client Error: Not Found for url: https://myrepublica.nagariknetwork.com/news/pm-oli-to-visit-china-from-june-19/ on URL http://myrepublica.nagariknetwork.com/news/pm-oli-to-visit-china-from-june-19/\n",
      "Article `download()` failed with 404 Client Error: Not Found for url: https://myrepublica.nagariknetwork.com/news/implementation-of-provision-of-having-speaker-and-deputy-speaker-from-different-parties-demanded/ on URL http://myrepublica.nagariknetwork.com/news/implementation-of-provision-of-having-speaker-and-deputy-speaker-from-different-parties-demanded/\n",
      "Article `download()` failed with HTTPConnectionPool(host='republica.nagariknetwork.com', port=80): Max retries exceeded with url: /news/fm-asks-un-others-to-help-landlocked-nations/ (Caused by NewConnectionError('<urllib3.connection.HTTPConnection object at 0x7ff0caa16dc0>: Failed to establish a new connection: [Errno 8] nodename nor servname provided, or not known')) on URL https://goo.gl/B9wgPy\n",
      "Article `download()` failed with HTTPConnectionPool(host='republica.nagariknetwork.com', port=80): Max retries exceeded with url: /news/nsu-stages-torchlight-protests-against-fuel-price-hike/ (Caused by NewConnectionError('<urllib3.connection.HTTPConnection object at 0x7ff0caa16ca0>: Failed to establish a new connection: [Errno 8] nodename nor servname provided, or not known')) on URL https://goo.gl/Tp38Uf\n",
      "Article `download()` failed with 404 Client Error: Not Found for url: https://myrepublica.nagariknetwork.com/news/socket-bombs-fired-in-administrative-office-of-arun-third-hydropwer-project/ on URL http://myrepublica.nagariknetwork.com/news/socket-bombs-fired-in-administrative-office-of-arun-third-hydropwer-project/\n",
      "Article `download()` failed with 404 Client Error: Not Found for url: https://myrepublica.nagariknetwork.com/news/us-president-trump-north-korean-leader-kim-sign-historic-document/ on URL http://myrepublica.nagariknetwork.com/news/us-president-trump-north-korean-leader-kim-sign-historic-document/\n",
      "Article `download()` failed with 404 Client Error: Not Found for url: https://myrepublica.nagariknetwork.com/news/trump-kim-jong-un-begin-historic-summit-in-singapore/ on URL http://myrepublica.nagariknetwork.com/news/trump-kim-jong-un-begin-historic-summit-in-singapore/\n",
      "Article `download()` failed with HTTPConnectionPool(host='republica.nagariknetwork.com', port=80): Max retries exceeded with url: /news/congress-dissidents-close-in-on-deuba/ (Caused by NewConnectionError('<urllib3.connection.HTTPConnection object at 0x7ff0cc5f3970>: Failed to establish a new connection: [Errno 8] nodename nor servname provided, or not known')) on URL https://goo.gl/ooYgjQ\n",
      "Article `download()` failed with 404 Client Error: Not Found for url: https://myrepublica.nagariknetwork.com/news/investigation-committee-raids-seals-rk-jewelers-outlet-with-photos/ on URL http://myrepublica.nagariknetwork.com/news/investigation-committee-raids-seals-rk-jewelers-outlet-with-photos/\n",
      "Article `download()` failed with 404 Client Error: Not Found for url: https://myrepublica.nagariknetwork.com/news/investigation-committee-raids-rk-jewelers/ on URL http://myrepublica.nagariknetwork.com/news/investigation-committee-raids-rk-jewelers/\n",
      "Article `download()` failed with HTTPConnectionPool(host='republica.nagariknetwork.com', port=80): Max retries exceeded with url: /news/police-open-fire-on-gangster-ashok-lama-held/ (Caused by NewConnectionError('<urllib3.connection.HTTPConnection object at 0x7ff0cc5f3610>: Failed to establish a new connection: [Errno 8] nodename nor servname provided, or not known')) on URL http://republica.nagariknetwork.com/news/police-open-fire-on-gangster-ashok-lama-held/\n",
      "Article `download()` failed with HTTPConnectionPool(host='republica.nagariknetwork.com', port=80): Max retries exceeded with url: /news/critically-ill-dr-devkota-pays-nostalgic-visit-to-birthplace/ (Caused by NewConnectionError('<urllib3.connection.HTTPConnection object at 0x7ff0cb0f1550>: Failed to establish a new connection: [Errno 8] nodename nor servname provided, or not known')) on URL https://goo.gl/bYpfDp\n",
      "Article `download()` failed with HTTPConnectionPool(host='republica.nagariknetwork.com', port=80): Max retries exceeded with url: /news/43255/ (Caused by NewConnectionError('<urllib3.connection.HTTPConnection object at 0x7ff0cb0f1bb0>: Failed to establish a new connection: [Errno 8] nodename nor servname provided, or not known')) on URL https://goo.gl/sVVupy\n",
      "Article `download()` failed with HTTPConnectionPool(host='republica.nagariknetwork.com', port=80): Max retries exceeded with url: /news/karnali-aims-at-increasing-per-capita-income-to-usd-2-100/ (Caused by NewConnectionError('<urllib3.connection.HTTPConnection object at 0x7ff0cb0f1ee0>: Failed to establish a new connection: [Errno 8] nodename nor servname provided, or not known')) on URL https://goo.gl/A5hWXz\n",
      "Article `download()` failed with HTTPConnectionPool(host='republica.nagariknetwork.com', port=80): Max retries exceeded with url: /news/father-son-duo-arrested-for-selling-land-acquired-for-road-construction/ (Caused by NewConnectionError('<urllib3.connection.HTTPConnection object at 0x7ff0cb0f1cd0>: Failed to establish a new connection: [Errno 8] nodename nor servname provided, or not known')) on URL https://goo.gl/M8U8CE\n",
      "Article `download()` failed with HTTPConnectionPool(host='republica.nagariknetwork.com', port=80): Max retries exceeded with url: /news/construction-material-crunch-halts-maintenance-of-pasang-lahmu-highway/ (Caused by NewConnectionError('<urllib3.connection.HTTPConnection object at 0x7ff0cb0f1f10>: Failed to establish a new connection: [Errno 8] nodename nor servname provided, or not known')) on URL https://goo.gl/B5L2GE\n"
     ]
    },
    {
     "name": "stdout",
     "output_type": "stream",
     "text": [
      "Article `download()` failed with HTTPConnectionPool(host='republica.nagariknetwork.com', port=80): Max retries exceeded with url: /news/parliamentarians-demand-probe-committee-for-investigation-of-ward-member-sarki-s-death/ (Caused by NewConnectionError('<urllib3.connection.HTTPConnection object at 0x7ff0cb0f1e20>: Failed to establish a new connection: [Errno 8] nodename nor servname provided, or not known')) on URL https://goo.gl/yoQTCr\n",
      "Article `download()` failed with HTTPConnectionPool(host='republica.nagariknetwork.com', port=80): Max retries exceeded with url: /news/service-delivery-of-local-units-improves-slightly-after-elections-tin-survey/ (Caused by NewConnectionError('<urllib3.connection.HTTPConnection object at 0x7ff0cb0f1910>: Failed to establish a new connection: [Errno 8] nodename nor servname provided, or not known')) on URL https://goo.gl/wXwMjD\n",
      "Article `download()` failed with HTTPConnectionPool(host='republica.nagariknetwork.com', port=80): Max retries exceeded with url: /news/before-the-flood-are-we-prepared/ (Caused by NewConnectionError('<urllib3.connection.HTTPConnection object at 0x7ff0cb0f18b0>: Failed to establish a new connection: [Errno 8] nodename nor servname provided, or not known')) on URL https://goo.gl/8BTKPf\n",
      "Article `download()` failed with HTTPConnectionPool(host='republica.nagariknetwork.com', port=80): Max retries exceeded with url: /news/ncp-ready-to-let-oppn-lead-pac-yet-to-decide-about-others/ (Caused by NewConnectionError('<urllib3.connection.HTTPConnection object at 0x7ff0cb0f1880>: Failed to establish a new connection: [Errno 8] nodename nor servname provided, or not known')) on URL https://goo.gl/qhEcFo\n",
      "Article `download()` failed with HTTPConnectionPool(host='republica.nagariknetwork.com', port=80): Max retries exceeded with url: /news/durable-cottages-being-built-against-refugee-and-local-s-wishes/ (Caused by NewConnectionError('<urllib3.connection.HTTPConnection object at 0x7ff0cb0f1b20>: Failed to establish a new connection: [Errno 8] nodename nor servname provided, or not known')) on URL https://goo.gl/Gy6xAf\n",
      "Article `download()` failed with HTTPConnectionPool(host='republica.nagariknetwork.com', port=80): Max retries exceeded with url: /news/valley-of-dust/ (Caused by NewConnectionError('<urllib3.connection.HTTPConnection object at 0x7ff0cb0f1fd0>: Failed to establish a new connection: [Errno 8] nodename nor servname provided, or not known')) on URL https://goo.gl/YmCqmN\n",
      "Article `download()` failed with HTTPConnectionPool(host='republica.nagariknetwork.com', port=80): Max retries exceeded with url: /news/women-should-rise/ (Caused by NewConnectionError('<urllib3.connection.HTTPConnection object at 0x7ff0cb0f1a00>: Failed to establish a new connection: [Errno 8] nodename nor servname provided, or not known')) on URL https://goo.gl/qRdU1G\n",
      "Article `download()` failed with HTTPConnectionPool(host='republica.nagariknetwork.com', port=80): Max retries exceeded with url: /news/maoist-betrayal/ (Caused by NewConnectionError('<urllib3.connection.HTTPConnection object at 0x7ff0cb0f1970>: Failed to establish a new connection: [Errno 8] nodename nor servname provided, or not known')) on URL https://goo.gl/1ZkgG6\n",
      "Article `download()` failed with HTTPConnectionPool(host='republica.nagariknetwork.com', port=80): Max retries exceeded with url: /news/all-eyes-on-italy/ (Caused by NewConnectionError('<urllib3.connection.HTTPConnection object at 0x7ff0cb0f1fa0>: Failed to establish a new connection: [Errno 8] nodename nor servname provided, or not known')) on URL https://goo.gl/YZMdha\n",
      "Article `download()` failed with HTTPConnectionPool(host='republica.nagariknetwork.com', port=80): Max retries exceeded with url: /news/understand-nepal/ (Caused by NewConnectionError('<urllib3.connection.HTTPConnection object at 0x7ff0cb0f1af0>: Failed to establish a new connection: [Errno 8] nodename nor servname provided, or not known')) on URL https://goo.gl/5eC8tv\n",
      "Article `download()` failed with 404 Client Error: Not Found for url: https://myrepublica.nagariknetwork.com/news/dr-devkota-drank-water-of-sisnepani-dhara-at-his-ancestral-home/ on URL http://myrepublica.nagariknetwork.com/news/dr-devkota-drank-water-of-sisnepani-dhara-at-his-ancestral-home/\n",
      "Article `download()` failed with 404 Client Error: Not Found for url: https://myrepublica.nagariknetwork.com/news/in-picture-a-project-at-a-snail-s-pace/ on URL http://myrepublica.nagariknetwork.com/news/in-picture-a-project-at-a-snail-s-pace/\n",
      "Article `download()` failed with 404 Client Error: Not Found for url: https://myrepublica.nagariknetwork.com/news/dr-upendra-devkota-flown-to-his-birth-place-pandit-gaun-as-per-his-wish/ on URL http://myrepublica.nagariknetwork.com/news/dr-upendra-devkota-flown-to-his-birth-place-pandit-gaun-as-per-his-wish/\n",
      "Article `download()` failed with 404 Client Error: Not Found for url: https://myrepublica.nagariknetwork.com/news/police-raid-house-of-mk-mastermind-behind-33-kg-gold-smuggling-case/ on URL http://myrepublica.nagariknetwork.com/news/police-raid-house-of-mk-mastermind-behind-33-kg-gold-smuggling-case/\n",
      "Article `download()` failed with 404 Client Error: Not Found for url: https://myrepublica.nagariknetwork.com/news/province-4-govt-sets-target-of-raising-per-capita-income-to-usd-2-500/ on URL http://myrepublica.nagariknetwork.com/news/province-4-govt-sets-target-of-raising-per-capita-income-to-usd-2-500/\n",
      "Article `download()` failed with HTTPConnectionPool(host='republica.nagariknetwork.com', port=80): Max retries exceeded with url: /news/weekend-hangout-27/ (Caused by NewConnectionError('<urllib3.connection.HTTPConnection object at 0x7ff0ca8093a0>: Failed to establish a new connection: [Errno 8] nodename nor servname provided, or not known')) on URL https://goo.gl/hhxGRN\n",
      "Article `download()` failed with HTTPConnectionPool(host='republica.nagariknetwork.com', port=80): Max retries exceeded with url: /news/43171/ (Caused by NewConnectionError('<urllib3.connection.HTTPConnection object at 0x7ff0caa168b0>: Failed to establish a new connection: [Errno 8] nodename nor servname provided, or not known')) on URL http://republica.nagariknetwork.com/news/43171/\n",
      "Article `download()` failed with HTTPConnectionPool(host='republica.nagariknetwork.com', port=80): Max retries exceeded with url: /news/43170/ (Caused by NewConnectionError('<urllib3.connection.HTTPConnection object at 0x7ff0caa16850>: Failed to establish a new connection: [Errno 8] nodename nor servname provided, or not known')) on URL http://republica.nagariknetwork.com/news/43170/\n",
      "Article `download()` failed with HTTPConnectionPool(host='republica.nagariknetwork.com', port=80): Max retries exceeded with url: /news/43157/ (Caused by NewConnectionError('<urllib3.connection.HTTPConnection object at 0x7ff0caa167c0>: Failed to establish a new connection: [Errno 8] nodename nor servname provided, or not known')) on URL http://republica.nagariknetwork.com/news/43157/\n",
      "Article `download()` failed with HTTPConnectionPool(host='republica.nagariknetwork.com', port=80): Max retries exceeded with url: /news/celebrating-eid-away-from-home/ (Caused by NewConnectionError('<urllib3.connection.HTTPConnection object at 0x7ff0ca94a640>: Failed to establish a new connection: [Errno 8] nodename nor servname provided, or not known')) on URL http://republica.nagariknetwork.com/news/celebrating-eid-away-from-home/\n",
      "Article `download()` failed with HTTPConnectionPool(host='republica.nagariknetwork.com', port=80): Max retries exceeded with url: /news/one-killed-32-injured-in-bus-accident-at-dang/ (Caused by NewConnectionError('<urllib3.connection.HTTPConnection object at 0x7ff0ca94ab50>: Failed to establish a new connection: [Errno 8] nodename nor servname provided, or not known')) on URL http://republica.nagariknetwork.com/news/one-killed-32-injured-in-bus-accident-at-dang/\n",
      "Article `download()` failed with HTTPConnectionPool(host='republica.nagariknetwork.com', port=80): Max retries exceeded with url: /news/43141/ (Caused by NewConnectionError('<urllib3.connection.HTTPConnection object at 0x7ff0caa16e20>: Failed to establish a new connection: [Errno 8] nodename nor servname provided, or not known')) on URL https://goo.gl/BfHnuD\n"
     ]
    },
    {
     "name": "stdout",
     "output_type": "stream",
     "text": [
      "Article `download()` failed with HTTPConnectionPool(host='republica.nagariknetwork.com', port=80): Max retries exceeded with url: /news/43135/ (Caused by NewConnectionError('<urllib3.connection.HTTPConnection object at 0x7ff0caa160a0>: Failed to establish a new connection: [Errno 8] nodename nor servname provided, or not known')) on URL https://goo.gl/kG652P\n",
      "Article `download()` failed with HTTPConnectionPool(host='republica.nagariknetwork.com', port=80): Max retries exceeded with url: /news/43132/ (Caused by NewConnectionError('<urllib3.connection.HTTPConnection object at 0x7ff0caa16df0>: Failed to establish a new connection: [Errno 8] nodename nor servname provided, or not known')) on URL https://goo.gl/hDPs2j\n",
      "Article `download()` failed with HTTPConnectionPool(host='republica.nagariknetwork.com', port=80): Max retries exceeded with url: /news/43107/ (Caused by NewConnectionError('<urllib3.connection.HTTPConnection object at 0x7ff0caa16760>: Failed to establish a new connection: [Errno 8] nodename nor servname provided, or not known')) on URL https://goo.gl/H3VRV2\n",
      "Article `download()` failed with HTTPConnectionPool(host='republica.nagariknetwork.com', port=80): Max retries exceeded with url: /news/43128/ (Caused by NewConnectionError('<urllib3.connection.HTTPConnection object at 0x7ff0caa167c0>: Failed to establish a new connection: [Errno 8] nodename nor servname provided, or not known')) on URL https://goo.gl/56jVHB\n",
      "Article `download()` failed with 404 Client Error: Not Found for url: https://myrepublica.nagariknetwork.com/news/2-killed-in-khotang-jeep-accident/ on URL http://myrepublica.nagariknetwork.com/news/2-killed-in-khotang-jeep-accident/\n",
      "Article `download()` failed with 404 Client Error: Not Found for url: https://myrepublica.nagariknetwork.com/news/mprf-d-dissidents-form-nepal-loktantrik-party-following-merger-with-nc/ on URL http://myrepublica.nagariknetwork.com/news/mprf-d-dissidents-form-nepal-loktantrik-party-following-merger-with-nc/\n",
      "Article `download()` failed with 404 Client Error: Not Found for url: https://myrepublica.nagariknetwork.com/news/13-years-passed-badarmude-victims-still-deprived-of-justice/ on URL http://myrepublica.nagariknetwork.com/news/13-years-passed-badarmude-victims-still-deprived-of-justice/\n",
      "Article `download()` failed with 404 Client Error: Not Found for url: https://myrepublica.nagariknetwork.com/news/in-pictures-haunting-images-of-tatopani-still-reminds-2015-s-quake/ on URL http://myrepublica.nagariknetwork.com/news/in-pictures-haunting-images-of-tatopani-still-reminds-2015-s-quake/\n",
      "Article `download()` failed with 404 Client Error: Not Found for url: https://myrepublica.nagariknetwork.com/news/argentia-against-israel-had-coincided-with-a-disastrous-day-for-teh-middle-east/ on URL https://bit.ly/2kPvqKq\n",
      "Article `download()` failed with 404 Client Error: Not Found for url: https://myrepublica.nagariknetwork.com/news/dalit-ward-member-dies-after-beating-by-paramor-s-children/ on URL https://goo.gl/Hn5QqC\n",
      "Article `download()` failed with 404 Client Error: Not Found for url: https://myrepublica.nagariknetwork.com/news/nepal-govt-asks-china-for-help-to-curb-gold-smuggling/ on URL http://myrepublica.nagariknetwork.com/news/nepal-govt-asks-china-for-help-to-curb-gold-smuggling/\n",
      "Article `download()` failed with 404 Client Error: Not Found for url: https://myrepublica.nagariknetwork.com/news/ilam-locals-overjoyed-to-see-test-flight-in-their-vicinity/ on URL http://myrepublica.nagariknetwork.com/news/ilam-locals-overjoyed-to-see-test-flight-in-their-vicinity/\n",
      "Article `download()` failed with 404 Client Error: Not Found for url: https://myrepublica.nagariknetwork.com/news/nepal-to-propose-bimstec-meet-for-august/ on URL http://myrepublica.nagariknetwork.com/news/nepal-to-propose-bimstec-meet-for-august/\n",
      "Article `download()` failed with 404 Client Error: Not Found for url: https://myrepublica.nagariknetwork.com/news/domestic-private-sector-airlines-to-hike-airfare/ on URL https://goo.gl/pyebuc\n",
      "Article `download()` failed with 404 Client Error: Not Found for url: https://myrepublica.nagariknetwork.com/news/probe-panel-formed-to-investigate-water-front-resort/ on URL http://myrepublica.nagariknetwork.com/news/probe-panel-formed-to-investigate-water-front-resort/\n",
      "Article `download()` failed with 404 Client Error: Not Found for url: https://myrepublica.nagariknetwork.com/news/trekking-alongside-natural-beauty/ on URL https://goo.gl/BbrvMU\n",
      "Article `download()` failed with 404 Client Error: Not Found for url: https://myrepublica.nagariknetwork.com/news/coas-chhetri-inaugurates-belly-bridge-in-baglung/ on URL http://myrepublica.nagariknetwork.com/news/coas-chhetri-inaugurates-belly-bridge-in-baglung/\n",
      "Article `download()` failed with 404 Client Error: Not Found for url: https://myrepublica.nagariknetwork.com/news/13-die-10-injured-in-palpa-bus-mishap-update-with-names/ on URL http://myrepublica.nagariknetwork.com/news/13-die-10-injured-in-palpa-bus-mishap-update-with-names/\n",
      "Article `download()` failed with 404 Client Error: Not Found for url: https://myrepublica.nagariknetwork.com/news/suspended-ssp-khatri-remanded-in-custody/ on URL http://myrepublica.nagariknetwork.com/news/suspended-ssp-khatri-remanded-in-custody/\n",
      "Article `download()` failed with HTTPSConnectionPool(host='goo.gl', port=443): Max retries exceeded with url: /uDmNmX (Caused by ConnectTimeoutError(<urllib3.connection.HTTPSConnection object at 0x7ff0ca94aa90>, 'Connection to goo.gl timed out. (connect timeout=7)')) on URL https://goo.gl/uDmNmX\n",
      "Article `download()` failed with 404 Client Error: Not Found for url: https://myrepublica.nagariknetwork.com/news/3-nsu-students-injured-in-tri-chandra-college-clash/ on URL http://myrepublica.nagariknetwork.com/news/3-nsu-students-injured-in-tri-chandra-college-clash/\n",
      "Article `download()` failed with 404 Client Error: Not Found for url: https://myrepublica.nagariknetwork.com/news/jeep-plunges-into-river-kills-three/ on URL https://goo.gl/dWK1YD\n",
      "Article `download()` failed with HTTPConnectionPool(host='republica.nagariknetwork.com', port=80): Max retries exceeded with url: /news/heavy-windstorm-wreaks-havoc-in-waling/ (Caused by NewConnectionError('<urllib3.connection.HTTPConnection object at 0x7ff0caa16d00>: Failed to establish a new connection: [Errno 8] nodename nor servname provided, or not known')) on URL http://republica.nagariknetwork.com/news/heavy-windstorm-wreaks-havoc-in-waling/\n",
      "Article `download()` failed with HTTPConnectionPool(host='republica.nagariknetwork.com', port=80): Max retries exceeded with url: /news/banking-system-mandatory-while-paying-staffers/ (Caused by NewConnectionError('<urllib3.connection.HTTPConnection object at 0x7ff0caa16640>: Failed to establish a new connection: [Errno 8] nodename nor servname provided, or not known')) on URL http://republica.nagariknetwork.com/news/banking-system-mandatory-while-paying-staffers/\n",
      "Article `download()` failed with HTTPConnectionPool(host='republica.nagariknetwork.com', port=80): Max retries exceeded with url: /news/nepathya-s-new-music-video-kuroop-anuhar-released/ (Caused by NewConnectionError('<urllib3.connection.HTTPConnection object at 0x7ff0caa16fa0>: Failed to establish a new connection: [Errno 8] nodename nor servname provided, or not known')) on URL http://republica.nagariknetwork.com/news/nepathya-s-new-music-video-kuroop-anuhar-released/\n",
      "Article `download()` failed with HTTPConnectionPool(host='republica.nagariknetwork.com', port=80): Max retries exceeded with url: /news/mhday2018-speaking-against-stigma/ (Caused by NewConnectionError('<urllib3.connection.HTTPConnection object at 0x7ff0caa16880>: Failed to establish a new connection: [Errno 8] nodename nor servname provided, or not known')) on URL http://republica.nagariknetwork.com/news/mhday2018-speaking-against-stigma/\n",
      "Article `download()` failed with HTTPConnectionPool(host='republica.nagariknetwork.com', port=80): Max retries exceeded with url: /news/may-28-6-things-to-know-by-6-pm-today/ (Caused by NewConnectionError('<urllib3.connection.HTTPConnection object at 0x7ff0caa16850>: Failed to establish a new connection: [Errno 8] nodename nor servname provided, or not known')) on URL http://republica.nagariknetwork.com/news/may-28-6-things-to-know-by-6-pm-today/\n",
      "Article `download()` failed with HTTPConnectionPool(host='republica.nagariknetwork.com', port=80): Max retries exceeded with url: /news/three-dead-9-injured-in-doti-jeep-accident/ (Caused by NewConnectionError('<urllib3.connection.HTTPConnection object at 0x7ff0caa16790>: Failed to establish a new connection: [Errno 8] nodename nor servname provided, or not known')) on URL http://republica.nagariknetwork.com/news/three-dead-9-injured-in-doti-jeep-accident/\n"
     ]
    },
    {
     "name": "stdout",
     "output_type": "stream",
     "text": [
      "Article `download()` failed with HTTPConnectionPool(host='republica.nagariknetwork.com', port=80): Max retries exceeded with url: /news/100-days-of-achievement-pm-oli-on-visual-report/ (Caused by NewConnectionError('<urllib3.connection.HTTPConnection object at 0x7ff0cad30f70>: Failed to establish a new connection: [Errno 8] nodename nor servname provided, or not known')) on URL https://goo.gl/yqNNQu\n",
      "Article `download()` failed with HTTPConnectionPool(host='republica.nagariknetwork.com', port=80): Max retries exceeded with url: /news/cpn-holding-international-conference-on-marxism-and-socialism/ (Caused by NewConnectionError('<urllib3.connection.HTTPConnection object at 0x7ff0caa16790>: Failed to establish a new connection: [Errno 8] nodename nor servname provided, or not known')) on URL https://goo.gl/y1Zi8V\n",
      "Article `download()` failed with HTTPConnectionPool(host='republica.nagariknetwork.com', port=80): Max retries exceeded with url: /news/cpn-holding-international-conference-on-marxism-and-socialism/ (Caused by NewConnectionError('<urllib3.connection.HTTPConnection object at 0x7ff0caa16d00>: Failed to establish a new connection: [Errno 8] nodename nor servname provided, or not known')) on URL http://republica.nagariknetwork.com/news/cpn-holding-international-conference-on-marxism-and-socialism/\n",
      "Article `download()` failed with HTTPConnectionPool(host='republica.nagariknetwork.com', port=80): Max retries exceeded with url: /news/trump-threatens-another-shutdown-as-budget-battle-heats-up/ (Caused by NewConnectionError('<urllib3.connection.HTTPConnection object at 0x7ff0caa162b0>: Failed to establish a new connection: [Errno 8] nodename nor servname provided, or not known')) on URL http://republica.nagariknetwork.com/news/trump-threatens-another-shutdown-as-budget-battle-heats-up/\n",
      "Article `download()` failed with HTTPConnectionPool(host='republica.nagariknetwork.com', port=80): Max retries exceeded with url: /category/22 (Caused by NewConnectionError('<urllib3.connection.HTTPConnection object at 0x7ff0caa165e0>: Failed to establish a new connection: [Errno 8] nodename nor servname provided, or not known')) on URL https://bit.ly/2JaSiSl\n",
      "Article `download()` failed with HTTPConnectionPool(host='republica.nagariknetwork.com', port=80): Max retries exceeded with url: /news/42525/ (Caused by NewConnectionError('<urllib3.connection.HTTPConnection object at 0x7ff0caa16400>: Failed to establish a new connection: [Errno 8] nodename nor servname provided, or not known')) on URL http://republica.nagariknetwork.com/news/42525/\n",
      "Article `download()` failed with HTTPConnectionPool(host='republica.nagariknetwork.com', port=80): Max retries exceeded with url: /news/42524/ (Caused by NewConnectionError('<urllib3.connection.HTTPConnection object at 0x7ff0caa16940>: Failed to establish a new connection: [Errno 8] nodename nor servname provided, or not known')) on URL http://republica.nagariknetwork.com/news/42524/\n",
      "Article `download()` failed with HTTPConnectionPool(host='republica.nagariknetwork.com', port=80): Max retries exceeded with url: /news/woman-found-dead-in-hotel/ (Caused by NewConnectionError('<urllib3.connection.HTTPConnection object at 0x7ff0caa16400>: Failed to establish a new connection: [Errno 8] nodename nor servname provided, or not known')) on URL http://republica.nagariknetwork.com/news/woman-found-dead-in-hotel/\n",
      "Article `download()` failed with HTTPConnectionPool(host='republica.nagariknetwork.com', port=80): Max retries exceeded with url: /news/42522/ (Caused by NewConnectionError('<urllib3.connection.HTTPConnection object at 0x7ff0caa160a0>: Failed to establish a new connection: [Errno 8] nodename nor servname provided, or not known')) on URL http://republica.nagariknetwork.com/news/42522/\n",
      "Article `download()` failed with HTTPConnectionPool(host='republica.nagariknetwork.com', port=80): Max retries exceeded with url: /news/diarrhea-epidemic-in-west-dang-comes-under-control/ (Caused by NewConnectionError('<urllib3.connection.HTTPConnection object at 0x7ff0caa16a00>: Failed to establish a new connection: [Errno 8] nodename nor servname provided, or not known')) on URL https://bit.ly/2L1DtyM\n",
      "Article `download()` failed with HTTPConnectionPool(host='republica.nagariknetwork.com', port=80): Max retries exceeded with url: /news/42519/ (Caused by NewConnectionError('<urllib3.connection.HTTPConnection object at 0x7ff0caa16220>: Failed to establish a new connection: [Errno 8] nodename nor servname provided, or not known')) on URL https://bit.ly/2JdA170\n",
      "Article `download()` failed with HTTPConnectionPool(host='republica.nagariknetwork.com', port=80): Max retries exceeded with url: /news/42520/ (Caused by NewConnectionError('<urllib3.connection.HTTPConnection object at 0x7ff0caa16fd0>: Failed to establish a new connection: [Errno 8] nodename nor servname provided, or not known')) on URL http://republica.nagariknetwork.com/news/42520/\n",
      "Article `download()` failed with HTTPConnectionPool(host='republica.nagariknetwork.com', port=80): Max retries exceeded with url: /news/42518/ (Caused by NewConnectionError('<urllib3.connection.HTTPConnection object at 0x7ff0caa16880>: Failed to establish a new connection: [Errno 8] nodename nor servname provided, or not known')) on URL http://republica.nagariknetwork.com/news/42518/\n",
      "Article `download()` failed with HTTPConnectionPool(host='republica.nagariknetwork.com', port=80): Max retries exceeded with url: /news/sc-upholds-tu-move-to-fix-fees-for-medical-degrees/ (Caused by NewConnectionError('<urllib3.connection.HTTPConnection object at 0x7ff0caa16be0>: Failed to establish a new connection: [Errno 8] nodename nor servname provided, or not known')) on URL https://bit.ly/2sejy7Y\n",
      "Article `download()` failed with HTTPConnectionPool(host='republica.nagariknetwork.com', port=80): Max retries exceeded with url: /news/42516/ (Caused by NewConnectionError('<urllib3.connection.HTTPConnection object at 0x7ff0caa16d30>: Failed to establish a new connection: [Errno 8] nodename nor servname provided, or not known')) on URL http://republica.nagariknetwork.com/news/42516/\n",
      "Article `download()` failed with HTTPConnectionPool(host='republica.nagariknetwork.com', port=80): Max retries exceeded with url: /news/42507/ (Caused by NewConnectionError('<urllib3.connection.HTTPConnection object at 0x7ff0caa16340>: Failed to establish a new connection: [Errno 8] nodename nor servname provided, or not known')) on URL https://goo.gl/PCSfi7\n",
      "Article `download()` failed with HTTPConnectionPool(host='republica.nagariknetwork.com', port=80): Max retries exceeded with url: /news/42506/ (Caused by NewConnectionError('<urllib3.connection.HTTPConnection object at 0x7ff0caa164c0>: Failed to establish a new connection: [Errno 8] nodename nor servname provided, or not known')) on URL https://goo.gl/SRVL2u\n",
      "Article `download()` failed with HTTPConnectionPool(host='republica.nagariknetwork.com', port=80): Max retries exceeded with url: /news/42504/ (Caused by NewConnectionError('<urllib3.connection.HTTPConnection object at 0x7ff0caa16700>: Failed to establish a new connection: [Errno 8] nodename nor servname provided, or not known')) on URL https://goo.gl/85JF2s\n",
      "Article `download()` failed with HTTPConnectionPool(host='republica.nagariknetwork.com', port=80): Max retries exceeded with url: /news/42515/ (Caused by NewConnectionError('<urllib3.connection.HTTPConnection object at 0x7ff0caa16a00>: Failed to establish a new connection: [Errno 8] nodename nor servname provided, or not known')) on URL https://goo.gl/XQL8Kf\n",
      "Article `download()` failed with HTTPConnectionPool(host='republica.nagariknetwork.com', port=80): Max retries exceeded with url: /news/two-valley-based-petrol-pumps-sealed-for-cheating-customers/ (Caused by NewConnectionError('<urllib3.connection.HTTPConnection object at 0x7ff0caa16760>: Failed to establish a new connection: [Errno 8] nodename nor servname provided, or not known')) on URL https://bit.ly/2J8VNJ0\n",
      "Article `download()` failed with HTTPConnectionPool(host='republica.nagariknetwork.com', port=80): Max retries exceeded with url: /news/fsfn-to-join-govt-soon-signs-two-point-agreement/ (Caused by NewConnectionError('<urllib3.connection.HTTPConnection object at 0x7ff0caa162b0>: Failed to establish a new connection: [Errno 8] nodename nor servname provided, or not known')) on URL https://bit.ly/2xjWCK9\n",
      "Article `download()` failed with HTTPConnectionPool(host='republica.nagariknetwork.com', port=80): Max retries exceeded with url: /news/42505/ (Caused by NewConnectionError('<urllib3.connection.HTTPConnection object at 0x7ff0caa16640>: Failed to establish a new connection: [Errno 8] nodename nor servname provided, or not known')) on URL http://republica.nagariknetwork.com/news/42505/\n"
     ]
    },
    {
     "name": "stdout",
     "output_type": "stream",
     "text": [
      "Article `download()` failed with HTTPConnectionPool(host='republica.nagariknetwork.com', port=80): Max retries exceeded with url: /news/42503/ (Caused by NewConnectionError('<urllib3.connection.HTTPConnection object at 0x7ff0caa16700>: Failed to establish a new connection: [Errno 8] nodename nor servname provided, or not known')) on URL https://goo.gl/FMwUVt\n",
      "Article `download()` failed with HTTPConnectionPool(host='republica.nagariknetwork.com', port=80): Max retries exceeded with url: /news/civil-servants-can-withdraw-names-from-vrs/ (Caused by NewConnectionError('<urllib3.connection.HTTPConnection object at 0x7ff0caa16d60>: Failed to establish a new connection: [Errno 8] nodename nor servname provided, or not known')) on URL https://bit.ly/2IQxKiM\n",
      "Article `download()` failed with HTTPConnectionPool(host='republica.nagariknetwork.com', port=80): Max retries exceeded with url: /news/42498/ (Caused by NewConnectionError('<urllib3.connection.HTTPConnection object at 0x7ff0caa16760>: Failed to establish a new connection: [Errno 8] nodename nor servname provided, or not known')) on URL https://goo.gl/mn1Uss\n",
      "Article `download()` failed with HTTPConnectionPool(host='republica.nagariknetwork.com', port=80): Max retries exceeded with url: /news/42476/ (Caused by NewConnectionError('<urllib3.connection.HTTPConnection object at 0x7ff0caa16a00>: Failed to establish a new connection: [Errno 8] nodename nor servname provided, or not known')) on URL https://goo.gl/y1jZ8N\n",
      "Article `download()` failed with HTTPConnectionPool(host='republica.nagariknetwork.com', port=80): Max retries exceeded with url: /news/keep-a-close-tab/?categoryId=81 (Caused by NewConnectionError('<urllib3.connection.HTTPConnection object at 0x7ff0caa16fa0>: Failed to establish a new connection: [Errno 8] nodename nor servname provided, or not known')) on URL https://goo.gl/DytJPR\n",
      "Article `download()` failed with HTTPConnectionPool(host='republica.nagariknetwork.com', port=80): Max retries exceeded with url: /news/nepal-s-progress-in-heritage-reconstruction-is-remarkable/?categoryId=81 (Caused by NewConnectionError('<urllib3.connection.HTTPConnection object at 0x7ff0caa16580>: Failed to establish a new connection: [Errno 8] nodename nor servname provided, or not known')) on URL https://goo.gl/ETDN1a\n",
      "Article `download()` failed with HTTPConnectionPool(host='republica.nagariknetwork.com', port=80): Max retries exceeded with url: /news/bola-maya-story-of-our-national-pain/?categoryId=81 (Caused by NewConnectionError('<urllib3.connection.HTTPConnection object at 0x7ff0caa16e50>: Failed to establish a new connection: [Errno 8] nodename nor servname provided, or not known')) on URL https://goo.gl/t4AWw5\n",
      "Article `download()` failed with HTTPConnectionPool(host='republica.nagariknetwork.com', port=80): Max retries exceeded with url: /news/42496/ (Caused by NewConnectionError('<urllib3.connection.HTTPConnection object at 0x7ff0caa16850>: Failed to establish a new connection: [Errno 8] nodename nor servname provided, or not known')) on URL https://goo.gl/JuMjrP\n",
      "Article `download()` failed with HTTPConnectionPool(host='republica.nagariknetwork.com', port=80): Max retries exceeded with url: /news/42495/ (Caused by NewConnectionError('<urllib3.connection.HTTPConnection object at 0x7ff0caa16cd0>: Failed to establish a new connection: [Errno 8] nodename nor servname provided, or not known')) on URL https://goo.gl/Da6oEG\n",
      "Article `download()` failed with HTTPConnectionPool(host='republica.nagariknetwork.com', port=80): Max retries exceeded with url: /news/42494/ (Caused by NewConnectionError('<urllib3.connection.HTTPConnection object at 0x7ff0caa16eb0>: Failed to establish a new connection: [Errno 8] nodename nor servname provided, or not known')) on URL https://goo.gl/EdtCPA\n",
      "Article `download()` failed with HTTPConnectionPool(host='republica.nagariknetwork.com', port=80): Max retries exceeded with url: /news/42484/ (Caused by NewConnectionError('<urllib3.connection.HTTPConnection object at 0x7ff0caa167c0>: Failed to establish a new connection: [Errno 8] nodename nor servname provided, or not known')) on URL https://goo.gl/ws3evo\n",
      "Article `download()` failed with HTTPConnectionPool(host='republica.nagariknetwork.com', port=80): Max retries exceeded with url: /news/42488/ (Caused by NewConnectionError('<urllib3.connection.HTTPConnection object at 0x7ff0caa16280>: Failed to establish a new connection: [Errno 8] nodename nor servname provided, or not known')) on URL https://goo.gl/ssA4Vo\n",
      "Article `download()` failed with HTTPConnectionPool(host='republica.nagariknetwork.com', port=80): Max retries exceeded with url: /news/42493/ (Caused by NewConnectionError('<urllib3.connection.HTTPConnection object at 0x7ff0caa16400>: Failed to establish a new connection: [Errno 8] nodename nor servname provided, or not known')) on URL https://goo.gl/6ab9fP\n",
      "Article `download()` failed with HTTPConnectionPool(host='republica.nagariknetwork.com', port=80): Max retries exceeded with url: /news/42492/ (Caused by NewConnectionError('<urllib3.connection.HTTPConnection object at 0x7ff0caa16700>: Failed to establish a new connection: [Errno 8] nodename nor servname provided, or not known')) on URL https://goo.gl/TJzdev\n",
      "Article `download()` failed with HTTPConnectionPool(host='republica.nagariknetwork.com', port=80): Max retries exceeded with url: /news/42491/ (Caused by NewConnectionError('<urllib3.connection.HTTPConnection object at 0x7ff0caa168b0>: Failed to establish a new connection: [Errno 8] nodename nor servname provided, or not known')) on URL https://goo.gl/QLunzY\n",
      "Article `download()` failed with HTTPConnectionPool(host='republica.nagariknetwork.com', port=80): Max retries exceeded with url: /news/42487/ (Caused by NewConnectionError('<urllib3.connection.HTTPConnection object at 0x7ff0ccc9de50>: Failed to establish a new connection: [Errno 8] nodename nor servname provided, or not known')) on URL https://goo.gl/iLaUJv\n",
      "Article `download()` failed with HTTPConnectionPool(host='republica.nagariknetwork.com', port=80): Max retries exceeded with url: /news/42486/ (Caused by NewConnectionError('<urllib3.connection.HTTPConnection object at 0x7ff0caa160a0>: Failed to establish a new connection: [Errno 8] nodename nor servname provided, or not known')) on URL https://goo.gl/moQJ1M\n",
      "Article `download()` failed with HTTPConnectionPool(host='republica.nagariknetwork.com', port=80): Max retries exceeded with url: /news/csk-becomes-ipl-2018-champion-defeats-srh-by-eight-wickets/ (Caused by NewConnectionError('<urllib3.connection.HTTPConnection object at 0x7ff0caa16400>: Failed to establish a new connection: [Errno 8] nodename nor servname provided, or not known')) on URL http://republica.nagariknetwork.com/news/csk-becomes-ipl-2018-champion-defeats-srh-by-eight-wickets/\n",
      "Article `download()` failed with HTTPConnectionPool(host='republica.nagariknetwork.com', port=80): Max retries exceeded with url: /news/sunrisers-hyderabad-sets-target-of-179-runs-for-chennai-super-kings/ (Caused by NewConnectionError('<urllib3.connection.HTTPConnection object at 0x7ff0caa16af0>: Failed to establish a new connection: [Errno 8] nodename nor servname provided, or not known')) on URL http://republica.nagariknetwork.com/news/sunrisers-hyderabad-sets-target-of-179-runs-for-chennai-super-kings/\n",
      "Article `download()` failed with HTTPConnectionPool(host='republica.nagariknetwork.com', port=80): Max retries exceeded with url: /news/japan-ex-pm-nakasone-witness-to-war-and-success-turns-100/ (Caused by NewConnectionError('<urllib3.connection.HTTPConnection object at 0x7ff0caa16400>: Failed to establish a new connection: [Errno 8] nodename nor servname provided, or not known')) on URL http://republica.nagariknetwork.com/news/japan-ex-pm-nakasone-witness-to-war-and-success-turns-100/\n",
      "Article `download()` failed with HTTPConnectionPool(host='republica.nagariknetwork.com', port=80): Max retries exceeded with url: /news/party-unification-unique-multi-dynamic-cpn-chairman-dahal/ (Caused by NewConnectionError('<urllib3.connection.HTTPConnection object at 0x7ff0caa165e0>: Failed to establish a new connection: [Errno 8] nodename nor servname provided, or not known')) on URL http://republica.nagariknetwork.com/news/party-unification-unique-multi-dynamic-cpn-chairman-dahal/\n"
     ]
    },
    {
     "name": "stdout",
     "output_type": "stream",
     "text": [
      "Article `download()` failed with HTTPConnectionPool(host='republica.nagariknetwork.com', port=80): Max retries exceeded with url: /news/csk-wins-toss-and-invites-srh-to-bat-first/ (Caused by NewConnectionError('<urllib3.connection.HTTPConnection object at 0x7ff0caa16220>: Failed to establish a new connection: [Errno 8] nodename nor servname provided, or not known')) on URL https://bit.ly/2IPt1tj\n",
      "Article `download()` failed with HTTPConnectionPool(host='republica.nagariknetwork.com', port=80): Max retries exceeded with url: /news/retired-english-teacher-sends-back-letter-written-by-trump-after-correction/ (Caused by NewConnectionError('<urllib3.connection.HTTPConnection object at 0x7ff0caa16340>: Failed to establish a new connection: [Errno 8] nodename nor servname provided, or not known')) on URL http://republica.nagariknetwork.com/news/retired-english-teacher-sends-back-letter-written-by-trump-after-correction/\n",
      "Article `download()` failed with HTTPConnectionPool(host='republica.nagariknetwork.com', port=80): Max retries exceeded with url: /news/may-27-6-things-to-know-by-6-pm-today/ (Caused by NewConnectionError('<urllib3.connection.HTTPConnection object at 0x7ff0caa16d30>: Failed to establish a new connection: [Errno 8] nodename nor servname provided, or not known')) on URL http://republica.nagariknetwork.com/news/may-27-6-things-to-know-by-6-pm-today/\n",
      "Article `download()` failed with HTTPConnectionPool(host='republica.nagariknetwork.com', port=80): Max retries exceeded with url: /news/economic-survey-presented-projection-of-5-9-economic-growth/ (Caused by NewConnectionError('<urllib3.connection.HTTPConnection object at 0x7ff0caa16340>: Failed to establish a new connection: [Errno 8] nodename nor servname provided, or not known')) on URL http://republica.nagariknetwork.com/news/economic-survey-presented-projection-of-5-9-economic-growth/\n",
      "Article `download()` failed with HTTPConnectionPool(host='republica.nagariknetwork.com', port=80): Max retries exceeded with url: /news/can-csk-be-super-again-in-title-clash-against-sunrisers-hyderabad/ (Caused by NewConnectionError('<urllib3.connection.HTTPConnection object at 0x7ff0caa168b0>: Failed to establish a new connection: [Errno 8] nodename nor servname provided, or not known')) on URL https://bit.ly/2J83eAd\n",
      "Article `download()` failed with HTTPConnectionPool(host='republica.nagariknetwork.com', port=80): Max retries exceeded with url: /news/seoul-north-korea-committed-to-us-summit-denuclearization/ (Caused by NewConnectionError('<urllib3.connection.HTTPConnection object at 0x7ff0caa16c70>: Failed to establish a new connection: [Errno 8] nodename nor servname provided, or not known')) on URL http://republica.nagariknetwork.com/news/seoul-north-korea-committed-to-us-summit-denuclearization/\n",
      "Article `download()` failed with HTTPConnectionPool(host='republica.nagariknetwork.com', port=80): Max retries exceeded with url: /news/cpn-withdraw-its-support-from-government-in-province-2/ (Caused by NewConnectionError('<urllib3.connection.HTTPConnection object at 0x7ff0caa16d60>: Failed to establish a new connection: [Errno 8] nodename nor servname provided, or not known')) on URL https://bit.ly/2LvvHhz\n",
      "Article `download()` failed with HTTPConnectionPool(host='republica.nagariknetwork.com', port=80): Max retries exceeded with url: /news/tu-to-provide-transcript-in-a-single-day/ (Caused by NewConnectionError('<urllib3.connection.HTTPConnection object at 0x7ff0caa16ca0>: Failed to establish a new connection: [Errno 8] nodename nor servname provided, or not known')) on URL https://bit.ly/2xcJwOS\n",
      "Article `download()` failed with HTTPConnectionPool(host='republica.nagariknetwork.com', port=80): Max retries exceeded with url: /news/district-court-finishes-recording-gorey-s-statement/ (Caused by NewConnectionError('<urllib3.connection.HTTPConnection object at 0x7ff0caa16820>: Failed to establish a new connection: [Errno 8] nodename nor servname provided, or not known')) on URL https://bit.ly/2IS4TGE\n",
      "Article `download()` failed with HTTPConnectionPool(host='republica.nagariknetwork.com', port=80): Max retries exceeded with url: /news/piles-of-waste-pose-threat-to-tilicho-lake/ (Caused by NewConnectionError('<urllib3.connection.HTTPConnection object at 0x7ff0caa16400>: Failed to establish a new connection: [Errno 8] nodename nor servname provided, or not known')) on URL http://republica.nagariknetwork.com/news/piles-of-waste-pose-threat-to-tilicho-lake/\n",
      "Article `download()` failed with HTTPConnectionPool(host='republica.nagariknetwork.com', port=80): Max retries exceeded with url: /news/42461/ (Caused by NewConnectionError('<urllib3.connection.HTTPConnection object at 0x7ff0caa16e20>: Failed to establish a new connection: [Errno 8] nodename nor servname provided, or not known')) on URL http://republica.nagariknetwork.com/news/42461/\n",
      "Article `download()` failed with HTTPConnectionPool(host='republica.nagariknetwork.com', port=80): Max retries exceeded with url: /news/pm-oli-resounds-government-s-commitment-for-development/ (Caused by NewConnectionError('<urllib3.connection.HTTPConnection object at 0x7ff0caa16400>: Failed to establish a new connection: [Errno 8] nodename nor servname provided, or not known')) on URL http://republica.nagariknetwork.com/news/pm-oli-resounds-government-s-commitment-for-development/\n",
      "Article `download()` failed with HTTPConnectionPool(host='republica.nagariknetwork.com', port=80): Max retries exceeded with url: /news/souls-of-my-city-will-work-till-i-can/ (Caused by NewConnectionError('<urllib3.connection.HTTPConnection object at 0x7ff0caa16dc0>: Failed to establish a new connection: [Errno 8] nodename nor servname provided, or not known')) on URL https://goo.gl/n1ZCiS\n",
      "Article `download()` failed with HTTPConnectionPool(host='republica.nagariknetwork.com', port=80): Max retries exceeded with url: /news/kathmandu-and-art-a-sizzling-affair/ (Caused by NewConnectionError('<urllib3.connection.HTTPConnection object at 0x7ff0caa16760>: Failed to establish a new connection: [Errno 8] nodename nor servname provided, or not known')) on URL https://goo.gl/o3xAV6\n",
      "Article `download()` failed with HTTPConnectionPool(host='republica.nagariknetwork.com', port=80): Max retries exceeded with url: /news/caan-warns-paragliding-companies-in-pokhara/ (Caused by NewConnectionError('<urllib3.connection.HTTPConnection object at 0x7ff0caa16700>: Failed to establish a new connection: [Errno 8] nodename nor servname provided, or not known')) on URL https://goo.gl/q4tVuZ\n",
      "Article `download()` failed with HTTPConnectionPool(host='republica.nagariknetwork.com', port=80): Max retries exceeded with url: /news/landowners-receive-compensation-for-second-int-l-airport-construction/ (Caused by NewConnectionError('<urllib3.connection.HTTPConnection object at 0x7ff0caa16940>: Failed to establish a new connection: [Errno 8] nodename nor servname provided, or not known')) on URL https://goo.gl/xquEgV\n",
      "Article `download()` failed with HTTPConnectionPool(host='republica.nagariknetwork.com', port=80): Max retries exceeded with url: /news/bank-deposits-expand-as-govt-expenditure-increases/ (Caused by NewConnectionError('<urllib3.connection.HTTPConnection object at 0x7ff0caa16280>: Failed to establish a new connection: [Errno 8] nodename nor servname provided, or not known')) on URL https://goo.gl/3jpPqF\n",
      "Article `download()` failed with HTTPConnectionPool(host='republica.nagariknetwork.com', port=80): Max retries exceeded with url: /news/farmers-face-financial-stress/ (Caused by NewConnectionError('<urllib3.connection.HTTPConnection object at 0x7ff0caa16a00>: Failed to establish a new connection: [Errno 8] nodename nor servname provided, or not known')) on URL https://goo.gl/tsvxwb\n",
      "Article `download()` failed with HTTPConnectionPool(host='republica.nagariknetwork.com', port=80): Max retries exceeded with url: /news/sugarcane-farmers-are-still-unpaid-despite-govt-orders/ (Caused by NewConnectionError('<urllib3.connection.HTTPConnection object at 0x7ff0caa168b0>: Failed to establish a new connection: [Errno 8] nodename nor servname provided, or not known')) on URL https://goo.gl/sdxQ3L\n",
      "Article `download()` failed with HTTPConnectionPool(host='republica.nagariknetwork.com', port=80): Max retries exceeded with url: /news/42453/ (Caused by NewConnectionError('<urllib3.connection.HTTPConnection object at 0x7ff0caa16070>: Failed to establish a new connection: [Errno 8] nodename nor servname provided, or not known')) on URL http://republica.nagariknetwork.com/news/42453/\n",
      "Article `download()` failed with HTTPConnectionPool(host='republica.nagariknetwork.com', port=80): Max retries exceeded with url: /news/42455/ (Caused by NewConnectionError('<urllib3.connection.HTTPConnection object at 0x7ff0caa16d00>: Failed to establish a new connection: [Errno 8] nodename nor servname provided, or not known')) on URL http://republica.nagariknetwork.com/news/42455/\n",
      "Article `download()` failed with HTTPConnectionPool(host='republica.nagariknetwork.com', port=80): Max retries exceeded with url: /news/42454/ (Caused by NewConnectionError('<urllib3.connection.HTTPConnection object at 0x7ff0caa16070>: Failed to establish a new connection: [Errno 8] nodename nor servname provided, or not known')) on URL http://republica.nagariknetwork.com/news/42454/\n",
      "Article `download()` failed with HTTPConnectionPool(host='republica.nagariknetwork.com', port=80): Max retries exceeded with url: /news/42447/ (Caused by NewConnectionError('<urllib3.connection.HTTPConnection object at 0x7ff0caa163a0>: Failed to establish a new connection: [Errno 8] nodename nor servname provided, or not known')) on URL http://republica.nagariknetwork.com/news/42447/\n",
      "Article `download()` failed with HTTPConnectionPool(host='republica.nagariknetwork.com', port=80): Max retries exceeded with url: /news/42446/ (Caused by NewConnectionError('<urllib3.connection.HTTPConnection object at 0x7ff0caa16a60>: Failed to establish a new connection: [Errno 8] nodename nor servname provided, or not known')) on URL http://republica.nagariknetwork.com/news/42446/\n",
      "Article `download()` failed with HTTPConnectionPool(host='republica.nagariknetwork.com', port=80): Max retries exceeded with url: /news/a-miraculous-survive-at-baitadi/ (Caused by NewConnectionError('<urllib3.connection.HTTPConnection object at 0x7ff0caa16850>: Failed to establish a new connection: [Errno 8] nodename nor servname provided, or not known')) on URL http://republica.nagariknetwork.com/news/a-miraculous-survive-at-baitadi/\n",
      "Article `download()` failed with HTTPConnectionPool(host='republica.nagariknetwork.com', port=80): Max retries exceeded with url: /news/42442/ (Caused by NewConnectionError('<urllib3.connection.HTTPConnection object at 0x7ff0caa16e20>: Failed to establish a new connection: [Errno 8] nodename nor servname provided, or not known')) on URL http://republica.nagariknetwork.com/news/42442/\n",
      "Article `download()` failed with HTTPConnectionPool(host='republica.nagariknetwork.com', port=80): Max retries exceeded with url: /news/contaminated-water-source-increases-patients-suffering-from-diarrhea-in-dang/ (Caused by NewConnectionError('<urllib3.connection.HTTPConnection object at 0x7ff0caa16e50>: Failed to establish a new connection: [Errno 8] nodename nor servname provided, or not known')) on URL http://republica.nagariknetwork.com/news/contaminated-water-source-increases-patients-suffering-from-diarrhea-in-dang/\n",
      "Article `download()` failed with HTTPConnectionPool(host='republica.nagariknetwork.com', port=80): Max retries exceeded with url: / (Caused by NewConnectionError('<urllib3.connection.HTTPConnection object at 0x7ff0caa162b0>: Failed to establish a new connection: [Errno 8] nodename nor servname provided, or not known')) on URL http://republica.nagariknetwork.com/\n"
     ]
    },
    {
     "name": "stdout",
     "output_type": "stream",
     "text": [
      "Article `download()` failed with HTTPConnectionPool(host='republica.nagariknetwork.com', port=80): Max retries exceeded with url: /news/govt-s-100-days-in-province-4-disappointing/ (Caused by NewConnectionError('<urllib3.connection.HTTPConnection object at 0x7ff0caa16340>: Failed to establish a new connection: [Errno 8] nodename nor servname provided, or not known')) on URL https://goo.gl/5iGACF\n",
      "Article `download()` failed with HTTPConnectionPool(host='republica.nagariknetwork.com', port=80): Max retries exceeded with url: /news/fear-of-losing-grant-forces-quake-victims-to-build-houses-in-a-rush/ (Caused by NewConnectionError('<urllib3.connection.HTTPConnection object at 0x7ff0caa16280>: Failed to establish a new connection: [Errno 8] nodename nor servname provided, or not known')) on URL https://goo.gl/xS9xb5\n",
      "Article `download()` failed with HTTPConnectionPool(host='republica.nagariknetwork.com', port=80): Max retries exceeded with url: /news/shopkeepers-dismayed-as-kmc-starts-demolishing-shops-on-dharahara-premises/ (Caused by NewConnectionError('<urllib3.connection.HTTPConnection object at 0x7ff0caa16bb0>: Failed to establish a new connection: [Errno 8] nodename nor servname provided, or not known')) on URL https://goo.gl/WbkQcW\n",
      "Article `download()` failed with HTTPConnectionPool(host='republica.nagariknetwork.com', port=80): Max retries exceeded with url: /news/intense-lobbying-going-on-to-replace-nra-ceo/ (Caused by NewConnectionError('<urllib3.connection.HTTPConnection object at 0x7ff0caa167c0>: Failed to establish a new connection: [Errno 8] nodename nor servname provided, or not known')) on URL https://goo.gl/3oLiA8\n",
      "Article `download()` failed with HTTPConnectionPool(host='republica.nagariknetwork.com', port=80): Max retries exceeded with url: /news/police-nab-indian-security-personnel-in-rautahat-for-kidnapping-nepali-entrepreneur/ (Caused by NewConnectionError('<urllib3.connection.HTTPConnection object at 0x7ff0caa16cd0>: Failed to establish a new connection: [Errno 8] nodename nor servname provided, or not known')) on URL https://goo.gl/ucX5xX\n",
      "Article `download()` failed with HTTPConnectionPool(host='republica.nagariknetwork.com', port=80): Max retries exceeded with url: /news/inexperienced-judicial-committee-heads-find-justice-delivery-challenging/ (Caused by NewConnectionError('<urllib3.connection.HTTPConnection object at 0x7ff0caa16850>: Failed to establish a new connection: [Errno 8] nodename nor servname provided, or not known')) on URL https://goo.gl/Sm371a\n",
      "Article `download()` failed with HTTPConnectionPool(host='republica.nagariknetwork.com', port=80): Max retries exceeded with url: /news/ncp-standing-committee-to-get-full-shape-by-monday/ (Caused by NewConnectionError('<urllib3.connection.HTTPConnection object at 0x7ff0caa16e20>: Failed to establish a new connection: [Errno 8] nodename nor servname provided, or not known')) on URL https://goo.gl/s8aJJD\n",
      "Article `download()` failed with HTTPConnectionPool(host='republica.nagariknetwork.com', port=80): Max retries exceeded with url: /news/big-contractors-lambasted-for-non-performance-and-syndicates/ (Caused by NewConnectionError('<urllib3.connection.HTTPConnection object at 0x7ff0caa16c70>: Failed to establish a new connection: [Errno 8] nodename nor servname provided, or not known')) on URL https://goo.gl/jzoADH\n",
      "Article `download()` failed with HTTPConnectionPool(host='republica.nagariknetwork.com', port=80): Max retries exceeded with url: /news/super-bale-sinks-liverpool-as-madrid-make-it-three-in-a-row/ (Caused by NewConnectionError('<urllib3.connection.HTTPConnection object at 0x7ff0caa16e50>: Failed to establish a new connection: [Errno 8] nodename nor servname provided, or not known')) on URL https://goo.gl/AP2Gxs\n",
      "Article `download()` failed with 404 Client Error: Not Found for url: https://myrepublica.nagariknetwork.com/news/wfdy-president-papademitriou-calls-for-unity-among-nepali-youths-to-end-imperialism/ on URL https://goo.gl/cGNnNe\n",
      "Article `download()` failed with 404 Client Error: Not Found for url: https://myrepublica.nagariknetwork.com/news/cpn-chair-dahal-donates-blood-in-event-held-in-memory-of-his-son/ on URL https://bit.ly/2IOW0O3\n",
      "\n"
     ]
    },
    {
     "data": {
      "application/vnd.jupyter.widget-view+json": {
       "model_id": "a3680305983a425b987586137a5354d2",
       "version_major": 2,
       "version_minor": 0
      },
      "text/plain": [
       "HBox(children=(HTML(value=''), FloatProgress(value=0.0, max=1000.0), HTML(value='')))"
      ]
     },
     "metadata": {},
     "output_type": "display_data"
    },
    {
     "name": "stdout",
     "output_type": "stream",
     "text": [
      "Article `download()` failed with 404 Client Error: Not Found for url: https://myrepublica.nagariknetwork.com/news/sanfebagar-airport-witnesses-successful-test-flight-after-13-years/ on URL https://bit.ly/2koLwu5\n",
      "Article `download()` failed with 404 Client Error: Not Found for url: https://myrepublica.nagariknetwork.com/news/south-africa-batsman-ab-de-villiers-retires-from-international-cricket/ on URL https://bit.ly/2IKCnL1\n",
      "Article `download()` failed with 404 Client Error: Not Found for url: https://myrepublica.nagariknetwork.com/news/youth-spinner-sandeep-returns-home/ on URL https://bit.ly/2IYND5J\n",
      "Article `download()` failed with HTTPConnectionPool(host='www.myrepublica.com', port=80): Read timed out. (read timeout=7) on URL https://goo.gl/iDXqLq\n",
      "\n"
     ]
    },
    {
     "data": {
      "application/vnd.jupyter.widget-view+json": {
       "model_id": "7e4734dbec1245af989c27890d2e1e7a",
       "version_major": 2,
       "version_minor": 0
      },
      "text/plain": [
       "HBox(children=(HTML(value=''), FloatProgress(value=0.0, max=1000.0), HTML(value='')))"
      ]
     },
     "metadata": {},
     "output_type": "display_data"
    },
    {
     "name": "stdout",
     "output_type": "stream",
     "text": [
      "Article `download()` failed with 404 Client Error: Not Found for url: https://bit.ly/2Fd7Tutthe on URL https://bit.ly/2Fd7Tutthe\n",
      "\n"
     ]
    },
    {
     "data": {
      "application/vnd.jupyter.widget-view+json": {
       "model_id": "6b0c7b02e8a74bdaa1c133ae256bc859",
       "version_major": 2,
       "version_minor": 0
      },
      "text/plain": [
       "HBox(children=(HTML(value=''), FloatProgress(value=0.0, max=1000.0), HTML(value='')))"
      ]
     },
     "metadata": {},
     "output_type": "display_data"
    },
    {
     "name": "stdout",
     "output_type": "stream",
     "text": [
      "Article `download()` failed with 404 Client Error: Not Found for url: https://goo.gl/eSU on URL https://goo.gl/eSU\n",
      "Article `download()` failed with 404 Client Error: Not Found for url: https://bitly.com/2Gfv9N6/ on URL https://bit.ly/2Gfv9N6/\n",
      "\n"
     ]
    },
    {
     "data": {
      "application/vnd.jupyter.widget-view+json": {
       "model_id": "ef97efde2b554fb5b764bb766d31d597",
       "version_major": 2,
       "version_minor": 0
      },
      "text/plain": [
       "HBox(children=(HTML(value=''), FloatProgress(value=0.0, max=1000.0), HTML(value='')))"
      ]
     },
     "metadata": {},
     "output_type": "display_data"
    },
    {
     "name": "stdout",
     "output_type": "stream",
     "text": [
      "Article `download()` failed with HTTPSConnectionPool(host='goo.gl', port=443): Max retries exceeded with url: /C4gWCH (Caused by ConnectTimeoutError(<urllib3.connection.HTTPSConnection object at 0x7ff0ca94a5e0>, 'Connection to goo.gl timed out. (connect timeout=7)')) on URL https://goo.gl/C4gWCH\n",
      "Article `download()` failed with 404 Client Error: Not Found for url: https://nagarikbazaar.nagariknetwork.com/sponsored-post-panchakanya-inspired-by-heritage on URL http://www.nagarikbazaar.nagariknews.com/sponsored-post-panchakanya-inspired-by-heritage\n",
      "Article `download()` failed with HTTPConnectionPool(host='breathe-myrepublica.com', port=80): Max retries exceeded with url: / (Caused by NewConnectionError('<urllib3.connection.HTTPConnection object at 0x7ff0ca95afd0>: Failed to establish a new connection: [Errno 8] nodename nor servname provided, or not known')) on URL http://BREATHE-myrepublica.com\n",
      "Article `download()` failed with HTTPConnectionPool(host='mypreublica.com', port=80): Max retries exceeded with url: / (Caused by NewConnectionError('<urllib3.connection.HTTPConnection object at 0x7ff0cc612ee0>: Failed to establish a new connection: [Errno 8] nodename nor servname provided, or not known')) on URL http://mypreublica.com\n",
      "\n"
     ]
    },
    {
     "data": {
      "application/vnd.jupyter.widget-view+json": {
       "model_id": "364f5689885e4c52829f6566eb80328b",
       "version_major": 2,
       "version_minor": 0
      },
      "text/plain": [
       "HBox(children=(HTML(value=''), FloatProgress(value=0.0, max=1000.0), HTML(value='')))"
      ]
     },
     "metadata": {},
     "output_type": "display_data"
    },
    {
     "name": "stdout",
     "output_type": "stream",
     "text": [
      "Article `download()` failed with HTTPConnectionPool(host='aleif.date', port=80): Max retries exceeded with url: /?1589 (Caused by NewConnectionError('<urllib3.connection.HTTPConnection object at 0x7ff0caa16b80>: Failed to establish a new connection: [Errno 8] nodename nor servname provided, or not known')) on URL http://bit.ly/2EesZgB-\n",
      "\n"
     ]
    },
    {
     "data": {
      "application/vnd.jupyter.widget-view+json": {
       "model_id": "eeb0ff994ccf454e90347c7d1854d4e8",
       "version_major": 2,
       "version_minor": 0
      },
      "text/plain": [
       "HBox(children=(HTML(value=''), FloatProgress(value=0.0, max=1000.0), HTML(value='')))"
      ]
     },
     "metadata": {},
     "output_type": "display_data"
    },
    {
     "name": "stdout",
     "output_type": "stream",
     "text": [
      "\n"
     ]
    },
    {
     "data": {
      "application/vnd.jupyter.widget-view+json": {
       "model_id": "ba8f8888c5d3496d9ffa5e414e115720",
       "version_major": 2,
       "version_minor": 0
      },
      "text/plain": [
       "HBox(children=(HTML(value=''), FloatProgress(value=0.0, max=172.0), HTML(value='')))"
      ]
     },
     "metadata": {},
     "output_type": "display_data"
    },
    {
     "name": "stdout",
     "output_type": "stream",
     "text": [
      "\n"
     ]
    }
   ],
   "source": [
    "file_path = \"RepublicaNepal.csv\"\n",
    "result_file_path = \"RepublicaNepal_articles_continue1.csv\"\n",
    "\n",
    "pd.read_csv(file_path, nrows=1).head(0).to_csv(result_file_path)\n",
    "dataframe = pd.read_csv(file_path, iterator=True, chunksize=1000)\n",
    "\n",
    "for chunk in dataframe:\n",
    "   chunk['article'] = chunk.progress_apply(article, axis=1)\n",
    "   chunk.to_csv(result_file_path, mode='a', header=None)"
   ]
  },
  {
   "cell_type": "code",
   "execution_count": 46,
   "metadata": {},
   "outputs": [],
   "source": [
    "new = pd.read_csv(result_file_path)"
   ]
  },
  {
   "cell_type": "code",
   "execution_count": 50,
   "metadata": {},
   "outputs": [
    {
     "data": {
      "text/plain": [
       "(29565, 5)"
      ]
     },
     "execution_count": 50,
     "metadata": {},
     "output_type": "execute_result"
    }
   ],
   "source": [
    "new.shape"
   ]
  },
  {
   "cell_type": "code",
   "execution_count": 52,
   "metadata": {},
   "outputs": [],
   "source": [
    "new[new.article!='404'][['id', 'created_at', 'urls', 'article']].to_csv('KathmanduPost.csv', index=False)"
   ]
  }
 ],
 "metadata": {
  "kernelspec": {
   "display_name": "Python 3",
   "language": "python",
   "name": "python3"
  },
  "language_info": {
   "codemirror_mode": {
    "name": "ipython",
    "version": 3
   },
   "file_extension": ".py",
   "mimetype": "text/x-python",
   "name": "python",
   "nbconvert_exporter": "python",
   "pygments_lexer": "ipython3",
   "version": "3.8.5"
  }
 },
 "nbformat": 4,
 "nbformat_minor": 4
}
