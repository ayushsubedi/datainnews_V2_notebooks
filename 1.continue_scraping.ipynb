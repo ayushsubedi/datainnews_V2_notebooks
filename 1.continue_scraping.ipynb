{
 "cells": [
  {
   "cell_type": "code",
   "execution_count": 35,
   "metadata": {},
   "outputs": [],
   "source": [
    "import pandas as pd\n",
    "from newspaper import Article\n",
    "import nltk\n",
    "import ast\n",
    "import requests\n",
    "from tqdm.auto import tqdm\n",
    "tqdm.pandas()\n",
    "from bs4 import BeautifulSoup, Comment\n",
    "import numpy as np"
   ]
  },
  {
   "cell_type": "code",
   "execution_count": 36,
   "metadata": {},
   "outputs": [],
   "source": [
    "headers = {\n",
    "    'Access-Control-Allow-Origin': '*',\n",
    "    'Access-Control-Allow-Methods': 'GET',\n",
    "    'Access-Control-Allow-Headers': 'Content-Type',\n",
    "    'Access-Control-Max-Age': '3600',\n",
    "    'User-Agent': 'Mozilla/5.0 (X11; Ubuntu; Linux x86_64; rv:52.0) Gecko/20100101 Firefox/52.0'\n",
    "    }"
   ]
  },
  {
   "cell_type": "code",
   "execution_count": 46,
   "metadata": {},
   "outputs": [],
   "source": [
    "df = pd.read_csv('RepublicaNepal.csv')"
   ]
  },
  {
   "cell_type": "code",
   "execution_count": 38,
   "metadata": {},
   "outputs": [],
   "source": [
    "# new = pd.read_csv(\"RepublicaNepal_articles_continue.csv\")"
   ]
  },
  {
   "cell_type": "code",
   "execution_count": 39,
   "metadata": {},
   "outputs": [],
   "source": [
    "# joined = df[['id', 'created_at', 'urls']].set_index('id').join(new[['id', 'article']].set_index('id')).reset_index()"
   ]
  },
  {
   "cell_type": "code",
   "execution_count": 40,
   "metadata": {},
   "outputs": [
    {
     "data": {
      "text/html": [
       "<div>\n",
       "<style scoped>\n",
       "    .dataframe tbody tr th:only-of-type {\n",
       "        vertical-align: middle;\n",
       "    }\n",
       "\n",
       "    .dataframe tbody tr th {\n",
       "        vertical-align: top;\n",
       "    }\n",
       "\n",
       "    .dataframe thead th {\n",
       "        text-align: right;\n",
       "    }\n",
       "</style>\n",
       "<table border=\"1\" class=\"dataframe\">\n",
       "  <thead>\n",
       "    <tr style=\"text-align: right;\">\n",
       "      <th></th>\n",
       "      <th>id</th>\n",
       "      <th>created_at</th>\n",
       "      <th>urls</th>\n",
       "      <th>article</th>\n",
       "    </tr>\n",
       "  </thead>\n",
       "  <tbody>\n",
       "    <tr>\n",
       "      <th>0</th>\n",
       "      <td>1376900077713678345</td>\n",
       "      <td>2021-03-30 19:57:14+05:45</td>\n",
       "      <td>https://myrepublica.nagariknetwork.com/news/ne...</td>\n",
       "      <td>KATHMANDU, March 30: The equity market opened ...</td>\n",
       "    </tr>\n",
       "    <tr>\n",
       "      <th>1</th>\n",
       "      <td>1376899173098745862</td>\n",
       "      <td>2021-03-30 19:53:39+05:45</td>\n",
       "      <td>https://myrepublica.nagariknetwork.com/news/go...</td>\n",
       "      <td>KATHMANDU, March 30: Expressing strong dissati...</td>\n",
       "    </tr>\n",
       "    <tr>\n",
       "      <th>2</th>\n",
       "      <td>1376885989214355469</td>\n",
       "      <td>2021-03-30 19:01:15+05:45</td>\n",
       "      <td>https://myrepublica.nagariknetwork.com/news/yo...</td>\n",
       "      <td>Pandey accuses Oli of misusing state power and...</td>\n",
       "    </tr>\n",
       "    <tr>\n",
       "      <th>3</th>\n",
       "      <td>1376871383347519488</td>\n",
       "      <td>2021-03-30 18:03:13+05:45</td>\n",
       "      <td>https://myrepublica.nagariknetwork.com/news/us...</td>\n",
       "      <td>KATHMANDU, March 30: Nepal Police's Central In...</td>\n",
       "    </tr>\n",
       "    <tr>\n",
       "      <th>4</th>\n",
       "      <td>1376866695051014146</td>\n",
       "      <td>2021-03-30 17:44:35+05:45</td>\n",
       "      <td>https://myrepublica.nagariknetwork.com/news/pm...</td>\n",
       "      <td>KATHMANDU, March 30: The government is all set...</td>\n",
       "    </tr>\n",
       "    <tr>\n",
       "      <th>...</th>\n",
       "      <td>...</td>\n",
       "      <td>...</td>\n",
       "      <td>...</td>\n",
       "      <td>...</td>\n",
       "    </tr>\n",
       "    <tr>\n",
       "      <th>41221</th>\n",
       "      <td>947658764064243713</td>\n",
       "      <td>2018-01-01 08:25:30+05:45</td>\n",
       "      <td>https://goo.gl/6aTfY9</td>\n",
       "      <td>NaN</td>\n",
       "    </tr>\n",
       "    <tr>\n",
       "      <th>41222</th>\n",
       "      <td>947658303290580993</td>\n",
       "      <td>2018-01-01 08:23:40+05:45</td>\n",
       "      <td>https://goo.gl/eLy4Pe</td>\n",
       "      <td>NaN</td>\n",
       "    </tr>\n",
       "    <tr>\n",
       "      <th>41223</th>\n",
       "      <td>947655493631188992</td>\n",
       "      <td>2018-01-01 08:12:30+05:45</td>\n",
       "      <td>https://goo.gl/CwpTUq</td>\n",
       "      <td>NaN</td>\n",
       "    </tr>\n",
       "    <tr>\n",
       "      <th>41224</th>\n",
       "      <td>947654732121743361</td>\n",
       "      <td>2018-01-01 08:09:29+05:45</td>\n",
       "      <td>https://goo.gl/WpfygX</td>\n",
       "      <td>NaN</td>\n",
       "    </tr>\n",
       "    <tr>\n",
       "      <th>41225</th>\n",
       "      <td>947654028317507584</td>\n",
       "      <td>2018-01-01 08:06:41+05:45</td>\n",
       "      <td>https://goo.gl/e47Gfo</td>\n",
       "      <td>NaN</td>\n",
       "    </tr>\n",
       "  </tbody>\n",
       "</table>\n",
       "<p>41226 rows × 4 columns</p>\n",
       "</div>"
      ],
      "text/plain": [
       "                        id                 created_at  \\\n",
       "0      1376900077713678345  2021-03-30 19:57:14+05:45   \n",
       "1      1376899173098745862  2021-03-30 19:53:39+05:45   \n",
       "2      1376885989214355469  2021-03-30 19:01:15+05:45   \n",
       "3      1376871383347519488  2021-03-30 18:03:13+05:45   \n",
       "4      1376866695051014146  2021-03-30 17:44:35+05:45   \n",
       "...                    ...                        ...   \n",
       "41221   947658764064243713  2018-01-01 08:25:30+05:45   \n",
       "41222   947658303290580993  2018-01-01 08:23:40+05:45   \n",
       "41223   947655493631188992  2018-01-01 08:12:30+05:45   \n",
       "41224   947654732121743361  2018-01-01 08:09:29+05:45   \n",
       "41225   947654028317507584  2018-01-01 08:06:41+05:45   \n",
       "\n",
       "                                                    urls  \\\n",
       "0      https://myrepublica.nagariknetwork.com/news/ne...   \n",
       "1      https://myrepublica.nagariknetwork.com/news/go...   \n",
       "2      https://myrepublica.nagariknetwork.com/news/yo...   \n",
       "3      https://myrepublica.nagariknetwork.com/news/us...   \n",
       "4      https://myrepublica.nagariknetwork.com/news/pm...   \n",
       "...                                                  ...   \n",
       "41221                              https://goo.gl/6aTfY9   \n",
       "41222                              https://goo.gl/eLy4Pe   \n",
       "41223                              https://goo.gl/CwpTUq   \n",
       "41224                              https://goo.gl/WpfygX   \n",
       "41225                              https://goo.gl/e47Gfo   \n",
       "\n",
       "                                                 article  \n",
       "0      KATHMANDU, March 30: The equity market opened ...  \n",
       "1      KATHMANDU, March 30: Expressing strong dissati...  \n",
       "2      Pandey accuses Oli of misusing state power and...  \n",
       "3      KATHMANDU, March 30: Nepal Police's Central In...  \n",
       "4      KATHMANDU, March 30: The government is all set...  \n",
       "...                                                  ...  \n",
       "41221                                                NaN  \n",
       "41222                                                NaN  \n",
       "41223                                                NaN  \n",
       "41224                                                NaN  \n",
       "41225                                                NaN  \n",
       "\n",
       "[41226 rows x 4 columns]"
      ]
     },
     "execution_count": 40,
     "metadata": {},
     "output_type": "execute_result"
    }
   ],
   "source": [
    "# joined"
   ]
  },
  {
   "cell_type": "code",
   "execution_count": 43,
   "metadata": {},
   "outputs": [],
   "source": [
    "# joined = joined[joined.article!=\"404\"]"
   ]
  },
  {
   "cell_type": "code",
   "execution_count": 44,
   "metadata": {},
   "outputs": [],
   "source": [
    "# joined.to_csv('RepublicaNepal.csv', index=False)"
   ]
  },
  {
   "cell_type": "code",
   "execution_count": 47,
   "metadata": {},
   "outputs": [
    {
     "data": {
      "text/plain": [
       "(41172, 4)"
      ]
     },
     "execution_count": 47,
     "metadata": {},
     "output_type": "execute_result"
    }
   ],
   "source": [
    "df.shape"
   ]
  },
  {
   "cell_type": "code",
   "execution_count": 48,
   "metadata": {},
   "outputs": [
    {
     "data": {
      "text/html": [
       "<div>\n",
       "<style scoped>\n",
       "    .dataframe tbody tr th:only-of-type {\n",
       "        vertical-align: middle;\n",
       "    }\n",
       "\n",
       "    .dataframe tbody tr th {\n",
       "        vertical-align: top;\n",
       "    }\n",
       "\n",
       "    .dataframe thead th {\n",
       "        text-align: right;\n",
       "    }\n",
       "</style>\n",
       "<table border=\"1\" class=\"dataframe\">\n",
       "  <thead>\n",
       "    <tr style=\"text-align: right;\">\n",
       "      <th></th>\n",
       "      <th>id</th>\n",
       "      <th>created_at</th>\n",
       "      <th>urls</th>\n",
       "      <th>article</th>\n",
       "    </tr>\n",
       "  </thead>\n",
       "  <tbody>\n",
       "    <tr>\n",
       "      <th>0</th>\n",
       "      <td>1376900077713678345</td>\n",
       "      <td>2021-03-30 19:57:14+05:45</td>\n",
       "      <td>https://myrepublica.nagariknetwork.com/news/ne...</td>\n",
       "      <td>KATHMANDU, March 30: The equity market opened ...</td>\n",
       "    </tr>\n",
       "    <tr>\n",
       "      <th>1</th>\n",
       "      <td>1376899173098745862</td>\n",
       "      <td>2021-03-30 19:53:39+05:45</td>\n",
       "      <td>https://myrepublica.nagariknetwork.com/news/go...</td>\n",
       "      <td>KATHMANDU, March 30: Expressing strong dissati...</td>\n",
       "    </tr>\n",
       "    <tr>\n",
       "      <th>2</th>\n",
       "      <td>1376885989214355469</td>\n",
       "      <td>2021-03-30 19:01:15+05:45</td>\n",
       "      <td>https://myrepublica.nagariknetwork.com/news/yo...</td>\n",
       "      <td>Pandey accuses Oli of misusing state power and...</td>\n",
       "    </tr>\n",
       "    <tr>\n",
       "      <th>3</th>\n",
       "      <td>1376871383347519488</td>\n",
       "      <td>2021-03-30 18:03:13+05:45</td>\n",
       "      <td>https://myrepublica.nagariknetwork.com/news/us...</td>\n",
       "      <td>KATHMANDU, March 30: Nepal Police's Central In...</td>\n",
       "    </tr>\n",
       "    <tr>\n",
       "      <th>4</th>\n",
       "      <td>1376866695051014146</td>\n",
       "      <td>2021-03-30 17:44:35+05:45</td>\n",
       "      <td>https://myrepublica.nagariknetwork.com/news/pm...</td>\n",
       "      <td>KATHMANDU, March 30: The government is all set...</td>\n",
       "    </tr>\n",
       "  </tbody>\n",
       "</table>\n",
       "</div>"
      ],
      "text/plain": [
       "                    id                 created_at  \\\n",
       "0  1376900077713678345  2021-03-30 19:57:14+05:45   \n",
       "1  1376899173098745862  2021-03-30 19:53:39+05:45   \n",
       "2  1376885989214355469  2021-03-30 19:01:15+05:45   \n",
       "3  1376871383347519488  2021-03-30 18:03:13+05:45   \n",
       "4  1376866695051014146  2021-03-30 17:44:35+05:45   \n",
       "\n",
       "                                                urls  \\\n",
       "0  https://myrepublica.nagariknetwork.com/news/ne...   \n",
       "1  https://myrepublica.nagariknetwork.com/news/go...   \n",
       "2  https://myrepublica.nagariknetwork.com/news/yo...   \n",
       "3  https://myrepublica.nagariknetwork.com/news/us...   \n",
       "4  https://myrepublica.nagariknetwork.com/news/pm...   \n",
       "\n",
       "                                             article  \n",
       "0  KATHMANDU, March 30: The equity market opened ...  \n",
       "1  KATHMANDU, March 30: Expressing strong dissati...  \n",
       "2  Pandey accuses Oli of misusing state power and...  \n",
       "3  KATHMANDU, March 30: Nepal Police's Central In...  \n",
       "4  KATHMANDU, March 30: The government is all set...  "
      ]
     },
     "execution_count": 48,
     "metadata": {},
     "output_type": "execute_result"
    }
   ],
   "source": [
    "df.head()"
   ]
  },
  {
   "cell_type": "code",
   "execution_count": 49,
   "metadata": {},
   "outputs": [
    {
     "data": {
      "text/html": [
       "<div>\n",
       "<style scoped>\n",
       "    .dataframe tbody tr th:only-of-type {\n",
       "        vertical-align: middle;\n",
       "    }\n",
       "\n",
       "    .dataframe tbody tr th {\n",
       "        vertical-align: top;\n",
       "    }\n",
       "\n",
       "    .dataframe thead th {\n",
       "        text-align: right;\n",
       "    }\n",
       "</style>\n",
       "<table border=\"1\" class=\"dataframe\">\n",
       "  <thead>\n",
       "    <tr style=\"text-align: right;\">\n",
       "      <th></th>\n",
       "      <th>id</th>\n",
       "      <th>created_at</th>\n",
       "      <th>urls</th>\n",
       "      <th>article</th>\n",
       "    </tr>\n",
       "  </thead>\n",
       "  <tbody>\n",
       "    <tr>\n",
       "      <th>41167</th>\n",
       "      <td>947658764064243713</td>\n",
       "      <td>2018-01-01 08:25:30+05:45</td>\n",
       "      <td>https://goo.gl/6aTfY9</td>\n",
       "      <td>NaN</td>\n",
       "    </tr>\n",
       "    <tr>\n",
       "      <th>41168</th>\n",
       "      <td>947658303290580993</td>\n",
       "      <td>2018-01-01 08:23:40+05:45</td>\n",
       "      <td>https://goo.gl/eLy4Pe</td>\n",
       "      <td>NaN</td>\n",
       "    </tr>\n",
       "    <tr>\n",
       "      <th>41169</th>\n",
       "      <td>947655493631188992</td>\n",
       "      <td>2018-01-01 08:12:30+05:45</td>\n",
       "      <td>https://goo.gl/CwpTUq</td>\n",
       "      <td>NaN</td>\n",
       "    </tr>\n",
       "    <tr>\n",
       "      <th>41170</th>\n",
       "      <td>947654732121743361</td>\n",
       "      <td>2018-01-01 08:09:29+05:45</td>\n",
       "      <td>https://goo.gl/WpfygX</td>\n",
       "      <td>NaN</td>\n",
       "    </tr>\n",
       "    <tr>\n",
       "      <th>41171</th>\n",
       "      <td>947654028317507584</td>\n",
       "      <td>2018-01-01 08:06:41+05:45</td>\n",
       "      <td>https://goo.gl/e47Gfo</td>\n",
       "      <td>NaN</td>\n",
       "    </tr>\n",
       "  </tbody>\n",
       "</table>\n",
       "</div>"
      ],
      "text/plain": [
       "                       id                 created_at                   urls  \\\n",
       "41167  947658764064243713  2018-01-01 08:25:30+05:45  https://goo.gl/6aTfY9   \n",
       "41168  947658303290580993  2018-01-01 08:23:40+05:45  https://goo.gl/eLy4Pe   \n",
       "41169  947655493631188992  2018-01-01 08:12:30+05:45  https://goo.gl/CwpTUq   \n",
       "41170  947654732121743361  2018-01-01 08:09:29+05:45  https://goo.gl/WpfygX   \n",
       "41171  947654028317507584  2018-01-01 08:06:41+05:45  https://goo.gl/e47Gfo   \n",
       "\n",
       "      article  \n",
       "41167     NaN  \n",
       "41168     NaN  \n",
       "41169     NaN  \n",
       "41170     NaN  \n",
       "41171     NaN  "
      ]
     },
     "execution_count": 49,
     "metadata": {},
     "output_type": "execute_result"
    }
   ],
   "source": [
    "df.tail()"
   ]
  },
  {
   "cell_type": "code",
   "execution_count": 51,
   "metadata": {},
   "outputs": [
    {
     "data": {
      "text/html": [
       "<div>\n",
       "<style scoped>\n",
       "    .dataframe tbody tr th:only-of-type {\n",
       "        vertical-align: middle;\n",
       "    }\n",
       "\n",
       "    .dataframe tbody tr th {\n",
       "        vertical-align: top;\n",
       "    }\n",
       "\n",
       "    .dataframe thead th {\n",
       "        text-align: right;\n",
       "    }\n",
       "</style>\n",
       "<table border=\"1\" class=\"dataframe\">\n",
       "  <thead>\n",
       "    <tr style=\"text-align: right;\">\n",
       "      <th></th>\n",
       "      <th>id</th>\n",
       "      <th>created_at</th>\n",
       "      <th>urls</th>\n",
       "      <th>article</th>\n",
       "    </tr>\n",
       "  </thead>\n",
       "  <tbody>\n",
       "    <tr>\n",
       "      <th>0</th>\n",
       "      <td>1376900077713678345</td>\n",
       "      <td>2021-03-30 19:57:14+05:45</td>\n",
       "      <td>https://myrepublica.nagariknetwork.com/news/ne...</td>\n",
       "      <td>KATHMANDU, March 30: The equity market opened ...</td>\n",
       "    </tr>\n",
       "    <tr>\n",
       "      <th>1</th>\n",
       "      <td>1376899173098745862</td>\n",
       "      <td>2021-03-30 19:53:39+05:45</td>\n",
       "      <td>https://myrepublica.nagariknetwork.com/news/go...</td>\n",
       "      <td>KATHMANDU, March 30: Expressing strong dissati...</td>\n",
       "    </tr>\n",
       "    <tr>\n",
       "      <th>2</th>\n",
       "      <td>1376885989214355469</td>\n",
       "      <td>2021-03-30 19:01:15+05:45</td>\n",
       "      <td>https://myrepublica.nagariknetwork.com/news/yo...</td>\n",
       "      <td>Pandey accuses Oli of misusing state power and...</td>\n",
       "    </tr>\n",
       "    <tr>\n",
       "      <th>3</th>\n",
       "      <td>1376871383347519488</td>\n",
       "      <td>2021-03-30 18:03:13+05:45</td>\n",
       "      <td>https://myrepublica.nagariknetwork.com/news/us...</td>\n",
       "      <td>KATHMANDU, March 30: Nepal Police's Central In...</td>\n",
       "    </tr>\n",
       "    <tr>\n",
       "      <th>4</th>\n",
       "      <td>1376866695051014146</td>\n",
       "      <td>2021-03-30 17:44:35+05:45</td>\n",
       "      <td>https://myrepublica.nagariknetwork.com/news/pm...</td>\n",
       "      <td>KATHMANDU, March 30: The government is all set...</td>\n",
       "    </tr>\n",
       "    <tr>\n",
       "      <th>...</th>\n",
       "      <td>...</td>\n",
       "      <td>...</td>\n",
       "      <td>...</td>\n",
       "      <td>...</td>\n",
       "    </tr>\n",
       "    <tr>\n",
       "      <th>41167</th>\n",
       "      <td>947658764064243713</td>\n",
       "      <td>2018-01-01 08:25:30+05:45</td>\n",
       "      <td>https://goo.gl/6aTfY9</td>\n",
       "      <td>NaN</td>\n",
       "    </tr>\n",
       "    <tr>\n",
       "      <th>41168</th>\n",
       "      <td>947658303290580993</td>\n",
       "      <td>2018-01-01 08:23:40+05:45</td>\n",
       "      <td>https://goo.gl/eLy4Pe</td>\n",
       "      <td>NaN</td>\n",
       "    </tr>\n",
       "    <tr>\n",
       "      <th>41169</th>\n",
       "      <td>947655493631188992</td>\n",
       "      <td>2018-01-01 08:12:30+05:45</td>\n",
       "      <td>https://goo.gl/CwpTUq</td>\n",
       "      <td>NaN</td>\n",
       "    </tr>\n",
       "    <tr>\n",
       "      <th>41170</th>\n",
       "      <td>947654732121743361</td>\n",
       "      <td>2018-01-01 08:09:29+05:45</td>\n",
       "      <td>https://goo.gl/WpfygX</td>\n",
       "      <td>NaN</td>\n",
       "    </tr>\n",
       "    <tr>\n",
       "      <th>41171</th>\n",
       "      <td>947654028317507584</td>\n",
       "      <td>2018-01-01 08:06:41+05:45</td>\n",
       "      <td>https://goo.gl/e47Gfo</td>\n",
       "      <td>NaN</td>\n",
       "    </tr>\n",
       "  </tbody>\n",
       "</table>\n",
       "<p>41172 rows × 4 columns</p>\n",
       "</div>"
      ],
      "text/plain": [
       "                        id                 created_at  \\\n",
       "0      1376900077713678345  2021-03-30 19:57:14+05:45   \n",
       "1      1376899173098745862  2021-03-30 19:53:39+05:45   \n",
       "2      1376885989214355469  2021-03-30 19:01:15+05:45   \n",
       "3      1376871383347519488  2021-03-30 18:03:13+05:45   \n",
       "4      1376866695051014146  2021-03-30 17:44:35+05:45   \n",
       "...                    ...                        ...   \n",
       "41167   947658764064243713  2018-01-01 08:25:30+05:45   \n",
       "41168   947658303290580993  2018-01-01 08:23:40+05:45   \n",
       "41169   947655493631188992  2018-01-01 08:12:30+05:45   \n",
       "41170   947654732121743361  2018-01-01 08:09:29+05:45   \n",
       "41171   947654028317507584  2018-01-01 08:06:41+05:45   \n",
       "\n",
       "                                                    urls  \\\n",
       "0      https://myrepublica.nagariknetwork.com/news/ne...   \n",
       "1      https://myrepublica.nagariknetwork.com/news/go...   \n",
       "2      https://myrepublica.nagariknetwork.com/news/yo...   \n",
       "3      https://myrepublica.nagariknetwork.com/news/us...   \n",
       "4      https://myrepublica.nagariknetwork.com/news/pm...   \n",
       "...                                                  ...   \n",
       "41167                              https://goo.gl/6aTfY9   \n",
       "41168                              https://goo.gl/eLy4Pe   \n",
       "41169                              https://goo.gl/CwpTUq   \n",
       "41170                              https://goo.gl/WpfygX   \n",
       "41171                              https://goo.gl/e47Gfo   \n",
       "\n",
       "                                                 article  \n",
       "0      KATHMANDU, March 30: The equity market opened ...  \n",
       "1      KATHMANDU, March 30: Expressing strong dissati...  \n",
       "2      Pandey accuses Oli of misusing state power and...  \n",
       "3      KATHMANDU, March 30: Nepal Police's Central In...  \n",
       "4      KATHMANDU, March 30: The government is all set...  \n",
       "...                                                  ...  \n",
       "41167                                                NaN  \n",
       "41168                                                NaN  \n",
       "41169                                                NaN  \n",
       "41170                                                NaN  \n",
       "41171                                                NaN  \n",
       "\n",
       "[41172 rows x 4 columns]"
      ]
     },
     "execution_count": 51,
     "metadata": {},
     "output_type": "execute_result"
    }
   ],
   "source": [
    "df"
   ]
  },
  {
   "cell_type": "markdown",
   "metadata": {},
   "source": [
    "## Chunk"
   ]
  },
  {
   "cell_type": "code",
   "execution_count": 52,
   "metadata": {},
   "outputs": [],
   "source": [
    "def article_ktmpost(row):\n",
    "    try:\n",
    "        if (row.article != row.article):\n",
    "            url = row.urls\n",
    "            req = requests.get(url, headers)\n",
    "            soup = BeautifulSoup(req.content, 'html.parser')\n",
    "            result = soup.find(\"div\", {\"class\": \"col-sm-8\"})\n",
    "            return result.text\n",
    "        return row.article\n",
    "    except Exception as e:\n",
    "        print (str(e))\n",
    "        return 404\n",
    "    \n",
    "def article(row):\n",
    "    try:\n",
    "        if (row.article != row.article):\n",
    "            url = row.urls\n",
    "            article = Article(url)\n",
    "            article.download()\n",
    "            article.parse()\n",
    "            return article.text\n",
    "        return row.article\n",
    "    except Exception as e:\n",
    "        print (str(e))\n",
    "        return 404  "
   ]
  },
  {
   "cell_type": "code",
   "execution_count": null,
   "metadata": {},
   "outputs": [
    {
     "data": {
      "application/vnd.jupyter.widget-view+json": {
       "model_id": "f43fcd5fa69a4123b18eabda16e605d9",
       "version_major": 2,
       "version_minor": 0
      },
      "text/plain": [
       "HBox(children=(HTML(value=''), FloatProgress(value=0.0, max=1000.0), HTML(value='')))"
      ]
     },
     "metadata": {},
     "output_type": "display_data"
    },
    {
     "name": "stdout",
     "output_type": "stream",
     "text": [
      "\n"
     ]
    },
    {
     "data": {
      "application/vnd.jupyter.widget-view+json": {
       "model_id": "90e78be7198d4abc8d6bb8f498a995ff",
       "version_major": 2,
       "version_minor": 0
      },
      "text/plain": [
       "HBox(children=(HTML(value=''), FloatProgress(value=0.0, max=1000.0), HTML(value='')))"
      ]
     },
     "metadata": {},
     "output_type": "display_data"
    },
    {
     "name": "stdout",
     "output_type": "stream",
     "text": [
      "\n"
     ]
    },
    {
     "data": {
      "application/vnd.jupyter.widget-view+json": {
       "model_id": "2c4e20c886da4a64bd60ae5ce86066b3",
       "version_major": 2,
       "version_minor": 0
      },
      "text/plain": [
       "HBox(children=(HTML(value=''), FloatProgress(value=0.0, max=1000.0), HTML(value='')))"
      ]
     },
     "metadata": {},
     "output_type": "display_data"
    },
    {
     "name": "stdout",
     "output_type": "stream",
     "text": [
      "\n"
     ]
    },
    {
     "data": {
      "application/vnd.jupyter.widget-view+json": {
       "model_id": "b5f5dc3337b0482388a0c5262f8ab77e",
       "version_major": 2,
       "version_minor": 0
      },
      "text/plain": [
       "HBox(children=(HTML(value=''), FloatProgress(value=0.0, max=1000.0), HTML(value='')))"
      ]
     },
     "metadata": {},
     "output_type": "display_data"
    },
    {
     "name": "stdout",
     "output_type": "stream",
     "text": [
      "\n"
     ]
    },
    {
     "data": {
      "application/vnd.jupyter.widget-view+json": {
       "model_id": "6fb7626019d4486da4f09ab902029d6a",
       "version_major": 2,
       "version_minor": 0
      },
      "text/plain": [
       "HBox(children=(HTML(value=''), FloatProgress(value=0.0, max=1000.0), HTML(value='')))"
      ]
     },
     "metadata": {},
     "output_type": "display_data"
    },
    {
     "name": "stdout",
     "output_type": "stream",
     "text": [
      "\n"
     ]
    },
    {
     "data": {
      "application/vnd.jupyter.widget-view+json": {
       "model_id": "0ef9c74683e94c9e84778c1763a09630",
       "version_major": 2,
       "version_minor": 0
      },
      "text/plain": [
       "HBox(children=(HTML(value=''), FloatProgress(value=0.0, max=1000.0), HTML(value='')))"
      ]
     },
     "metadata": {},
     "output_type": "display_data"
    },
    {
     "name": "stdout",
     "output_type": "stream",
     "text": [
      "\n"
     ]
    },
    {
     "data": {
      "application/vnd.jupyter.widget-view+json": {
       "model_id": "f99f81e4ea4c42118869aafe86e35fca",
       "version_major": 2,
       "version_minor": 0
      },
      "text/plain": [
       "HBox(children=(HTML(value=''), FloatProgress(value=0.0, max=1000.0), HTML(value='')))"
      ]
     },
     "metadata": {},
     "output_type": "display_data"
    },
    {
     "name": "stdout",
     "output_type": "stream",
     "text": [
      "\n"
     ]
    },
    {
     "data": {
      "application/vnd.jupyter.widget-view+json": {
       "model_id": "6842a03ecc934b6dbacdae32f5a7e2f2",
       "version_major": 2,
       "version_minor": 0
      },
      "text/plain": [
       "HBox(children=(HTML(value=''), FloatProgress(value=0.0, max=1000.0), HTML(value='')))"
      ]
     },
     "metadata": {},
     "output_type": "display_data"
    },
    {
     "name": "stdout",
     "output_type": "stream",
     "text": [
      "\n"
     ]
    },
    {
     "data": {
      "application/vnd.jupyter.widget-view+json": {
       "model_id": "01716242e85f4db9aacc0e2d26193504",
       "version_major": 2,
       "version_minor": 0
      },
      "text/plain": [
       "HBox(children=(HTML(value=''), FloatProgress(value=0.0, max=1000.0), HTML(value='')))"
      ]
     },
     "metadata": {},
     "output_type": "display_data"
    },
    {
     "name": "stdout",
     "output_type": "stream",
     "text": [
      "\n"
     ]
    },
    {
     "data": {
      "application/vnd.jupyter.widget-view+json": {
       "model_id": "f51409009f514b11b26dc680d7dda2e9",
       "version_major": 2,
       "version_minor": 0
      },
      "text/plain": [
       "HBox(children=(HTML(value=''), FloatProgress(value=0.0, max=1000.0), HTML(value='')))"
      ]
     },
     "metadata": {},
     "output_type": "display_data"
    },
    {
     "name": "stdout",
     "output_type": "stream",
     "text": [
      "\n"
     ]
    },
    {
     "data": {
      "application/vnd.jupyter.widget-view+json": {
       "model_id": "8a71d04aa7644b9380f222ae8ba3ff9e",
       "version_major": 2,
       "version_minor": 0
      },
      "text/plain": [
       "HBox(children=(HTML(value=''), FloatProgress(value=0.0, max=1000.0), HTML(value='')))"
      ]
     },
     "metadata": {},
     "output_type": "display_data"
    },
    {
     "name": "stdout",
     "output_type": "stream",
     "text": [
      "\n"
     ]
    },
    {
     "data": {
      "application/vnd.jupyter.widget-view+json": {
       "model_id": "01f372f3660d4af1815cc0eaa56473ba",
       "version_major": 2,
       "version_minor": 0
      },
      "text/plain": [
       "HBox(children=(HTML(value=''), FloatProgress(value=0.0, max=1000.0), HTML(value='')))"
      ]
     },
     "metadata": {},
     "output_type": "display_data"
    },
    {
     "name": "stdout",
     "output_type": "stream",
     "text": [
      "\n"
     ]
    },
    {
     "data": {
      "application/vnd.jupyter.widget-view+json": {
       "model_id": "840e7b08f37d463fbfdec570dcdf1b81",
       "version_major": 2,
       "version_minor": 0
      },
      "text/plain": [
       "HBox(children=(HTML(value=''), FloatProgress(value=0.0, max=1000.0), HTML(value='')))"
      ]
     },
     "metadata": {},
     "output_type": "display_data"
    },
    {
     "name": "stdout",
     "output_type": "stream",
     "text": [
      "\n"
     ]
    },
    {
     "data": {
      "application/vnd.jupyter.widget-view+json": {
       "model_id": "af8d3ff1df5746e3b068db73e96e4a5a",
       "version_major": 2,
       "version_minor": 0
      },
      "text/plain": [
       "HBox(children=(HTML(value=''), FloatProgress(value=0.0, max=1000.0), HTML(value='')))"
      ]
     },
     "metadata": {},
     "output_type": "display_data"
    },
    {
     "name": "stdout",
     "output_type": "stream",
     "text": [
      "\n"
     ]
    },
    {
     "data": {
      "application/vnd.jupyter.widget-view+json": {
       "model_id": "01201f5826354f96a4c780a21e73145b",
       "version_major": 2,
       "version_minor": 0
      },
      "text/plain": [
       "HBox(children=(HTML(value=''), FloatProgress(value=0.0, max=1000.0), HTML(value='')))"
      ]
     },
     "metadata": {},
     "output_type": "display_data"
    },
    {
     "name": "stdout",
     "output_type": "stream",
     "text": [
      "\n"
     ]
    },
    {
     "data": {
      "application/vnd.jupyter.widget-view+json": {
       "model_id": "7c915d09bc754ceea9cdb21c8b97b0d8",
       "version_major": 2,
       "version_minor": 0
      },
      "text/plain": [
       "HBox(children=(HTML(value=''), FloatProgress(value=0.0, max=1000.0), HTML(value='')))"
      ]
     },
     "metadata": {},
     "output_type": "display_data"
    },
    {
     "name": "stdout",
     "output_type": "stream",
     "text": [
      "\n"
     ]
    },
    {
     "data": {
      "application/vnd.jupyter.widget-view+json": {
       "model_id": "f63d22d0b42b4e90b72456c4852b36ba",
       "version_major": 2,
       "version_minor": 0
      },
      "text/plain": [
       "HBox(children=(HTML(value=''), FloatProgress(value=0.0, max=1000.0), HTML(value='')))"
      ]
     },
     "metadata": {},
     "output_type": "display_data"
    },
    {
     "name": "stdout",
     "output_type": "stream",
     "text": [
      "\n"
     ]
    },
    {
     "data": {
      "application/vnd.jupyter.widget-view+json": {
       "model_id": "5a2b6df8b33340bbba9c67d562c4caa3",
       "version_major": 2,
       "version_minor": 0
      },
      "text/plain": [
       "HBox(children=(HTML(value=''), FloatProgress(value=0.0, max=1000.0), HTML(value='')))"
      ]
     },
     "metadata": {},
     "output_type": "display_data"
    },
    {
     "name": "stdout",
     "output_type": "stream",
     "text": [
      "\n"
     ]
    },
    {
     "data": {
      "application/vnd.jupyter.widget-view+json": {
       "model_id": "da6bfc7de1fc433a9303a8a6bcc6b00d",
       "version_major": 2,
       "version_minor": 0
      },
      "text/plain": [
       "HBox(children=(HTML(value=''), FloatProgress(value=0.0, max=1000.0), HTML(value='')))"
      ]
     },
     "metadata": {},
     "output_type": "display_data"
    },
    {
     "name": "stdout",
     "output_type": "stream",
     "text": [
      "\n"
     ]
    },
    {
     "data": {
      "application/vnd.jupyter.widget-view+json": {
       "model_id": "7e5d9a767f80488e8ac54dd35af54a93",
       "version_major": 2,
       "version_minor": 0
      },
      "text/plain": [
       "HBox(children=(HTML(value=''), FloatProgress(value=0.0, max=1000.0), HTML(value='')))"
      ]
     },
     "metadata": {},
     "output_type": "display_data"
    },
    {
     "name": "stdout",
     "output_type": "stream",
     "text": [
      "\n"
     ]
    },
    {
     "data": {
      "application/vnd.jupyter.widget-view+json": {
       "model_id": "6eccb660ad1646a2ab40599ed7d26f74",
       "version_major": 2,
       "version_minor": 0
      },
      "text/plain": [
       "HBox(children=(HTML(value=''), FloatProgress(value=0.0, max=1000.0), HTML(value='')))"
      ]
     },
     "metadata": {},
     "output_type": "display_data"
    },
    {
     "name": "stdout",
     "output_type": "stream",
     "text": [
      "\n"
     ]
    },
    {
     "data": {
      "application/vnd.jupyter.widget-view+json": {
       "model_id": "b85f0e82929f435b82522391afedc94d",
       "version_major": 2,
       "version_minor": 0
      },
      "text/plain": [
       "HBox(children=(HTML(value=''), FloatProgress(value=0.0, max=1000.0), HTML(value='')))"
      ]
     },
     "metadata": {},
     "output_type": "display_data"
    },
    {
     "name": "stdout",
     "output_type": "stream",
     "text": [
      "\n"
     ]
    },
    {
     "data": {
      "application/vnd.jupyter.widget-view+json": {
       "model_id": "9b7b563e138a40b188d54da2e618beae",
       "version_major": 2,
       "version_minor": 0
      },
      "text/plain": [
       "HBox(children=(HTML(value=''), FloatProgress(value=0.0, max=1000.0), HTML(value='')))"
      ]
     },
     "metadata": {},
     "output_type": "display_data"
    },
    {
     "name": "stdout",
     "output_type": "stream",
     "text": [
      "\n"
     ]
    },
    {
     "data": {
      "application/vnd.jupyter.widget-view+json": {
       "model_id": "fc46d31dabfc4045951edefa202bff3a",
       "version_major": 2,
       "version_minor": 0
      },
      "text/plain": [
       "HBox(children=(HTML(value=''), FloatProgress(value=0.0, max=1000.0), HTML(value='')))"
      ]
     },
     "metadata": {},
     "output_type": "display_data"
    },
    {
     "name": "stdout",
     "output_type": "stream",
     "text": [
      "\n"
     ]
    },
    {
     "data": {
      "application/vnd.jupyter.widget-view+json": {
       "model_id": "5c851492625f4603a79ad98e09ac7ede",
       "version_major": 2,
       "version_minor": 0
      },
      "text/plain": [
       "HBox(children=(HTML(value=''), FloatProgress(value=0.0, max=1000.0), HTML(value='')))"
      ]
     },
     "metadata": {},
     "output_type": "display_data"
    },
    {
     "name": "stdout",
     "output_type": "stream",
     "text": [
      "Article `download()` failed with HTTPConnectionPool(host='uk.news-republic.com', port=80): Max retries exceeded with url: /M/4/1460940 (Caused by NewConnectionError('<urllib3.connection.HTTPConnection object at 0x7ff0cad30be0>: Failed to establish a new connection: [Errno 8] nodename nor servname provided, or not known')) on URL https://goo.gl/rXZVC\n",
      "Article `download()` failed with 404 Client Error: Not Found for url: https://myrepublica.nagariknetwork.com/news/police-arrest-30-for-flagging-off-pm-oli/01-5010277 on URL https://myrepublica.nagariknetwork.com/news/police-arrest-30-for-flagging-off-pm-oli/01-5010277\n",
      "Article `download()` failed with 404 Client Error: Not Found for url: https://myrepublica.nagariknetwork.com/news/us-concerned-over-peace-in-indo-pacific-region-says-us-admiral-davidson/ on URL https://goo.gl/dMYuSW\n",
      "Article `download()` failed with 404 Client Error: Not Found for url: https://myrepublica.nagariknetwork.com/news/bibeksheel-sajha-party-split-as-thapa-camp-quits/ on URL https://is.gd/A43p4F\n",
      "Article `download()` failed with 404 Client Error: Not Found for url: https://myrepublica.nagariknetwork.com/news/police-intensifies-search-after-murder-evidences-found-inside-aashram/ on URL https://myrepublica.nagariknetwork.com/news/police-intensifies-search-after-murder-evidences-found-inside-aashram/\n",
      "Article `download()` failed with 404 Client Error: Not Found for url: https://myrepublica.nagariknetwork.com/news/prithvi-narayan-deserves-credit-for-nepal-s-integrity-pm/ on URL https://myrepublica.nagariknetwork.com/news/prithvi-narayan-deserves-credit-for-nepal-s-integrity-pm/\n",
      "Article `download()` failed with 404 Client Error: Not Found for url: https://myrepublica.nagariknetwork.com/news/i-ll-take-full-responsibility-for-judicial-reform-cj-rana/ on URL https://myrepublica.nagariknetwork.com/news/i-ll-take-full-responsibility-for-judicial-reform-cj-rana/\n",
      "Article `download()` failed with 404 Client Error: Not Found for url: https://myrepublica.nagariknetwork.com/news/usindopacom-commander-davidson-in-nepal/ on URL https://goo.gl/faCWKk\n",
      "Article `download()` failed with 404 Client Error: Not Found for url: https://myrepublica.nagariknetwork.com/news/taliban-kill-more-than-30-members-of-afghan-security-forces-and-militias/ on URL https://is.gd/zrlsOm\n",
      "Article `download()` failed with 404 Client Error: Not Found for url: https://myrepublica.nagariknetwork.com/news/foreign-minister-gyawali-leaving-for-india-tomorrow/ on URL https://goo.gl/qRPjoU\n",
      "Article `download()` failed with 404 Client Error: Not Found for url: https://myrepublica.nagariknetwork.com/news/5-common-myths-about-fertility-with-video/ on URL https://is.gd/gBiSNC\n",
      "Article `download()` failed with 404 Client Error: Not Found for url: https://myrepublica.nagariknetwork.com/news/ciaa-files-illegal-wealth-amassing-case-against-ex-chief-of-noc-khadka/ on URL https://goo.gl/98XzKQ\n",
      "Article `download()` failed with 404 Client Error: Not Found for url: https://myrepublica.nagariknetwork.com/news/fire-destroys-furniture-factory-guts-property-worth-rs-7-million-with-video/ on URL https://is.gd/2oFGzP\n",
      "Article `download()` failed with 404 Client Error: Not Found for url: https://myrepublica.nagariknetwork.com/news/widebody-probe-body-should-include-aviation-expert-top-ex-caan-officials/ on URL https://is.gd/kPvWRB\n",
      "Article `download()` failed with 404 Client Error: Not Found for url: https://myrepublica.nagariknetwork.com/news/drop-beef-to-save-millions-of-lives-and-cut-greenhouse-gas-emissions-world-economic-forum/ on URL https://myrepublica.nagariknetwork.com/news/drop-beef-to-save-millions-of-lives-and-cut-greenhouse-gas-emissions-world-economic-forum/\n",
      "\n"
     ]
    },
    {
     "data": {
      "application/vnd.jupyter.widget-view+json": {
       "model_id": "8390ebf1fc434d80995f8d767db15297",
       "version_major": 2,
       "version_minor": 0
      },
      "text/plain": [
       "HBox(children=(HTML(value=''), FloatProgress(value=0.0, max=1000.0), HTML(value='')))"
      ]
     },
     "metadata": {},
     "output_type": "display_data"
    }
   ],
   "source": [
    "file_path = \"RepublicaNepal.csv\"\n",
    "result_file_path = \"RepublicaNepal_articles_continue1.csv\"\n",
    "\n",
    "pd.read_csv(file_path, nrows=1).head(0).to_csv(result_file_path)\n",
    "dataframe = pd.read_csv(file_path, iterator=True, chunksize=1000)\n",
    "\n",
    "for chunk in dataframe:\n",
    "   chunk['article'] = chunk.progress_apply(article, axis=1)\n",
    "   chunk.to_csv(result_file_path, mode='a', header=None)"
   ]
  },
  {
   "cell_type": "code",
   "execution_count": 46,
   "metadata": {},
   "outputs": [],
   "source": [
    "new = pd.read_csv(result_file_path)"
   ]
  },
  {
   "cell_type": "code",
   "execution_count": 50,
   "metadata": {},
   "outputs": [
    {
     "data": {
      "text/plain": [
       "(29565, 5)"
      ]
     },
     "execution_count": 50,
     "metadata": {},
     "output_type": "execute_result"
    }
   ],
   "source": [
    "new.shape"
   ]
  },
  {
   "cell_type": "code",
   "execution_count": 52,
   "metadata": {},
   "outputs": [],
   "source": [
    "new[new.article!='404'][['id', 'created_at', 'urls', 'article']].to_csv('KathmanduPost.csv', index=False)"
   ]
  }
 ],
 "metadata": {
  "kernelspec": {
   "display_name": "Python 3",
   "language": "python",
   "name": "python3"
  },
  "language_info": {
   "codemirror_mode": {
    "name": "ipython",
    "version": 3
   },
   "file_extension": ".py",
   "mimetype": "text/x-python",
   "name": "python",
   "nbconvert_exporter": "python",
   "pygments_lexer": "ipython3",
   "version": "3.8.5"
  }
 },
 "nbformat": 4,
 "nbformat_minor": 4
}
