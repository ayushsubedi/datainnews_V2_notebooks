{
 "cells": [
  {
   "cell_type": "code",
   "execution_count": 1,
   "metadata": {},
   "outputs": [],
   "source": [
    "import pandas as pd\n",
    "from newspaper import Article\n",
    "import nltk\n",
    "import ast\n",
    "import requests\n",
    "from tqdm.auto import tqdm\n",
    "tqdm.pandas()\n",
    "from bs4 import BeautifulSoup, Comment\n",
    "import numpy as np"
   ]
  },
  {
   "cell_type": "code",
   "execution_count": 2,
   "metadata": {},
   "outputs": [],
   "source": [
    "headers = {\n",
    "    'Access-Control-Allow-Origin': '*',\n",
    "    'Access-Control-Allow-Methods': 'GET',\n",
    "    'Access-Control-Allow-Headers': 'Content-Type',\n",
    "    'Access-Control-Max-Age': '3600',\n",
    "    'User-Agent': 'Mozilla/5.0 (X11; Ubuntu; Linux x86_64; rv:52.0) Gecko/20100101 Firefox/52.0'\n",
    "    }"
   ]
  },
  {
   "cell_type": "code",
   "execution_count": 3,
   "metadata": {},
   "outputs": [],
   "source": [
    "df = pd.read_csv('KathmanduPost.csv')"
   ]
  },
  {
   "cell_type": "code",
   "execution_count": 4,
   "metadata": {},
   "outputs": [
    {
     "data": {
      "text/plain": [
       "['id', 'created_at', 'urls', 'article']"
      ]
     },
     "execution_count": 4,
     "metadata": {},
     "output_type": "execute_result"
    }
   ],
   "source": [
    "list(df)"
   ]
  },
  {
   "cell_type": "code",
   "execution_count": 5,
   "metadata": {},
   "outputs": [
    {
     "data": {
      "text/plain": [
       "(30747, 4)"
      ]
     },
     "execution_count": 5,
     "metadata": {},
     "output_type": "execute_result"
    }
   ],
   "source": [
    "df.shape"
   ]
  },
  {
   "cell_type": "code",
   "execution_count": 6,
   "metadata": {},
   "outputs": [
    {
     "data": {
      "text/html": [
       "<div>\n",
       "<style scoped>\n",
       "    .dataframe tbody tr th:only-of-type {\n",
       "        vertical-align: middle;\n",
       "    }\n",
       "\n",
       "    .dataframe tbody tr th {\n",
       "        vertical-align: top;\n",
       "    }\n",
       "\n",
       "    .dataframe thead th {\n",
       "        text-align: right;\n",
       "    }\n",
       "</style>\n",
       "<table border=\"1\" class=\"dataframe\">\n",
       "  <thead>\n",
       "    <tr style=\"text-align: right;\">\n",
       "      <th></th>\n",
       "      <th>id</th>\n",
       "      <th>created_at</th>\n",
       "      <th>urls</th>\n",
       "      <th>article</th>\n",
       "    </tr>\n",
       "  </thead>\n",
       "  <tbody>\n",
       "    <tr>\n",
       "      <th>0</th>\n",
       "      <td>1376943554061348864</td>\n",
       "      <td>2021-03-30 22:50:00+05:45</td>\n",
       "      <td>http://tkpo.st/31u5qcO</td>\n",
       "      <td>National A Qatari woman aims to climb Everest ...</td>\n",
       "    </tr>\n",
       "    <tr>\n",
       "      <th>1</th>\n",
       "      <td>1376880639417323524</td>\n",
       "      <td>2021-03-30 18:40:00+05:45</td>\n",
       "      <td>https://tkpo.st/3sBwym6</td>\n",
       "      <td>World Myanmar protesters launch 'garbage strik...</td>\n",
       "    </tr>\n",
       "    <tr>\n",
       "      <th>2</th>\n",
       "      <td>1376861721130790912</td>\n",
       "      <td>2021-03-30 17:24:49+05:45</td>\n",
       "      <td>https://tkpo.st/3fnEiEw</td>\n",
       "      <td>Health Nepal’s Covid-19 toll reaches 3,030 wit...</td>\n",
       "    </tr>\n",
       "    <tr>\n",
       "      <th>3</th>\n",
       "      <td>1376839351791804417</td>\n",
       "      <td>2021-03-30 15:55:56+05:45</td>\n",
       "      <td>https://tkpo.st/3m2CBh7</td>\n",
       "      <td>NaN</td>\n",
       "    </tr>\n",
       "    <tr>\n",
       "      <th>4</th>\n",
       "      <td>1376807388439699456</td>\n",
       "      <td>2021-03-30 13:48:55+05:45</td>\n",
       "      <td>https://tkpo.st/31xfdPe</td>\n",
       "      <td>National Dahal files petition at Supreme Court...</td>\n",
       "    </tr>\n",
       "  </tbody>\n",
       "</table>\n",
       "</div>"
      ],
      "text/plain": [
       "                    id                 created_at                     urls  \\\n",
       "0  1376943554061348864  2021-03-30 22:50:00+05:45   http://tkpo.st/31u5qcO   \n",
       "1  1376880639417323524  2021-03-30 18:40:00+05:45  https://tkpo.st/3sBwym6   \n",
       "2  1376861721130790912  2021-03-30 17:24:49+05:45  https://tkpo.st/3fnEiEw   \n",
       "3  1376839351791804417  2021-03-30 15:55:56+05:45  https://tkpo.st/3m2CBh7   \n",
       "4  1376807388439699456  2021-03-30 13:48:55+05:45  https://tkpo.st/31xfdPe   \n",
       "\n",
       "                                             article  \n",
       "0  National A Qatari woman aims to climb Everest ...  \n",
       "1  World Myanmar protesters launch 'garbage strik...  \n",
       "2  Health Nepal’s Covid-19 toll reaches 3,030 wit...  \n",
       "3                                                NaN  \n",
       "4  National Dahal files petition at Supreme Court...  "
      ]
     },
     "execution_count": 6,
     "metadata": {},
     "output_type": "execute_result"
    }
   ],
   "source": [
    "df.head()"
   ]
  },
  {
   "cell_type": "code",
   "execution_count": 7,
   "metadata": {},
   "outputs": [
    {
     "data": {
      "text/html": [
       "<div>\n",
       "<style scoped>\n",
       "    .dataframe tbody tr th:only-of-type {\n",
       "        vertical-align: middle;\n",
       "    }\n",
       "\n",
       "    .dataframe tbody tr th {\n",
       "        vertical-align: top;\n",
       "    }\n",
       "\n",
       "    .dataframe thead th {\n",
       "        text-align: right;\n",
       "    }\n",
       "</style>\n",
       "<table border=\"1\" class=\"dataframe\">\n",
       "  <thead>\n",
       "    <tr style=\"text-align: right;\">\n",
       "      <th></th>\n",
       "      <th>id</th>\n",
       "      <th>created_at</th>\n",
       "      <th>urls</th>\n",
       "      <th>article</th>\n",
       "    </tr>\n",
       "  </thead>\n",
       "  <tbody>\n",
       "    <tr>\n",
       "      <th>30742</th>\n",
       "      <td>947657136892346368</td>\n",
       "      <td>2018-01-01 08:19:02+05:45</td>\n",
       "      <td>http://kathmandupost.ekantipur.com/news/2018-0...</td>\n",
       "      <td>NaN</td>\n",
       "    </tr>\n",
       "    <tr>\n",
       "      <th>30743</th>\n",
       "      <td>947654359294382080</td>\n",
       "      <td>2018-01-01 08:08:00+05:45</td>\n",
       "      <td>http://kathmandupost.ekantipur.com/news/2018-0...</td>\n",
       "      <td>NaN</td>\n",
       "    </tr>\n",
       "    <tr>\n",
       "      <th>30744</th>\n",
       "      <td>947652345613246464</td>\n",
       "      <td>2018-01-01 08:00:00+05:45</td>\n",
       "      <td>http://kathmandupost.ekantipur.com/news/2017-1...</td>\n",
       "      <td>NaN</td>\n",
       "    </tr>\n",
       "    <tr>\n",
       "      <th>30745</th>\n",
       "      <td>947637246810775552</td>\n",
       "      <td>2018-01-01 07:00:00+05:45</td>\n",
       "      <td>http://kathmandupost.ekantipur.com/news/2017-1...</td>\n",
       "      <td>NaN</td>\n",
       "    </tr>\n",
       "    <tr>\n",
       "      <th>30746</th>\n",
       "      <td>947622146783809537</td>\n",
       "      <td>2018-01-01 06:00:00+05:45</td>\n",
       "      <td>http://kathmandupost.ekantipur.com/news/2017-1...</td>\n",
       "      <td>NaN</td>\n",
       "    </tr>\n",
       "  </tbody>\n",
       "</table>\n",
       "</div>"
      ],
      "text/plain": [
       "                       id                 created_at  \\\n",
       "30742  947657136892346368  2018-01-01 08:19:02+05:45   \n",
       "30743  947654359294382080  2018-01-01 08:08:00+05:45   \n",
       "30744  947652345613246464  2018-01-01 08:00:00+05:45   \n",
       "30745  947637246810775552  2018-01-01 07:00:00+05:45   \n",
       "30746  947622146783809537  2018-01-01 06:00:00+05:45   \n",
       "\n",
       "                                                    urls article  \n",
       "30742  http://kathmandupost.ekantipur.com/news/2018-0...     NaN  \n",
       "30743  http://kathmandupost.ekantipur.com/news/2018-0...     NaN  \n",
       "30744  http://kathmandupost.ekantipur.com/news/2017-1...     NaN  \n",
       "30745  http://kathmandupost.ekantipur.com/news/2017-1...     NaN  \n",
       "30746  http://kathmandupost.ekantipur.com/news/2017-1...     NaN  "
      ]
     },
     "execution_count": 7,
     "metadata": {},
     "output_type": "execute_result"
    }
   ],
   "source": [
    "df.tail()"
   ]
  },
  {
   "cell_type": "markdown",
   "metadata": {},
   "source": [
    "## Chunk"
   ]
  },
  {
   "cell_type": "code",
   "execution_count": 8,
   "metadata": {},
   "outputs": [],
   "source": [
    "def article_ktmpost(row):\n",
    "    try:\n",
    "        if (row.article != row.article):\n",
    "            url = row.urls\n",
    "            req = requests.get(url, headers)\n",
    "            soup = BeautifulSoup(req.content, 'html.parser')\n",
    "            result = soup.find(\"div\", {\"class\": \"col-sm-8\"})\n",
    "            return result.text\n",
    "        return row.article\n",
    "    except Exception as e:\n",
    "        print (str(e))\n",
    "        return 404"
   ]
  },
  {
   "cell_type": "code",
   "execution_count": null,
   "metadata": {},
   "outputs": [
    {
     "data": {
      "application/vnd.jupyter.widget-view+json": {
       "model_id": "7f02816319b544c4b69d69b1f182f343",
       "version_major": 2,
       "version_minor": 0
      },
      "text/plain": [
       "HBox(children=(HTML(value=''), FloatProgress(value=0.0, max=1000.0), HTML(value='')))"
      ]
     },
     "metadata": {},
     "output_type": "display_data"
    },
    {
     "name": "stdout",
     "output_type": "stream",
     "text": [
      "'NoneType' object has no attribute 'text'\n",
      "'NoneType' object has no attribute 'text'\n",
      "'NoneType' object has no attribute 'text'\n",
      "'NoneType' object has no attribute 'text'\n",
      "'NoneType' object has no attribute 'text'\n",
      "'NoneType' object has no attribute 'text'\n",
      "'NoneType' object has no attribute 'text'\n",
      "'NoneType' object has no attribute 'text'\n",
      "'NoneType' object has no attribute 'text'\n",
      "'NoneType' object has no attribute 'text'\n",
      "'NoneType' object has no attribute 'text'\n",
      "'NoneType' object has no attribute 'text'\n",
      "'NoneType' object has no attribute 'text'\n",
      "'NoneType' object has no attribute 'text'\n",
      "'NoneType' object has no attribute 'text'\n",
      "'NoneType' object has no attribute 'text'\n",
      "'NoneType' object has no attribute 'text'\n",
      "'NoneType' object has no attribute 'text'\n",
      "'NoneType' object has no attribute 'text'\n",
      "'NoneType' object has no attribute 'text'\n",
      "'NoneType' object has no attribute 'text'\n",
      "'NoneType' object has no attribute 'text'\n",
      "'NoneType' object has no attribute 'text'\n",
      "'NoneType' object has no attribute 'text'\n",
      "'NoneType' object has no attribute 'text'\n",
      "'NoneType' object has no attribute 'text'\n",
      "'NoneType' object has no attribute 'text'\n",
      "'NoneType' object has no attribute 'text'\n",
      "'NoneType' object has no attribute 'text'\n",
      "'NoneType' object has no attribute 'text'\n",
      "\n"
     ]
    },
    {
     "data": {
      "application/vnd.jupyter.widget-view+json": {
       "model_id": "60a6f2615b19409bb0dea04f2a346f44",
       "version_major": 2,
       "version_minor": 0
      },
      "text/plain": [
       "HBox(children=(HTML(value=''), FloatProgress(value=0.0, max=1000.0), HTML(value='')))"
      ]
     },
     "metadata": {},
     "output_type": "display_data"
    },
    {
     "name": "stdout",
     "output_type": "stream",
     "text": [
      "'NoneType' object has no attribute 'text'\n",
      "'NoneType' object has no attribute 'text'\n",
      "'NoneType' object has no attribute 'text'\n",
      "'NoneType' object has no attribute 'text'\n",
      "'NoneType' object has no attribute 'text'\n",
      "'NoneType' object has no attribute 'text'\n"
     ]
    }
   ],
   "source": [
    "file_path = \"KathmanduPost.csv\"\n",
    "result_file_path = \"KathmanduPost_articles.csv\"\n",
    "\n",
    "pd.read_csv(file_path, nrows=1).head(0).to_csv(result_file_path)\n",
    "dataframe = pd.read_csv(file_path, iterator=True, chunksize=1000)\n",
    "\n",
    "for chunk in dataframe:\n",
    "   chunk['article'] = chunk.progress_apply(article_ktmpost, axis=1)\n",
    "   chunk.to_csv(result_file_path, mode='a', header=None)"
   ]
  }
 ],
 "metadata": {
  "kernelspec": {
   "display_name": "Python 3",
   "language": "python",
   "name": "python3"
  },
  "language_info": {
   "codemirror_mode": {
    "name": "ipython",
    "version": 3
   },
   "file_extension": ".py",
   "mimetype": "text/x-python",
   "name": "python",
   "nbconvert_exporter": "python",
   "pygments_lexer": "ipython3",
   "version": "3.8.5"
  }
 },
 "nbformat": 4,
 "nbformat_minor": 4
}
