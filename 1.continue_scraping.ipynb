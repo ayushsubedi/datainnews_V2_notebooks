{
 "cells": [
  {
   "cell_type": "code",
   "execution_count": 1,
   "metadata": {},
   "outputs": [],
   "source": [
    "import pandas as pd\n",
    "from newspaper import Article\n",
    "import nltk\n",
    "import ast\n",
    "import requests\n",
    "from tqdm.auto import tqdm\n",
    "tqdm.pandas()\n",
    "from bs4 import BeautifulSoup, Comment\n",
    "import numpy as np"
   ]
  },
  {
   "cell_type": "code",
   "execution_count": 2,
   "metadata": {},
   "outputs": [],
   "source": [
    "headers = {\n",
    "    'Access-Control-Allow-Origin': '*',\n",
    "    'Access-Control-Allow-Methods': 'GET',\n",
    "    'Access-Control-Allow-Headers': 'Content-Type',\n",
    "    'Access-Control-Max-Age': '3600',\n",
    "    'User-Agent': 'Mozilla/5.0 (X11; Ubuntu; Linux x86_64; rv:52.0) Gecko/20100101 Firefox/52.0'\n",
    "    }"
   ]
  },
  {
   "cell_type": "code",
   "execution_count": 29,
   "metadata": {},
   "outputs": [],
   "source": [
    "df = pd.read_csv('RepublicaNepal.csv')"
   ]
  },
  {
   "cell_type": "code",
   "execution_count": 6,
   "metadata": {},
   "outputs": [],
   "source": [
    "# new = pd.read_csv(\"RepublicaNepal_articles.csv\")"
   ]
  },
  {
   "cell_type": "code",
   "execution_count": 7,
   "metadata": {},
   "outputs": [],
   "source": [
    "# joined = df[['id', 'created_at', 'urls']].set_index('id').join(new[['id', 'article']].set_index('id')).reset_index()"
   ]
  },
  {
   "cell_type": "code",
   "execution_count": 27,
   "metadata": {},
   "outputs": [],
   "source": [
    "# joined['article'] = joined['article'].replace('404', np.NaN)"
   ]
  },
  {
   "cell_type": "code",
   "execution_count": 28,
   "metadata": {},
   "outputs": [],
   "source": [
    "# joined.to_csv('RepublicaNepal.csv', index=False)"
   ]
  },
  {
   "cell_type": "code",
   "execution_count": 30,
   "metadata": {},
   "outputs": [
    {
     "data": {
      "text/plain": [
       "(41226, 4)"
      ]
     },
     "execution_count": 30,
     "metadata": {},
     "output_type": "execute_result"
    }
   ],
   "source": [
    "df.shape"
   ]
  },
  {
   "cell_type": "code",
   "execution_count": 31,
   "metadata": {},
   "outputs": [
    {
     "data": {
      "text/html": [
       "<div>\n",
       "<style scoped>\n",
       "    .dataframe tbody tr th:only-of-type {\n",
       "        vertical-align: middle;\n",
       "    }\n",
       "\n",
       "    .dataframe tbody tr th {\n",
       "        vertical-align: top;\n",
       "    }\n",
       "\n",
       "    .dataframe thead th {\n",
       "        text-align: right;\n",
       "    }\n",
       "</style>\n",
       "<table border=\"1\" class=\"dataframe\">\n",
       "  <thead>\n",
       "    <tr style=\"text-align: right;\">\n",
       "      <th></th>\n",
       "      <th>id</th>\n",
       "      <th>created_at</th>\n",
       "      <th>urls</th>\n",
       "      <th>article</th>\n",
       "    </tr>\n",
       "  </thead>\n",
       "  <tbody>\n",
       "    <tr>\n",
       "      <th>0</th>\n",
       "      <td>1376900077713678345</td>\n",
       "      <td>2021-03-30 19:57:14+05:45</td>\n",
       "      <td>https://myrepublica.nagariknetwork.com/news/ne...</td>\n",
       "      <td>KATHMANDU, March 30: The equity market opened ...</td>\n",
       "    </tr>\n",
       "    <tr>\n",
       "      <th>1</th>\n",
       "      <td>1376899173098745862</td>\n",
       "      <td>2021-03-30 19:53:39+05:45</td>\n",
       "      <td>https://myrepublica.nagariknetwork.com/news/go...</td>\n",
       "      <td>KATHMANDU, March 30: Expressing strong dissati...</td>\n",
       "    </tr>\n",
       "    <tr>\n",
       "      <th>2</th>\n",
       "      <td>1376885989214355469</td>\n",
       "      <td>2021-03-30 19:01:15+05:45</td>\n",
       "      <td>https://myrepublica.nagariknetwork.com/news/yo...</td>\n",
       "      <td>Pandey accuses Oli of misusing state power and...</td>\n",
       "    </tr>\n",
       "    <tr>\n",
       "      <th>3</th>\n",
       "      <td>1376871383347519488</td>\n",
       "      <td>2021-03-30 18:03:13+05:45</td>\n",
       "      <td>https://myrepublica.nagariknetwork.com/news/us...</td>\n",
       "      <td>KATHMANDU, March 30: Nepal Police's Central In...</td>\n",
       "    </tr>\n",
       "    <tr>\n",
       "      <th>4</th>\n",
       "      <td>1376866695051014146</td>\n",
       "      <td>2021-03-30 17:44:35+05:45</td>\n",
       "      <td>https://myrepublica.nagariknetwork.com/news/pm...</td>\n",
       "      <td>KATHMANDU, March 30: The government is all set...</td>\n",
       "    </tr>\n",
       "  </tbody>\n",
       "</table>\n",
       "</div>"
      ],
      "text/plain": [
       "                    id                 created_at  \\\n",
       "0  1376900077713678345  2021-03-30 19:57:14+05:45   \n",
       "1  1376899173098745862  2021-03-30 19:53:39+05:45   \n",
       "2  1376885989214355469  2021-03-30 19:01:15+05:45   \n",
       "3  1376871383347519488  2021-03-30 18:03:13+05:45   \n",
       "4  1376866695051014146  2021-03-30 17:44:35+05:45   \n",
       "\n",
       "                                                urls  \\\n",
       "0  https://myrepublica.nagariknetwork.com/news/ne...   \n",
       "1  https://myrepublica.nagariknetwork.com/news/go...   \n",
       "2  https://myrepublica.nagariknetwork.com/news/yo...   \n",
       "3  https://myrepublica.nagariknetwork.com/news/us...   \n",
       "4  https://myrepublica.nagariknetwork.com/news/pm...   \n",
       "\n",
       "                                             article  \n",
       "0  KATHMANDU, March 30: The equity market opened ...  \n",
       "1  KATHMANDU, March 30: Expressing strong dissati...  \n",
       "2  Pandey accuses Oli of misusing state power and...  \n",
       "3  KATHMANDU, March 30: Nepal Police's Central In...  \n",
       "4  KATHMANDU, March 30: The government is all set...  "
      ]
     },
     "execution_count": 31,
     "metadata": {},
     "output_type": "execute_result"
    }
   ],
   "source": [
    "df.head()"
   ]
  },
  {
   "cell_type": "code",
   "execution_count": 32,
   "metadata": {},
   "outputs": [
    {
     "data": {
      "text/html": [
       "<div>\n",
       "<style scoped>\n",
       "    .dataframe tbody tr th:only-of-type {\n",
       "        vertical-align: middle;\n",
       "    }\n",
       "\n",
       "    .dataframe tbody tr th {\n",
       "        vertical-align: top;\n",
       "    }\n",
       "\n",
       "    .dataframe thead th {\n",
       "        text-align: right;\n",
       "    }\n",
       "</style>\n",
       "<table border=\"1\" class=\"dataframe\">\n",
       "  <thead>\n",
       "    <tr style=\"text-align: right;\">\n",
       "      <th></th>\n",
       "      <th>id</th>\n",
       "      <th>created_at</th>\n",
       "      <th>urls</th>\n",
       "      <th>article</th>\n",
       "    </tr>\n",
       "  </thead>\n",
       "  <tbody>\n",
       "    <tr>\n",
       "      <th>41221</th>\n",
       "      <td>947658764064243713</td>\n",
       "      <td>2018-01-01 08:25:30+05:45</td>\n",
       "      <td>https://goo.gl/6aTfY9</td>\n",
       "      <td>NaN</td>\n",
       "    </tr>\n",
       "    <tr>\n",
       "      <th>41222</th>\n",
       "      <td>947658303290580993</td>\n",
       "      <td>2018-01-01 08:23:40+05:45</td>\n",
       "      <td>https://goo.gl/eLy4Pe</td>\n",
       "      <td>NaN</td>\n",
       "    </tr>\n",
       "    <tr>\n",
       "      <th>41223</th>\n",
       "      <td>947655493631188992</td>\n",
       "      <td>2018-01-01 08:12:30+05:45</td>\n",
       "      <td>https://goo.gl/CwpTUq</td>\n",
       "      <td>NaN</td>\n",
       "    </tr>\n",
       "    <tr>\n",
       "      <th>41224</th>\n",
       "      <td>947654732121743361</td>\n",
       "      <td>2018-01-01 08:09:29+05:45</td>\n",
       "      <td>https://goo.gl/WpfygX</td>\n",
       "      <td>NaN</td>\n",
       "    </tr>\n",
       "    <tr>\n",
       "      <th>41225</th>\n",
       "      <td>947654028317507584</td>\n",
       "      <td>2018-01-01 08:06:41+05:45</td>\n",
       "      <td>https://goo.gl/e47Gfo</td>\n",
       "      <td>NaN</td>\n",
       "    </tr>\n",
       "  </tbody>\n",
       "</table>\n",
       "</div>"
      ],
      "text/plain": [
       "                       id                 created_at                   urls  \\\n",
       "41221  947658764064243713  2018-01-01 08:25:30+05:45  https://goo.gl/6aTfY9   \n",
       "41222  947658303290580993  2018-01-01 08:23:40+05:45  https://goo.gl/eLy4Pe   \n",
       "41223  947655493631188992  2018-01-01 08:12:30+05:45  https://goo.gl/CwpTUq   \n",
       "41224  947654732121743361  2018-01-01 08:09:29+05:45  https://goo.gl/WpfygX   \n",
       "41225  947654028317507584  2018-01-01 08:06:41+05:45  https://goo.gl/e47Gfo   \n",
       "\n",
       "      article  \n",
       "41221     NaN  \n",
       "41222     NaN  \n",
       "41223     NaN  \n",
       "41224     NaN  \n",
       "41225     NaN  "
      ]
     },
     "execution_count": 32,
     "metadata": {},
     "output_type": "execute_result"
    }
   ],
   "source": [
    "df.tail()"
   ]
  },
  {
   "cell_type": "markdown",
   "metadata": {},
   "source": [
    "## Chunk"
   ]
  },
  {
   "cell_type": "code",
   "execution_count": 33,
   "metadata": {},
   "outputs": [],
   "source": [
    "def article_ktmpost(row):\n",
    "    try:\n",
    "        if (row.article != row.article):\n",
    "            url = row.urls\n",
    "            req = requests.get(url, headers)\n",
    "            soup = BeautifulSoup(req.content, 'html.parser')\n",
    "            result = soup.find(\"div\", {\"class\": \"col-sm-8\"})\n",
    "            return result.text\n",
    "        return row.article\n",
    "    except Exception as e:\n",
    "        print (str(e))\n",
    "        return 404\n",
    "    \n",
    "def article(row):\n",
    "    try:\n",
    "        if (row.article != row.article):\n",
    "            url = row.urls\n",
    "            article = Article(url)\n",
    "            article.download()\n",
    "            article.parse()\n",
    "            return article.text\n",
    "        return row.article\n",
    "    except Exception as e:\n",
    "        print (str(e))\n",
    "        return 404  "
   ]
  },
  {
   "cell_type": "code",
   "execution_count": null,
   "metadata": {},
   "outputs": [
    {
     "data": {
      "application/vnd.jupyter.widget-view+json": {
       "model_id": "fdb3cc9741414a0e91ffacb7979c9b50",
       "version_major": 2,
       "version_minor": 0
      },
      "text/plain": [
       "HBox(children=(HTML(value=''), FloatProgress(value=0.0, max=1000.0), HTML(value='')))"
      ]
     },
     "metadata": {},
     "output_type": "display_data"
    },
    {
     "name": "stdout",
     "output_type": "stream",
     "text": [
      "Article `download()` failed with HTTPConnectionPool(host='www.iporesult.cdsc.com.np', port=80): Max retries exceeded with url: / (Caused by NewConnectionError('<urllib3.connection.HTTPConnection object at 0x7ff0f031bb50>: Failed to establish a new connection: [Errno 8] nodename nor servname provided, or not known')) on URL http://www.iporesult.cdsc.com.np\n",
      "\n"
     ]
    },
    {
     "data": {
      "application/vnd.jupyter.widget-view+json": {
       "model_id": "54962fc3df0e49df9eaf0de93ebc7330",
       "version_major": 2,
       "version_minor": 0
      },
      "text/plain": [
       "HBox(children=(HTML(value=''), FloatProgress(value=0.0, max=1000.0), HTML(value='')))"
      ]
     },
     "metadata": {},
     "output_type": "display_data"
    },
    {
     "name": "stdout",
     "output_type": "stream",
     "text": [
      "\n"
     ]
    },
    {
     "data": {
      "application/vnd.jupyter.widget-view+json": {
       "model_id": "149911c74805435b867a64f2bfb74743",
       "version_major": 2,
       "version_minor": 0
      },
      "text/plain": [
       "HBox(children=(HTML(value=''), FloatProgress(value=0.0, max=1000.0), HTML(value='')))"
      ]
     },
     "metadata": {},
     "output_type": "display_data"
    }
   ],
   "source": [
    "file_path = \"RepublicaNepal.csv\"\n",
    "result_file_path = \"RepublicaNepal_articles_continue.csv\"\n",
    "\n",
    "pd.read_csv(file_path, nrows=1).head(0).to_csv(result_file_path)\n",
    "dataframe = pd.read_csv(file_path, iterator=True, chunksize=1000)\n",
    "\n",
    "for chunk in dataframe:\n",
    "   chunk['article'] = chunk.progress_apply(article, axis=1)\n",
    "   chunk.to_csv(result_file_path, mode='a', header=None)"
   ]
  },
  {
   "cell_type": "code",
   "execution_count": 46,
   "metadata": {},
   "outputs": [],
   "source": [
    "new = pd.read_csv(result_file_path)"
   ]
  },
  {
   "cell_type": "code",
   "execution_count": 50,
   "metadata": {},
   "outputs": [
    {
     "data": {
      "text/plain": [
       "(29565, 5)"
      ]
     },
     "execution_count": 50,
     "metadata": {},
     "output_type": "execute_result"
    }
   ],
   "source": [
    "new.shape"
   ]
  },
  {
   "cell_type": "code",
   "execution_count": 52,
   "metadata": {},
   "outputs": [],
   "source": [
    "new[new.article!='404'][['id', 'created_at', 'urls', 'article']].to_csv('KathmanduPost.csv', index=False)"
   ]
  }
 ],
 "metadata": {
  "kernelspec": {
   "display_name": "Python 3",
   "language": "python",
   "name": "python3"
  },
  "language_info": {
   "codemirror_mode": {
    "name": "ipython",
    "version": 3
   },
   "file_extension": ".py",
   "mimetype": "text/x-python",
   "name": "python",
   "nbconvert_exporter": "python",
   "pygments_lexer": "ipython3",
   "version": "3.8.5"
  }
 },
 "nbformat": 4,
 "nbformat_minor": 4
}
