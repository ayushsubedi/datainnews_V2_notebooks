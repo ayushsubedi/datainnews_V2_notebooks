{
 "cells": [
  {
   "cell_type": "code",
   "execution_count": 1,
   "metadata": {},
   "outputs": [
    {
     "name": "stdout",
     "output_type": "stream",
     "text": [
      "INFO: Pandarallel will run on 8 workers.\n",
      "INFO: Pandarallel will use standard multiprocessing data transfer (pipe) to transfer data between the main process and workers.\n"
     ]
    }
   ],
   "source": [
    "import pandas as pd\n",
    "from newspaper import Article\n",
    "import nltk\n",
    "import ast\n",
    "from pandarallel import pandarallel\n",
    "import requests\n",
    "import swifter\n",
    "from tqdm.auto import tqdm\n",
    "tqdm.pandas()\n",
    "pandarallel.initialize(progress_bar=True)"
   ]
  },
  {
   "cell_type": "code",
   "execution_count": 2,
   "metadata": {},
   "outputs": [],
   "source": [
    "df = pd.read_csv(\"NepaliTimes.csv\", parse_dates=['created_at'])"
   ]
  },
  {
   "cell_type": "code",
   "execution_count": 3,
   "metadata": {},
   "outputs": [],
   "source": [
    "def keywords(url):\n",
    "    try:\n",
    "        article = Article(url)\n",
    "        article.download()\n",
    "        article.parse()\n",
    "        article.nlp()\n",
    "        return article.keywords\n",
    "    except Exception as e:\n",
    "        return 404"
   ]
  },
  {
   "cell_type": "code",
   "execution_count": 4,
   "metadata": {},
   "outputs": [
    {
     "data": {
      "application/vnd.jupyter.widget-view+json": {
       "model_id": "a9a3bac37ac342008fa84d3f880cb91c",
       "version_major": 2,
       "version_minor": 0
      },
      "text/plain": [
       "HBox(children=(HTML(value=''), FloatProgress(value=0.0, max=5642.0), HTML(value='')))"
      ]
     },
     "metadata": {},
     "output_type": "display_data"
    },
    {
     "name": "stdout",
     "output_type": "stream",
     "text": [
      "\n"
     ]
    }
   ],
   "source": [
    "df['keywords'] = df.urls.parallel_apply(keywords)"
   ]
  },
  {
   "cell_type": "code",
   "execution_count": 5,
   "metadata": {},
   "outputs": [],
   "source": [
    "df.to_csv('NepaliTimes_keywords.csv', index=False)"
   ]
  },
  {
   "cell_type": "code",
   "execution_count": 27,
   "metadata": {},
   "outputs": [],
   "source": [
    "def retry(row):\n",
    "    if row.keywords==404:\n",
    "        return keywords(row.urls)\n",
    "    return row.keywords"
   ]
  },
  {
   "cell_type": "code",
   "execution_count": 28,
   "metadata": {},
   "outputs": [
    {
     "data": {
      "application/vnd.jupyter.widget-view+json": {
       "model_id": "0a2a872f9ac2488bbf7d3a44a2f8d56c",
       "version_major": 2,
       "version_minor": 0
      },
      "text/plain": [
       "HBox(children=(HTML(value=''), FloatProgress(value=0.0, max=5642.0), HTML(value='')))"
      ]
     },
     "metadata": {},
     "output_type": "display_data"
    },
    {
     "name": "stdout",
     "output_type": "stream",
     "text": [
      "\n"
     ]
    }
   ],
   "source": [
    "df['keywords'] = df.parallel_apply(retry, axis=1)"
   ]
  },
  {
   "cell_type": "code",
   "execution_count": 33,
   "metadata": {},
   "outputs": [],
   "source": [
    "df=df[df.keywords!=404]"
   ]
  },
  {
   "cell_type": "code",
   "execution_count": 34,
   "metadata": {},
   "outputs": [],
   "source": [
    "df.to_csv('NepaliTimes_keywords.csv', index=False)"
   ]
  },
  {
   "cell_type": "code",
   "execution_count": 35,
   "metadata": {},
   "outputs": [
    {
     "data": {
      "text/html": [
       "<div>\n",
       "<style scoped>\n",
       "    .dataframe tbody tr th:only-of-type {\n",
       "        vertical-align: middle;\n",
       "    }\n",
       "\n",
       "    .dataframe tbody tr th {\n",
       "        vertical-align: top;\n",
       "    }\n",
       "\n",
       "    .dataframe thead th {\n",
       "        text-align: right;\n",
       "    }\n",
       "</style>\n",
       "<table border=\"1\" class=\"dataframe\">\n",
       "  <thead>\n",
       "    <tr style=\"text-align: right;\">\n",
       "      <th></th>\n",
       "      <th>id</th>\n",
       "      <th>created_at</th>\n",
       "      <th>tweet</th>\n",
       "      <th>urls</th>\n",
       "      <th>likes_count</th>\n",
       "      <th>keywords</th>\n",
       "    </tr>\n",
       "  </thead>\n",
       "  <tbody>\n",
       "    <tr>\n",
       "      <th>0</th>\n",
       "      <td>1376906056824016911</td>\n",
       "      <td>2021-03-30 20:21:00+05:45</td>\n",
       "      <td>Neglected for decades, #Nepal's Far-West is fi...</td>\n",
       "      <td>https://www.nepalitimes.com/banner/the-sun-ris...</td>\n",
       "      <td>26</td>\n",
       "      <td>[country, rises, west, nepals, nepal, delhi, f...</td>\n",
       "    </tr>\n",
       "    <tr>\n",
       "      <th>1</th>\n",
       "      <td>1376875102919258113</td>\n",
       "      <td>2021-03-30 18:18:00+05:45</td>\n",
       "      <td>How is it possible for women to feel safe and ...</td>\n",
       "      <td>https://www.nepalitimes.com/opinion/educating-...</td>\n",
       "      <td>14</td>\n",
       "      <td>[harassment, sons, social, sexual, women, move...</td>\n",
       "    </tr>\n",
       "    <tr>\n",
       "      <th>2</th>\n",
       "      <td>1376843645316304902</td>\n",
       "      <td>2021-03-30 16:13:00+05:45</td>\n",
       "      <td>“Every goal requires teamwork, positive thinki...</td>\n",
       "      <td>https://www.nepalitimes.com/latest/female-foot...</td>\n",
       "      <td>30</td>\n",
       "      <td>[goals, cup, final, footballers, nepals, win, ...</td>\n",
       "    </tr>\n",
       "    <tr>\n",
       "      <th>3</th>\n",
       "      <td>1376810929963196416</td>\n",
       "      <td>2021-03-30 14:03:00+05:45</td>\n",
       "      <td>#editorial In a remote part of #Nepal, local e...</td>\n",
       "      <td>https://www.nepalitimes.com/editorial/devoluti...</td>\n",
       "      <td>10</td>\n",
       "      <td>[rural, devolution, health, later, hospital, n...</td>\n",
       "    </tr>\n",
       "    <tr>\n",
       "      <th>4</th>\n",
       "      <td>1376782744001253378</td>\n",
       "      <td>2021-03-30 12:11:00+05:45</td>\n",
       "      <td>Nepali migrant workers have been waiting for m...</td>\n",
       "      <td>https://www.nepalitimes.com/here-now/delayed-d...</td>\n",
       "      <td>8</td>\n",
       "      <td>[korea, dreams, oli, nepal, studied, korean, s...</td>\n",
       "    </tr>\n",
       "    <tr>\n",
       "      <th>...</th>\n",
       "      <td>...</td>\n",
       "      <td>...</td>\n",
       "      <td>...</td>\n",
       "      <td>...</td>\n",
       "      <td>...</td>\n",
       "      <td>...</td>\n",
       "    </tr>\n",
       "    <tr>\n",
       "      <th>5637</th>\n",
       "      <td>948090231043117056</td>\n",
       "      <td>2018-01-02 13:00:00+05:45</td>\n",
       "      <td>EDITORIAL 2018 should be when a new federal go...</td>\n",
       "      <td>http://archive.nepalitimes.com/article/editori...</td>\n",
       "      <td>12</td>\n",
       "      <td>[middlemen, nepals, recruiters, export, young,...</td>\n",
       "    </tr>\n",
       "    <tr>\n",
       "      <th>5638</th>\n",
       "      <td>948056690443689986</td>\n",
       "      <td>2018-01-02 10:46:43+05:45</td>\n",
       "      <td>The story of specialty coffee starts at the #f...</td>\n",
       "      <td>http://archive.nepalitimes.com/article/Nepali-...</td>\n",
       "      <td>9</td>\n",
       "      <td>[coffees, beans, wave, nepal, nepals, qgrader,...</td>\n",
       "    </tr>\n",
       "    <tr>\n",
       "      <th>5639</th>\n",
       "      <td>947788241394130944</td>\n",
       "      <td>2018-01-01 17:00:00+05:45</td>\n",
       "      <td>Happy 2018! #MISSMOTIVATION With the new day c...</td>\n",
       "      <td>http://archive.nepalitimes.com/regular-columns...</td>\n",
       "      <td>8</td>\n",
       "      <td>[daywith, eleanor, strength, roosevelt, motiva...</td>\n",
       "    </tr>\n",
       "    <tr>\n",
       "      <th>5640</th>\n",
       "      <td>947757617299914752</td>\n",
       "      <td>2018-01-01 14:58:19+05:45</td>\n",
       "      <td>The air was thick with laughter in Tundikhel, ...</td>\n",
       "      <td>http://archive.nepalitimes.com/blogs/mycity/20...</td>\n",
       "      <td>14</td>\n",
       "      <td>[lhosar, text, blog, traditional, thick, tamu,...</td>\n",
       "    </tr>\n",
       "    <tr>\n",
       "      <th>5641</th>\n",
       "      <td>947719271169138688</td>\n",
       "      <td>2018-01-01 12:25:56+05:45</td>\n",
       "      <td>While thousands of #Nepalis have made it good ...</td>\n",
       "      <td>http://archive.nepalitimes.com/article/nation/...</td>\n",
       "      <td>8</td>\n",
       "      <td>[chiyoda, nepal, chitwan, tokyo, nepali, japan...</td>\n",
       "    </tr>\n",
       "  </tbody>\n",
       "</table>\n",
       "<p>5632 rows × 6 columns</p>\n",
       "</div>"
      ],
      "text/plain": [
       "                       id                created_at  \\\n",
       "0     1376906056824016911 2021-03-30 20:21:00+05:45   \n",
       "1     1376875102919258113 2021-03-30 18:18:00+05:45   \n",
       "2     1376843645316304902 2021-03-30 16:13:00+05:45   \n",
       "3     1376810929963196416 2021-03-30 14:03:00+05:45   \n",
       "4     1376782744001253378 2021-03-30 12:11:00+05:45   \n",
       "...                   ...                       ...   \n",
       "5637   948090231043117056 2018-01-02 13:00:00+05:45   \n",
       "5638   948056690443689986 2018-01-02 10:46:43+05:45   \n",
       "5639   947788241394130944 2018-01-01 17:00:00+05:45   \n",
       "5640   947757617299914752 2018-01-01 14:58:19+05:45   \n",
       "5641   947719271169138688 2018-01-01 12:25:56+05:45   \n",
       "\n",
       "                                                  tweet  \\\n",
       "0     Neglected for decades, #Nepal's Far-West is fi...   \n",
       "1     How is it possible for women to feel safe and ...   \n",
       "2     “Every goal requires teamwork, positive thinki...   \n",
       "3     #editorial In a remote part of #Nepal, local e...   \n",
       "4     Nepali migrant workers have been waiting for m...   \n",
       "...                                                 ...   \n",
       "5637  EDITORIAL 2018 should be when a new federal go...   \n",
       "5638  The story of specialty coffee starts at the #f...   \n",
       "5639  Happy 2018! #MISSMOTIVATION With the new day c...   \n",
       "5640  The air was thick with laughter in Tundikhel, ...   \n",
       "5641  While thousands of #Nepalis have made it good ...   \n",
       "\n",
       "                                                   urls  likes_count  \\\n",
       "0     https://www.nepalitimes.com/banner/the-sun-ris...           26   \n",
       "1     https://www.nepalitimes.com/opinion/educating-...           14   \n",
       "2     https://www.nepalitimes.com/latest/female-foot...           30   \n",
       "3     https://www.nepalitimes.com/editorial/devoluti...           10   \n",
       "4     https://www.nepalitimes.com/here-now/delayed-d...            8   \n",
       "...                                                 ...          ...   \n",
       "5637  http://archive.nepalitimes.com/article/editori...           12   \n",
       "5638  http://archive.nepalitimes.com/article/Nepali-...            9   \n",
       "5639  http://archive.nepalitimes.com/regular-columns...            8   \n",
       "5640  http://archive.nepalitimes.com/blogs/mycity/20...           14   \n",
       "5641  http://archive.nepalitimes.com/article/nation/...            8   \n",
       "\n",
       "                                               keywords  \n",
       "0     [country, rises, west, nepals, nepal, delhi, f...  \n",
       "1     [harassment, sons, social, sexual, women, move...  \n",
       "2     [goals, cup, final, footballers, nepals, win, ...  \n",
       "3     [rural, devolution, health, later, hospital, n...  \n",
       "4     [korea, dreams, oli, nepal, studied, korean, s...  \n",
       "...                                                 ...  \n",
       "5637  [middlemen, nepals, recruiters, export, young,...  \n",
       "5638  [coffees, beans, wave, nepal, nepals, qgrader,...  \n",
       "5639  [daywith, eleanor, strength, roosevelt, motiva...  \n",
       "5640  [lhosar, text, blog, traditional, thick, tamu,...  \n",
       "5641  [chiyoda, nepal, chitwan, tokyo, nepali, japan...  \n",
       "\n",
       "[5632 rows x 6 columns]"
      ]
     },
     "execution_count": 35,
     "metadata": {},
     "output_type": "execute_result"
    }
   ],
   "source": [
    "df"
   ]
  }
 ],
 "metadata": {
  "kernelspec": {
   "display_name": "Python 3",
   "language": "python",
   "name": "python3"
  },
  "language_info": {
   "codemirror_mode": {
    "name": "ipython",
    "version": 3
   },
   "file_extension": ".py",
   "mimetype": "text/x-python",
   "name": "python",
   "nbconvert_exporter": "python",
   "pygments_lexer": "ipython3",
   "version": "3.8.5"
  }
 },
 "nbformat": 4,
 "nbformat_minor": 4
}
