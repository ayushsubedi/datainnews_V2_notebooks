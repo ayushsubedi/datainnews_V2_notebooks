{
 "cells": [
  {
   "cell_type": "code",
   "execution_count": 1,
   "metadata": {},
   "outputs": [],
   "source": [
    "import pandas as pd\n",
    "from newspaper import Article\n",
    "import nltk\n",
    "import ast\n",
    "import requests\n",
    "from tqdm.auto import tqdm\n",
    "tqdm.pandas()\n",
    "from bs4 import BeautifulSoup, Comment"
   ]
  },
  {
   "cell_type": "code",
   "execution_count": 2,
   "metadata": {},
   "outputs": [],
   "source": [
    "headers = {\n",
    "    'Access-Control-Allow-Origin': '*',\n",
    "    'Access-Control-Allow-Methods': 'GET',\n",
    "    'Access-Control-Allow-Headers': 'Content-Type',\n",
    "    'Access-Control-Max-Age': '3600',\n",
    "    'User-Agent': 'Mozilla/5.0 (X11; Ubuntu; Linux x86_64; rv:52.0) Gecko/20100101 Firefox/52.0'\n",
    "    }"
   ]
  },
  {
   "cell_type": "code",
   "execution_count": 3,
   "metadata": {},
   "outputs": [],
   "source": [
    "initial_tweet_path = 'OnlineKhabar_En/tweets.csv'\n",
    "file_path = \"OnlineKhabar_En.csv\"\n",
    "result_file_path = \"OnlineKhabar_En_articles.csv\""
   ]
  },
  {
   "cell_type": "code",
   "execution_count": 4,
   "metadata": {},
   "outputs": [],
   "source": [
    "df = pd.read_csv(initial_tweet_path, usecols=['id', 'created_at', 'urls'], parse_dates=['created_at'])"
   ]
  },
  {
   "cell_type": "code",
   "execution_count": 5,
   "metadata": {},
   "outputs": [
    {
     "data": {
      "text/plain": [
       "['id', 'created_at', 'urls']"
      ]
     },
     "execution_count": 5,
     "metadata": {},
     "output_type": "execute_result"
    }
   ],
   "source": [
    "list(df)"
   ]
  },
  {
   "cell_type": "code",
   "execution_count": 6,
   "metadata": {},
   "outputs": [
    {
     "data": {
      "text/plain": [
       "(9877, 3)"
      ]
     },
     "execution_count": 6,
     "metadata": {},
     "output_type": "execute_result"
    }
   ],
   "source": [
    "df.shape"
   ]
  },
  {
   "cell_type": "code",
   "execution_count": 7,
   "metadata": {},
   "outputs": [
    {
     "data": {
      "text/html": [
       "<div>\n",
       "<style scoped>\n",
       "    .dataframe tbody tr th:only-of-type {\n",
       "        vertical-align: middle;\n",
       "    }\n",
       "\n",
       "    .dataframe tbody tr th {\n",
       "        vertical-align: top;\n",
       "    }\n",
       "\n",
       "    .dataframe thead th {\n",
       "        text-align: right;\n",
       "    }\n",
       "</style>\n",
       "<table border=\"1\" class=\"dataframe\">\n",
       "  <thead>\n",
       "    <tr style=\"text-align: right;\">\n",
       "      <th></th>\n",
       "      <th>id</th>\n",
       "      <th>created_at</th>\n",
       "      <th>urls</th>\n",
       "    </tr>\n",
       "  </thead>\n",
       "  <tbody>\n",
       "    <tr>\n",
       "      <th>0</th>\n",
       "      <td>1377022218178154498</td>\n",
       "      <td>2021-03-31 04:02:35+05:45</td>\n",
       "      <td>['https://english.onlinekhabar.com/mithila-hou...</td>\n",
       "    </tr>\n",
       "    <tr>\n",
       "      <th>1</th>\n",
       "      <td>1376853071083413505</td>\n",
       "      <td>2021-03-30 16:50:27+05:45</td>\n",
       "      <td>['https://english.onlinekhabar.com/uml-feud-ne...</td>\n",
       "    </tr>\n",
       "    <tr>\n",
       "      <th>2</th>\n",
       "      <td>1376844319739371521</td>\n",
       "      <td>2021-03-30 16:15:41+05:45</td>\n",
       "      <td>['https://english.onlinekhabar.com/bara-sexage...</td>\n",
       "    </tr>\n",
       "    <tr>\n",
       "      <th>3</th>\n",
       "      <td>1376839101039607808</td>\n",
       "      <td>2021-03-30 15:54:56+05:45</td>\n",
       "      <td>['https://english.onlinekhabar.com/nepal-covid...</td>\n",
       "    </tr>\n",
       "    <tr>\n",
       "      <th>4</th>\n",
       "      <td>1376835218607198211</td>\n",
       "      <td>2021-03-30 15:39:31+05:45</td>\n",
       "      <td>['https://english.onlinekhabar.com/78-business...</td>\n",
       "    </tr>\n",
       "  </tbody>\n",
       "</table>\n",
       "</div>"
      ],
      "text/plain": [
       "                    id                created_at  \\\n",
       "0  1377022218178154498 2021-03-31 04:02:35+05:45   \n",
       "1  1376853071083413505 2021-03-30 16:50:27+05:45   \n",
       "2  1376844319739371521 2021-03-30 16:15:41+05:45   \n",
       "3  1376839101039607808 2021-03-30 15:54:56+05:45   \n",
       "4  1376835218607198211 2021-03-30 15:39:31+05:45   \n",
       "\n",
       "                                                urls  \n",
       "0  ['https://english.onlinekhabar.com/mithila-hou...  \n",
       "1  ['https://english.onlinekhabar.com/uml-feud-ne...  \n",
       "2  ['https://english.onlinekhabar.com/bara-sexage...  \n",
       "3  ['https://english.onlinekhabar.com/nepal-covid...  \n",
       "4  ['https://english.onlinekhabar.com/78-business...  "
      ]
     },
     "execution_count": 7,
     "metadata": {},
     "output_type": "execute_result"
    }
   ],
   "source": [
    "df.head()"
   ]
  },
  {
   "cell_type": "code",
   "execution_count": 8,
   "metadata": {},
   "outputs": [
    {
     "data": {
      "text/html": [
       "<div>\n",
       "<style scoped>\n",
       "    .dataframe tbody tr th:only-of-type {\n",
       "        vertical-align: middle;\n",
       "    }\n",
       "\n",
       "    .dataframe tbody tr th {\n",
       "        vertical-align: top;\n",
       "    }\n",
       "\n",
       "    .dataframe thead th {\n",
       "        text-align: right;\n",
       "    }\n",
       "</style>\n",
       "<table border=\"1\" class=\"dataframe\">\n",
       "  <thead>\n",
       "    <tr style=\"text-align: right;\">\n",
       "      <th></th>\n",
       "      <th>id</th>\n",
       "      <th>created_at</th>\n",
       "      <th>urls</th>\n",
       "    </tr>\n",
       "  </thead>\n",
       "  <tbody>\n",
       "    <tr>\n",
       "      <th>9872</th>\n",
       "      <td>947717363159277568</td>\n",
       "      <td>2018-01-01 12:18:21+05:45</td>\n",
       "      <td>['http://english.onlinekhabar.com/2018/01/01/4...</td>\n",
       "    </tr>\n",
       "    <tr>\n",
       "      <th>9873</th>\n",
       "      <td>947707925392343041</td>\n",
       "      <td>2018-01-01 11:40:51+05:45</td>\n",
       "      <td>['http://english.onlinekhabar.com/2018/01/01/4...</td>\n",
       "    </tr>\n",
       "    <tr>\n",
       "      <th>9874</th>\n",
       "      <td>947707659226148865</td>\n",
       "      <td>2018-01-01 11:39:48+05:45</td>\n",
       "      <td>['http://english.onlinekhabar.com/2018/01/01/4...</td>\n",
       "    </tr>\n",
       "    <tr>\n",
       "      <th>9875</th>\n",
       "      <td>947692790204440579</td>\n",
       "      <td>2018-01-01 10:40:43+05:45</td>\n",
       "      <td>['http://english.onlinekhabar.com/2018/01/01/4...</td>\n",
       "    </tr>\n",
       "    <tr>\n",
       "      <th>9876</th>\n",
       "      <td>947682272102072321</td>\n",
       "      <td>2018-01-01 09:58:55+05:45</td>\n",
       "      <td>['http://english.onlinekhabar.com/2018/01/01/4...</td>\n",
       "    </tr>\n",
       "  </tbody>\n",
       "</table>\n",
       "</div>"
      ],
      "text/plain": [
       "                      id                created_at  \\\n",
       "9872  947717363159277568 2018-01-01 12:18:21+05:45   \n",
       "9873  947707925392343041 2018-01-01 11:40:51+05:45   \n",
       "9874  947707659226148865 2018-01-01 11:39:48+05:45   \n",
       "9875  947692790204440579 2018-01-01 10:40:43+05:45   \n",
       "9876  947682272102072321 2018-01-01 09:58:55+05:45   \n",
       "\n",
       "                                                   urls  \n",
       "9872  ['http://english.onlinekhabar.com/2018/01/01/4...  \n",
       "9873  ['http://english.onlinekhabar.com/2018/01/01/4...  \n",
       "9874  ['http://english.onlinekhabar.com/2018/01/01/4...  \n",
       "9875  ['http://english.onlinekhabar.com/2018/01/01/4...  \n",
       "9876  ['http://english.onlinekhabar.com/2018/01/01/4...  "
      ]
     },
     "execution_count": 8,
     "metadata": {},
     "output_type": "execute_result"
    }
   ],
   "source": [
    "df.tail()"
   ]
  },
  {
   "cell_type": "code",
   "execution_count": 9,
   "metadata": {},
   "outputs": [
    {
     "data": {
      "text/html": [
       "<div>\n",
       "<style scoped>\n",
       "    .dataframe tbody tr th:only-of-type {\n",
       "        vertical-align: middle;\n",
       "    }\n",
       "\n",
       "    .dataframe tbody tr th {\n",
       "        vertical-align: top;\n",
       "    }\n",
       "\n",
       "    .dataframe thead th {\n",
       "        text-align: right;\n",
       "    }\n",
       "</style>\n",
       "<table border=\"1\" class=\"dataframe\">\n",
       "  <thead>\n",
       "    <tr style=\"text-align: right;\">\n",
       "      <th></th>\n",
       "      <th>id</th>\n",
       "    </tr>\n",
       "    <tr>\n",
       "      <th>created_at</th>\n",
       "      <th></th>\n",
       "    </tr>\n",
       "  </thead>\n",
       "  <tbody>\n",
       "    <tr>\n",
       "      <th>2018-12-31 00:00:00+05:45</th>\n",
       "      <td>2912</td>\n",
       "    </tr>\n",
       "    <tr>\n",
       "      <th>2019-12-31 00:00:00+05:45</th>\n",
       "      <td>2628</td>\n",
       "    </tr>\n",
       "    <tr>\n",
       "      <th>2020-12-31 00:00:00+05:45</th>\n",
       "      <td>3423</td>\n",
       "    </tr>\n",
       "    <tr>\n",
       "      <th>2021-12-31 00:00:00+05:45</th>\n",
       "      <td>914</td>\n",
       "    </tr>\n",
       "  </tbody>\n",
       "</table>\n",
       "</div>"
      ],
      "text/plain": [
       "                             id\n",
       "created_at                     \n",
       "2018-12-31 00:00:00+05:45  2912\n",
       "2019-12-31 00:00:00+05:45  2628\n",
       "2020-12-31 00:00:00+05:45  3423\n",
       "2021-12-31 00:00:00+05:45   914"
      ]
     },
     "execution_count": 9,
     "metadata": {},
     "output_type": "execute_result"
    }
   ],
   "source": [
    "df.resample('Y', on='created_at')[['id']].count()"
   ]
  },
  {
   "cell_type": "code",
   "execution_count": 10,
   "metadata": {},
   "outputs": [
    {
     "data": {
      "text/plain": [
       "<AxesSubplot:xlabel='created_at'>"
      ]
     },
     "execution_count": 10,
     "metadata": {},
     "output_type": "execute_result"
    },
    {
     "data": {
      "image/png": "[encoded data removed]",
      "text/plain": [
       "<Figure size 432x288 with 1 Axes>"
      ]
     },
     "metadata": {
      "needs_background": "light"
     },
     "output_type": "display_data"
    }
   ],
   "source": [
    "df.resample('Y', on='created_at')[['id']].count().plot(kind='bar')"
   ]
  },
  {
   "cell_type": "markdown",
   "metadata": {},
   "source": [
    "### Remove tweets without a URL"
   ]
  },
  {
   "cell_type": "code",
   "execution_count": 11,
   "metadata": {},
   "outputs": [],
   "source": [
    "df=df[df.urls!=\"[]\"]"
   ]
  },
  {
   "cell_type": "code",
   "execution_count": 12,
   "metadata": {},
   "outputs": [],
   "source": [
    "df = df.drop_duplicates(['urls'], keep=\"last\")"
   ]
  },
  {
   "cell_type": "code",
   "execution_count": 13,
   "metadata": {},
   "outputs": [
    {
     "data": {
      "text/html": [
       "<div>\n",
       "<style scoped>\n",
       "    .dataframe tbody tr th:only-of-type {\n",
       "        vertical-align: middle;\n",
       "    }\n",
       "\n",
       "    .dataframe tbody tr th {\n",
       "        vertical-align: top;\n",
       "    }\n",
       "\n",
       "    .dataframe thead th {\n",
       "        text-align: right;\n",
       "    }\n",
       "</style>\n",
       "<table border=\"1\" class=\"dataframe\">\n",
       "  <thead>\n",
       "    <tr style=\"text-align: right;\">\n",
       "      <th></th>\n",
       "      <th>id</th>\n",
       "      <th>created_at</th>\n",
       "      <th>urls</th>\n",
       "    </tr>\n",
       "  </thead>\n",
       "  <tbody>\n",
       "    <tr>\n",
       "      <th>0</th>\n",
       "      <td>1377022218178154498</td>\n",
       "      <td>2021-03-31 04:02:35+05:45</td>\n",
       "      <td>['https://english.onlinekhabar.com/mithila-hou...</td>\n",
       "    </tr>\n",
       "    <tr>\n",
       "      <th>1</th>\n",
       "      <td>1376853071083413505</td>\n",
       "      <td>2021-03-30 16:50:27+05:45</td>\n",
       "      <td>['https://english.onlinekhabar.com/uml-feud-ne...</td>\n",
       "    </tr>\n",
       "    <tr>\n",
       "      <th>2</th>\n",
       "      <td>1376844319739371521</td>\n",
       "      <td>2021-03-30 16:15:41+05:45</td>\n",
       "      <td>['https://english.onlinekhabar.com/bara-sexage...</td>\n",
       "    </tr>\n",
       "    <tr>\n",
       "      <th>3</th>\n",
       "      <td>1376839101039607808</td>\n",
       "      <td>2021-03-30 15:54:56+05:45</td>\n",
       "      <td>['https://english.onlinekhabar.com/nepal-covid...</td>\n",
       "    </tr>\n",
       "    <tr>\n",
       "      <th>4</th>\n",
       "      <td>1376835218607198211</td>\n",
       "      <td>2021-03-30 15:39:31+05:45</td>\n",
       "      <td>['https://english.onlinekhabar.com/78-business...</td>\n",
       "    </tr>\n",
       "    <tr>\n",
       "      <th>...</th>\n",
       "      <td>...</td>\n",
       "      <td>...</td>\n",
       "      <td>...</td>\n",
       "    </tr>\n",
       "    <tr>\n",
       "      <th>9872</th>\n",
       "      <td>947717363159277568</td>\n",
       "      <td>2018-01-01 12:18:21+05:45</td>\n",
       "      <td>['http://english.onlinekhabar.com/2018/01/01/4...</td>\n",
       "    </tr>\n",
       "    <tr>\n",
       "      <th>9873</th>\n",
       "      <td>947707925392343041</td>\n",
       "      <td>2018-01-01 11:40:51+05:45</td>\n",
       "      <td>['http://english.onlinekhabar.com/2018/01/01/4...</td>\n",
       "    </tr>\n",
       "    <tr>\n",
       "      <th>9874</th>\n",
       "      <td>947707659226148865</td>\n",
       "      <td>2018-01-01 11:39:48+05:45</td>\n",
       "      <td>['http://english.onlinekhabar.com/2018/01/01/4...</td>\n",
       "    </tr>\n",
       "    <tr>\n",
       "      <th>9875</th>\n",
       "      <td>947692790204440579</td>\n",
       "      <td>2018-01-01 10:40:43+05:45</td>\n",
       "      <td>['http://english.onlinekhabar.com/2018/01/01/4...</td>\n",
       "    </tr>\n",
       "    <tr>\n",
       "      <th>9876</th>\n",
       "      <td>947682272102072321</td>\n",
       "      <td>2018-01-01 09:58:55+05:45</td>\n",
       "      <td>['http://english.onlinekhabar.com/2018/01/01/4...</td>\n",
       "    </tr>\n",
       "  </tbody>\n",
       "</table>\n",
       "<p>9676 rows × 3 columns</p>\n",
       "</div>"
      ],
      "text/plain": [
       "                       id                created_at  \\\n",
       "0     1377022218178154498 2021-03-31 04:02:35+05:45   \n",
       "1     1376853071083413505 2021-03-30 16:50:27+05:45   \n",
       "2     1376844319739371521 2021-03-30 16:15:41+05:45   \n",
       "3     1376839101039607808 2021-03-30 15:54:56+05:45   \n",
       "4     1376835218607198211 2021-03-30 15:39:31+05:45   \n",
       "...                   ...                       ...   \n",
       "9872   947717363159277568 2018-01-01 12:18:21+05:45   \n",
       "9873   947707925392343041 2018-01-01 11:40:51+05:45   \n",
       "9874   947707659226148865 2018-01-01 11:39:48+05:45   \n",
       "9875   947692790204440579 2018-01-01 10:40:43+05:45   \n",
       "9876   947682272102072321 2018-01-01 09:58:55+05:45   \n",
       "\n",
       "                                                   urls  \n",
       "0     ['https://english.onlinekhabar.com/mithila-hou...  \n",
       "1     ['https://english.onlinekhabar.com/uml-feud-ne...  \n",
       "2     ['https://english.onlinekhabar.com/bara-sexage...  \n",
       "3     ['https://english.onlinekhabar.com/nepal-covid...  \n",
       "4     ['https://english.onlinekhabar.com/78-business...  \n",
       "...                                                 ...  \n",
       "9872  ['http://english.onlinekhabar.com/2018/01/01/4...  \n",
       "9873  ['http://english.onlinekhabar.com/2018/01/01/4...  \n",
       "9874  ['http://english.onlinekhabar.com/2018/01/01/4...  \n",
       "9875  ['http://english.onlinekhabar.com/2018/01/01/4...  \n",
       "9876  ['http://english.onlinekhabar.com/2018/01/01/4...  \n",
       "\n",
       "[9676 rows x 3 columns]"
      ]
     },
     "execution_count": 13,
     "metadata": {},
     "output_type": "execute_result"
    }
   ],
   "source": [
    "df"
   ]
  },
  {
   "cell_type": "code",
   "execution_count": 14,
   "metadata": {},
   "outputs": [],
   "source": [
    "df['article'] = None"
   ]
  },
  {
   "cell_type": "code",
   "execution_count": 15,
   "metadata": {},
   "outputs": [
    {
     "data": {
      "application/vnd.jupyter.widget-view+json": {
       "model_id": "b4d22abc82d94f3f8dda8e6f0297180a",
       "version_major": 2,
       "version_minor": 0
      },
      "text/plain": [
       "HBox(children=(HTML(value=''), FloatProgress(value=0.0, max=9676.0), HTML(value='')))"
      ]
     },
     "metadata": {},
     "output_type": "display_data"
    },
    {
     "name": "stdout",
     "output_type": "stream",
     "text": [
      "\n"
     ]
    }
   ],
   "source": [
    "def urlstourl(urls):\n",
    "    return ast.literal_eval(urls)[0]\n",
    "\n",
    "df['urls'] = df.urls.progress_apply(urlstourl)"
   ]
  },
  {
   "cell_type": "code",
   "execution_count": 16,
   "metadata": {},
   "outputs": [
    {
     "data": {
      "text/html": [
       "<div>\n",
       "<style scoped>\n",
       "    .dataframe tbody tr th:only-of-type {\n",
       "        vertical-align: middle;\n",
       "    }\n",
       "\n",
       "    .dataframe tbody tr th {\n",
       "        vertical-align: top;\n",
       "    }\n",
       "\n",
       "    .dataframe thead th {\n",
       "        text-align: right;\n",
       "    }\n",
       "</style>\n",
       "<table border=\"1\" class=\"dataframe\">\n",
       "  <thead>\n",
       "    <tr style=\"text-align: right;\">\n",
       "      <th></th>\n",
       "      <th>id</th>\n",
       "      <th>created_at</th>\n",
       "      <th>urls</th>\n",
       "      <th>article</th>\n",
       "    </tr>\n",
       "  </thead>\n",
       "  <tbody>\n",
       "    <tr>\n",
       "      <th>0</th>\n",
       "      <td>1377022218178154498</td>\n",
       "      <td>2021-03-31 04:02:35+05:45</td>\n",
       "      <td>https://english.onlinekhabar.com/mithila-house...</td>\n",
       "      <td>None</td>\n",
       "    </tr>\n",
       "    <tr>\n",
       "      <th>1</th>\n",
       "      <td>1376853071083413505</td>\n",
       "      <td>2021-03-30 16:50:27+05:45</td>\n",
       "      <td>https://english.onlinekhabar.com/uml-feud-nepa...</td>\n",
       "      <td>None</td>\n",
       "    </tr>\n",
       "    <tr>\n",
       "      <th>2</th>\n",
       "      <td>1376844319739371521</td>\n",
       "      <td>2021-03-30 16:15:41+05:45</td>\n",
       "      <td>https://english.onlinekhabar.com/bara-sexagena...</td>\n",
       "      <td>None</td>\n",
       "    </tr>\n",
       "    <tr>\n",
       "      <th>3</th>\n",
       "      <td>1376839101039607808</td>\n",
       "      <td>2021-03-30 15:54:56+05:45</td>\n",
       "      <td>https://english.onlinekhabar.com/nepal-covid-1...</td>\n",
       "      <td>None</td>\n",
       "    </tr>\n",
       "    <tr>\n",
       "      <th>4</th>\n",
       "      <td>1376835218607198211</td>\n",
       "      <td>2021-03-30 15:39:31+05:45</td>\n",
       "      <td>https://english.onlinekhabar.com/78-businesses...</td>\n",
       "      <td>None</td>\n",
       "    </tr>\n",
       "    <tr>\n",
       "      <th>...</th>\n",
       "      <td>...</td>\n",
       "      <td>...</td>\n",
       "      <td>...</td>\n",
       "      <td>...</td>\n",
       "    </tr>\n",
       "    <tr>\n",
       "      <th>9872</th>\n",
       "      <td>947717363159277568</td>\n",
       "      <td>2018-01-01 12:18:21+05:45</td>\n",
       "      <td>http://english.onlinekhabar.com/2018/01/01/411...</td>\n",
       "      <td>None</td>\n",
       "    </tr>\n",
       "    <tr>\n",
       "      <th>9873</th>\n",
       "      <td>947707925392343041</td>\n",
       "      <td>2018-01-01 11:40:51+05:45</td>\n",
       "      <td>http://english.onlinekhabar.com/2018/01/01/411...</td>\n",
       "      <td>None</td>\n",
       "    </tr>\n",
       "    <tr>\n",
       "      <th>9874</th>\n",
       "      <td>947707659226148865</td>\n",
       "      <td>2018-01-01 11:39:48+05:45</td>\n",
       "      <td>http://english.onlinekhabar.com/2018/01/01/411...</td>\n",
       "      <td>None</td>\n",
       "    </tr>\n",
       "    <tr>\n",
       "      <th>9875</th>\n",
       "      <td>947692790204440579</td>\n",
       "      <td>2018-01-01 10:40:43+05:45</td>\n",
       "      <td>http://english.onlinekhabar.com/2018/01/01/411...</td>\n",
       "      <td>None</td>\n",
       "    </tr>\n",
       "    <tr>\n",
       "      <th>9876</th>\n",
       "      <td>947682272102072321</td>\n",
       "      <td>2018-01-01 09:58:55+05:45</td>\n",
       "      <td>http://english.onlinekhabar.com/2018/01/01/411...</td>\n",
       "      <td>None</td>\n",
       "    </tr>\n",
       "  </tbody>\n",
       "</table>\n",
       "<p>9676 rows × 4 columns</p>\n",
       "</div>"
      ],
      "text/plain": [
       "                       id                created_at  \\\n",
       "0     1377022218178154498 2021-03-31 04:02:35+05:45   \n",
       "1     1376853071083413505 2021-03-30 16:50:27+05:45   \n",
       "2     1376844319739371521 2021-03-30 16:15:41+05:45   \n",
       "3     1376839101039607808 2021-03-30 15:54:56+05:45   \n",
       "4     1376835218607198211 2021-03-30 15:39:31+05:45   \n",
       "...                   ...                       ...   \n",
       "9872   947717363159277568 2018-01-01 12:18:21+05:45   \n",
       "9873   947707925392343041 2018-01-01 11:40:51+05:45   \n",
       "9874   947707659226148865 2018-01-01 11:39:48+05:45   \n",
       "9875   947692790204440579 2018-01-01 10:40:43+05:45   \n",
       "9876   947682272102072321 2018-01-01 09:58:55+05:45   \n",
       "\n",
       "                                                   urls article  \n",
       "0     https://english.onlinekhabar.com/mithila-house...    None  \n",
       "1     https://english.onlinekhabar.com/uml-feud-nepa...    None  \n",
       "2     https://english.onlinekhabar.com/bara-sexagena...    None  \n",
       "3     https://english.onlinekhabar.com/nepal-covid-1...    None  \n",
       "4     https://english.onlinekhabar.com/78-businesses...    None  \n",
       "...                                                 ...     ...  \n",
       "9872  http://english.onlinekhabar.com/2018/01/01/411...    None  \n",
       "9873  http://english.onlinekhabar.com/2018/01/01/411...    None  \n",
       "9874  http://english.onlinekhabar.com/2018/01/01/411...    None  \n",
       "9875  http://english.onlinekhabar.com/2018/01/01/411...    None  \n",
       "9876  http://english.onlinekhabar.com/2018/01/01/411...    None  \n",
       "\n",
       "[9676 rows x 4 columns]"
      ]
     },
     "execution_count": 16,
     "metadata": {},
     "output_type": "execute_result"
    }
   ],
   "source": [
    "df"
   ]
  },
  {
   "cell_type": "code",
   "execution_count": 17,
   "metadata": {},
   "outputs": [],
   "source": [
    "df.to_csv(file_path, index=False)"
   ]
  },
  {
   "cell_type": "markdown",
   "metadata": {},
   "source": [
    "## Chunk"
   ]
  },
  {
   "cell_type": "code",
   "execution_count": 18,
   "metadata": {},
   "outputs": [],
   "source": [
    "def article_ktmpost(url):\n",
    "    try:\n",
    "        req = requests.get(url, headers)\n",
    "        soup = BeautifulSoup(req.content, 'html.parser')\n",
    "        result = soup.find(\"div\", {\"class\": \"col-sm-8\"})\n",
    "        return result.text\n",
    "    except Exception as e:\n",
    "        print (str(e))\n",
    "        return 404\n",
    "    \n",
    "def article(url):\n",
    "    try:\n",
    "        article = Article(url)\n",
    "        article.download()\n",
    "        article.parse()\n",
    "        return article.text\n",
    "    except Exception as e:\n",
    "        print (str(e))\n",
    "        return 404        "
   ]
  },
  {
   "cell_type": "code",
   "execution_count": 19,
   "metadata": {},
   "outputs": [
    {
     "data": {
      "application/vnd.jupyter.widget-view+json": {
       "model_id": "d5b9353792ab4d6192250300ed62cb8b",
       "version_major": 2,
       "version_minor": 0
      },
      "text/plain": [
       "HBox(children=(HTML(value=''), FloatProgress(value=0.0, max=500.0), HTML(value='')))"
      ]
     },
     "metadata": {},
     "output_type": "display_data"
    },
    {
     "name": "stdout",
     "output_type": "stream",
     "text": [
      "Article `download()` failed with HTTPSConnectionPool(host='english.onlinekhabar.com', port=443): Read timed out. (read timeout=7) on URL https://english.onlinekhabar.com/new-e-commerce-law-in-nepal-key-provisions.html\n",
      "Article `download()` failed with HTTPSConnectionPool(host='english.onlinekhabar.com', port=443): Read timed out. (read timeout=7) on URL https://english.onlinekhabar.com/dhanusha-dad-uncles-arrested-on-the-charge-of-kidnapping-7-year-old-kid.html\n",
      "Article `download()` failed with HTTPSConnectionPool(host='english.onlinekhabar.com', port=443): Read timed out. (read timeout=7) on URL https://english.onlinekhabar.com/bird-flu-is-back-to-kathmandu.html\n",
      "\n"
     ]
    },
    {
     "data": {
      "application/vnd.jupyter.widget-view+json": {
       "model_id": "a20d005cbcf243a38a3809f6d19aee06",
       "version_major": 2,
       "version_minor": 0
      },
      "text/plain": [
       "HBox(children=(HTML(value=''), FloatProgress(value=0.0, max=500.0), HTML(value='')))"
      ]
     },
     "metadata": {},
     "output_type": "display_data"
    },
    {
     "name": "stdout",
     "output_type": "stream",
     "text": [
      "\n"
     ]
    },
    {
     "data": {
      "application/vnd.jupyter.widget-view+json": {
       "model_id": "fd5bf24b97954f8aa5c30e515a90998d",
       "version_major": 2,
       "version_minor": 0
      },
      "text/plain": [
       "HBox(children=(HTML(value=''), FloatProgress(value=0.0, max=500.0), HTML(value='')))"
      ]
     },
     "metadata": {},
     "output_type": "display_data"
    },
    {
     "name": "stdout",
     "output_type": "stream",
     "text": [
      "\n"
     ]
    },
    {
     "data": {
      "application/vnd.jupyter.widget-view+json": {
       "model_id": "8119a4a7106d4a00b871f2aa82f1f57b",
       "version_major": 2,
       "version_minor": 0
      },
      "text/plain": [
       "HBox(children=(HTML(value=''), FloatProgress(value=0.0, max=500.0), HTML(value='')))"
      ]
     },
     "metadata": {},
     "output_type": "display_data"
    },
    {
     "name": "stdout",
     "output_type": "stream",
     "text": [
      "Article `download()` failed with ('Connection aborted.', ConnectionResetError(54, 'Connection reset by peer')) on URL https://english.onlinekhabar.com/disability-inclusive-drr-guideline-mobile-app-in-the-offing.html\n",
      "Article `download()` failed with HTTPSConnectionPool(host='english.onlinekhabar.com', port=443): Max retries exceeded with url: /nepal-covid-19-tally-2440-new-cases-1133-recoveries-19-deaths-in-24-hours.html (Caused by ConnectTimeoutError(<urllib3.connection.HTTPSConnection object at 0x7f8aac14c490>, 'Connection to english.onlinekhabar.com timed out. (connect timeout=7)')) on URL https://english.onlinekhabar.com/nepal-covid-19-tally-2440-new-cases-1133-recoveries-19-deaths-in-24-hours.html\n",
      "Article `download()` failed with HTTPSConnectionPool(host='english.onlinekhabar.com', port=443): Read timed out. on URL https://english.onlinekhabar.com/nepali-congress-lawmakers-vandalise-province-5-assembly-furniture.html\n",
      "Article `download()` failed with HTTPSConnectionPool(host='english.onlinekhabar.com', port=443): Max retries exceeded with url: /saptari-police-register-rape-complaint-as-beating-case.html (Caused by ConnectTimeoutError(<urllib3.connection.HTTPSConnection object at 0x7f8aac14cac0>, 'Connection to english.onlinekhabar.com timed out. (connect timeout=7)')) on URL https://english.onlinekhabar.com/saptari-police-register-rape-complaint-as-beating-case.html\n",
      "Article `download()` failed with HTTPSConnectionPool(host='english.onlinekhabar.com', port=443): Read timed out. (read timeout=7) on URL https://english.onlinekhabar.com/dhangadhi-premier-league-to-get-deferred.html\n",
      "Article `download()` failed with HTTPSConnectionPool(host='english.onlinekhabar.com', port=443): Read timed out. (read timeout=7) on URL https://english.onlinekhabar.com/province-5-cm-assures-establishing-butwal-as-financial-capital.html\n",
      "Article `download()` failed with HTTPSConnectionPool(host='english.onlinekhabar.com', port=443): Read timed out. (read timeout=7) on URL https://english.onlinekhabar.com/are-embossed-number-plates-another-means-of-unaccountable-mass-surveillance.html\n",
      "Article `download()` failed with HTTPSConnectionPool(host='english.onlinekhabar.com', port=443): Read timed out. on URL https://english.onlinekhabar.com/two-arrested-in-bhaktapur-for-raping-teenage-girl-in-public-bus.html\n",
      "\n"
     ]
    },
    {
     "data": {
      "application/vnd.jupyter.widget-view+json": {
       "model_id": "b774439f2c3c40fead2b6560606424ba",
       "version_major": 2,
       "version_minor": 0
      },
      "text/plain": [
       "HBox(children=(HTML(value=''), FloatProgress(value=0.0, max=500.0), HTML(value='')))"
      ]
     },
     "metadata": {},
     "output_type": "display_data"
    },
    {
     "name": "stdout",
     "output_type": "stream",
     "text": [
      "Article `download()` failed with 404 Client Error: Not Found for url: https://english.onlinekhabar.com/growing-amount-of-arrests-mocks-govts-prosperous-nepal-happy-nepali-goal.html on URL https://english.onlinekhabar.com/growing-amount-of-arrests-mocks-govts-prosperous-nepal-happy-nepali-goal.html\n",
      "\n"
     ]
    },
    {
     "data": {
      "application/vnd.jupyter.widget-view+json": {
       "model_id": "2fc99334a464458b9f8c630400eeed3d",
       "version_major": 2,
       "version_minor": 0
      },
      "text/plain": [
       "HBox(children=(HTML(value=''), FloatProgress(value=0.0, max=500.0), HTML(value='')))"
      ]
     },
     "metadata": {},
     "output_type": "display_data"
    },
    {
     "name": "stdout",
     "output_type": "stream",
     "text": [
      "Article `download()` failed with 404 Client Error: Not Found for url: https://english.onlinekhabar.com/nepal-lockdown-urgent-need-to-address-needs-of-poor-and-vulnerable-families on URL https://english.onlinekhabar.com/nepal-lockdown-urgent-need-to-address-needs-of-poor-and-vulnerable-families\n",
      "\n"
     ]
    },
    {
     "data": {
      "application/vnd.jupyter.widget-view+json": {
       "model_id": "ecd3e1190b3d49b3a9e52273014d036e",
       "version_major": 2,
       "version_minor": 0
      },
      "text/plain": [
       "HBox(children=(HTML(value=''), FloatProgress(value=0.0, max=500.0), HTML(value='')))"
      ]
     },
     "metadata": {},
     "output_type": "display_data"
    },
    {
     "name": "stdout",
     "output_type": "stream",
     "text": [
      "\n"
     ]
    },
    {
     "data": {
      "application/vnd.jupyter.widget-view+json": {
       "model_id": "9d54c23b1a934a32a4d5bced3973ac61",
       "version_major": 2,
       "version_minor": 0
      },
      "text/plain": [
       "HBox(children=(HTML(value=''), FloatProgress(value=0.0, max=500.0), HTML(value='')))"
      ]
     },
     "metadata": {},
     "output_type": "display_data"
    },
    {
     "name": "stdout",
     "output_type": "stream",
     "text": [
      "Article `download()` failed with 404 Client Error: Not Found for url: https://english.onlinekhabar.com/nepal-on-complete-lockdown-govt-bars-citizens-from-leaving-houses.htmls on URL https://english.onlinekhabar.com/nepal-on-complete-lockdown-govt-bars-citizens-from-leaving-houses.htmls\n",
      "\n"
     ]
    },
    {
     "data": {
      "application/vnd.jupyter.widget-view+json": {
       "model_id": "a312dc572ecc470d9f06c09cf31de7d9",
       "version_major": 2,
       "version_minor": 0
      },
      "text/plain": [
       "HBox(children=(HTML(value=''), FloatProgress(value=0.0, max=500.0), HTML(value='')))"
      ]
     },
     "metadata": {},
     "output_type": "display_data"
    },
    {
     "name": "stdout",
     "output_type": "stream",
     "text": [
      "Article `download()` failed with HTTPSConnectionPool(host='english.onlinekhabar.com', port=443): Read timed out. (read timeout=7) on URL https://english.onlinekhabar.com/morning-starter-thursday-december-12-2019.html\n",
      "\n"
     ]
    },
    {
     "data": {
      "application/vnd.jupyter.widget-view+json": {
       "model_id": "26a2235926ef4b5cbb24b7c061e05aa2",
       "version_major": 2,
       "version_minor": 0
      },
      "text/plain": [
       "HBox(children=(HTML(value=''), FloatProgress(value=0.0, max=500.0), HTML(value='')))"
      ]
     },
     "metadata": {},
     "output_type": "display_data"
    },
    {
     "name": "stdout",
     "output_type": "stream",
     "text": [
      "\n"
     ]
    },
    {
     "data": {
      "application/vnd.jupyter.widget-view+json": {
       "model_id": "73a92f3f7b644782aaa1e6b633527193",
       "version_major": 2,
       "version_minor": 0
      },
      "text/plain": [
       "HBox(children=(HTML(value=''), FloatProgress(value=0.0, max=500.0), HTML(value='')))"
      ]
     },
     "metadata": {},
     "output_type": "display_data"
    },
    {
     "name": "stdout",
     "output_type": "stream",
     "text": [
      "\n"
     ]
    },
    {
     "data": {
      "application/vnd.jupyter.widget-view+json": {
       "model_id": "947e819d956d432dac25f18c91e6ab5c",
       "version_major": 2,
       "version_minor": 0
      },
      "text/plain": [
       "HBox(children=(HTML(value=''), FloatProgress(value=0.0, max=500.0), HTML(value='')))"
      ]
     },
     "metadata": {},
     "output_type": "display_data"
    },
    {
     "name": "stdout",
     "output_type": "stream",
     "text": [
      "\n"
     ]
    },
    {
     "data": {
      "application/vnd.jupyter.widget-view+json": {
       "model_id": "eb88995cb41c4820a37504010fe6f5b5",
       "version_major": 2,
       "version_minor": 0
      },
      "text/plain": [
       "HBox(children=(HTML(value=''), FloatProgress(value=0.0, max=500.0), HTML(value='')))"
      ]
     },
     "metadata": {},
     "output_type": "display_data"
    },
    {
     "name": "stdout",
     "output_type": "stream",
     "text": [
      "Article `download()` failed with 404 Client Error: Not Found for url: https://english.onlinekhabar.com/lingden-people-who-threatened-to-kill-me-are-linked-to-jhapa-po on URL http://english.onlinekhabar.com/lingden-people-who-threatened-to-kill-me-are-linked-to-jhapa-po\n",
      "\n"
     ]
    },
    {
     "data": {
      "application/vnd.jupyter.widget-view+json": {
       "model_id": "5d13b10a945241baae49ab73c00f25d3",
       "version_major": 2,
       "version_minor": 0
      },
      "text/plain": [
       "HBox(children=(HTML(value=''), FloatProgress(value=0.0, max=500.0), HTML(value='')))"
      ]
     },
     "metadata": {},
     "output_type": "display_data"
    },
    {
     "name": "stdout",
     "output_type": "stream",
     "text": [
      "\n"
     ]
    },
    {
     "data": {
      "application/vnd.jupyter.widget-view+json": {
       "model_id": "2c22db4ffbe242a6a80681dec8d5f54e",
       "version_major": 2,
       "version_minor": 0
      },
      "text/plain": [
       "HBox(children=(HTML(value=''), FloatProgress(value=0.0, max=500.0), HTML(value='')))"
      ]
     },
     "metadata": {},
     "output_type": "display_data"
    },
    {
     "name": "stdout",
     "output_type": "stream",
     "text": [
      "\n"
     ]
    },
    {
     "data": {
      "application/vnd.jupyter.widget-view+json": {
       "model_id": "49dc0da3356541c5b58531132b5e9945",
       "version_major": 2,
       "version_minor": 0
      },
      "text/plain": [
       "HBox(children=(HTML(value=''), FloatProgress(value=0.0, max=500.0), HTML(value='')))"
      ]
     },
     "metadata": {},
     "output_type": "display_data"
    },
    {
     "name": "stdout",
     "output_type": "stream",
     "text": [
      "\n"
     ]
    },
    {
     "data": {
      "application/vnd.jupyter.widget-view+json": {
       "model_id": "7fb488bd318a49bb997d90403137caa4",
       "version_major": 2,
       "version_minor": 0
      },
      "text/plain": [
       "HBox(children=(HTML(value=''), FloatProgress(value=0.0, max=500.0), HTML(value='')))"
      ]
     },
     "metadata": {},
     "output_type": "display_data"
    },
    {
     "name": "stdout",
     "output_type": "stream",
     "text": [
      "\n"
     ]
    },
    {
     "data": {
      "application/vnd.jupyter.widget-view+json": {
       "model_id": "22be5339061349bbaa4f02233ff2cfda",
       "version_major": 2,
       "version_minor": 0
      },
      "text/plain": [
       "HBox(children=(HTML(value=''), FloatProgress(value=0.0, max=500.0), HTML(value='')))"
      ]
     },
     "metadata": {},
     "output_type": "display_data"
    },
    {
     "name": "stdout",
     "output_type": "stream",
     "text": [
      "\n"
     ]
    },
    {
     "data": {
      "application/vnd.jupyter.widget-view+json": {
       "model_id": "e2337354d23f421aa03a57ec1040b4c1",
       "version_major": 2,
       "version_minor": 0
      },
      "text/plain": [
       "HBox(children=(HTML(value=''), FloatProgress(value=0.0, max=500.0), HTML(value='')))"
      ]
     },
     "metadata": {},
     "output_type": "display_data"
    },
    {
     "name": "stdout",
     "output_type": "stream",
     "text": [
      "Article `download()` failed with 404 Client Error: Not Found for url: https://english.onlinekhabar.com/414358-2/#.WqKMuRwaJtk.twitter on URL http://english.onlinekhabar.com/414358-2/#.WqKMuRwaJtk.twitter\n",
      "Article `download()` failed with 404 Client Error: Not Found for url: https://english.onlinekhabar.com/nepal-vs-afghanistan-five-mini-contests-that-will-determine-the-outcome-of-the-match/#.WqJQV-a3WkM.twitter on URL http://english.onlinekhabar.com/nepal-vs-afghanistan-five-mini-contests-that-will-determine-the-outcome-of-the-match/#.WqJQV-a3WkM.twitter\n",
      "Article `download()` failed with 404 Client Error: Not Found for url: https://english.onlinekhabar.com/finance-minister-khatiwada-is-now-member-of-parliament/#.WqIwl3LYpdE.twitter on URL http://english.onlinekhabar.com/finance-minister-khatiwada-is-now-member-of-parliament/#.WqIwl3LYpdE.twitter\n",
      "Article `download()` failed with 404 Client Error: Not Found for url: https://english.onlinekhabar.com/election-for-speaker-maoist-centre-names-mahara-as-its-candidate/#.WqIf_SYu-a8.twitter on URL http://english.onlinekhabar.com/election-for-speaker-maoist-centre-names-mahara-as-its-candidate/#.WqIf_SYu-a8.twitter\n",
      "Article `download()` failed with 404 Client Error: Not Found for url: https://english.onlinekhabar.com/from-the-kathmandu-press-friday-march-9-2018/#.WqIRuJEHxAY.twitter on URL http://english.onlinekhabar.com/from-the-kathmandu-press-friday-march-9-2018/#.WqIRuJEHxAY.twitter\n",
      "Article `download()` failed with 404 Client Error: Not Found for url: https://english.onlinekhabar.com/nepal-presidential-election-oli-prachanda-bound-by-gentlemens-agreement/#.WqD93Pm3bKA.twitter on URL http://english.onlinekhabar.com/nepal-presidential-election-oli-prachanda-bound-by-gentlemens-agreement/#.WqD93Pm3bKA.twitter\n",
      "Article `download()` failed with 404 Client Error: Not Found for url: https://english.onlinekhabar.com/trisara-in-durbarmarg-platters-to-tingle-your-tastebuds/#.WqDexGTkFlM.twitter on URL http://english.onlinekhabar.com/trisara-in-durbarmarg-platters-to-tingle-your-tastebuds/#.WqDexGTkFlM.twitter\n",
      "Article `download()` failed with 404 Client Error: Not Found for url: https://english.onlinekhabar.com/from-the-kathmandu-press-march-8-2018/#.WqDBwrgjN_c.twitter on URL http://english.onlinekhabar.com/from-the-kathmandu-press-march-8-2018/#.WqDBwrgjN_c.twitter\n",
      "Article `download()` failed with 404 Client Error: Not Found for url: https://english.onlinekhabar.com/nepal-lowers-growth-projection-to-6-pc/#.Wp_LlDMFLNE.twitter on URL http://english.onlinekhabar.com/nepal-lowers-growth-projection-to-6-pc/#.Wp_LlDMFLNE.twitter\n",
      "Article `download()` failed with 404 Client Error: Not Found for url: https://english.onlinekhabar.com/nepali-finnish-jv-signs-initial-deal-with-govt-to-manage-waste-in-kathmandu-valley/#.Wp_Fg83R6XI.twitter on URL http://english.onlinekhabar.com/nepali-finnish-jv-signs-initial-deal-with-govt-to-manage-waste-in-kathmandu-valley/#.Wp_Fg83R6XI.twitter\n",
      "Article `download()` failed with 404 Client Error: Not Found for url: https://english.onlinekhabar.com/nepal-presidential-election-congress-will-contest-even-as-its-candidate-has-already-lost/#.Wp-yY0Fkfhg.twitter on URL http://english.onlinekhabar.com/nepal-presidential-election-congress-will-contest-even-as-its-candidate-has-already-lost/#.Wp-yY0Fkfhg.twitter\n",
      "Article `download()` failed with 404 Client Error: Not Found for url: https://english.onlinekhabar.com/nepal-presidential-election-bhandari-files-her-candidacy/#.Wp-rCxeEJ1w.twitter on URL http://english.onlinekhabar.com/nepal-presidential-election-bhandari-files-her-candidacy/#.Wp-rCxeEJ1w.twitter\n",
      "Article `download()` failed with 404 Client Error: Not Found for url: https://english.onlinekhabar.com/how-a-divided-uml-picked-bhandari-as-its-candidate-for-president/#.Wp-QNnn8S8Q.twitter on URL http://english.onlinekhabar.com/how-a-divided-uml-picked-bhandari-as-its-candidate-for-president/#.Wp-QNnn8S8Q.twitter\n",
      "Article `download()` failed with 404 Client Error: Not Found for url: https://english.onlinekhabar.com/nepal-president-election-congress-to-field-former-mp-rai/#.Wp-B38SsE70.twitter on URL http://english.onlinekhabar.com/nepal-president-election-congress-to-field-former-mp-rai/#.Wp-B38SsE70.twitter\n",
      "Article `download()` failed with 404 Client Error: Not Found for url: https://english.onlinekhabar.com/from-the-kathmandu-press-wednesday-march-7-2018/#.Wp9jFcTl_Fg.twitter on URL http://english.onlinekhabar.com/from-the-kathmandu-press-wednesday-march-7-2018/#.Wp9jFcTl_Fg.twitter\n",
      "Article `download()` failed with 404 Client Error: Not Found for url: https://english.onlinekhabar.com/bidya-devi-bhandari-to-get-second-term-as-nepal-president/#.Wp9Z7vGDHAw.twitter on URL http://english.onlinekhabar.com/bidya-devi-bhandari-to-get-second-term-as-nepal-president/#.Wp9Z7vGDHAw.twitter\n",
      "Article `download()` failed with 404 Client Error: Not Found for url: https://english.onlinekhabar.com/pak-prime-minister-abbasi-talks-obor-saarc-with-oli/#.Wp6XO2Aqe_M.twitter on URL http://english.onlinekhabar.com/pak-prime-minister-abbasi-talks-obor-saarc-with-oli/#.Wp6XO2Aqe_M.twitter\n",
      "Article `download()` failed with 404 Client Error: Not Found for url: https://english.onlinekhabar.com/kathmandus-first-semi-low-floor-public-bus-to-start-service-from-wednesday/#.Wp56RvC3x3A.twitter on URL http://english.onlinekhabar.com/kathmandus-first-semi-low-floor-public-bus-to-start-service-from-wednesday/#.Wp56RvC3x3A.twitter\n",
      "Article `download()` failed with 404 Client Error: Not Found for url: https://english.onlinekhabar.com/china-three-gorges-still-interested-in-west-seti/#.Wp5xHQh7x9o.twitter on URL http://english.onlinekhabar.com/china-three-gorges-still-interested-in-west-seti/#.Wp5xHQh7x9o.twitter\n",
      "Article `download()` failed with 404 Client Error: Not Found for url: https://english.onlinekhabar.com/rjp-positive-about-joining-oli-govt-after-thakur-briefs-party-leader-on-talks/#.Wp5Ngn_l6M4.twitter on URL http://english.onlinekhabar.com/rjp-positive-about-joining-oli-govt-after-thakur-briefs-party-leader-on-talks/#.Wp5Ngn_l6M4.twitter\n",
      "Article `download()` failed with 404 Client Error: Not Found for url: https://english.onlinekhabar.com/maoist-chairperson-dahal-meets-pakistani-pm/ on URL http://english.onlinekhabar.com/maoist-chairperson-dahal-meets-pakistani-pm/\n",
      "Article `download()` failed with 404 Client Error: Not Found for url: https://english.onlinekhabar.com/nepal-president-electionnepali-congress-proposes-bishwokarma-as-its-candidate/ on URL http://english.onlinekhabar.com/nepal-president-electionnepali-congress-proposes-bishwokarma-as-its-candidate/\n",
      "Article `download()` failed with 404 Client Error: Not Found for url: https://english.onlinekhabar.com/meeting-mr-pandy-on-kathmandus-picturesque-cycling-trail/#.Wp4mEItgGLs.twitter on URL http://english.onlinekhabar.com/meeting-mr-pandy-on-kathmandus-picturesque-cycling-trail/#.Wp4mEItgGLs.twitter\n",
      "Article `download()` failed with 404 Client Error: Not Found for url: https://english.onlinekhabar.com/from-the-kathmandu-press-tuesday-march-6-2018/#.Wp4c2VdhuSU.twitter on URL http://english.onlinekhabar.com/from-the-kathmandu-press-tuesday-march-6-2018/#.Wp4c2VdhuSU.twitter\n",
      "Article `download()` failed with 404 Client Error: Not Found for url: https://english.onlinekhabar.com/pakistani-prime-minister-abbasi-arrives-in-kathmandu/#.Wp0hfRgHlPk.twitter on URL http://english.onlinekhabar.com/pakistani-prime-minister-abbasi-arrives-in-kathmandu/#.Wp0hfRgHlPk.twitter\n",
      "Article `download()` failed with 404 Client Error: Not Found for url: https://english.onlinekhabar.com/414137-2/#.Wp0PXzlFe7c.twitter on URL http://english.onlinekhabar.com/414137-2/#.Wp0PXzlFe7c.twitter\n",
      "Article `download()` failed with 404 Client Error: Not Found for url: https://english.onlinekhabar.com/gout-de-france-event-to-be-organised-in-kathmandu-as-well/#.Wp0LcHHMC1I.twitter on URL http://english.onlinekhabar.com/gout-de-france-event-to-be-organised-in-kathmandu-as-well/#.Wp0LcHHMC1I.twitter\n",
      "Article `download()` failed with 404 Client Error: Not Found for url: https://english.onlinekhabar.com/deuba-elected-congress-leader-in-parliament/#.WpzyDH2jta8.twitter on URL http://english.onlinekhabar.com/deuba-elected-congress-leader-in-parliament/#.WpzyDH2jta8.twitter\n"
     ]
    },
    {
     "name": "stdout",
     "output_type": "stream",
     "text": [
      "Article `download()` failed with 404 Client Error: Not Found for url: https://english.onlinekhabar.com/terai-fast-track-nepali-army-signs-deals-with-eight-contractors-14-more-to-be-deployed/#.Wpzua-dRVqk.twitter on URL http://english.onlinekhabar.com/terai-fast-track-nepali-army-signs-deals-with-eight-contractors-14-more-to-be-deployed/#.Wpzua-dRVqk.twitter\n",
      "Article `download()` failed with 404 Client Error: Not Found for url: https://english.onlinekhabar.com/oli-to-expand-cabinet-only-after-presidential-election/#.WpznOe6c8Lo.twitter on URL http://english.onlinekhabar.com/oli-to-expand-cabinet-only-after-presidential-election/#.WpznOe6c8Lo.twitter\n",
      "Article `download()` failed with 404 Client Error: Not Found for url: https://english.onlinekhabar.com/blog-a-filmphobics-confession-why-travelling-is-the-best-to-challenge-your-inhibitions/#.WpzRJp2DkDo.twitter on URL http://english.onlinekhabar.com/blog-a-filmphobics-confession-why-travelling-is-the-best-to-challenge-your-inhibitions/#.WpzRJp2DkDo.twitter\n",
      "Article `download()` failed with 404 Client Error: Not Found for url: https://english.onlinekhabar.com/from-the-kathmandu-press-monday-march-5-2018/#.WpzEbXziiB8.twitter on URL http://english.onlinekhabar.com/from-the-kathmandu-press-monday-march-5-2018/#.WpzEbXziiB8.twitter\n",
      "Article `download()` failed with 404 Client Error: Not Found for url: https://english.onlinekhabar.com/president-bhandari-administers-oath-of-office-to-senior-most-mps/#.WpvRxHeknyA.twitter on URL http://english.onlinekhabar.com/president-bhandari-administers-oath-of-office-to-senior-most-mps/#.WpvRxHeknyA.twitter\n",
      "Article `download()` failed with 404 Client Error: Not Found for url: https://english.onlinekhabar.com/pakistani-premier-abbasi-to-land-in-nepal-tomorrow-meet-pm-oli/#.Wpu6CJAx_kE.twitter on URL http://english.onlinekhabar.com/pakistani-premier-abbasi-to-land-in-nepal-tomorrow-meet-pm-oli/#.Wpu6CJAx_kE.twitter\n",
      "Article `download()` failed with 404 Client Error: Not Found for url: https://english.onlinekhabar.com/naakaa-movie-review-bipin-karki-in-same-old-avatar/#.WpuQ2Ocv35w.twitter on URL http://english.onlinekhabar.com/naakaa-movie-review-bipin-karki-in-same-old-avatar/#.WpuQ2Ocv35w.twitter\n",
      "Article `download()` failed with 404 Client Error: Not Found for url: https://english.onlinekhabar.com/monsoon-culture-is-link-between-vedic-literature-and-art-vajracharya/#.WpuH9M_7NmI.twitter on URL http://english.onlinekhabar.com/monsoon-culture-is-link-between-vedic-literature-and-art-vajracharya/#.WpuH9M_7NmI.twitter\n",
      "Article `download()` failed with 404 Client Error: Not Found for url: https://english.onlinekhabar.com/from-the-kathmandu-press-sunday-march-4-2018/#.WptzvedF8wo.twitter on URL http://english.onlinekhabar.com/from-the-kathmandu-press-sunday-march-4-2018/#.WptzvedF8wo.twitter\n",
      "Article `download()` failed with 404 Client Error: Not Found for url: https://english.onlinekhabar.com/2018/03/02/414055.html#.WpkoWZJVV_I.twitter on URL http://english.onlinekhabar.com/2018/03/02/414055.html#.WpkoWZJVV_I.twitter\n",
      "Article `download()` failed with 404 Client Error: Not Found for url: https://english.onlinekhabar.com/2018/03/02/414040.html#.WpkSQ-g7OLw.twitter on URL http://english.onlinekhabar.com/2018/03/02/414040.html#.WpkSQ-g7OLw.twitter\n",
      "Article `download()` failed with 404 Client Error: Not Found for url: https://english.onlinekhabar.com/2018/03/02/414044.html#.WpkLQXk_OGw.twitter on URL http://english.onlinekhabar.com/2018/03/02/414044.html#.WpkLQXk_OGw.twitter\n",
      "Article `download()` failed with 404 Client Error: Not Found for url: https://english.onlinekhabar.com/2018/03/02/414037.html#.WpjquMyWir8.twitter on URL http://english.onlinekhabar.com/2018/03/02/414037.html#.WpjquMyWir8.twitter\n",
      "Article `download()` failed with 404 Client Error: Not Found for url: https://english.onlinekhabar.com/2018/03/02/414029.html#.WpioIcw-3Zw.twitter on URL http://english.onlinekhabar.com/2018/03/02/414029.html#.WpioIcw-3Zw.twitter\n",
      "Article `download()` failed with 404 Client Error: Not Found for url: https://english.onlinekhabar.com/2018/03/01/414025.html#.Wpfb583kndE.twitter on URL http://english.onlinekhabar.com/2018/03/01/414025.html#.Wpfb583kndE.twitter\n",
      "Article `download()` failed with 404 Client Error: Not Found for url: https://english.onlinekhabar.com/2018/03/01/414021.html#.WpfUKLsQieU.twitter on URL http://english.onlinekhabar.com/2018/03/01/414021.html#.WpfUKLsQieU.twitter\n",
      "Article `download()` failed with 404 Client Error: Not Found for url: https://english.onlinekhabar.com/2018/03/01/414017.html#.WpfM-vZu6JI.twitter on URL http://english.onlinekhabar.com/2018/03/01/414017.html#.WpfM-vZu6JI.twitter\n",
      "Article `download()` failed with 404 Client Error: Not Found for url: https://english.onlinekhabar.com/2018/03/01/414011.html#.WpfCBcmlFC4.twitter on URL http://english.onlinekhabar.com/2018/03/01/414011.html#.WpfCBcmlFC4.twitter\n",
      "Article `download()` failed with 404 Client Error: Not Found for url: https://english.onlinekhabar.com/2018/03/01/414009.html#.Wpe964SHrK8.twitter on URL http://english.onlinekhabar.com/2018/03/01/414009.html#.Wpe964SHrK8.twitter\n",
      "Article `download()` failed with 404 Client Error: Not Found for url: https://english.onlinekhabar.com/2018/03/01/414004.html#.Wpe7FLhQ-Ic.twitter on URL http://english.onlinekhabar.com/2018/03/01/414004.html#.Wpe7FLhQ-Ic.twitter\n",
      "Article `download()` failed with 404 Client Error: Not Found for url: https://english.onlinekhabar.com/2018/03/01/413996.html#.WpedTLK97Zs.twitter on URL http://english.onlinekhabar.com/2018/03/01/413996.html#.WpedTLK97Zs.twitter\n",
      "Article `download()` failed with 404 Client Error: Not Found for url: https://english.onlinekhabar.com/2018/03/01/413984.html#.WpeK7YX5V3g.twitter on URL http://english.onlinekhabar.com/2018/03/01/413984.html#.WpeK7YX5V3g.twitter\n",
      "Article `download()` failed with 404 Client Error: Not Found for url: https://english.onlinekhabar.com/2018/03/01/413983.html#.WpeIWfdCcXA.twitter on URL http://english.onlinekhabar.com/2018/03/01/413983.html#.WpeIWfdCcXA.twitter\n",
      "Article `download()` failed with 404 Client Error: Not Found for url: https://english.onlinekhabar.com/2018/03/01/413980.html#.Wpd1Vkichw0.twitter on URL http://english.onlinekhabar.com/2018/03/01/413980.html#.Wpd1Vkichw0.twitter\n",
      "Article `download()` failed with 404 Client Error: Not Found for url: https://english.onlinekhabar.com/2018/03/01/413977.html#.WpdyD2Gu2BY.twitter on URL http://english.onlinekhabar.com/2018/03/01/413977.html#.WpdyD2Gu2BY.twitter\n",
      "Article `download()` failed with 404 Client Error: Not Found for url: https://english.onlinekhabar.com/2018/02/28/413970.html#.WpaJDRMBLvI.twitter on URL http://english.onlinekhabar.com/2018/02/28/413970.html#.WpaJDRMBLvI.twitter\n",
      "Article `download()` failed with 404 Client Error: Not Found for url: https://english.onlinekhabar.com/2018/02/28/413952.html#.WpaHElqLjL0.twitter on URL http://english.onlinekhabar.com/2018/02/28/413952.html#.WpaHElqLjL0.twitter\n",
      "Article `download()` failed with 404 Client Error: Not Found for url: https://english.onlinekhabar.com/2018/02/28/413951.html#.WpZ_qCXMknY.twitter on URL http://english.onlinekhabar.com/2018/02/28/413951.html#.WpZ_qCXMknY.twitter\n",
      "Article `download()` failed with 404 Client Error: Not Found for url: https://english.onlinekhabar.com/2018/02/28/413948.html#.WpZxAWANyZU.twitter on URL http://english.onlinekhabar.com/2018/02/28/413948.html#.WpZxAWANyZU.twitter\n",
      "Article `download()` failed with 404 Client Error: Not Found for url: https://english.onlinekhabar.com/2018/02/28/413945.html#.WpZrrUiQoYc.twitter on URL http://english.onlinekhabar.com/2018/02/28/413945.html#.WpZrrUiQoYc.twitter\n",
      "Article `download()` failed with 404 Client Error: Not Found for url: https://english.onlinekhabar.com/2018/02/28/413937.html#.WpZm1V1NtpE.twitter on URL http://english.onlinekhabar.com/2018/02/28/413937.html#.WpZm1V1NtpE.twitter\n",
      "Article `download()` failed with 404 Client Error: Not Found for url: https://english.onlinekhabar.com/2018/02/28/413929.html#.WpZGdnbnE_Y.twitter on URL http://english.onlinekhabar.com/2018/02/28/413929.html#.WpZGdnbnE_Y.twitter\n",
      "Article `download()` failed with 404 Client Error: Not Found for url: https://english.onlinekhabar.com/2018/02/28/413934.html#.WpY_CFuItow.twitter on URL http://english.onlinekhabar.com/2018/02/28/413934.html#.WpY_CFuItow.twitter\n"
     ]
    },
    {
     "name": "stdout",
     "output_type": "stream",
     "text": [
      "Article `download()` failed with 404 Client Error: Not Found for url: https://english.onlinekhabar.com/2018/02/28/413928.html#.WpY741opWSk.twitter on URL http://english.onlinekhabar.com/2018/02/28/413928.html#.WpY741opWSk.twitter\n",
      "Article `download()` failed with 404 Client Error: Not Found for url: https://english.onlinekhabar.com/2018/02/28/413926.html#.WpY0itbc4QA.twitter on URL http://english.onlinekhabar.com/2018/02/28/413926.html#.WpY0itbc4QA.twitter\n",
      "Article `download()` failed with 404 Client Error: Not Found for url: https://english.onlinekhabar.com/2018/02/28/413924.html#.WpYu0Ez7KgQ.twitter on URL http://english.onlinekhabar.com/2018/02/28/413924.html#.WpYu0Ez7KgQ.twitter\n",
      "Article `download()` failed with 404 Client Error: Not Found for url: https://english.onlinekhabar.com/2018/02/27/413921.html#.WpU_d7ASVM4.twitter on URL http://english.onlinekhabar.com/2018/02/27/413921.html#.WpU_d7ASVM4.twitter\n",
      "Article `download()` failed with 404 Client Error: Not Found for url: https://english.onlinekhabar.com/2018/02/27/413915.html#.WpU5an_lKus.twitter on URL http://english.onlinekhabar.com/2018/02/27/413915.html#.WpU5an_lKus.twitter\n",
      "Article `download()` failed with 404 Client Error: Not Found for url: https://english.onlinekhabar.com/2018/02/27/413913.html#.WpU06f5swEg.twitter on URL http://english.onlinekhabar.com/2018/02/27/413913.html#.WpU06f5swEg.twitter\n",
      "Article `download()` failed with 404 Client Error: Not Found for url: https://english.onlinekhabar.com/2018/02/27/413909.html#.WpUyq3IugIY.twitter on URL http://english.onlinekhabar.com/2018/02/27/413909.html#.WpUyq3IugIY.twitter\n",
      "Article `download()` failed with 404 Client Error: Not Found for url: https://english.onlinekhabar.com/2018/02/27/413904.html#.WpUa_Mx20kQ.twitter on URL http://english.onlinekhabar.com/2018/02/27/413904.html#.WpUa_Mx20kQ.twitter\n",
      "Article `download()` failed with 404 Client Error: Not Found for url: https://english.onlinekhabar.com/2018/02/27/413897.html#.WpUExCzWIYo.twitter on URL http://english.onlinekhabar.com/2018/02/27/413897.html#.WpUExCzWIYo.twitter\n",
      "Article `download()` failed with 404 Client Error: Not Found for url: https://english.onlinekhabar.com/2018/02/27/413894.html#.WpT9VeH3Wlc.twitter on URL http://english.onlinekhabar.com/2018/02/27/413894.html#.WpT9VeH3Wlc.twitter\n",
      "Article `download()` failed with 404 Client Error: Not Found for url: https://english.onlinekhabar.com/2018/02/27/413882.html#.WpTpd2aj7Vc.twitter on URL http://english.onlinekhabar.com/2018/02/27/413882.html#.WpTpd2aj7Vc.twitter\n",
      "Article `download()` failed with 404 Client Error: Not Found for url: https://english.onlinekhabar.com/2018/02/27/413877.html#.WpTeFxnvZOA.twitter on URL http://english.onlinekhabar.com/2018/02/27/413877.html#.WpTeFxnvZOA.twitter\n",
      "Article `download()` failed with 404 Client Error: Not Found for url: https://english.onlinekhabar.com/2018/02/26/413856.html#.WpPo-CcbjUo.twitter on URL http://english.onlinekhabar.com/2018/02/26/413856.html#.WpPo-CcbjUo.twitter\n",
      "Article `download()` failed with 404 Client Error: Not Found for url: https://english.onlinekhabar.com/2018/02/26/413868.html#.WpPcmXkAbyM.twitter on URL http://english.onlinekhabar.com/2018/02/26/413868.html#.WpPcmXkAbyM.twitter\n",
      "Article `download()` failed with 404 Client Error: Not Found for url: https://english.onlinekhabar.com/2018/02/26/413866.html#.WpPNNHSF7Vg.twitter on URL http://english.onlinekhabar.com/2018/02/26/413866.html#.WpPNNHSF7Vg.twitter\n",
      "Article `download()` failed with 404 Client Error: Not Found for url: https://english.onlinekhabar.com/2018/02/26/413862.html#.WpPIFOtburs.twitter on URL http://english.onlinekhabar.com/2018/02/26/413862.html#.WpPIFOtburs.twitter\n",
      "Article `download()` failed with 404 Client Error: Not Found for url: https://english.onlinekhabar.com/2018/02/26/413860.html#.WpOzI2zMsWI.twitter on URL http://english.onlinekhabar.com/2018/02/26/413860.html#.WpOzI2zMsWI.twitter\n",
      "Article `download()` failed with 404 Client Error: Not Found for url: https://english.onlinekhabar.com/2018/02/26/413856.html#.WpOnDyVXMVg.twitter on URL http://english.onlinekhabar.com/2018/02/26/413856.html#.WpOnDyVXMVg.twitter\n",
      "Article `download()` failed with 404 Client Error: Not Found for url: https://english.onlinekhabar.com/2018/02/26/413854.html#.WpOi6KPLTeA.twitter on URL http://english.onlinekhabar.com/2018/02/26/413854.html#.WpOi6KPLTeA.twitter\n",
      "Article `download()` failed with 404 Client Error: Not Found for url: https://english.onlinekhabar.com/2018/02/26/413841.html#.WpOYXk6tj_k.twitter on URL http://english.onlinekhabar.com/2018/02/26/413841.html#.WpOYXk6tj_k.twitter\n",
      "Article `download()` failed with 404 Client Error: Not Found for url: https://english.onlinekhabar.com/2018/02/26/413839.html#.WpOW6DDAIcU.twitter on URL http://english.onlinekhabar.com/2018/02/26/413839.html#.WpOW6DDAIcU.twitter\n",
      "Article `download()` failed with 404 Client Error: Not Found for url: https://english.onlinekhabar.com/2018/02/26/413837.html#.WpOPtVxV4og.twitter on URL http://english.onlinekhabar.com/2018/02/26/413837.html#.WpOPtVxV4og.twitter\n",
      "Article `download()` failed with 404 Client Error: Not Found for url: https://english.onlinekhabar.com/2018/02/26/413835.html#.WpOLRRQdfUU.twitter on URL http://english.onlinekhabar.com/2018/02/26/413835.html#.WpOLRRQdfUU.twitter\n",
      "Article `download()` failed with 404 Client Error: Not Found for url: https://english.onlinekhabar.com/2018/02/25/413828.html#.WpKW0nZuHP0.twitter on URL http://english.onlinekhabar.com/2018/02/25/413828.html#.WpKW0nZuHP0.twitter\n",
      "Article `download()` failed with 404 Client Error: Not Found for url: https://english.onlinekhabar.com/2018/02/25/413820.html#.WpKBpRO84no.twitter on URL http://english.onlinekhabar.com/2018/02/25/413820.html#.WpKBpRO84no.twitter\n",
      "Article `download()` failed with 404 Client Error: Not Found for url: https://english.onlinekhabar.com/2018/02/25/413823.html#.WpJ_9_TQHHw.twitter on URL http://english.onlinekhabar.com/2018/02/25/413823.html#.WpJ_9_TQHHw.twitter\n",
      "Article `download()` failed with 404 Client Error: Not Found for url: https://english.onlinekhabar.com/2018/02/25/413819.html#.WpJ7bXfzq94.twitter on URL http://english.onlinekhabar.com/2018/02/25/413819.html#.WpJ7bXfzq94.twitter\n",
      "Article `download()` failed with 404 Client Error: Not Found for url: https://english.onlinekhabar.com/2018/02/25/413816.html#.WpJh9xjouJY.twitter on URL http://english.onlinekhabar.com/2018/02/25/413816.html#.WpJh9xjouJY.twitter\n",
      "Article `download()` failed with 404 Client Error: Not Found for url: https://english.onlinekhabar.com/2018/02/25/413806.html#.WpJZcbFboug.twitter on URL http://english.onlinekhabar.com/2018/02/25/413806.html#.WpJZcbFboug.twitter\n",
      "Article `download()` failed with 404 Client Error: Not Found for url: https://english.onlinekhabar.com/2018/02/25/413802.html#.WpJUK-lU6Ww.twitter on URL http://english.onlinekhabar.com/2018/02/25/413802.html#.WpJUK-lU6Ww.twitter\n",
      "Article `download()` failed with 404 Client Error: Not Found for url: https://english.onlinekhabar.com/2018/02/25/413796.html#.WpJEQ0JC7tA.twitter on URL http://english.onlinekhabar.com/2018/02/25/413796.html#.WpJEQ0JC7tA.twitter\n",
      "Article `download()` failed with 404 Client Error: Not Found for url: https://english.onlinekhabar.com/2018/02/25/413794.html#.WpI1i1ofORg.twitter on URL http://english.onlinekhabar.com/2018/02/25/413794.html#.WpI1i1ofORg.twitter\n",
      "Article `download()` failed with 404 Client Error: Not Found for url: https://english.onlinekhabar.com/2018/02/23/413788.html#.Wo_pUZBmtKU.twitter on URL http://english.onlinekhabar.com/2018/02/23/413788.html#.Wo_pUZBmtKU.twitter\n",
      "Article `download()` failed with 404 Client Error: Not Found for url: https://english.onlinekhabar.com/2018/02/23/413786.html#.Wo_kdj_2kk4.twitter on URL http://english.onlinekhabar.com/2018/02/23/413786.html#.Wo_kdj_2kk4.twitter\n",
      "Article `download()` failed with 404 Client Error: Not Found for url: https://english.onlinekhabar.com/2018/02/23/413784.html#.Wo_bXFVupOk.twitter on URL http://english.onlinekhabar.com/2018/02/23/413784.html#.Wo_bXFVupOk.twitter\n",
      "Article `download()` failed with 404 Client Error: Not Found for url: https://english.onlinekhabar.com/2018/02/23/413780.html#.Wo_VcUp04YQ.twitter on URL http://english.onlinekhabar.com/2018/02/23/413780.html#.Wo_VcUp04YQ.twitter\n"
     ]
    },
    {
     "name": "stdout",
     "output_type": "stream",
     "text": [
      "Article `download()` failed with 404 Client Error: Not Found for url: https://english.onlinekhabar.com/2018/02/23/413754.html#.Wo_PVqBetBI.twitter on URL http://english.onlinekhabar.com/2018/02/23/413754.html#.Wo_PVqBetBI.twitter\n",
      "Article `download()` failed with 404 Client Error: Not Found for url: https://english.onlinekhabar.com/2018/02/23/413772.html#.Wo-5RmlgDPI.twitter on URL http://english.onlinekhabar.com/2018/02/23/413772.html#.Wo-5RmlgDPI.twitter\n",
      "Article `download()` failed with 404 Client Error: Not Found for url: https://english.onlinekhabar.com/2018/02/23/413757.html#.Wo-wf0Iq3CQ.twitter on URL http://english.onlinekhabar.com/2018/02/23/413757.html#.Wo-wf0Iq3CQ.twitter\n",
      "Article `download()` failed with 404 Client Error: Not Found for url: https://english.onlinekhabar.com/2018/02/23/413754.html#.Wo-mf6-rMwE.twitter on URL http://english.onlinekhabar.com/2018/02/23/413754.html#.Wo-mf6-rMwE.twitter\n",
      "Article `download()` failed with 404 Client Error: Not Found for url: https://english.onlinekhabar.com/2018/02/23/413751.html#.Wo-hfsPtag0.twitter on URL http://english.onlinekhabar.com/2018/02/23/413751.html#.Wo-hfsPtag0.twitter\n",
      "Article `download()` failed with 404 Client Error: Not Found for url: https://english.onlinekhabar.com/2018/02/23/413749.html#.Wo-edXGhn9s.twitter on URL http://english.onlinekhabar.com/2018/02/23/413749.html#.Wo-edXGhn9s.twitter\n",
      "Article `download()` failed with 404 Client Error: Not Found for url: https://english.onlinekhabar.com/2018/02/23/413745.html#.Wo-bsYT9gsI.twitter on URL http://english.onlinekhabar.com/2018/02/23/413745.html#.Wo-bsYT9gsI.twitter\n",
      "Article `download()` failed with 404 Client Error: Not Found for url: https://english.onlinekhabar.com/2018/02/22/413742.html#.Wo6kg-kYIO0.twitter on URL http://english.onlinekhabar.com/2018/02/22/413742.html#.Wo6kg-kYIO0.twitter\n",
      "Article `download()` failed with 404 Client Error: Not Found for url: https://english.onlinekhabar.com/2018/02/22/413740.html#.Wo6Qm8tJ8CM.twitter on URL http://english.onlinekhabar.com/2018/02/22/413740.html#.Wo6Qm8tJ8CM.twitter\n",
      "Article `download()` failed with 404 Client Error: Not Found for url: https://english.onlinekhabar.com/2018/02/22/413737.html#.Wo6M43q7SUM.twitter on URL http://english.onlinekhabar.com/2018/02/22/413737.html#.Wo6M43q7SUM.twitter\n",
      "Article `download()` failed with 404 Client Error: Not Found for url: https://english.onlinekhabar.com/2018/02/22/413735.html#.Wo6D0HzNwSU.twitter on URL http://english.onlinekhabar.com/2018/02/22/413735.html#.Wo6D0HzNwSU.twitter\n",
      "Article `download()` failed with 404 Client Error: Not Found for url: https://english.onlinekhabar.com/2018/02/22/413733.html#.Wo6AVsTe36s.twitter on URL http://english.onlinekhabar.com/2018/02/22/413733.html#.Wo6AVsTe36s.twitter\n",
      "Article `download()` failed with 404 Client Error: Not Found for url: https://english.onlinekhabar.com/2018/02/22/413729.html#.Wo5l9jEf61c.twitter on URL http://english.onlinekhabar.com/2018/02/22/413729.html#.Wo5l9jEf61c.twitter\n",
      "Article `download()` failed with 404 Client Error: Not Found for url: https://english.onlinekhabar.com/2018/02/22/413726.html#.Wo5jBxdQfFM.twitter on URL http://english.onlinekhabar.com/2018/02/22/413726.html#.Wo5jBxdQfFM.twitter\n",
      "Article `download()` failed with 404 Client Error: Not Found for url: https://english.onlinekhabar.com/2018/02/22/413701.html#.Wo5dpVl1X7U.twitter on URL http://english.onlinekhabar.com/2018/02/22/413701.html#.Wo5dpVl1X7U.twitter\n",
      "Article `download()` failed with 404 Client Error: Not Found for url: https://english.onlinekhabar.com/2018/02/22/413709.html#.Wo5S1Grp9S4.twitter on URL http://english.onlinekhabar.com/2018/02/22/413709.html#.Wo5S1Grp9S4.twitter\n",
      "Article `download()` failed with 404 Client Error: Not Found for url: https://english.onlinekhabar.com/2018/02/22/413707.html#.Wo5IVSFbP_4.twitter on URL http://english.onlinekhabar.com/2018/02/22/413707.html#.Wo5IVSFbP_4.twitter\n",
      "Article `download()` failed with 404 Client Error: Not Found for url: https://english.onlinekhabar.com/2018/02/22/413704.html#.Wo5AThVbTw8.twitter on URL http://english.onlinekhabar.com/2018/02/22/413704.html#.Wo5AThVbTw8.twitter\n",
      "Article `download()` failed with 404 Client Error: Not Found for url: https://english.onlinekhabar.com/2018/02/21/413697.html#.Wo1S2AJcuJo.twitter on URL http://english.onlinekhabar.com/2018/02/21/413697.html#.Wo1S2AJcuJo.twitter\n",
      "Article `download()` failed with 404 Client Error: Not Found for url: https://english.onlinekhabar.com/2018/02/21/413692.html#.Wo1OKbCJDTw.twitter on URL http://english.onlinekhabar.com/2018/02/21/413692.html#.Wo1OKbCJDTw.twitter\n",
      "Article `download()` failed with 404 Client Error: Not Found for url: https://english.onlinekhabar.com/2018/02/21/413689.html#.Wo1IG5VLiFI.twitter on URL http://english.onlinekhabar.com/2018/02/21/413689.html#.Wo1IG5VLiFI.twitter\n",
      "Article `download()` failed with 404 Client Error: Not Found for url: https://english.onlinekhabar.com/2018/02/21/413687.html#.Wo06shF7reg.twitter on URL http://english.onlinekhabar.com/2018/02/21/413687.html#.Wo06shF7reg.twitter\n",
      "Article `download()` failed with 404 Client Error: Not Found for url: https://english.onlinekhabar.com/2018/02/21/413682.html#.Wo0uiSLGmk0.twitter on URL http://english.onlinekhabar.com/2018/02/21/413682.html#.Wo0uiSLGmk0.twitter\n",
      "Article `download()` failed with 404 Client Error: Not Found for url: https://english.onlinekhabar.com/2018/02/21/413678.html#.Wo0bB6PVWIk.twitter on URL http://english.onlinekhabar.com/2018/02/21/413678.html#.Wo0bB6PVWIk.twitter\n",
      "Article `download()` failed with 404 Client Error: Not Found for url: https://english.onlinekhabar.com/2018/02/21/413610.html#.Wo0WHkYacZs.twitter on URL http://english.onlinekhabar.com/2018/02/21/413610.html#.Wo0WHkYacZs.twitter\n",
      "Article `download()` failed with 404 Client Error: Not Found for url: https://english.onlinekhabar.com/2018/02/21/413654.html#.Wo0Krc9nyVo.twitter on URL http://english.onlinekhabar.com/2018/02/21/413654.html#.Wo0Krc9nyVo.twitter\n",
      "Article `download()` failed with 404 Client Error: Not Found for url: https://english.onlinekhabar.com/2018/02/21/413660.html#.Wo0D4Q2RNFo.twitter on URL http://english.onlinekhabar.com/2018/02/21/413660.html#.Wo0D4Q2RNFo.twitter\n",
      "Article `download()` failed with 404 Client Error: Not Found for url: https://english.onlinekhabar.com/2018/02/21/413655.html#.Woz1okZrTiI.twitter on URL http://english.onlinekhabar.com/2018/02/21/413655.html#.Woz1okZrTiI.twitter\n",
      "Article `download()` failed with 404 Client Error: Not Found for url: https://english.onlinekhabar.com/2018/02/21/413651.html#.Wozv4UBufMc.twitter on URL http://english.onlinekhabar.com/2018/02/21/413651.html#.Wozv4UBufMc.twitter\n",
      "Article `download()` failed with 404 Client Error: Not Found for url: https://english.onlinekhabar.com/2018/02/20/413647.html#.WowCChu_KqY.twitter on URL http://english.onlinekhabar.com/2018/02/20/413647.html#.WowCChu_KqY.twitter\n",
      "Article `download()` failed with 404 Client Error: Not Found for url: https://english.onlinekhabar.com/2018/02/20/413644.html#.Wov4Q3dpo8U.twitter on URL http://english.onlinekhabar.com/2018/02/20/413644.html#.Wov4Q3dpo8U.twitter\n",
      "Article `download()` failed with 404 Client Error: Not Found for url: https://english.onlinekhabar.com/2018/02/20/413641.html#.WovyyPa9t18.twitter on URL http://english.onlinekhabar.com/2018/02/20/413641.html#.WovyyPa9t18.twitter\n",
      "Article `download()` failed with 404 Client Error: Not Found for url: https://english.onlinekhabar.com/2018/02/20/413638.html#.WovquSi-OaY.twitter on URL http://english.onlinekhabar.com/2018/02/20/413638.html#.WovquSi-OaY.twitter\n",
      "Article `download()` failed with 404 Client Error: Not Found for url: https://english.onlinekhabar.com/2018/02/20/413630.html#.WovkOR6ieVg.twitter on URL http://english.onlinekhabar.com/2018/02/20/413630.html#.WovkOR6ieVg.twitter\n",
      "Article `download()` failed with 404 Client Error: Not Found for url: https://english.onlinekhabar.com/2018/02/20/413601.html#.WovLaDWKnak.twitter on URL http://english.onlinekhabar.com/2018/02/20/413601.html#.WovLaDWKnak.twitter\n",
      "Article `download()` failed with 404 Client Error: Not Found for url: https://english.onlinekhabar.com/2018/02/20/413614.html#.WovHt_C0bjs.twitter on URL http://english.onlinekhabar.com/2018/02/20/413614.html#.WovHt_C0bjs.twitter\n"
     ]
    },
    {
     "name": "stdout",
     "output_type": "stream",
     "text": [
      "Article `download()` failed with 404 Client Error: Not Found for url: https://english.onlinekhabar.com/2018/02/20/413609.html#.WovDK4nW0Ks.twitter on URL http://english.onlinekhabar.com/2018/02/20/413609.html#.WovDK4nW0Ks.twitter\n",
      "Article `download()` failed with 404 Client Error: Not Found for url: https://english.onlinekhabar.com/2018/02/20/413591.html#.WouylvPxeuY.twitter on URL http://english.onlinekhabar.com/2018/02/20/413591.html#.WouylvPxeuY.twitter\n",
      "Article `download()` failed with 404 Client Error: Not Found for url: https://english.onlinekhabar.com/2018/02/20/413605.html#.Wousle2v11k.twitter on URL http://english.onlinekhabar.com/2018/02/20/413605.html#.Wousle2v11k.twitter\n",
      "Article `download()` failed with 404 Client Error: Not Found for url: https://english.onlinekhabar.com/2018/02/20/413601.html#.WouoTjQ23Fg.twitter on URL http://english.onlinekhabar.com/2018/02/20/413601.html#.WouoTjQ23Fg.twitter\n",
      "Article `download()` failed with 404 Client Error: Not Found for url: https://english.onlinekhabar.com/2018/02/20/413596.html#.WoujhYliudo.twitter on URL http://english.onlinekhabar.com/2018/02/20/413596.html#.WoujhYliudo.twitter\n",
      "Article `download()` failed with 404 Client Error: Not Found for url: https://english.onlinekhabar.com/2018/02/20/413589.html#.WouRKmozxN4.twitter on URL http://english.onlinekhabar.com/2018/02/20/413589.html#.WouRKmozxN4.twitter\n",
      "Article `download()` failed with 404 Client Error: Not Found for url: https://english.onlinekhabar.com/2018/02/19/413584.html#.Woqx1CiJ1L0.twitter on URL http://english.onlinekhabar.com/2018/02/19/413584.html#.Woqx1CiJ1L0.twitter\n",
      "Article `download()` failed with 404 Client Error: Not Found for url: https://english.onlinekhabar.com/2018/02/19/413579.html#.WoqohTvjPcI.twitter on URL http://english.onlinekhabar.com/2018/02/19/413579.html#.WoqohTvjPcI.twitter\n",
      "Article `download()` failed with 404 Client Error: Not Found for url: https://english.onlinekhabar.com/2018/02/19/413577.html#.WoqjQLeEnXc.twitter on URL http://english.onlinekhabar.com/2018/02/19/413577.html#.WoqjQLeEnXc.twitter\n",
      "Article `download()` failed with 404 Client Error: Not Found for url: https://english.onlinekhabar.com/2018/02/19/413574.html#.WoqOua8VJ4I.twitter on URL http://english.onlinekhabar.com/2018/02/19/413574.html#.WoqOua8VJ4I.twitter\n",
      "Article `download()` failed with 404 Client Error: Not Found for url: https://english.onlinekhabar.com/2018/02/19/413564.html#.WopuSzZq3bY.twitter on URL http://english.onlinekhabar.com/2018/02/19/413564.html#.WopuSzZq3bY.twitter\n",
      "Article `download()` failed with 404 Client Error: Not Found for url: https://english.onlinekhabar.com/2018/02/19/413561.html#.WopnNtdchZA.twitter on URL http://english.onlinekhabar.com/2018/02/19/413561.html#.WopnNtdchZA.twitter\n",
      "Article `download()` failed with 404 Client Error: Not Found for url: https://english.onlinekhabar.com/2018/02/19/413558.html#.WophnyRfb9w.twitter on URL http://english.onlinekhabar.com/2018/02/19/413558.html#.WophnyRfb9w.twitter\n",
      "Article `download()` failed with 404 Client Error: Not Found for url: https://english.onlinekhabar.com/2018/02/19/413548.html#.WopdpZs4Ink.twitter on URL http://english.onlinekhabar.com/2018/02/19/413548.html#.WopdpZs4Ink.twitter\n",
      "Article `download()` failed with 404 Client Error: Not Found for url: https://english.onlinekhabar.com/2018/02/19/413545.html#.WopW2P8QOvg.twitter on URL http://english.onlinekhabar.com/2018/02/19/413545.html#.WopW2P8QOvg.twitter\n",
      "Article `download()` failed with 404 Client Error: Not Found for url: https://english.onlinekhabar.com/2018/02/18/413541.html#.WoleRP3Yyhg.twitter on URL http://english.onlinekhabar.com/2018/02/18/413541.html#.WoleRP3Yyhg.twitter\n",
      "Article `download()` failed with 404 Client Error: Not Found for url: https://english.onlinekhabar.com/2018/02/18/413533.html#.WolX1UDgKag.twitter on URL http://english.onlinekhabar.com/2018/02/18/413533.html#.WolX1UDgKag.twitter\n",
      "Article `download()` failed with 404 Client Error: Not Found for url: https://english.onlinekhabar.com/2018/02/18/413528.html#.WolPozX3OKg.twitter on URL http://english.onlinekhabar.com/2018/02/18/413528.html#.WolPozX3OKg.twitter\n",
      "Article `download()` failed with 404 Client Error: Not Found for url: https://english.onlinekhabar.com/2018/02/18/413525.html#.WolCftDMo9A.twitter on URL http://english.onlinekhabar.com/2018/02/18/413525.html#.WolCftDMo9A.twitter\n",
      "Article `download()` failed with 404 Client Error: Not Found for url: https://english.onlinekhabar.com/2018/02/18/413523.html#.Wok97zT-r60.twitter on URL http://english.onlinekhabar.com/2018/02/18/413523.html#.Wok97zT-r60.twitter\n",
      "Article `download()` failed with 404 Client Error: Not Found for url: https://english.onlinekhabar.com/2018/02/18/413518.html#.WokjwAk6DMU.twitter on URL http://english.onlinekhabar.com/2018/02/18/413518.html#.WokjwAk6DMU.twitter\n",
      "Article `download()` failed with 404 Client Error: Not Found for url: https://english.onlinekhabar.com/2018/02/18/413506.html#.WokVGcalP1s.twitter on URL http://english.onlinekhabar.com/2018/02/18/413506.html#.WokVGcalP1s.twitter\n",
      "Article `download()` failed with 404 Client Error: Not Found for url: https://english.onlinekhabar.com/2018/02/18/413511.html#.WokUICzcNEI.twitter on URL http://english.onlinekhabar.com/2018/02/18/413511.html#.WokUICzcNEI.twitter\n",
      "Article `download()` failed with 404 Client Error: Not Found for url: https://english.onlinekhabar.com/2018/02/18/413508.html#.WokLYqS5QmE.twitter on URL http://english.onlinekhabar.com/2018/02/18/413508.html#.WokLYqS5QmE.twitter\n",
      "Article `download()` failed with 404 Client Error: Not Found for url: https://english.onlinekhabar.com/2018/02/18/413503.html#.Woj8YqoI8-w.twitter on URL http://english.onlinekhabar.com/2018/02/18/413503.html#.Woj8YqoI8-w.twitter\n",
      "Article `download()` failed with 404 Client Error: Not Found for url: https://english.onlinekhabar.com/2018/02/16/413490.html#.Woa4RZ5nfbk.twitter on URL http://english.onlinekhabar.com/2018/02/16/413490.html#.Woa4RZ5nfbk.twitter\n",
      "Article `download()` failed with 404 Client Error: Not Found for url: https://english.onlinekhabar.com/2018/02/16/413484.html#.WoamijR_rP0.twitter on URL http://english.onlinekhabar.com/2018/02/16/413484.html#.WoamijR_rP0.twitter\n",
      "Article `download()` failed with 404 Client Error: Not Found for url: https://english.onlinekhabar.com/2018/02/16/413479.html#.WoaaZQjQriU.twitter on URL http://english.onlinekhabar.com/2018/02/16/413479.html#.WoaaZQjQriU.twitter\n",
      "Article `download()` failed with 404 Client Error: Not Found for url: https://english.onlinekhabar.com/2018/02/16/413465.html#.WoZwElTtq6E.twitter on URL http://english.onlinekhabar.com/2018/02/16/413465.html#.WoZwElTtq6E.twitter\n",
      "Article `download()` failed with 404 Client Error: Not Found for url: https://english.onlinekhabar.com/2018/02/16/413461.html#.WoZdx8tBojM.twitter on URL http://english.onlinekhabar.com/2018/02/16/413461.html#.WoZdx8tBojM.twitter\n",
      "Article `download()` failed with 404 Client Error: Not Found for url: https://english.onlinekhabar.com/2018/02/15/413455.html#.WoWmYC1l0vs.twitter on URL http://english.onlinekhabar.com/2018/02/15/413455.html#.WoWmYC1l0vs.twitter\n",
      "Article `download()` failed with 404 Client Error: Not Found for url: https://english.onlinekhabar.com/2018/02/15/413449.html#.WoVmUW9mH7w.twitter on URL http://english.onlinekhabar.com/2018/02/15/413449.html#.WoVmUW9mH7w.twitter\n",
      "Article `download()` failed with 404 Client Error: Not Found for url: https://english.onlinekhabar.com/2018/02/15/413401.html#.WoVQaxg7tew.twitter on URL http://english.onlinekhabar.com/2018/02/15/413401.html#.WoVQaxg7tew.twitter\n",
      "Article `download()` failed with 404 Client Error: Not Found for url: https://english.onlinekhabar.com/2018/02/15/413433.html#.WoVHHteRHK0.twitter on URL http://english.onlinekhabar.com/2018/02/15/413433.html#.WoVHHteRHK0.twitter\n",
      "Article `download()` failed with 404 Client Error: Not Found for url: https://english.onlinekhabar.com/2018/02/15/413420.html#.WoUjNrPiOcI.twitter on URL http://english.onlinekhabar.com/2018/02/15/413420.html#.WoUjNrPiOcI.twitter\n",
      "Article `download()` failed with 404 Client Error: Not Found for url: https://english.onlinekhabar.com/2018/02/15/413414.html#.WoUfeG9JcFA.twitter on URL http://english.onlinekhabar.com/2018/02/15/413414.html#.WoUfeG9JcFA.twitter\n"
     ]
    },
    {
     "name": "stdout",
     "output_type": "stream",
     "text": [
      "Article `download()` failed with 404 Client Error: Not Found for url: https://english.onlinekhabar.com/2018/02/15/413400.html on URL http://english.onlinekhabar.com/2018/02/15/413400.html\n",
      "Article `download()` failed with 404 Client Error: Not Found for url: https://english.onlinekhabar.com/2018/02/15/413400.html#.WoUUjv3NsEA.twitter on URL http://english.onlinekhabar.com/2018/02/15/413400.html#.WoUUjv3NsEA.twitter\n",
      "Article `download()` failed with 404 Client Error: Not Found for url: https://english.onlinekhabar.com/2018/02/15/413396.html#.WoUPfFhaxJw.twitter on URL http://english.onlinekhabar.com/2018/02/15/413396.html#.WoUPfFhaxJw.twitter\n",
      "Article `download()` failed with 404 Client Error: Not Found for url: https://english.onlinekhabar.com/2018/02/15/413393.html#.WoUKu_S_upM.twitter on URL http://english.onlinekhabar.com/2018/02/15/413393.html#.WoUKu_S_upM.twitter\n",
      "Article `download()` failed with 404 Client Error: Not Found for url: https://english.onlinekhabar.com/2018/02/14/413387.html#.WoRo1NWnEGg.twitter on URL http://english.onlinekhabar.com/2018/02/14/413387.html#.WoRo1NWnEGg.twitter\n",
      "Article `download()` failed with 404 Client Error: Not Found for url: https://english.onlinekhabar.com/2018/02/14/413378.html#.WoRc7m8RAqU.twitter on URL http://english.onlinekhabar.com/2018/02/14/413378.html#.WoRc7m8RAqU.twitter\n",
      "Article `download()` failed with 404 Client Error: Not Found for url: https://english.onlinekhabar.com/2018/02/14/413374.html#.WoQTPaKlGho.twitter on URL http://english.onlinekhabar.com/2018/02/14/413374.html#.WoQTPaKlGho.twitter\n",
      "Article `download()` failed with 404 Client Error: Not Found for url: https://english.onlinekhabar.com/2018/02/14/413370.html#.WoQO7Ihn0uo.twitter on URL http://english.onlinekhabar.com/2018/02/14/413370.html#.WoQO7Ihn0uo.twitter\n",
      "Article `download()` failed with 404 Client Error: Not Found for url: https://english.onlinekhabar.com/2018/02/14/413367.html#.WoQKHxRykv8.twitter on URL http://english.onlinekhabar.com/2018/02/14/413367.html#.WoQKHxRykv8.twitter\n",
      "Article `download()` failed with 404 Client Error: Not Found for url: https://english.onlinekhabar.com/2018/02/14/413365.html#.WoQGWZ_KiOA.twitter on URL http://english.onlinekhabar.com/2018/02/14/413365.html#.WoQGWZ_KiOA.twitter\n",
      "Article `download()` failed with 404 Client Error: Not Found for url: https://english.onlinekhabar.com/2018/02/14/413358.html#.WoP3UwzB2Pc.twitter on URL http://english.onlinekhabar.com/2018/02/14/413358.html#.WoP3UwzB2Pc.twitter\n",
      "Article `download()` failed with 404 Client Error: Not Found for url: https://english.onlinekhabar.com/2018/02/14/413355.html#.WoP0OEV873o.twitter on URL http://english.onlinekhabar.com/2018/02/14/413355.html#.WoP0OEV873o.twitter\n",
      "Article `download()` failed with 404 Client Error: Not Found for url: https://english.onlinekhabar.com/2018/02/14/413354.html#.WoPyYuz7k1A.twitter on URL http://english.onlinekhabar.com/2018/02/14/413354.html#.WoPyYuz7k1A.twitter\n",
      "Article `download()` failed with 404 Client Error: Not Found for url: https://english.onlinekhabar.com/2018/02/14/413352.html#.WoPr2sjCYCU.twitter on URL http://english.onlinekhabar.com/2018/02/14/413352.html#.WoPr2sjCYCU.twitter\n",
      "Article `download()` failed with 404 Client Error: Not Found for url: https://english.onlinekhabar.com/2018/02/14/413350.html#.WoPonXbrHdo.twitter on URL http://english.onlinekhabar.com/2018/02/14/413350.html#.WoPonXbrHdo.twitter\n",
      "Article `download()` failed with 404 Client Error: Not Found for url: https://english.onlinekhabar.com/2018/02/14/413347.html#.WoPQkYIf1IA.twitter on URL http://english.onlinekhabar.com/2018/02/14/413347.html#.WoPQkYIf1IA.twitter\n",
      "Article `download()` failed with 404 Client Error: Not Found for url: https://english.onlinekhabar.com/2018/02/14/413342.html#.WoPM3k-z--8.twitter on URL http://english.onlinekhabar.com/2018/02/14/413342.html#.WoPM3k-z--8.twitter\n",
      "Article `download()` failed with 404 Client Error: Not Found for url: https://english.onlinekhabar.com/2018/02/14/413337.html#.WoPEnxmn3oo.twitter on URL http://english.onlinekhabar.com/2018/02/14/413337.html#.WoPEnxmn3oo.twitter\n",
      "Article `download()` failed with 404 Client Error: Not Found for url: https://english.onlinekhabar.com/2018/02/14/413332.html#.WoO8Uz5QdWo.twitter on URL http://english.onlinekhabar.com/2018/02/14/413332.html#.WoO8Uz5QdWo.twitter\n",
      "Article `download()` failed with 404 Client Error: Not Found for url: https://english.onlinekhabar.com/2018/02/13/413326.html#.WoLIeu20gx8.twitter on URL http://english.onlinekhabar.com/2018/02/13/413326.html#.WoLIeu20gx8.twitter\n",
      "Article `download()` failed with 404 Client Error: Not Found for url: https://english.onlinekhabar.com/2018/02/13/413324.html#.WoLC93tNBak.twitter on URL http://english.onlinekhabar.com/2018/02/13/413324.html#.WoLC93tNBak.twitter\n",
      "Article `download()` failed with 404 Client Error: Not Found for url: https://english.onlinekhabar.com/2018/02/13/413319.html#.WoK_lrYFkxs.twitter on URL http://english.onlinekhabar.com/2018/02/13/413319.html#.WoK_lrYFkxs.twitter\n",
      "Article `download()` failed with 404 Client Error: Not Found for url: https://english.onlinekhabar.com/2018/02/13/413283.html#.WoK5OUs2cXk.twitter on URL http://english.onlinekhabar.com/2018/02/13/413283.html#.WoK5OUs2cXk.twitter\n",
      "Article `download()` failed with 404 Client Error: Not Found for url: https://english.onlinekhabar.com/2018/02/13/413291.html#.WoKs31xuol8.twitter on URL http://english.onlinekhabar.com/2018/02/13/413291.html#.WoKs31xuol8.twitter\n",
      "Article `download()` failed with 404 Client Error: Not Found for url: https://english.onlinekhabar.com/2018/02/13/413286.html#.WoKl7x-MFVQ.twitter on URL http://english.onlinekhabar.com/2018/02/13/413286.html#.WoKl7x-MFVQ.twitter\n",
      "Article `download()` failed with 404 Client Error: Not Found for url: https://english.onlinekhabar.com/2018/02/13/413281.html#.WoKUvz84k_g.twitter on URL http://english.onlinekhabar.com/2018/02/13/413281.html#.WoKUvz84k_g.twitter\n",
      "Article `download()` failed with 404 Client Error: Not Found for url: https://english.onlinekhabar.com/2018/02/13/413276.html#.WoKQVe8aGTM.twitter on URL http://english.onlinekhabar.com/2018/02/13/413276.html#.WoKQVe8aGTM.twitter\n",
      "Article `download()` failed with 404 Client Error: Not Found for url: https://english.onlinekhabar.com/2018/02/13/413265.html#.WoKHV1uqg8w.twitter on URL http://english.onlinekhabar.com/2018/02/13/413265.html#.WoKHV1uqg8w.twitter\n",
      "Article `download()` failed with 404 Client Error: Not Found for url: https://english.onlinekhabar.com/2018/02/13/413262.html#.WoJt4NtorOA.twitter on URL http://english.onlinekhabar.com/2018/02/13/413262.html#.WoJt4NtorOA.twitter\n",
      "Article `download()` failed with 404 Client Error: Not Found for url: https://english.onlinekhabar.com/2018/02/12/413256.html#.WoGvFb6FCtY.twitter on URL http://english.onlinekhabar.com/2018/02/12/413256.html#.WoGvFb6FCtY.twitter\n",
      "Article `download()` failed with 404 Client Error: Not Found for url: https://english.onlinekhabar.com/2018/02/12/413246.html#.WoFr9VU_LNY.twitter on URL http://english.onlinekhabar.com/2018/02/12/413246.html#.WoFr9VU_LNY.twitter\n",
      "Article `download()` failed with 404 Client Error: Not Found for url: https://english.onlinekhabar.com/2018/02/12/413244.html#.WoFoTIRmYgw.twitter on URL http://english.onlinekhabar.com/2018/02/12/413244.html#.WoFoTIRmYgw.twitter\n",
      "Article `download()` failed with 404 Client Error: Not Found for url: https://english.onlinekhabar.com/2018/02/12/413241.html#.WoFjBkCyirI.twitter on URL http://english.onlinekhabar.com/2018/02/12/413241.html#.WoFjBkCyirI.twitter\n",
      "Article `download()` failed with 404 Client Error: Not Found for url: https://english.onlinekhabar.com/2018/02/12/413238.html#.WoFfv_Eub0Y.twitter on URL http://english.onlinekhabar.com/2018/02/12/413238.html#.WoFfv_Eub0Y.twitter\n",
      "Article `download()` failed with 404 Client Error: Not Found for url: https://english.onlinekhabar.com/2018/02/12/413234.html#.WoE0narbBBw.twitter on URL http://english.onlinekhabar.com/2018/02/12/413234.html#.WoE0narbBBw.twitter\n",
      "Article `download()` failed with 404 Client Error: Not Found for url: https://english.onlinekhabar.com/2018/02/12/413232.html#.WoEx6WiF5S4.twitter on URL http://english.onlinekhabar.com/2018/02/12/413232.html#.WoEx6WiF5S4.twitter\n"
     ]
    },
    {
     "name": "stdout",
     "output_type": "stream",
     "text": [
      "Article `download()` failed with 404 Client Error: Not Found for url: https://english.onlinekhabar.com/2018/02/12/413230.html#.WoEud1iVJgU.twitter on URL http://english.onlinekhabar.com/2018/02/12/413230.html#.WoEud1iVJgU.twitter\n",
      "Article `download()` failed with 404 Client Error: Not Found for url: https://english.onlinekhabar.com/2018/02/12/413226.html#.WoErtiVLL2g.twitter on URL http://english.onlinekhabar.com/2018/02/12/413226.html#.WoErtiVLL2g.twitter\n",
      "Article `download()` failed with 404 Client Error: Not Found for url: https://english.onlinekhabar.com/2018/02/12/413223.html#.WoEjSxxBKvs.twitter on URL http://english.onlinekhabar.com/2018/02/12/413223.html#.WoEjSxxBKvs.twitter\n",
      "Article `download()` failed with 404 Client Error: Not Found for url: https://english.onlinekhabar.com/2018/02/12/413221.html#.WoEXEiL9ngM.twitter on URL http://english.onlinekhabar.com/2018/02/12/413221.html#.WoEXEiL9ngM.twitter\n",
      "Article `download()` failed with 404 Client Error: Not Found for url: https://english.onlinekhabar.com/2018/02/11/413215.html#.WoAi-CLmmd0.twitter on URL http://english.onlinekhabar.com/2018/02/11/413215.html#.WoAi-CLmmd0.twitter\n",
      "Article `download()` failed with 404 Client Error: Not Found for url: https://english.onlinekhabar.com/2018/02/11/413211.html#.WoAYs6f7zaw.twitter on URL http://english.onlinekhabar.com/2018/02/11/413211.html#.WoAYs6f7zaw.twitter\n",
      "Article `download()` failed with 404 Client Error: Not Found for url: https://english.onlinekhabar.com/2018/02/11/413206.html#.WoAOPtXDCNM.twitter on URL http://english.onlinekhabar.com/2018/02/11/413206.html#.WoAOPtXDCNM.twitter\n",
      "Article `download()` failed with 404 Client Error: Not Found for url: https://english.onlinekhabar.com/2018/02/11/413184.html on URL http://english.onlinekhabar.com/2018/02/11/413184.html\n",
      "Article `download()` failed with 404 Client Error: Not Found for url: https://english.onlinekhabar.com/2018/02/11/413198.html#.Wn_pH2oyDQE.twitter on URL http://english.onlinekhabar.com/2018/02/11/413198.html#.Wn_pH2oyDQE.twitter\n",
      "Article `download()` failed with 404 Client Error: Not Found for url: https://english.onlinekhabar.com/2018/02/11/413194.html#.Wn_e2LDLtak.twitter on URL http://english.onlinekhabar.com/2018/02/11/413194.html#.Wn_e2LDLtak.twitter\n",
      "Article `download()` failed with 404 Client Error: Not Found for url: https://english.onlinekhabar.com/2018/02/11/413178.html#.Wn_bK3ekmBM.twitter on URL http://english.onlinekhabar.com/2018/02/11/413178.html#.Wn_bK3ekmBM.twitter\n",
      "Article `download()` failed with 404 Client Error: Not Found for url: https://english.onlinekhabar.com/2018/02/11/413184.html#.Wn_VraWO3ZU.twitter on URL http://english.onlinekhabar.com/2018/02/11/413184.html#.Wn_VraWO3ZU.twitter\n",
      "Article `download()` failed with 404 Client Error: Not Found for url: https://english.onlinekhabar.com/2018/02/11/413180.html#.Wn_Q2O7u4us.twitter on URL http://english.onlinekhabar.com/2018/02/11/413180.html#.Wn_Q2O7u4us.twitter\n",
      "Article `download()` failed with 404 Client Error: Not Found for url: https://english.onlinekhabar.com/2018/02/11/413177.html#.Wn_MtcTtBuU.twitter on URL http://english.onlinekhabar.com/2018/02/11/413177.html#.Wn_MtcTtBuU.twitter\n",
      "Article `download()` failed with 404 Client Error: Not Found for url: https://english.onlinekhabar.com/2018/02/11/413174.html#.Wn_GpCbvjwk.twitter on URL http://english.onlinekhabar.com/2018/02/11/413174.html#.Wn_GpCbvjwk.twitter\n",
      "Article `download()` failed with 404 Client Error: Not Found for url: https://english.onlinekhabar.com/2018/02/09/413166.html#.Wn1_gqs6mCc.twitter on URL http://english.onlinekhabar.com/2018/02/09/413166.html#.Wn1_gqs6mCc.twitter\n",
      "Article `download()` failed with 404 Client Error: Not Found for url: https://english.onlinekhabar.com/2018/02/09/413163.html#.Wn1uUIJGDSI.twitter on URL http://english.onlinekhabar.com/2018/02/09/413163.html#.Wn1uUIJGDSI.twitter\n",
      "Article `download()` failed with 404 Client Error: Not Found for url: https://english.onlinekhabar.com/2018/02/09/413160.html#.Wn1dnGboZ90.twitter on URL http://english.onlinekhabar.com/2018/02/09/413160.html#.Wn1dnGboZ90.twitter\n",
      "Article `download()` failed with 404 Client Error: Not Found for url: https://english.onlinekhabar.com/2018/02/09/413127.html#.Wn1J5EbXUFE.twitter on URL http://english.onlinekhabar.com/2018/02/09/413127.html#.Wn1J5EbXUFE.twitter\n",
      "Article `download()` failed with 404 Client Error: Not Found for url: https://english.onlinekhabar.com/2018/02/09/413063.html#.Wn1Jrs8VZiE.twitter on URL http://english.onlinekhabar.com/2018/02/09/413063.html#.Wn1Jrs8VZiE.twitter\n",
      "Article `download()` failed with 404 Client Error: Not Found for url: https://english.onlinekhabar.com/2018/02/09/413142.html#.Wn1DlB4x79Q.twitter on URL http://english.onlinekhabar.com/2018/02/09/413142.html#.Wn1DlB4x79Q.twitter\n",
      "Article `download()` failed with 404 Client Error: Not Found for url: https://english.onlinekhabar.com/2018/02/09/413129.html#.Wn091GLiP3A.twitter on URL http://english.onlinekhabar.com/2018/02/09/413129.html#.Wn091GLiP3A.twitter\n",
      "Article `download()` failed with 404 Client Error: Not Found for url: https://english.onlinekhabar.com/2018/02/09/413134.html#.Wn06W0GRiY4.twitter on URL http://english.onlinekhabar.com/2018/02/09/413134.html#.Wn06W0GRiY4.twitter\n",
      "Article `download()` failed with 404 Client Error: Not Found for url: https://english.onlinekhabar.com/2018/02/09/413127.html#.Wn01EJfPNFM.twitter on URL http://english.onlinekhabar.com/2018/02/09/413127.html#.Wn01EJfPNFM.twitter\n",
      "Article `download()` failed with 404 Client Error: Not Found for url: https://english.onlinekhabar.com/2018/02/09/413124.html#.Wn0xifx54es.twitter on URL http://english.onlinekhabar.com/2018/02/09/413124.html#.Wn0xifx54es.twitter\n",
      "Article `download()` failed with 404 Client Error: Not Found for url: https://english.onlinekhabar.com/2018/02/09/413122.html#.Wn0m_yXU2p0.twitter on URL http://english.onlinekhabar.com/2018/02/09/413122.html#.Wn0m_yXU2p0.twitter\n",
      "Article `download()` failed with 404 Client Error: Not Found for url: https://english.onlinekhabar.com/2018/02/09/413119.html#.Wn0hvyI12xY.twitter on URL http://english.onlinekhabar.com/2018/02/09/413119.html#.Wn0hvyI12xY.twitter\n",
      "Article `download()` failed with 404 Client Error: Not Found for url: https://english.onlinekhabar.com/2018/02/08/413111.html#.WnwvAVL3uDE.twitter on URL http://english.onlinekhabar.com/2018/02/08/413111.html#.WnwvAVL3uDE.twitter\n",
      "Article `download()` failed with 404 Client Error: Not Found for url: https://english.onlinekhabar.com/2018/02/08/413104.html#.WnwpDcWq7Yo.twitter on URL http://english.onlinekhabar.com/2018/02/08/413104.html#.WnwpDcWq7Yo.twitter\n",
      "Article `download()` failed with 404 Client Error: Not Found for url: https://english.onlinekhabar.com/2018/02/08/413102.html#.WnwfrKH_Kpk.twitter on URL http://english.onlinekhabar.com/2018/02/08/413102.html#.WnwfrKH_Kpk.twitter\n",
      "Article `download()` failed with 404 Client Error: Not Found for url: https://english.onlinekhabar.com/2018/02/08/413096.html#.WnwZwxK6hEc.twitter on URL http://english.onlinekhabar.com/2018/02/08/413096.html#.WnwZwxK6hEc.twitter\n",
      "Article `download()` failed with 404 Client Error: Not Found for url: https://english.onlinekhabar.com/2018/02/08/413093.html#.WnwT7ccmCB4.twitter on URL http://english.onlinekhabar.com/2018/02/08/413093.html#.WnwT7ccmCB4.twitter\n",
      "Article `download()` failed with 404 Client Error: Not Found for url: https://english.onlinekhabar.com/2018/02/08/413090.html#.WnwOi6QO6EY.twitter on URL http://english.onlinekhabar.com/2018/02/08/413090.html#.WnwOi6QO6EY.twitter\n",
      "Article `download()` failed with 404 Client Error: Not Found for url: https://english.onlinekhabar.com/2018/02/08/413069.html#.Wnvx9rihjQw.twitter on URL http://english.onlinekhabar.com/2018/02/08/413069.html#.Wnvx9rihjQw.twitter\n",
      "Article `download()` failed with 404 Client Error: Not Found for url: https://english.onlinekhabar.com/2018/02/08/413086.html#.Wnvwh5sQvZE.twitter on URL http://english.onlinekhabar.com/2018/02/08/413086.html#.Wnvwh5sQvZE.twitter\n",
      "Article `download()` failed with 404 Client Error: Not Found for url: https://english.onlinekhabar.com/2018/02/08/413072.html#.WnvgRMyqU-4.twitter on URL http://english.onlinekhabar.com/2018/02/08/413072.html#.WnvgRMyqU-4.twitter\n"
     ]
    },
    {
     "name": "stdout",
     "output_type": "stream",
     "text": [
      "Article `download()` failed with 404 Client Error: Not Found for url: https://english.onlinekhabar.com/2018/02/08/413067.html#.Wnvb2vdcxjQ.twitter on URL http://english.onlinekhabar.com/2018/02/08/413067.html#.Wnvb2vdcxjQ.twitter\n",
      "Article `download()` failed with 404 Client Error: Not Found for url: https://english.onlinekhabar.com/2018/02/08/413062.html#.WnvNyYjsnCs.twitter on URL http://english.onlinekhabar.com/2018/02/08/413062.html#.WnvNyYjsnCs.twitter\n",
      "Article `download()` failed with 404 Client Error: Not Found for url: https://english.onlinekhabar.com/2018/02/07/413054.html#.WnraBtx1avA.twitter on URL http://english.onlinekhabar.com/2018/02/07/413054.html#.WnraBtx1avA.twitter\n",
      "Article `download()` failed with 404 Client Error: Not Found for url: https://english.onlinekhabar.com/2018/02/07/413049.html#.WnrVvJUzDAw.twitter on URL http://english.onlinekhabar.com/2018/02/07/413049.html#.WnrVvJUzDAw.twitter\n",
      "Article `download()` failed with 404 Client Error: Not Found for url: https://english.onlinekhabar.com/2018/02/07/413047.html#.WnrEBXFLR7Y.twitter on URL http://english.onlinekhabar.com/2018/02/07/413047.html#.WnrEBXFLR7Y.twitter\n",
      "Article `download()` failed with 404 Client Error: Not Found for url: https://english.onlinekhabar.com/2018/02/07/413045.html#.WnrBT35QeEg.twitter on URL http://english.onlinekhabar.com/2018/02/07/413045.html#.WnrBT35QeEg.twitter\n",
      "Article `download()` failed with 404 Client Error: Not Found for url: https://english.onlinekhabar.com/2018/02/07/413030.html#.WnqsIJpRgcM.twitter on URL http://english.onlinekhabar.com/2018/02/07/413030.html#.WnqsIJpRgcM.twitter\n",
      "Article `download()` failed with 404 Client Error: Not Found for url: https://english.onlinekhabar.com/2018/02/07/413036.html#.WnqoKFI-epc.twitter on URL http://english.onlinekhabar.com/2018/02/07/413036.html#.WnqoKFI-epc.twitter\n",
      "Article `download()` failed with 404 Client Error: Not Found for url: https://english.onlinekhabar.com/2018/02/07/413032.html#.Wnqg-8HOWEc.twitter on URL http://english.onlinekhabar.com/2018/02/07/413032.html#.Wnqg-8HOWEc.twitter\n",
      "Article `download()` failed with 404 Client Error: Not Found for url: https://english.onlinekhabar.com/2018/02/07/413029.html#.WnqMdgHck98.twitter on URL http://english.onlinekhabar.com/2018/02/07/413029.html#.WnqMdgHck98.twitter\n",
      "Article `download()` failed with 404 Client Error: Not Found for url: https://english.onlinekhabar.com/2018/02/07/413021.html#.WnqEs84Csnc.twitter on URL http://english.onlinekhabar.com/2018/02/07/413021.html#.WnqEs84Csnc.twitter\n",
      "Article `download()` failed with 404 Client Error: Not Found for url: https://english.onlinekhabar.com/2018/02/07/413019.html#.Wnp-YTUxlUI.twitter on URL http://english.onlinekhabar.com/2018/02/07/413019.html#.Wnp-YTUxlUI.twitter\n",
      "Article `download()` failed with 404 Client Error: Not Found for url: https://english.onlinekhabar.com/2018/02/06/413016.html#.WnmNsjFQqhY.twitter on URL http://english.onlinekhabar.com/2018/02/06/413016.html#.WnmNsjFQqhY.twitter\n",
      "Article `download()` failed with 404 Client Error: Not Found for url: https://english.onlinekhabar.com/2018/02/06/413007.html#.WnmFzOxjb5c.twitter on URL http://english.onlinekhabar.com/2018/02/06/413007.html#.WnmFzOxjb5c.twitter\n",
      "Article `download()` failed with 404 Client Error: Not Found for url: https://english.onlinekhabar.com/2018/02/06/413004.html#.Wnl-YmrbYCU.twitter on URL http://english.onlinekhabar.com/2018/02/06/413004.html#.Wnl-YmrbYCU.twitter\n",
      "Article `download()` failed with 404 Client Error: Not Found for url: https://english.onlinekhabar.com/2018/02/06/412967.html#.Wnl8kClEMkw.twitter on URL http://english.onlinekhabar.com/2018/02/06/412967.html#.Wnl8kClEMkw.twitter\n",
      "Article `download()` failed with 404 Client Error: Not Found for url: https://english.onlinekhabar.com/2018/02/06/412993.html#.Wnl6e2U9jPQ.twitter on URL http://english.onlinekhabar.com/2018/02/06/412993.html#.Wnl6e2U9jPQ.twitter\n",
      "Article `download()` failed with 404 Client Error: Not Found for url: https://english.onlinekhabar.com/2018/02/06/412999.html#.Wnl2hY8SEHo.twitter on URL http://english.onlinekhabar.com/2018/02/06/412999.html#.Wnl2hY8SEHo.twitter\n",
      "Article `download()` failed with 404 Client Error: Not Found for url: https://english.onlinekhabar.com/2018/02/06/412994.html#.WnlvKCnAXN4.twitter on URL http://english.onlinekhabar.com/2018/02/06/412994.html#.WnlvKCnAXN4.twitter\n",
      "Article `download()` failed with 404 Client Error: Not Found for url: https://english.onlinekhabar.com/2018/02/06/412988.html#.WnlpXGAtdB8.twitter on URL http://english.onlinekhabar.com/2018/02/06/412988.html#.WnlpXGAtdB8.twitter\n",
      "Article `download()` failed with 404 Client Error: Not Found for url: https://english.onlinekhabar.com/2018/02/06/412967.html#.WnlXiG0AQW4.twitter on URL http://english.onlinekhabar.com/2018/02/06/412967.html#.WnlXiG0AQW4.twitter\n",
      "Article `download()` failed with 404 Client Error: Not Found for url: https://english.onlinekhabar.com/2018/02/06/412983.html#.WnlOt-cMO48.twitter on URL http://english.onlinekhabar.com/2018/02/06/412983.html#.WnlOt-cMO48.twitter\n",
      "Article `download()` failed with 404 Client Error: Not Found for url: https://english.onlinekhabar.com/2018/02/06/412973.html#.Wnk_WRoe8TY.twitter on URL http://english.onlinekhabar.com/2018/02/06/412973.html#.Wnk_WRoe8TY.twitter\n",
      "Article `download()` failed with 404 Client Error: Not Found for url: https://english.onlinekhabar.com/2018/02/06/412968.html#.Wnkt5p6JZjs.twitter on URL http://english.onlinekhabar.com/2018/02/06/412968.html#.Wnkt5p6JZjs.twitter\n",
      "Article `download()` failed with 404 Client Error: Not Found for url: https://english.onlinekhabar.com/2018/02/05/412956.html#.WnhX4h0uaY8.twitter on URL http://english.onlinekhabar.com/2018/02/05/412956.html#.WnhX4h0uaY8.twitter\n",
      "Article `download()` failed with 404 Client Error: Not Found for url: https://english.onlinekhabar.com/2018/02/05/412924.html#.WngsbMpCZj4.twitter on URL http://english.onlinekhabar.com/2018/02/05/412924.html#.WngsbMpCZj4.twitter\n",
      "Article `download()` failed with 404 Client Error: Not Found for url: https://english.onlinekhabar.com/2018/02/05/412945.html#.Wngfztmk-hM.twitter on URL http://english.onlinekhabar.com/2018/02/05/412945.html#.Wngfztmk-hM.twitter\n",
      "Article `download()` failed with 404 Client Error: Not Found for url: https://english.onlinekhabar.com/2018/02/05/412932.html#.Wnfv1YN1bHg.twitter on URL http://english.onlinekhabar.com/2018/02/05/412932.html#.Wnfv1YN1bHg.twitter\n",
      "Article `download()` failed with 404 Client Error: Not Found for url: https://english.onlinekhabar.com/2018/02/05/412920.html#.WnfcouOK_0Y.twitter on URL http://english.onlinekhabar.com/2018/02/05/412920.html#.WnfcouOK_0Y.twitter\n",
      "Article `download()` failed with 404 Client Error: Not Found for url: https://english.onlinekhabar.com/2018/02/05/412917.html#.WnePFZnagus.twitter on URL http://english.onlinekhabar.com/2018/02/05/412917.html#.WnePFZnagus.twitter\n",
      "Article `download()` failed with 404 Client Error: Not Found for url: https://english.onlinekhabar.com/2018/02/05/412914.html#.WneNRiuklOY.twitter on URL http://english.onlinekhabar.com/2018/02/05/412914.html#.WneNRiuklOY.twitter\n",
      "Article `download()` failed with 404 Client Error: Not Found for url: https://english.onlinekhabar.com/2018/02/04/412912.html#.WnburChSIf4.twitter on URL http://english.onlinekhabar.com/2018/02/04/412912.html#.WnburChSIf4.twitter\n",
      "Article `download()` failed with 404 Client Error: Not Found for url: https://english.onlinekhabar.com/2018/02/04/412905.html#.WnbsMS3NFGE.twitter on URL http://english.onlinekhabar.com/2018/02/04/412905.html#.WnbsMS3NFGE.twitter\n",
      "Article `download()` failed with 404 Client Error: Not Found for url: https://english.onlinekhabar.com/2018/02/04/412893.html#.Wnbe-UfQAjk.twitter on URL http://english.onlinekhabar.com/2018/02/04/412893.html#.Wnbe-UfQAjk.twitter\n",
      "Article `download()` failed with 404 Client Error: Not Found for url: https://english.onlinekhabar.com/2018/02/04/412871.html#.WnbRqJ7ZbXI.twitter on URL http://english.onlinekhabar.com/2018/02/04/412871.html#.WnbRqJ7ZbXI.twitter\n",
      "Article `download()` failed with 404 Client Error: Not Found for url: https://english.onlinekhabar.com/2018/02/04/412877.html#.Wnao4N2UbYI.twitter on URL http://english.onlinekhabar.com/2018/02/04/412877.html#.Wnao4N2UbYI.twitter\n"
     ]
    },
    {
     "name": "stdout",
     "output_type": "stream",
     "text": [
      "Article `download()` failed with 404 Client Error: Not Found for url: https://english.onlinekhabar.com/2018/02/04/412869.html#.WnaeXKYuG80.twitter on URL http://english.onlinekhabar.com/2018/02/04/412869.html#.WnaeXKYuG80.twitter\n",
      "Article `download()` failed with 404 Client Error: Not Found for url: https://english.onlinekhabar.com/2018/02/04/412856.html#.WnaZbP9-pF4.twitter on URL http://english.onlinekhabar.com/2018/02/04/412856.html#.WnaZbP9-pF4.twitter\n",
      "Article `download()` failed with 404 Client Error: Not Found for url: https://english.onlinekhabar.com/2018/02/04/412855.html#.WnaWhxIUaYU.twitter on URL http://english.onlinekhabar.com/2018/02/04/412855.html#.WnaWhxIUaYU.twitter\n",
      "Article `download()` failed with 404 Client Error: Not Found for url: https://english.onlinekhabar.com/2018/02/04/412852.html#.WnaMn3O8TGI.twitter on URL http://english.onlinekhabar.com/2018/02/04/412852.html#.WnaMn3O8TGI.twitter\n",
      "Article `download()` failed with 404 Client Error: Not Found for url: https://english.onlinekhabar.com/2018/02/04/412847.html#.WnaEG3Hqy4w.twitter on URL http://english.onlinekhabar.com/2018/02/04/412847.html#.WnaEG3Hqy4w.twitter\n",
      "Article `download()` failed with 404 Client Error: Not Found for url: https://english.onlinekhabar.com/2018/02/02/412844.html#.WnRIpEHatc8.twitter on URL http://english.onlinekhabar.com/2018/02/02/412844.html#.WnRIpEHatc8.twitter\n",
      "Article `download()` failed with 404 Client Error: Not Found for url: https://english.onlinekhabar.com/2018/02/02/412842.html#.WnREc7Sz00A.twitter on URL http://english.onlinekhabar.com/2018/02/02/412842.html#.WnREc7Sz00A.twitter\n",
      "Article `download()` failed with 404 Client Error: Not Found for url: https://english.onlinekhabar.com/2018/02/02/412836.html#.WnQuyJj0L6k.twitter on URL http://english.onlinekhabar.com/2018/02/02/412836.html#.WnQuyJj0L6k.twitter\n",
      "Article `download()` failed with 404 Client Error: Not Found for url: https://english.onlinekhabar.com/2018/02/02/412832.html#.WnQtRSpYekU.twitter on URL http://english.onlinekhabar.com/2018/02/02/412832.html#.WnQtRSpYekU.twitter\n",
      "Article `download()` failed with 404 Client Error: Not Found for url: https://english.onlinekhabar.com/2018/02/02/412830.html#.WnQpV6mJogg.twitter on URL http://english.onlinekhabar.com/2018/02/02/412830.html#.WnQpV6mJogg.twitter\n",
      "Article `download()` failed with 404 Client Error: Not Found for url: https://english.onlinekhabar.com/2018/02/02/412827.html#.WnQJ6SifWUU.twitter on URL http://english.onlinekhabar.com/2018/02/02/412827.html#.WnQJ6SifWUU.twitter\n",
      "Article `download()` failed with 404 Client Error: Not Found for url: https://english.onlinekhabar.com/2018/02/02/412822.html#.WnP9qWd0DGA.twitter on URL http://english.onlinekhabar.com/2018/02/02/412822.html#.WnP9qWd0DGA.twitter\n",
      "Article `download()` failed with 404 Client Error: Not Found for url: https://english.onlinekhabar.com/2018/02/02/412809.html#.WnP1tEeQ78I.twitter on URL http://english.onlinekhabar.com/2018/02/02/412809.html#.WnP1tEeQ78I.twitter\n",
      "Article `download()` failed with 404 Client Error: Not Found for url: https://english.onlinekhabar.com/2018/02/02/412806.html#.WnPsD-b2-uw.twitter on URL http://english.onlinekhabar.com/2018/02/02/412806.html#.WnPsD-b2-uw.twitter\n",
      "Article `download()` failed with 404 Client Error: Not Found for url: https://english.onlinekhabar.com/2018/02/02/412800.html#.WnPjlaWOEj0.twitter on URL http://english.onlinekhabar.com/2018/02/02/412800.html#.WnPjlaWOEj0.twitter\n",
      "Article `download()` failed with 404 Client Error: Not Found for url: https://english.onlinekhabar.com/2018/02/01/412795.html#.WnLtz-hQK94.twitter on URL http://english.onlinekhabar.com/2018/02/01/412795.html#.WnLtz-hQK94.twitter\n",
      "Article `download()` failed with 404 Client Error: Not Found for url: https://english.onlinekhabar.com/2018/02/01/412790.html#.WnLi8sxSrD8.twitter on URL http://english.onlinekhabar.com/2018/02/01/412790.html#.WnLi8sxSrD8.twitter\n",
      "Article `download()` failed with 404 Client Error: Not Found for url: https://english.onlinekhabar.com/2018/02/01/412783.html#.WnLPpn-WkTI.twitter on URL http://english.onlinekhabar.com/2018/02/01/412783.html#.WnLPpn-WkTI.twitter\n",
      "Article `download()` failed with 404 Client Error: Not Found for url: https://english.onlinekhabar.com/2018/02/01/412780.html#.WnLM9TfTwr8.twitter on URL http://english.onlinekhabar.com/2018/02/01/412780.html#.WnLM9TfTwr8.twitter\n",
      "Article `download()` failed with 404 Client Error: Not Found for url: https://english.onlinekhabar.com/2018/02/01/412775.html#.WnK17LEZ12U.twitter on URL http://english.onlinekhabar.com/2018/02/01/412775.html#.WnK17LEZ12U.twitter\n",
      "Article `download()` failed with 404 Client Error: Not Found for url: https://english.onlinekhabar.com/2018/02/01/412772.html#.WnKuOcQ84cw.twitter on URL http://english.onlinekhabar.com/2018/02/01/412772.html#.WnKuOcQ84cw.twitter\n",
      "Article `download()` failed with 404 Client Error: Not Found for url: https://english.onlinekhabar.com/2018/02/01/412751.html on URL http://english.onlinekhabar.com/2018/02/01/412751.html\n",
      "Article `download()` failed with 404 Client Error: Not Found for url: https://english.onlinekhabar.com/2018/02/01/412763.html#.WnKmMz950BQ.twitter on URL http://english.onlinekhabar.com/2018/02/01/412763.html#.WnKmMz950BQ.twitter\n",
      "Article `download()` failed with 404 Client Error: Not Found for url: https://english.onlinekhabar.com/2018/02/01/412754.html#.WnKed0Rlr6A.twitter on URL http://english.onlinekhabar.com/2018/02/01/412754.html#.WnKed0Rlr6A.twitter\n",
      "Article `download()` failed with 404 Client Error: Not Found for url: https://english.onlinekhabar.com/2018/02/01/412727.html#.WnKd5uR55ek.twitter on URL http://english.onlinekhabar.com/2018/02/01/412727.html#.WnKd5uR55ek.twitter\n",
      "Article `download()` failed with 404 Client Error: Not Found for url: https://english.onlinekhabar.com/2018/02/01/412751.html#.WnKbjavyxOE.twitter on URL http://english.onlinekhabar.com/2018/02/01/412751.html#.WnKbjavyxOE.twitter\n",
      "Article `download()` failed with 404 Client Error: Not Found for url: https://english.onlinekhabar.com/2018/02/01/412745.html#.WnKQ_KGGryQ.twitter on URL http://english.onlinekhabar.com/2018/02/01/412745.html#.WnKQ_KGGryQ.twitter\n",
      "Article `download()` failed with 404 Client Error: Not Found for url: https://english.onlinekhabar.com/2018/01/31/412742.html#.WnGhz5T9SMc.twitter on URL http://english.onlinekhabar.com/2018/01/31/412742.html#.WnGhz5T9SMc.twitter\n",
      "Article `download()` failed with 404 Client Error: Not Found for url: https://english.onlinekhabar.com/2018/01/31/412736.html#.WnGe9MtsDHI.twitter on URL http://english.onlinekhabar.com/2018/01/31/412736.html#.WnGe9MtsDHI.twitter\n",
      "Article `download()` failed with 404 Client Error: Not Found for url: https://english.onlinekhabar.com/2018/01/31/412726.html#.WnGbrHL6cW0.twitter on URL http://english.onlinekhabar.com/2018/01/31/412726.html#.WnGbrHL6cW0.twitter\n",
      "Article `download()` failed with 404 Client Error: Not Found for url: https://english.onlinekhabar.com/2018/01/31/412470.html#.WnF0RhPiUFU.twitter on URL http://english.onlinekhabar.com/2018/01/31/412470.html#.WnF0RhPiUFU.twitter\n",
      "Article `download()` failed with 404 Client Error: Not Found for url: https://english.onlinekhabar.com/2018/01/31/412713.html#.WnFzfO34YLo.twitter on URL http://english.onlinekhabar.com/2018/01/31/412713.html#.WnFzfO34YLo.twitter\n",
      "Article `download()` failed with 404 Client Error: Not Found for url: https://english.onlinekhabar.com/2018/01/31/412704.html#.WnFsg8bJfn0.twitter on URL http://english.onlinekhabar.com/2018/01/31/412704.html#.WnFsg8bJfn0.twitter\n",
      "Article `download()` failed with 404 Client Error: Not Found for url: https://english.onlinekhabar.com/2018/01/31/412686.html#.WnFob0wkX7E.twitter on URL http://english.onlinekhabar.com/2018/01/31/412686.html#.WnFob0wkX7E.twitter\n",
      "Article `download()` failed with 404 Client Error: Not Found for url: https://english.onlinekhabar.com/2018/01/31/412699.html#.WnFiROw_orI.twitter on URL http://english.onlinekhabar.com/2018/01/31/412699.html#.WnFiROw_orI.twitter\n",
      "Article `download()` failed with 404 Client Error: Not Found for url: https://english.onlinekhabar.com/2018/01/31/412687.html#.WnFS5A29TnE.twitter on URL http://english.onlinekhabar.com/2018/01/31/412687.html#.WnFS5A29TnE.twitter\n"
     ]
    },
    {
     "name": "stdout",
     "output_type": "stream",
     "text": [
      "Article `download()` failed with 404 Client Error: Not Found for url: https://english.onlinekhabar.com/2018/01/31/412682.html#.WnFBFiCda8Q.twitter on URL http://english.onlinekhabar.com/2018/01/31/412682.html#.WnFBFiCda8Q.twitter\n",
      "Article `download()` failed with 404 Client Error: Not Found for url: https://english.onlinekhabar.com/2018/01/30/412674.html#.WnBTW3GZuKU.twitter on URL http://english.onlinekhabar.com/2018/01/30/412674.html#.WnBTW3GZuKU.twitter\n",
      "Article `download()` failed with 404 Client Error: Not Found for url: https://english.onlinekhabar.com/2018/01/30/412672.html#.WnBQ60qHZ0Q.twitter on URL http://english.onlinekhabar.com/2018/01/30/412672.html#.WnBQ60qHZ0Q.twitter\n",
      "Article `download()` failed with 404 Client Error: Not Found for url: https://english.onlinekhabar.com/2018/01/30/412670.html#.WnBIviNIcRs.twitter on URL http://english.onlinekhabar.com/2018/01/30/412670.html#.WnBIviNIcRs.twitter\n",
      "Article `download()` failed with 404 Client Error: Not Found for url: https://english.onlinekhabar.com/2018/01/30/412667.html#.WnA5osTkSgg.twitter on URL http://english.onlinekhabar.com/2018/01/30/412667.html#.WnA5osTkSgg.twitter\n",
      "Article `download()` failed with 404 Client Error: Not Found for url: https://english.onlinekhabar.com/2018/01/30/412662.html#.WnA03g42Hqc.twitter on URL http://english.onlinekhabar.com/2018/01/30/412662.html#.WnA03g42Hqc.twitter\n",
      "Article `download()` failed with 404 Client Error: Not Found for url: https://english.onlinekhabar.com/2018/01/30/412660.html#.WnAY02m0x_E.twitter on URL http://english.onlinekhabar.com/2018/01/30/412660.html#.WnAY02m0x_E.twitter\n",
      "Article `download()` failed with 404 Client Error: Not Found for url: https://english.onlinekhabar.com/2018/01/30/412655.html#.WnAV_bluUo8.twitter on URL http://english.onlinekhabar.com/2018/01/30/412655.html#.WnAV_bluUo8.twitter\n",
      "Article `download()` failed with 404 Client Error: Not Found for url: https://english.onlinekhabar.com/2018/01/30/412645.html#.WnAIlPNZQ3A.twitter on URL http://english.onlinekhabar.com/2018/01/30/412645.html#.WnAIlPNZQ3A.twitter\n",
      "Article `download()` failed with 404 Client Error: Not Found for url: https://english.onlinekhabar.com/2018/01/30/412646.html#.WnAAJalnXM4.twitter on URL http://english.onlinekhabar.com/2018/01/30/412646.html#.WnAAJalnXM4.twitter\n",
      "Article `download()` failed with 404 Client Error: Not Found for url: https://english.onlinekhabar.com/2018/01/30/412642.html#.Wm_1TpAVtkc.twitter on URL http://english.onlinekhabar.com/2018/01/30/412642.html#.Wm_1TpAVtkc.twitter\n",
      "Article `download()` failed with 404 Client Error: Not Found for url: https://english.onlinekhabar.com/2018/01/29/412639.html#.Wm7-FPdfAV0.twitter on URL http://english.onlinekhabar.com/2018/01/29/412639.html#.Wm7-FPdfAV0.twitter\n",
      "Article `download()` failed with 404 Client Error: Not Found for url: https://english.onlinekhabar.com/2018/01/29/412633.html#.Wm73ea1N9X0.twitter on URL http://english.onlinekhabar.com/2018/01/29/412633.html#.Wm73ea1N9X0.twitter\n",
      "Article `download()` failed with 404 Client Error: Not Found for url: https://english.onlinekhabar.com/2018/01/29/412629.html#.Wm7wJVuIJwc.twitter on URL http://english.onlinekhabar.com/2018/01/29/412629.html#.Wm7wJVuIJwc.twitter\n",
      "Article `download()` failed with 404 Client Error: Not Found for url: https://english.onlinekhabar.com/2018/01/29/412626.html#.Wm7mx9ZJBP0.twitter on URL http://english.onlinekhabar.com/2018/01/29/412626.html#.Wm7mx9ZJBP0.twitter\n",
      "Article `download()` failed with 404 Client Error: Not Found for url: https://english.onlinekhabar.com/2018/01/29/412623.html#.Wm7P5MTHGAk.twitter on URL http://english.onlinekhabar.com/2018/01/29/412623.html#.Wm7P5MTHGAk.twitter\n",
      "Article `download()` failed with 404 Client Error: Not Found for url: https://english.onlinekhabar.com/2018/01/29/412619.html#.Wm7LGsm82Vg.twitter on URL http://english.onlinekhabar.com/2018/01/29/412619.html#.Wm7LGsm82Vg.twitter\n",
      "Article `download()` failed with 404 Client Error: Not Found for url: https://english.onlinekhabar.com/2018/01/29/412365.html#.Wm6_i7_UEmA.twitter on URL http://english.onlinekhabar.com/2018/01/29/412365.html#.Wm6_i7_UEmA.twitter\n",
      "Article `download()` failed with 404 Client Error: Not Found for url: https://english.onlinekhabar.com/2018/01/29/412601.html#.Wm63r0mfabM.twitter on URL http://english.onlinekhabar.com/2018/01/29/412601.html#.Wm63r0mfabM.twitter\n",
      "Article `download()` failed with 404 Client Error: Not Found for url: https://english.onlinekhabar.com/2018/01/29/412599.html#.Wm6wZPjkL9M.twitter on URL http://english.onlinekhabar.com/2018/01/29/412599.html#.Wm6wZPjkL9M.twitter\n",
      "Article `download()` failed with 404 Client Error: Not Found for url: https://english.onlinekhabar.com/2018/01/29/412597.html#.Wm6s5dpsFp0.twitter on URL http://english.onlinekhabar.com/2018/01/29/412597.html#.Wm6s5dpsFp0.twitter\n",
      "Article `download()` failed with 404 Client Error: Not Found for url: https://english.onlinekhabar.com/2018/01/29/412592.html#.Wm6jFqnRfXg.twitter on URL http://english.onlinekhabar.com/2018/01/29/412592.html#.Wm6jFqnRfXg.twitter\n",
      "Article `download()` failed with 404 Client Error: Not Found for url: https://english.onlinekhabar.com/2018/01/28/412588.html#.Wm2wv0gpRdw.twitter on URL http://english.onlinekhabar.com/2018/01/28/412588.html#.Wm2wv0gpRdw.twitter\n",
      "Article `download()` failed with 404 Client Error: Not Found for url: https://english.onlinekhabar.com/2018/01/28/412584.html#.Wm2s-nXYdOQ.twitter on URL http://english.onlinekhabar.com/2018/01/28/412584.html#.Wm2s-nXYdOQ.twitter\n",
      "Article `download()` failed with 404 Client Error: Not Found for url: https://english.onlinekhabar.com/2018/01/28/412579.html#.Wm2pggV_N78.twitter on URL http://english.onlinekhabar.com/2018/01/28/412579.html#.Wm2pggV_N78.twitter\n",
      "Article `download()` failed with 404 Client Error: Not Found for url: https://english.onlinekhabar.com/2018/01/28/412575.html#.Wm2j-4DJdgA.twitter on URL http://english.onlinekhabar.com/2018/01/28/412575.html#.Wm2j-4DJdgA.twitter\n",
      "Article `download()` failed with 404 Client Error: Not Found for url: https://english.onlinekhabar.com/2018/01/28/412570.html#.Wm2YFP1-2M4.twitter on URL http://english.onlinekhabar.com/2018/01/28/412570.html#.Wm2YFP1-2M4.twitter\n",
      "Article `download()` failed with 404 Client Error: Not Found for url: https://english.onlinekhabar.com/2018/01/28/412566.html#.Wm2QiXUqKMk.twitter on URL http://english.onlinekhabar.com/2018/01/28/412566.html#.Wm2QiXUqKMk.twitter\n",
      "Article `download()` failed with 404 Client Error: Not Found for url: https://english.onlinekhabar.com/2018/01/28/412561.html#.Wm2IzElJYBU.twitter on URL http://english.onlinekhabar.com/2018/01/28/412561.html#.Wm2IzElJYBU.twitter\n",
      "Article `download()` failed with 404 Client Error: Not Found for url: https://english.onlinekhabar.com/2018/01/28/412559.html#.Wm1-ICJthDM.twitter on URL http://english.onlinekhabar.com/2018/01/28/412559.html#.Wm1-ICJthDM.twitter\n",
      "Article `download()` failed with 404 Client Error: Not Found for url: https://english.onlinekhabar.com/2018/01/28/412555.html#.Wm14eB0euxs.twitter on URL http://english.onlinekhabar.com/2018/01/28/412555.html#.Wm14eB0euxs.twitter\n",
      "Article `download()` failed with 404 Client Error: Not Found for url: https://english.onlinekhabar.com/2018/01/28/412545.html#.Wm1uhs4zwyU.twitter on URL http://english.onlinekhabar.com/2018/01/28/412545.html#.Wm1uhs4zwyU.twitter\n",
      "Article `download()` failed with 404 Client Error: Not Found for url: https://english.onlinekhabar.com/2018/01/28/412541.html#.Wm1Q3aOwJss.twitter on URL http://english.onlinekhabar.com/2018/01/28/412541.html#.Wm1Q3aOwJss.twitter\n",
      "Article `download()` failed with 404 Client Error: Not Found for url: https://english.onlinekhabar.com/2018/01/26/412530.html#.Wmr-TOygkfM.twitter on URL http://english.onlinekhabar.com/2018/01/26/412530.html#.Wmr-TOygkfM.twitter\n",
      "Article `download()` failed with 404 Client Error: Not Found for url: https://english.onlinekhabar.com/2018/01/26/412524.html#.Wmr6O2y7DsI.twitter on URL http://english.onlinekhabar.com/2018/01/26/412524.html#.Wmr6O2y7DsI.twitter\n",
      "Article `download()` failed with 404 Client Error: Not Found for url: https://english.onlinekhabar.com/2018/01/26/412522.html#.Wmr5tB9OklA.twitter on URL http://english.onlinekhabar.com/2018/01/26/412522.html#.Wmr5tB9OklA.twitter\n"
     ]
    },
    {
     "name": "stdout",
     "output_type": "stream",
     "text": [
      "Article `download()` failed with 404 Client Error: Not Found for url: https://english.onlinekhabar.com/2017/07/04/402908.html#.Wmr4hRfKtWY.twitter on URL http://english.onlinekhabar.com/2017/07/04/402908.html#.Wmr4hRfKtWY.twitter\n",
      "Article `download()` failed with 404 Client Error: Not Found for url: https://english.onlinekhabar.com/2018/01/26/412519.html#.WmrJeEfplpw.twitter on URL http://english.onlinekhabar.com/2018/01/26/412519.html#.WmrJeEfplpw.twitter\n",
      "Article `download()` failed with 404 Client Error: Not Found for url: https://english.onlinekhabar.com/2018/01/26/412513.html#.WmrAI7deuW4.twitter on URL http://english.onlinekhabar.com/2018/01/26/412513.html#.WmrAI7deuW4.twitter\n",
      "Article `download()` failed with 404 Client Error: Not Found for url: https://english.onlinekhabar.com/2018/01/26/412498.html#.Wmq5ZKYfbm8.twitter on URL http://english.onlinekhabar.com/2018/01/26/412498.html#.Wmq5ZKYfbm8.twitter\n",
      "Article `download()` failed with 404 Client Error: Not Found for url: https://english.onlinekhabar.com/2018/01/26/412485.html#.Wmqu40uRnRY.twitter on URL http://english.onlinekhabar.com/2018/01/26/412485.html#.Wmqu40uRnRY.twitter\n",
      "Article `download()` failed with 404 Client Error: Not Found for url: https://english.onlinekhabar.com/2018/01/26/412486.html#.WmquOZCOooo.twitter on URL http://english.onlinekhabar.com/2018/01/26/412486.html#.WmquOZCOooo.twitter\n",
      "Article `download()` failed with 404 Client Error: Not Found for url: https://english.onlinekhabar.com/2018/01/25/412481.html#.Wmm7HERokWk.twitter on URL http://english.onlinekhabar.com/2018/01/25/412481.html#.Wmm7HERokWk.twitter\n",
      "Article `download()` failed with 404 Client Error: Not Found for url: https://english.onlinekhabar.com/2018/01/25/412479.html#.WmmvXdJRmDc.twitter on URL http://english.onlinekhabar.com/2018/01/25/412479.html#.WmmvXdJRmDc.twitter\n",
      "Article `download()` failed with 404 Client Error: Not Found for url: https://english.onlinekhabar.com/2018/01/25/412477.html#.WmmrON3STDE.twitter on URL http://english.onlinekhabar.com/2018/01/25/412477.html#.WmmrON3STDE.twitter\n",
      "Article `download()` failed with 404 Client Error: Not Found for url: https://english.onlinekhabar.com/2018/01/25/412475.html#.WmmoFPHz0Ik.twitter on URL http://english.onlinekhabar.com/2018/01/25/412475.html#.WmmoFPHz0Ik.twitter\n",
      "Article `download()` failed with 404 Client Error: Not Found for url: https://english.onlinekhabar.com/2018/01/25/412458.html#.WmmCuLA9rJ8.twitter on URL http://english.onlinekhabar.com/2018/01/25/412458.html#.WmmCuLA9rJ8.twitter\n",
      "Article `download()` failed with 404 Client Error: Not Found for url: https://english.onlinekhabar.com/2018/01/25/412455.html#.Wml9n4VvgCU.twitter on URL http://english.onlinekhabar.com/2018/01/25/412455.html#.Wml9n4VvgCU.twitter\n",
      "Article `download()` failed with 404 Client Error: Not Found for url: https://english.onlinekhabar.com/2018/01/25/412450.html#.WmlpYSmTRZk.twitter on URL http://english.onlinekhabar.com/2018/01/25/412450.html#.WmlpYSmTRZk.twitter\n",
      "Article `download()` failed with 404 Client Error: Not Found for url: https://english.onlinekhabar.com/2018/01/25/412447.html#.WmlmrPEaN3g.twitter on URL http://english.onlinekhabar.com/2018/01/25/412447.html#.WmlmrPEaN3g.twitter\n",
      "Article `download()` failed with 404 Client Error: Not Found for url: https://english.onlinekhabar.com/2018/01/25/412444.html#.Wmljimxl8Ho.twitter on URL http://english.onlinekhabar.com/2018/01/25/412444.html#.Wmljimxl8Ho.twitter\n",
      "Article `download()` failed with 404 Client Error: Not Found for url: https://english.onlinekhabar.com/2018/01/25/412441.html#.Wmlgs2FrHrc.twitter on URL http://english.onlinekhabar.com/2018/01/25/412441.html#.Wmlgs2FrHrc.twitter\n",
      "Article `download()` failed with 404 Client Error: Not Found for url: https://english.onlinekhabar.com/2018/01/25/412437.html#.Wmlb1S3e-bI.twitter on URL http://english.onlinekhabar.com/2018/01/25/412437.html#.Wmlb1S3e-bI.twitter\n",
      "Article `download()` failed with 404 Client Error: Not Found for url: https://english.onlinekhabar.com/2018/01/24/412433.html#.Wmhl1AYUJzI.twitter on URL http://english.onlinekhabar.com/2018/01/24/412433.html#.Wmhl1AYUJzI.twitter\n",
      "Article `download()` failed with 404 Client Error: Not Found for url: https://english.onlinekhabar.com/2018/01/24/412431.html#.WmhhpR7RX9I.twitter on URL http://english.onlinekhabar.com/2018/01/24/412431.html#.WmhhpR7RX9I.twitter\n",
      "Article `download()` failed with 404 Client Error: Not Found for url: https://english.onlinekhabar.com/2018/01/24/412425.html#.WmhYogE3el4.twitter on URL http://english.onlinekhabar.com/2018/01/24/412425.html#.WmhYogE3el4.twitter\n",
      "Article `download()` failed with 404 Client Error: Not Found for url: https://english.onlinekhabar.com/2018/01/24/412423.html#.WmhVk-NxEAI.twitter on URL http://english.onlinekhabar.com/2018/01/24/412423.html#.WmhVk-NxEAI.twitter\n",
      "Article `download()` failed with 404 Client Error: Not Found for url: https://english.onlinekhabar.com/2018/01/24/412420.html#.WmhGKy-uPMw.twitter on URL http://english.onlinekhabar.com/2018/01/24/412420.html#.WmhGKy-uPMw.twitter\n",
      "Article `download()` failed with 404 Client Error: Not Found for url: https://english.onlinekhabar.com/2018/01/24/412417.html#.WmgvKg6AlWQ.twitter on URL http://english.onlinekhabar.com/2018/01/24/412417.html#.WmgvKg6AlWQ.twitter\n",
      "Article `download()` failed with 404 Client Error: Not Found for url: https://english.onlinekhabar.com/2018/01/24/412350.html#.WmgqBB7LgOQ.twitter on URL http://english.onlinekhabar.com/2018/01/24/412350.html#.WmgqBB7LgOQ.twitter\n",
      "Article `download()` failed with 404 Client Error: Not Found for url: https://english.onlinekhabar.com/2018/01/24/412393.html#.WmgXIfG1lEE.twitter on URL http://english.onlinekhabar.com/2018/01/24/412393.html#.WmgXIfG1lEE.twitter\n",
      "Article `download()` failed with 404 Client Error: Not Found for url: https://english.onlinekhabar.com/2018/01/24/412388.html#.WmgMn_ocy4M.twitter on URL http://english.onlinekhabar.com/2018/01/24/412388.html#.WmgMn_ocy4M.twitter\n",
      "Article `download()` failed with 404 Client Error: Not Found for url: https://english.onlinekhabar.com/2018/01/24/412384.html#.WmgIl7b74-k.twitter on URL http://english.onlinekhabar.com/2018/01/24/412384.html#.WmgIl7b74-k.twitter\n",
      "Article `download()` failed with 404 Client Error: Not Found for url: https://english.onlinekhabar.com/2018/01/23/412370.html#.Wmca9eOHSwM.twitter on URL http://english.onlinekhabar.com/2018/01/23/412370.html#.Wmca9eOHSwM.twitter\n",
      "Article `download()` failed with 404 Client Error: Not Found for url: https://english.onlinekhabar.com/2018/01/23/412364.html#.WmcRbyQLhuk.twitter on URL http://english.onlinekhabar.com/2018/01/23/412364.html#.WmcRbyQLhuk.twitter\n",
      "Article `download()` failed with 404 Client Error: Not Found for url: https://english.onlinekhabar.com/2018/01/23/412358.html#.WmcFt-CL3rk.twitter on URL http://english.onlinekhabar.com/2018/01/23/412358.html#.WmcFt-CL3rk.twitter\n",
      "Article `download()` failed with 404 Client Error: Not Found for url: https://english.onlinekhabar.com/2018/01/23/412355.html#.WmcCdAENGoI.twitter on URL http://english.onlinekhabar.com/2018/01/23/412355.html#.WmcCdAENGoI.twitter\n",
      "Article `download()` failed with 404 Client Error: Not Found for url: https://english.onlinekhabar.com/2018/01/23/412349.html#.Wmb8lal3gpI.twitter on URL http://english.onlinekhabar.com/2018/01/23/412349.html#.Wmb8lal3gpI.twitter\n",
      "Article `download()` failed with 404 Client Error: Not Found for url: https://english.onlinekhabar.com/2018/01/23/412342.html#.WmbUm4F17Q4.twitter on URL http://english.onlinekhabar.com/2018/01/23/412342.html#.WmbUm4F17Q4.twitter\n",
      "Article `download()` failed with 404 Client Error: Not Found for url: https://english.onlinekhabar.com/2018/01/23/412338.html#.WmbJKDSwMGk.twitter on URL http://english.onlinekhabar.com/2018/01/23/412338.html#.WmbJKDSwMGk.twitter\n",
      "Article `download()` failed with 404 Client Error: Not Found for url: https://english.onlinekhabar.com/2018/01/23/412326.html#.WmbDjgtOYyE.twitter on URL http://english.onlinekhabar.com/2018/01/23/412326.html#.WmbDjgtOYyE.twitter\n",
      "Article `download()` failed with 404 Client Error: Not Found for url: https://english.onlinekhabar.com/2018/01/23/412328.html#.Wma60_P9210.twitter on URL http://english.onlinekhabar.com/2018/01/23/412328.html#.Wma60_P9210.twitter\n"
     ]
    },
    {
     "name": "stdout",
     "output_type": "stream",
     "text": [
      "Article `download()` failed with 404 Client Error: Not Found for url: https://english.onlinekhabar.com/2018/01/23/412325.html#.Wma1yeC7X9M.twitter on URL http://english.onlinekhabar.com/2018/01/23/412325.html#.Wma1yeC7X9M.twitter\n",
      "Article `download()` failed with 404 Client Error: Not Found for url: https://english.onlinekhabar.com/2018/01/22/412321.html#.WmXOj2iOVgk.twitter on URL http://english.onlinekhabar.com/2018/01/22/412321.html#.WmXOj2iOVgk.twitter\n",
      "Article `download()` failed with 404 Client Error: Not Found for url: https://english.onlinekhabar.com/2018/01/22/412319.html#.WmXMZLxf3ME.twitter on URL http://english.onlinekhabar.com/2018/01/22/412319.html#.WmXMZLxf3ME.twitter\n",
      "Article `download()` failed with 404 Client Error: Not Found for url: https://english.onlinekhabar.com/2018/01/22/412315.html#.WmXJ_hcKv3s.twitter on URL http://english.onlinekhabar.com/2018/01/22/412315.html#.WmXJ_hcKv3s.twitter\n",
      "Article `download()` failed with 404 Client Error: Not Found for url: https://english.onlinekhabar.com/2018/01/22/412307.html#.WmW1XNHQvxI.twitter on URL http://english.onlinekhabar.com/2018/01/22/412307.html#.WmW1XNHQvxI.twitter\n",
      "Article `download()` failed with 404 Client Error: Not Found for url: https://english.onlinekhabar.com/2018/01/22/412303.html#.WmWyTryTrrM.twitter on URL http://english.onlinekhabar.com/2018/01/22/412303.html#.WmWyTryTrrM.twitter\n",
      "Article `download()` failed with 404 Client Error: Not Found for url: https://english.onlinekhabar.com/2018/01/22/412158.html#.WmWl1DQKtCE.twitter on URL http://english.onlinekhabar.com/2018/01/22/412158.html#.WmWl1DQKtCE.twitter\n",
      "Article `download()` failed with 404 Client Error: Not Found for url: https://english.onlinekhabar.com/2018/01/22/412295.html#.WmWNwhnzxqk.twitter on URL http://english.onlinekhabar.com/2018/01/22/412295.html#.WmWNwhnzxqk.twitter\n",
      "Article `download()` failed with 404 Client Error: Not Found for url: https://english.onlinekhabar.com/2018/01/22/412279.html#.WmV-BQ9D3Zw.twitter on URL http://english.onlinekhabar.com/2018/01/22/412279.html#.WmV-BQ9D3Zw.twitter\n",
      "Article `download()` failed with 404 Client Error: Not Found for url: https://english.onlinekhabar.com/2018/01/22/412286.html#.WmV9zFWC-0A.twitter on URL http://english.onlinekhabar.com/2018/01/22/412286.html#.WmV9zFWC-0A.twitter\n",
      "Article `download()` failed with 404 Client Error: Not Found for url: https://english.onlinekhabar.com/2018/01/22/412274.html#.WmVq2t-Fas0.twitter on URL http://english.onlinekhabar.com/2018/01/22/412274.html#.WmVq2t-Fas0.twitter\n",
      "Article `download()` failed with 404 Client Error: Not Found for url: https://english.onlinekhabar.com/2018/01/21/412271.html#.WmRzf-rmL2g.twitter on URL http://english.onlinekhabar.com/2018/01/21/412271.html#.WmRzf-rmL2g.twitter\n",
      "Article `download()` failed with 404 Client Error: Not Found for url: https://english.onlinekhabar.com/2018/01/21/412267.html#.WmRpRJrX61E.twitter on URL http://english.onlinekhabar.com/2018/01/21/412267.html#.WmRpRJrX61E.twitter\n",
      "Article `download()` failed with 404 Client Error: Not Found for url: https://english.onlinekhabar.com/2018/01/21/412265.html#.WmRfONJ45g8.twitter on URL http://english.onlinekhabar.com/2018/01/21/412265.html#.WmRfONJ45g8.twitter\n",
      "Article `download()` failed with 404 Client Error: Not Found for url: https://english.onlinekhabar.com/2018/01/21/412263.html#.WmRc6Se_AME.twitter on URL http://english.onlinekhabar.com/2018/01/21/412263.html#.WmRc6Se_AME.twitter\n",
      "Article `download()` failed with 404 Client Error: Not Found for url: https://english.onlinekhabar.com/2018/01/21/412256.html#.WmQzXw3tN40.twitter on URL http://english.onlinekhabar.com/2018/01/21/412256.html#.WmQzXw3tN40.twitter\n",
      "Article `download()` failed with 404 Client Error: Not Found for url: https://english.onlinekhabar.com/2018/01/21/412254.html#.WmQwYtdhMSw.twitter on URL http://english.onlinekhabar.com/2018/01/21/412254.html#.WmQwYtdhMSw.twitter\n",
      "Article `download()` failed with 404 Client Error: Not Found for url: https://english.onlinekhabar.com/2018/01/21/412248.html#.WmQszABthSM.twitter on URL http://english.onlinekhabar.com/2018/01/21/412248.html#.WmQszABthSM.twitter\n",
      "Article `download()` failed with 404 Client Error: Not Found for url: https://english.onlinekhabar.com/2018/01/21/412245.html#.WmQitinxAOo.twitter on URL http://english.onlinekhabar.com/2018/01/21/412245.html#.WmQitinxAOo.twitter\n",
      "\n"
     ]
    },
    {
     "data": {
      "application/vnd.jupyter.widget-view+json": {
       "model_id": "c71aaf11ce2b4c50855714101880f861",
       "version_major": 2,
       "version_minor": 0
      },
      "text/plain": [
       "HBox(children=(HTML(value=''), FloatProgress(value=0.0, max=176.0), HTML(value='')))"
      ]
     },
     "metadata": {},
     "output_type": "display_data"
    },
    {
     "name": "stdout",
     "output_type": "stream",
     "text": [
      "Article `download()` failed with 404 Client Error: Not Found for url: https://english.onlinekhabar.com/2018/01/21/412242.html#.WmQd6-ogqE0.twitter on URL http://english.onlinekhabar.com/2018/01/21/412242.html#.WmQd6-ogqE0.twitter\n",
      "Article `download()` failed with 404 Client Error: Not Found for url: https://english.onlinekhabar.com/2018/01/21/412209.html#.WmQXksex8uk.twitter on URL http://english.onlinekhabar.com/2018/01/21/412209.html#.WmQXksex8uk.twitter\n",
      "Article `download()` failed with 404 Client Error: Not Found for url: https://english.onlinekhabar.com/2018/01/21/412235.html#.WmQUKeBre8A.twitter on URL http://english.onlinekhabar.com/2018/01/21/412235.html#.WmQUKeBre8A.twitter\n",
      "Article `download()` failed with 404 Client Error: Not Found for url: https://english.onlinekhabar.com/2018/01/19/412230.html#.WmHP955nqWY.twitter on URL http://english.onlinekhabar.com/2018/01/19/412230.html#.WmHP955nqWY.twitter\n",
      "Article `download()` failed with 404 Client Error: Not Found for url: https://english.onlinekhabar.com/2018/01/19/412228.html#.WmHNLu7ZLcM.twitter on URL http://english.onlinekhabar.com/2018/01/19/412228.html#.WmHNLu7ZLcM.twitter\n",
      "Article `download()` failed with 404 Client Error: Not Found for url: https://english.onlinekhabar.com/2018/01/19/412224.html#.WmHIg0zAmkc.twitter on URL http://english.onlinekhabar.com/2018/01/19/412224.html#.WmHIg0zAmkc.twitter\n",
      "Article `download()` failed with 404 Client Error: Not Found for url: https://english.onlinekhabar.com/2018/01/19/412218.html#.WmHDG6wcgHI.twitter on URL http://english.onlinekhabar.com/2018/01/19/412218.html#.WmHDG6wcgHI.twitter\n",
      "Article `download()` failed with 404 Client Error: Not Found for url: https://english.onlinekhabar.com/2018/01/19/412210.html#.WmG7bW7TtPo.twitter on URL http://english.onlinekhabar.com/2018/01/19/412210.html#.WmG7bW7TtPo.twitter\n",
      "Article `download()` failed with 404 Client Error: Not Found for url: https://english.onlinekhabar.com/2018/01/19/412204.html#.WmGw5nzBvYs.twitter on URL http://english.onlinekhabar.com/2018/01/19/412204.html#.WmGw5nzBvYs.twitter\n",
      "Article `download()` failed with 404 Client Error: Not Found for url: https://english.onlinekhabar.com/2018/01/19/412199.html#.WmGbFkxO3EQ.twitter on URL http://english.onlinekhabar.com/2018/01/19/412199.html#.WmGbFkxO3EQ.twitter\n",
      "Article `download()` failed with 404 Client Error: Not Found for url: https://english.onlinekhabar.com/2018/01/19/412197.html#.WmGT6__i5GM.twitter on URL http://english.onlinekhabar.com/2018/01/19/412197.html#.WmGT6__i5GM.twitter\n",
      "Article `download()` failed with 404 Client Error: Not Found for url: https://english.onlinekhabar.com/2018/01/19/412194.html#.WmGPJiajWZw.twitter on URL http://english.onlinekhabar.com/2018/01/19/412194.html#.WmGPJiajWZw.twitter\n",
      "Article `download()` failed with 404 Client Error: Not Found for url: https://english.onlinekhabar.com/2018/01/19/412187.html#.WmGBZI5dddM.twitter on URL http://english.onlinekhabar.com/2018/01/19/412187.html#.WmGBZI5dddM.twitter\n",
      "Article `download()` failed with 404 Client Error: Not Found for url: https://english.onlinekhabar.com/2018/01/19/412181.html#.WmF3i2LKvhU.twitter on URL http://english.onlinekhabar.com/2018/01/19/412181.html#.WmF3i2LKvhU.twitter\n",
      "Article `download()` failed with 404 Client Error: Not Found for url: https://english.onlinekhabar.com/2018/01/18/412176.html#.WmB7ivCNU1w.twitter on URL http://english.onlinekhabar.com/2018/01/18/412176.html#.WmB7ivCNU1w.twitter\n",
      "Article `download()` failed with 404 Client Error: Not Found for url: https://english.onlinekhabar.com/2018/01/18/412173.html#.WmB480XFun0.twitter on URL http://english.onlinekhabar.com/2018/01/18/412173.html#.WmB480XFun0.twitter\n",
      "Article `download()` failed with 404 Client Error: Not Found for url: https://english.onlinekhabar.com/2018/01/18/412169.html#.WmB11ELkSyQ.twitter on URL http://english.onlinekhabar.com/2018/01/18/412169.html#.WmB11ELkSyQ.twitter\n",
      "Article `download()` failed with 404 Client Error: Not Found for url: https://english.onlinekhabar.com/2018/01/18/412163.html#.WmBwvR_zYCk.twitter on URL http://english.onlinekhabar.com/2018/01/18/412163.html#.WmBwvR_zYCk.twitter\n",
      "Article `download()` failed with 404 Client Error: Not Found for url: https://english.onlinekhabar.com/2018/01/18/412157.html#.WmBmheFE1SE.twitter on URL http://english.onlinekhabar.com/2018/01/18/412157.html#.WmBmheFE1SE.twitter\n",
      "Article `download()` failed with 404 Client Error: Not Found for url: https://english.onlinekhabar.com/2018/01/18/412154.html#.WmBfwCAzV5o.twitter on URL http://english.onlinekhabar.com/2018/01/18/412154.html#.WmBfwCAzV5o.twitter\n",
      "Article `download()` failed with 404 Client Error: Not Found for url: https://english.onlinekhabar.com/2018/01/18/412152.html#.WmBcvgWS61U.twitter on URL http://english.onlinekhabar.com/2018/01/18/412152.html#.WmBcvgWS61U.twitter\n",
      "Article `download()` failed with 404 Client Error: Not Found for url: https://english.onlinekhabar.com/2018/01/18/412145.html#.WmBGozzxS3A.twitter on URL http://english.onlinekhabar.com/2018/01/18/412145.html#.WmBGozzxS3A.twitter\n",
      "Article `download()` failed with 404 Client Error: Not Found for url: https://english.onlinekhabar.com/2018/01/18/412123.html#.WmBCnV_O7Oc.twitter on URL http://english.onlinekhabar.com/2018/01/18/412123.html#.WmBCnV_O7Oc.twitter\n",
      "Article `download()` failed with 404 Client Error: Not Found for url: https://english.onlinekhabar.com/2018/01/18/412124.html#.WmAt8bxua2g.twitter on URL http://english.onlinekhabar.com/2018/01/18/412124.html#.WmAt8bxua2g.twitter\n",
      "Article `download()` failed with 404 Client Error: Not Found for url: https://english.onlinekhabar.com/2018/01/18/412119.html#.WmAmA-Mo1Pk.twitter on URL http://english.onlinekhabar.com/2018/01/18/412119.html#.WmAmA-Mo1Pk.twitter\n",
      "Article `download()` failed with 404 Client Error: Not Found for url: https://english.onlinekhabar.com/2018/01/17/412108.html#.Wl8xr53G-nc.twitter on URL http://english.onlinekhabar.com/2018/01/17/412108.html#.Wl8xr53G-nc.twitter\n",
      "Article `download()` failed with 404 Client Error: Not Found for url: https://english.onlinekhabar.com/2018/01/17/412105.html#.Wl8ct8GYEXw.twitter on URL http://english.onlinekhabar.com/2018/01/17/412105.html#.Wl8ct8GYEXw.twitter\n",
      "Article `download()` failed with 404 Client Error: Not Found for url: https://english.onlinekhabar.com/2018/01/17/412100.html#.Wl8IADIdC_8.twitter on URL http://english.onlinekhabar.com/2018/01/17/412100.html#.Wl8IADIdC_8.twitter\n",
      "Article `download()` failed with 404 Client Error: Not Found for url: https://english.onlinekhabar.com/2018/01/17/412091.html#.Wl7xL0pnqLU.twitter on URL http://english.onlinekhabar.com/2018/01/17/412091.html#.Wl7xL0pnqLU.twitter\n",
      "Article `download()` failed with 404 Client Error: Not Found for url: https://english.onlinekhabar.com/2018/01/17/412078.html#.Wl7uG4uqefI.twitter on URL http://english.onlinekhabar.com/2018/01/17/412078.html#.Wl7uG4uqefI.twitter\n",
      "Article `download()` failed with 404 Client Error: Not Found for url: https://english.onlinekhabar.com/2018/01/17/412079.html#.Wl7jaeaa2SE.twitter on URL http://english.onlinekhabar.com/2018/01/17/412079.html#.Wl7jaeaa2SE.twitter\n",
      "Article `download()` failed with 404 Client Error: Not Found for url: https://english.onlinekhabar.com/2018/01/17/412073.html#.Wl7PYhlVa20.twitter on URL http://english.onlinekhabar.com/2018/01/17/412073.html#.Wl7PYhlVa20.twitter\n",
      "Article `download()` failed with 404 Client Error: Not Found for url: https://english.onlinekhabar.com/2018/01/16/412067.html#.Wl3QSGBQLhk.twitter on URL http://english.onlinekhabar.com/2018/01/16/412067.html#.Wl3QSGBQLhk.twitter\n",
      "Article `download()` failed with 404 Client Error: Not Found for url: https://english.onlinekhabar.com/2018/01/16/412064.html#.Wl3NSDB5dVA.twitter on URL http://english.onlinekhabar.com/2018/01/16/412064.html#.Wl3NSDB5dVA.twitter\n",
      "Article `download()` failed with 404 Client Error: Not Found for url: https://english.onlinekhabar.com/2018/01/16/412061.html#.Wl3E_SbMonI.twitter on URL http://english.onlinekhabar.com/2018/01/16/412061.html#.Wl3E_SbMonI.twitter\n",
      "Article `download()` failed with 404 Client Error: Not Found for url: https://english.onlinekhabar.com/2018/01/16/412059.html#.Wl2_JU9P3Rs.twitter on URL http://english.onlinekhabar.com/2018/01/16/412059.html#.Wl2_JU9P3Rs.twitter\n"
     ]
    },
    {
     "name": "stdout",
     "output_type": "stream",
     "text": [
      "Article `download()` failed with 404 Client Error: Not Found for url: https://english.onlinekhabar.com/2018/01/16/412056.html#.Wl288cMrtDo.twitter on URL http://english.onlinekhabar.com/2018/01/16/412056.html#.Wl288cMrtDo.twitter\n",
      "Article `download()` failed with 404 Client Error: Not Found for url: https://english.onlinekhabar.com/2018/01/16/412038.html#.Wl2mBPpp0hA.twitter on URL http://english.onlinekhabar.com/2018/01/16/412038.html#.Wl2mBPpp0hA.twitter\n",
      "Article `download()` failed with 404 Client Error: Not Found for url: https://english.onlinekhabar.com/2018/01/16/412045.html#.Wl2bEGIQ0ds.twitter on URL http://english.onlinekhabar.com/2018/01/16/412045.html#.Wl2bEGIQ0ds.twitter\n",
      "Article `download()` failed with 404 Client Error: Not Found for url: https://english.onlinekhabar.com/2018/01/16/412034.html#.Wl2AiiXSiiU.twitter on URL http://english.onlinekhabar.com/2018/01/16/412034.html#.Wl2AiiXSiiU.twitter\n",
      "Article `download()` failed with 404 Client Error: Not Found for url: https://english.onlinekhabar.com/2018/01/15/412029.html#.WlyMPxCNt3I.twitter on URL http://english.onlinekhabar.com/2018/01/15/412029.html#.WlyMPxCNt3I.twitter\n",
      "Article `download()` failed with 404 Client Error: Not Found for url: https://english.onlinekhabar.com/2018/01/15/412026.html#.WlyDfRteiSw.twitter on URL http://english.onlinekhabar.com/2018/01/15/412026.html#.WlyDfRteiSw.twitter\n",
      "Article `download()` failed with 404 Client Error: Not Found for url: https://english.onlinekhabar.com/2018/01/15/412022.html#.Wlx_z8qdbGM.twitter on URL http://english.onlinekhabar.com/2018/01/15/412022.html#.Wlx_z8qdbGM.twitter\n",
      "Article `download()` failed with 404 Client Error: Not Found for url: https://english.onlinekhabar.com/2018/01/15/412020.html#.Wlx7LuQGcjs.twitter on URL http://english.onlinekhabar.com/2018/01/15/412020.html#.Wlx7LuQGcjs.twitter\n",
      "Article `download()` failed with 404 Client Error: Not Found for url: https://english.onlinekhabar.com/2018/01/15/412017.html#.Wlx0jXL26BI.twitter on URL http://english.onlinekhabar.com/2018/01/15/412017.html#.Wlx0jXL26BI.twitter\n",
      "Article `download()` failed with 404 Client Error: Not Found for url: https://english.onlinekhabar.com/2018/01/15/412014.html#.WlxwNlD8C_U.twitter on URL http://english.onlinekhabar.com/2018/01/15/412014.html#.WlxwNlD8C_U.twitter\n",
      "Article `download()` failed with 404 Client Error: Not Found for url: https://english.onlinekhabar.com/2018/01/15/412011.html#.WlxmbsVINIQ.twitter on URL http://english.onlinekhabar.com/2018/01/15/412011.html#.WlxmbsVINIQ.twitter\n",
      "Article `download()` failed with 404 Client Error: Not Found for url: https://english.onlinekhabar.com/2018/01/15/412005.html#.WlxOfwnmVXk.twitter on URL http://english.onlinekhabar.com/2018/01/15/412005.html#.WlxOfwnmVXk.twitter\n",
      "Article `download()` failed with 404 Client Error: Not Found for url: https://english.onlinekhabar.com/2018/01/15/412002.html#.Wlw-RX1D-G8.twitter on URL http://english.onlinekhabar.com/2018/01/15/412002.html#.Wlw-RX1D-G8.twitter\n",
      "Article `download()` failed with 404 Client Error: Not Found for url: https://english.onlinekhabar.com/2018/01/15/411941.html#.WlwyJlytERM.twitter on URL http://english.onlinekhabar.com/2018/01/15/411941.html#.WlwyJlytERM.twitter\n",
      "Article `download()` failed with 404 Client Error: Not Found for url: https://english.onlinekhabar.com/2018/01/15/411994.html#.Wlwuv_sewHs.twitter on URL http://english.onlinekhabar.com/2018/01/15/411994.html#.Wlwuv_sewHs.twitter\n",
      "Article `download()` failed with 404 Client Error: Not Found for url: https://english.onlinekhabar.com/2018/01/14/411990.html#.Wls2t357Q9E.twitter on URL http://english.onlinekhabar.com/2018/01/14/411990.html#.Wls2t357Q9E.twitter\n",
      "Article `download()` failed with 404 Client Error: Not Found for url: https://english.onlinekhabar.com/2018/01/14/411986.html#.WlsxHEvxf4c.twitter on URL http://english.onlinekhabar.com/2018/01/14/411986.html#.WlsxHEvxf4c.twitter\n",
      "Article `download()` failed with 404 Client Error: Not Found for url: https://english.onlinekhabar.com/2018/01/14/411972.html#.WlsndaLoaao.twitter on URL http://english.onlinekhabar.com/2018/01/14/411972.html#.WlsndaLoaao.twitter\n",
      "Article `download()` failed with 404 Client Error: Not Found for url: https://english.onlinekhabar.com/2018/01/14/411970.html#.WlsiG114XJw.twitter on URL http://english.onlinekhabar.com/2018/01/14/411970.html#.WlsiG114XJw.twitter\n",
      "Article `download()` failed with 404 Client Error: Not Found for url: https://english.onlinekhabar.com/2018/01/14/411965.html#.Wlsa7hLhj4M.twitter on URL http://english.onlinekhabar.com/2018/01/14/411965.html#.Wlsa7hLhj4M.twitter\n",
      "Article `download()` failed with 404 Client Error: Not Found for url: https://english.onlinekhabar.com/2018/01/14/411961.html#.WlsBZcDgZbw.twitter on URL http://english.onlinekhabar.com/2018/01/14/411961.html#.WlsBZcDgZbw.twitter\n",
      "Article `download()` failed with 404 Client Error: Not Found for url: https://english.onlinekhabar.com/2018/01/14/411953.html#.WlrzSFRTTL8.twitter on URL http://english.onlinekhabar.com/2018/01/14/411953.html#.WlrzSFRTTL8.twitter\n",
      "Article `download()` failed with 404 Client Error: Not Found for url: https://english.onlinekhabar.com/2018/01/14/411943.html#.Wlro9B8EaoA.twitter on URL http://english.onlinekhabar.com/2018/01/14/411943.html#.Wlro9B8EaoA.twitter\n",
      "Article `download()` failed with 404 Client Error: Not Found for url: https://english.onlinekhabar.com/2018/01/14/411948.html#.WlrfT6FbSoY.twitter on URL http://english.onlinekhabar.com/2018/01/14/411948.html#.WlrfT6FbSoY.twitter\n",
      "Article `download()` failed with 404 Client Error: Not Found for url: https://english.onlinekhabar.com/2018/01/12/411937.html#.WlicpbPsfTU.twitter on URL http://english.onlinekhabar.com/2018/01/12/411937.html#.WlicpbPsfTU.twitter\n",
      "Article `download()` failed with 404 Client Error: Not Found for url: https://english.onlinekhabar.com/2018/01/12/411934.html#.WliZPf4chUs.twitter on URL http://english.onlinekhabar.com/2018/01/12/411934.html#.WliZPf4chUs.twitter\n",
      "Article `download()` failed with 404 Client Error: Not Found for url: https://english.onlinekhabar.com/2018/01/12/411924.html#.WliVa2AzCpQ.twitter on URL http://english.onlinekhabar.com/2018/01/12/411924.html#.WliVa2AzCpQ.twitter\n",
      "Article `download()` failed with 404 Client Error: Not Found for url: https://english.onlinekhabar.com/2018/01/12/411925.html#.Wlh9fMR62zY.twitter on URL http://english.onlinekhabar.com/2018/01/12/411925.html#.Wlh9fMR62zY.twitter\n",
      "Article `download()` failed with 404 Client Error: Not Found for url: https://english.onlinekhabar.com/2018/01/12/411922.html#.WlhiAnmK4W8.twitter on URL http://english.onlinekhabar.com/2018/01/12/411922.html#.WlhiAnmK4W8.twitter\n",
      "Article `download()` failed with 404 Client Error: Not Found for url: https://english.onlinekhabar.com/2018/01/12/411918.html#.WlhVwKTDW54.twitter on URL http://english.onlinekhabar.com/2018/01/12/411918.html#.WlhVwKTDW54.twitter\n",
      "Article `download()` failed with 404 Client Error: Not Found for url: https://english.onlinekhabar.com/2018/01/12/411905.html#.WlhQxN5kPA0.twitter on URL http://english.onlinekhabar.com/2018/01/12/411905.html#.WlhQxN5kPA0.twitter\n",
      "Article `download()` failed with 404 Client Error: Not Found for url: https://english.onlinekhabar.com/2018/01/12/411915.html#.WlhQeBYoKzM.twitter on URL http://english.onlinekhabar.com/2018/01/12/411915.html#.WlhQeBYoKzM.twitter\n",
      "Article `download()` failed with 404 Client Error: Not Found for url: https://english.onlinekhabar.com/2018/01/12/411902.html#.Wlg5mWWqVHk.twitter on URL http://english.onlinekhabar.com/2018/01/12/411902.html#.Wlg5mWWqVHk.twitter\n",
      "Article `download()` failed with 404 Client Error: Not Found for url: https://english.onlinekhabar.com/2018/01/11/411896.html#.WldFSso8vHI.twitter on URL http://english.onlinekhabar.com/2018/01/11/411896.html#.WldFSso8vHI.twitter\n",
      "Article `download()` failed with 404 Client Error: Not Found for url: https://english.onlinekhabar.com/2018/01/11/411893.html#.Wlc9TfIGNGQ.twitter on URL http://english.onlinekhabar.com/2018/01/11/411893.html#.Wlc9TfIGNGQ.twitter\n",
      "Article `download()` failed with 404 Client Error: Not Found for url: https://english.onlinekhabar.com/2018/01/11/411891.html#.WlctQS71hA0.twitter on URL http://english.onlinekhabar.com/2018/01/11/411891.html#.WlctQS71hA0.twitter\n"
     ]
    },
    {
     "name": "stdout",
     "output_type": "stream",
     "text": [
      "Article `download()` failed with 404 Client Error: Not Found for url: https://english.onlinekhabar.com/2018/01/11/411887.html#.WlcmhSjRtiw.twitter on URL http://english.onlinekhabar.com/2018/01/11/411887.html#.WlcmhSjRtiw.twitter\n",
      "Article `download()` failed with 404 Client Error: Not Found for url: https://english.onlinekhabar.com/2018/01/11/411884.html#.WlcKedVd668.twitter on URL http://english.onlinekhabar.com/2018/01/11/411884.html#.WlcKedVd668.twitter\n",
      "Article `download()` failed with 404 Client Error: Not Found for url: https://english.onlinekhabar.com/2018/01/11/411880.html#.Wlb-zyUiMTE.twitter on URL http://english.onlinekhabar.com/2018/01/11/411880.html#.Wlb-zyUiMTE.twitter\n",
      "Article `download()` failed with 404 Client Error: Not Found for url: https://english.onlinekhabar.com/2018/01/11/411878.html#.Wlb3sHo_TFI.twitter on URL http://english.onlinekhabar.com/2018/01/11/411878.html#.Wlb3sHo_TFI.twitter\n",
      "Article `download()` failed with 404 Client Error: Not Found for url: https://english.onlinekhabar.com/2018/01/11/411875.html#.WlbzVGqc4iM.twitter on URL http://english.onlinekhabar.com/2018/01/11/411875.html#.WlbzVGqc4iM.twitter\n",
      "Article `download()` failed with 404 Client Error: Not Found for url: https://english.onlinekhabar.com/2018/01/11/411868.html#.Wlbvn7vbRco.twitter on URL http://english.onlinekhabar.com/2018/01/11/411868.html#.Wlbvn7vbRco.twitter\n",
      "Article `download()` failed with 404 Client Error: Not Found for url: https://english.onlinekhabar.com/2018/01/11/411862.html#.Wlbjm0ujfwk.twitter on URL http://english.onlinekhabar.com/2018/01/11/411862.html#.Wlbjm0ujfwk.twitter\n",
      "Article `download()` failed with 404 Client Error: Not Found for url: https://english.onlinekhabar.com/2018/01/10/411859.html#.WlX2EHFgimc.twitter on URL http://english.onlinekhabar.com/2018/01/10/411859.html#.WlX2EHFgimc.twitter\n",
      "Article `download()` failed with 404 Client Error: Not Found for url: https://english.onlinekhabar.com/2018/01/10/411856.html#.WlXrY5OUJ-Y.twitter on URL http://english.onlinekhabar.com/2018/01/10/411856.html#.WlXrY5OUJ-Y.twitter\n",
      "Article `download()` failed with 404 Client Error: Not Found for url: https://english.onlinekhabar.com/2018/01/10/411853.html#.WlXmS1eB9eM.twitter on URL http://english.onlinekhabar.com/2018/01/10/411853.html#.WlXmS1eB9eM.twitter\n",
      "Article `download()` failed with 404 Client Error: Not Found for url: https://english.onlinekhabar.com/2018/01/10/411846.html#.WlXQxz0gujo.twitter on URL http://english.onlinekhabar.com/2018/01/10/411846.html#.WlXQxz0gujo.twitter\n",
      "Article `download()` failed with 404 Client Error: Not Found for url: https://english.onlinekhabar.com/2018/01/10/411844.html#.WlXNFwfrFtQ.twitter on URL http://english.onlinekhabar.com/2018/01/10/411844.html#.WlXNFwfrFtQ.twitter\n",
      "Article `download()` failed with 404 Client Error: Not Found for url: https://english.onlinekhabar.com/2018/01/10/411838.html#.WlW_tikt8b4.twitter on URL http://english.onlinekhabar.com/2018/01/10/411838.html#.WlW_tikt8b4.twitter\n",
      "Article `download()` failed with 404 Client Error: Not Found for url: https://english.onlinekhabar.com/2018/01/10/411836.html#.WlW1sTor1UE.twitter on URL http://english.onlinekhabar.com/2018/01/10/411836.html#.WlW1sTor1UE.twitter\n",
      "Article `download()` failed with 404 Client Error: Not Found for url: https://english.onlinekhabar.com/2018/01/10/411738.html#.WlWlu-n4s5Y.twitter on URL http://english.onlinekhabar.com/2018/01/10/411738.html#.WlWlu-n4s5Y.twitter\n",
      "Article `download()` failed with 404 Client Error: Not Found for url: https://english.onlinekhabar.com/2018/01/10/411828.html#.WlWiUj0KC0k.twitter on URL http://english.onlinekhabar.com/2018/01/10/411828.html#.WlWiUj0KC0k.twitter\n",
      "Article `download()` failed with 404 Client Error: Not Found for url: https://english.onlinekhabar.com/2018/01/10/411818.html#.WlWSbU_-GVg.twitter on URL http://english.onlinekhabar.com/2018/01/10/411818.html#.WlWSbU_-GVg.twitter\n",
      "Article `download()` failed with 404 Client Error: Not Found for url: https://english.onlinekhabar.com/2018/01/09/411815.html#.WlSguD6wMiM.twitter on URL http://english.onlinekhabar.com/2018/01/09/411815.html#.WlSguD6wMiM.twitter\n",
      "Article `download()` failed with 404 Client Error: Not Found for url: https://english.onlinekhabar.com/2018/01/09/411813.html#.WlSeoqfrk_s.twitter on URL http://english.onlinekhabar.com/2018/01/09/411813.html#.WlSeoqfrk_s.twitter\n",
      "Article `download()` failed with 404 Client Error: Not Found for url: https://english.onlinekhabar.com/2018/01/09/411808.html#.WlSRRIJbyGI.twitter on URL http://english.onlinekhabar.com/2018/01/09/411808.html#.WlSRRIJbyGI.twitter\n",
      "Article `download()` failed with 404 Client Error: Not Found for url: https://english.onlinekhabar.com/2018/01/09/411803.html#.WlR3dZvaZkU.twitter on URL http://english.onlinekhabar.com/2018/01/09/411803.html#.WlR3dZvaZkU.twitter\n",
      "Article `download()` failed with 404 Client Error: Not Found for url: https://english.onlinekhabar.com/2018/01/09/411800.html#.WlRzQn1bVjM.twitter on URL http://english.onlinekhabar.com/2018/01/09/411800.html#.WlRzQn1bVjM.twitter\n",
      "Article `download()` failed with 404 Client Error: Not Found for url: https://english.onlinekhabar.com/2018/01/09/411796.html#.WlRaiN-rxXg.twitter on URL http://english.onlinekhabar.com/2018/01/09/411796.html#.WlRaiN-rxXg.twitter\n",
      "Article `download()` failed with 404 Client Error: Not Found for url: https://english.onlinekhabar.com/2018/01/09/411791.html#.WlRWot0rLJQ.twitter on URL http://english.onlinekhabar.com/2018/01/09/411791.html#.WlRWot0rLJQ.twitter\n",
      "Article `download()` failed with 404 Client Error: Not Found for url: https://english.onlinekhabar.com/2018/01/09/411788.html#.WlRPH19xuJs.twitter on URL http://english.onlinekhabar.com/2018/01/09/411788.html#.WlRPH19xuJs.twitter\n",
      "Article `download()` failed with 404 Client Error: Not Found for url: https://english.onlinekhabar.com/2018/01/09/411706.html#.WlRME6uLTVA.twitter on URL http://english.onlinekhabar.com/2018/01/09/411706.html#.WlRME6uLTVA.twitter\n",
      "Article `download()` failed with 404 Client Error: Not Found for url: https://english.onlinekhabar.com/2018/01/09/411776.html#.WlRKbRXf5zU.twitter on URL http://english.onlinekhabar.com/2018/01/09/411776.html#.WlRKbRXf5zU.twitter\n",
      "Article `download()` failed with 404 Client Error: Not Found for url: https://english.onlinekhabar.com/2018/01/09/411778.html#.WlRC1Vffpq0.twitter on URL http://english.onlinekhabar.com/2018/01/09/411778.html#.WlRC1Vffpq0.twitter\n",
      "Article `download()` failed with 404 Client Error: Not Found for url: https://english.onlinekhabar.com/2018/01/08/411766.html#.WlNuO-IEjnM.twitter on URL http://english.onlinekhabar.com/2018/01/08/411766.html#.WlNuO-IEjnM.twitter\n",
      "Article `download()` failed with 404 Client Error: Not Found for url: https://english.onlinekhabar.com/2018/01/08/411760.html#.WlNPZxeCUwA.twitter on URL http://english.onlinekhabar.com/2018/01/08/411760.html#.WlNPZxeCUwA.twitter\n",
      "Article `download()` failed with 404 Client Error: Not Found for url: https://english.onlinekhabar.com/2018/01/08/411752.html#.WlNLF3NTjeU.twitter on URL http://english.onlinekhabar.com/2018/01/08/411752.html#.WlNLF3NTjeU.twitter\n",
      "Article `download()` failed with 404 Client Error: Not Found for url: https://english.onlinekhabar.com/2018/01/08/411749.html#.WlM4R3sQWx0.twitter on URL http://english.onlinekhabar.com/2018/01/08/411749.html#.WlM4R3sQWx0.twitter\n",
      "Article `download()` failed with 404 Client Error: Not Found for url: https://english.onlinekhabar.com/2018/01/08/411746.html#.WlM1GC-Ro9A.twitter on URL http://english.onlinekhabar.com/2018/01/08/411746.html#.WlM1GC-Ro9A.twitter\n",
      "Article `download()` failed with 404 Client Error: Not Found for url: https://english.onlinekhabar.com/2018/01/08/411737.html#.WlMvuCAmHLw.twitter on URL http://english.onlinekhabar.com/2018/01/08/411737.html#.WlMvuCAmHLw.twitter\n",
      "Article `download()` failed with 404 Client Error: Not Found for url: https://english.onlinekhabar.com/2018/01/08/411734.html#.WlMruqY405s.twitter on URL http://english.onlinekhabar.com/2018/01/08/411734.html#.WlMruqY405s.twitter\n",
      "Article `download()` failed with 404 Client Error: Not Found for url: https://english.onlinekhabar.com/2018/01/08/411731.html#.WlMXhRlon1w.twitter on URL http://english.onlinekhabar.com/2018/01/08/411731.html#.WlMXhRlon1w.twitter\n"
     ]
    },
    {
     "name": "stdout",
     "output_type": "stream",
     "text": [
      "Article `download()` failed with 404 Client Error: Not Found for url: https://english.onlinekhabar.com/2018/01/08/411723.html#.WlMJ4cETGLE.twitter on URL http://english.onlinekhabar.com/2018/01/08/411723.html#.WlMJ4cETGLE.twitter\n",
      "Article `download()` failed with 404 Client Error: Not Found for url: https://english.onlinekhabar.com/2018/01/08/411720.html#.WlMBiUH8ZVM.twitter on URL http://english.onlinekhabar.com/2018/01/08/411720.html#.WlMBiUH8ZVM.twitter\n",
      "Article `download()` failed with 404 Client Error: Not Found for url: https://english.onlinekhabar.com/2018/01/08/411717.html#.WlMBN3JiNu4.twitter on URL http://english.onlinekhabar.com/2018/01/08/411717.html#.WlMBN3JiNu4.twitter\n",
      "Article `download()` failed with 404 Client Error: Not Found for url: https://english.onlinekhabar.com/2018/01/08/411712.html#.WlLt53U3AnI.twitter on URL http://english.onlinekhabar.com/2018/01/08/411712.html#.WlLt53U3AnI.twitter\n",
      "Article `download()` failed with 404 Client Error: Not Found for url: https://english.onlinekhabar.com/2018/01/07/411708.html#.WlH_x8UGQYQ.twitter on URL http://english.onlinekhabar.com/2018/01/07/411708.html#.WlH_x8UGQYQ.twitter\n",
      "Article `download()` failed with 404 Client Error: Not Found for url: https://english.onlinekhabar.com/2018/01/07/411695.html#.WlH1gqI2e5Q.twitter on URL http://english.onlinekhabar.com/2018/01/07/411695.html#.WlH1gqI2e5Q.twitter\n",
      "Article `download()` failed with 404 Client Error: Not Found for url: https://english.onlinekhabar.com/2018/01/07/411692.html#.WlHuc0m4JQk.twitter on URL http://english.onlinekhabar.com/2018/01/07/411692.html#.WlHuc0m4JQk.twitter\n",
      "Article `download()` failed with 404 Client Error: Not Found for url: https://english.onlinekhabar.com/2018/01/07/411690.html#.WlHnjlKyC_U.twitter on URL http://english.onlinekhabar.com/2018/01/07/411690.html#.WlHnjlKyC_U.twitter\n",
      "Article `download()` failed with 404 Client Error: Not Found for url: https://english.onlinekhabar.com/2018/01/07/411680.html#.WlHj1LITBWQ.twitter on URL http://english.onlinekhabar.com/2018/01/07/411680.html#.WlHj1LITBWQ.twitter\n",
      "Article `download()` failed with 404 Client Error: Not Found for url: https://english.onlinekhabar.com/2018/01/07/411678.html#.WlG44P_4tB4.twitter on URL http://english.onlinekhabar.com/2018/01/07/411678.html#.WlG44P_4tB4.twitter\n",
      "Article `download()` failed with 404 Client Error: Not Found for url: https://english.onlinekhabar.com/2018/01/07/411673.html#.WlGzKFCWOj4.twitter on URL http://english.onlinekhabar.com/2018/01/07/411673.html#.WlGzKFCWOj4.twitter\n",
      "Article `download()` failed with 404 Client Error: Not Found for url: https://english.onlinekhabar.com/2018/01/07/411671.html#.WlGvJW2jsQg.twitter on URL http://english.onlinekhabar.com/2018/01/07/411671.html#.WlGvJW2jsQg.twitter\n",
      "Article `download()` failed with 404 Client Error: Not Found for url: https://english.onlinekhabar.com/2018/01/07/411667.html#.WlGoe_54d1A.twitter on URL http://english.onlinekhabar.com/2018/01/07/411667.html#.WlGoe_54d1A.twitter\n",
      "Article `download()` failed with 404 Client Error: Not Found for url: https://english.onlinekhabar.com/2018/01/07/411664.html#.WlGhAq37dNY.twitter on URL http://english.onlinekhabar.com/2018/01/07/411664.html#.WlGhAq37dNY.twitter\n",
      "Article `download()` failed with 404 Client Error: Not Found for url: https://english.onlinekhabar.com/2018/01/05/411660.html#.Wk9NmN4SkwQ.twitter on URL http://english.onlinekhabar.com/2018/01/05/411660.html#.Wk9NmN4SkwQ.twitter\n",
      "Article `download()` failed with 404 Client Error: Not Found for url: https://english.onlinekhabar.com/2018/01/05/411656.html#.Wk9E-FbMWYY.twitter on URL http://english.onlinekhabar.com/2018/01/05/411656.html#.Wk9E-FbMWYY.twitter\n",
      "Article `download()` failed with 404 Client Error: Not Found for url: https://english.onlinekhabar.com/2018/01/05/411654.html#.Wk9BHPTvViM.twitter on URL http://english.onlinekhabar.com/2018/01/05/411654.html#.Wk9BHPTvViM.twitter\n",
      "Article `download()` failed with 404 Client Error: Not Found for url: https://english.onlinekhabar.com/2018/01/05/411651.html#.Wk89kOx_coI.twitter on URL http://english.onlinekhabar.com/2018/01/05/411651.html#.Wk89kOx_coI.twitter\n",
      "Article `download()` failed with 404 Client Error: Not Found for url: https://english.onlinekhabar.com/2018/01/05/411649.html#.Wk866SvMg1U.twitter on URL http://english.onlinekhabar.com/2018/01/05/411649.html#.Wk866SvMg1U.twitter\n",
      "Article `download()` failed with 404 Client Error: Not Found for url: https://english.onlinekhabar.com/2018/01/05/411641.html#.Wk8eQp08MOE.twitter on URL http://english.onlinekhabar.com/2018/01/05/411641.html#.Wk8eQp08MOE.twitter\n",
      "Article `download()` failed with 404 Client Error: Not Found for url: https://english.onlinekhabar.com/2018/01/05/411641.html#.Wk8cxsKXauA.twitter on URL http://english.onlinekhabar.com/2018/01/05/411641.html#.Wk8cxsKXauA.twitter\n",
      "Article `download()` failed with 404 Client Error: Not Found for url: https://english.onlinekhabar.com/2018/01/05/411638.html#.Wk8Zl8yVTjw.twitter on URL http://english.onlinekhabar.com/2018/01/05/411638.html#.Wk8Zl8yVTjw.twitter\n",
      "Article `download()` failed with 404 Client Error: Not Found for url: https://english.onlinekhabar.com/2018/01/05/411632.html#.Wk8JnsdhEa8.twitter on URL http://english.onlinekhabar.com/2018/01/05/411632.html#.Wk8JnsdhEa8.twitter\n",
      "Article `download()` failed with 404 Client Error: Not Found for url: https://english.onlinekhabar.com/2018/01/05/411629.html#.Wk8CcTyCCCo.twitter on URL http://english.onlinekhabar.com/2018/01/05/411629.html#.Wk8CcTyCCCo.twitter\n",
      "Article `download()` failed with 404 Client Error: Not Found for url: https://english.onlinekhabar.com/2018/01/05/411545.html#.Wk8ANC0abTw.twitter on URL http://english.onlinekhabar.com/2018/01/05/411545.html#.Wk8ANC0abTw.twitter\n",
      "Article `download()` failed with 404 Client Error: Not Found for url: https://english.onlinekhabar.com/2018/01/05/411619.html#.Wk75Qzd5RYg.twitter on URL http://english.onlinekhabar.com/2018/01/05/411619.html#.Wk75Qzd5RYg.twitter\n",
      "Article `download()` failed with 404 Client Error: Not Found for url: https://english.onlinekhabar.com/2018/01/04/411609.html#.Wk32zcwHbAk.twitter on URL http://english.onlinekhabar.com/2018/01/04/411609.html#.Wk32zcwHbAk.twitter\n",
      "Article `download()` failed with 404 Client Error: Not Found for url: https://english.onlinekhabar.com/2018/01/04/411607.html#.Wk3y4joE71A.twitter on URL http://english.onlinekhabar.com/2018/01/04/411607.html#.Wk3y4joE71A.twitter\n",
      "Article `download()` failed with 404 Client Error: Not Found for url: https://english.onlinekhabar.com/2018/01/04/411603.html#.Wk3wExFZz1E.twitter on URL http://english.onlinekhabar.com/2018/01/04/411603.html#.Wk3wExFZz1E.twitter\n",
      "Article `download()` failed with 404 Client Error: Not Found for url: https://english.onlinekhabar.com/2018/01/04/411600.html#.Wk3sktMczlQ.twitter on URL http://english.onlinekhabar.com/2018/01/04/411600.html#.Wk3sktMczlQ.twitter\n",
      "Article `download()` failed with 404 Client Error: Not Found for url: https://english.onlinekhabar.com/2018/01/04/411598.html#.Wk3o-fsahko.twitter on URL http://english.onlinekhabar.com/2018/01/04/411598.html#.Wk3o-fsahko.twitter\n",
      "Article `download()` failed with 404 Client Error: Not Found for url: https://english.onlinekhabar.com/2018/01/04/411596.html#.Wk3F_MEUJgg.twitter on URL http://english.onlinekhabar.com/2018/01/04/411596.html#.Wk3F_MEUJgg.twitter\n",
      "Article `download()` failed with 404 Client Error: Not Found for url: https://english.onlinekhabar.com/2018/01/04/411593.html#.Wk3CRec8lGc.twitter on URL http://english.onlinekhabar.com/2018/01/04/411593.html#.Wk3CRec8lGc.twitter\n",
      "Article `download()` failed with 404 Client Error: Not Found for url: https://english.onlinekhabar.com/2018/01/04/411584.html#.Wk28tdCzhW8.twitter on URL http://english.onlinekhabar.com/2018/01/04/411584.html#.Wk28tdCzhW8.twitter\n",
      "Article `download()` failed with 404 Client Error: Not Found for url: https://english.onlinekhabar.com/2018/01/04/411579.html#.Wk22mOde-Vc.twitter on URL http://english.onlinekhabar.com/2018/01/04/411579.html#.Wk22mOde-Vc.twitter\n",
      "Article `download()` failed with 404 Client Error: Not Found for url: https://english.onlinekhabar.com/2018/01/04/411574.html#.Wk2nByBMf10.twitter on URL http://english.onlinekhabar.com/2018/01/04/411574.html#.Wk2nByBMf10.twitter\n"
     ]
    },
    {
     "name": "stdout",
     "output_type": "stream",
     "text": [
      "Article `download()` failed with 404 Client Error: Not Found for url: https://english.onlinekhabar.com/2018/01/03/411571.html#.Wky23GdD7fc.twitter on URL http://english.onlinekhabar.com/2018/01/03/411571.html#.Wky23GdD7fc.twitter\n",
      "Article `download()` failed with 404 Client Error: Not Found for url: https://english.onlinekhabar.com/2018/01/03/411563.html#.WkyncompUYI.twitter on URL http://english.onlinekhabar.com/2018/01/03/411563.html#.WkyncompUYI.twitter\n",
      "Article `download()` failed with 404 Client Error: Not Found for url: https://english.onlinekhabar.com/2018/01/03/411566.html#.WkynEP-b2rg.twitter on URL http://english.onlinekhabar.com/2018/01/03/411566.html#.WkynEP-b2rg.twitter\n",
      "Article `download()` failed with 404 Client Error: Not Found for url: https://english.onlinekhabar.com/2018/01/03/411560.html#.WkydFUVfNvc.twitter on URL http://english.onlinekhabar.com/2018/01/03/411560.html#.WkydFUVfNvc.twitter\n",
      "Article `download()` failed with 404 Client Error: Not Found for url: https://english.onlinekhabar.com/2018/01/03/411548.html#.WkyCZqeKtVE.twitter on URL http://english.onlinekhabar.com/2018/01/03/411548.html#.WkyCZqeKtVE.twitter\n",
      "Article `download()` failed with 404 Client Error: Not Found for url: https://english.onlinekhabar.com/2018/01/03/411539.html#.Wkx8FKutIRc.twitter on URL http://english.onlinekhabar.com/2018/01/03/411539.html#.Wkx8FKutIRc.twitter\n",
      "Article `download()` failed with 404 Client Error: Not Found for url: https://english.onlinekhabar.com/2018/01/03/411530.html#.WkxwvhBHpac.twitter on URL http://english.onlinekhabar.com/2018/01/03/411530.html#.WkxwvhBHpac.twitter\n",
      "Article `download()` failed with 404 Client Error: Not Found for url: https://english.onlinekhabar.com/2018/01/03/411519.html#.WkxlG7_2fgc.twitter on URL http://english.onlinekhabar.com/2018/01/03/411519.html#.WkxlG7_2fgc.twitter\n",
      "Article `download()` failed with 404 Client Error: Not Found for url: https://english.onlinekhabar.com/2018/01/03/411515.html#.Wkxcl-UEivc.twitter on URL http://english.onlinekhabar.com/2018/01/03/411515.html#.Wkxcl-UEivc.twitter\n",
      "Article `download()` failed with 404 Client Error: Not Found for url: https://english.onlinekhabar.com/2018/01/03/411510.html#.WkxWqi28aqA.twitter on URL http://english.onlinekhabar.com/2018/01/03/411510.html#.WkxWqi28aqA.twitter\n",
      "Article `download()` failed with 404 Client Error: Not Found for url: https://english.onlinekhabar.com/2018/01/02/411507.html#.WktgnqQmxHg.twitter on URL http://english.onlinekhabar.com/2018/01/02/411507.html#.WktgnqQmxHg.twitter\n",
      "Article `download()` failed with 404 Client Error: Not Found for url: https://english.onlinekhabar.com/2018/01/02/411505.html#.WktdskOQCVY.twitter on URL http://english.onlinekhabar.com/2018/01/02/411505.html#.WktdskOQCVY.twitter\n",
      "Article `download()` failed with 404 Client Error: Not Found for url: https://english.onlinekhabar.com/2018/01/02/411500.html#.WktbmrgWQKM.twitter on URL http://english.onlinekhabar.com/2018/01/02/411500.html#.WktbmrgWQKM.twitter\n",
      "Article `download()` failed with 404 Client Error: Not Found for url: https://english.onlinekhabar.com/2018/01/02/411497.html#.WktRWA-uSBY.twitter on URL http://english.onlinekhabar.com/2018/01/02/411497.html#.WktRWA-uSBY.twitter\n",
      "Article `download()` failed with 404 Client Error: Not Found for url: https://english.onlinekhabar.com/2018/01/02/411494.html#.WktN2sPVxHA.twitter on URL http://english.onlinekhabar.com/2018/01/02/411494.html#.WktN2sPVxHA.twitter\n",
      "Article `download()` failed with 404 Client Error: Not Found for url: https://english.onlinekhabar.com/2018/01/02/411491.html#.WktKt90-Rzw.twitter on URL http://english.onlinekhabar.com/2018/01/02/411491.html#.WktKt90-Rzw.twitter\n",
      "Article `download()` failed with 404 Client Error: Not Found for url: https://english.onlinekhabar.com/2018/01/02/411486.html#.WkspCAzEtu8.twitter on URL http://english.onlinekhabar.com/2018/01/02/411486.html#.WkspCAzEtu8.twitter\n",
      "Article `download()` failed with 404 Client Error: Not Found for url: https://english.onlinekhabar.com/2018/01/02/411481.html#.WksmneNXo4Q.twitter on URL http://english.onlinekhabar.com/2018/01/02/411481.html#.WksmneNXo4Q.twitter\n",
      "Article `download()` failed with 404 Client Error: Not Found for url: https://english.onlinekhabar.com/2018/01/02/411480.html#.WksmWaFM0WE.twitter on URL http://english.onlinekhabar.com/2018/01/02/411480.html#.WksmWaFM0WE.twitter\n",
      "Article `download()` failed with 404 Client Error: Not Found for url: https://english.onlinekhabar.com/2018/01/02/411475.html#.Wkse_0OdOQw.twitter on URL http://english.onlinekhabar.com/2018/01/02/411475.html#.Wkse_0OdOQw.twitter\n",
      "Article `download()` failed with 404 Client Error: Not Found for url: https://english.onlinekhabar.com/2018/01/02/411471.html#.WksC3zVA_9w.twitter on URL http://english.onlinekhabar.com/2018/01/02/411471.html#.WksC3zVA_9w.twitter\n",
      "Article `download()` failed with 404 Client Error: Not Found for url: https://english.onlinekhabar.com/2018/01/01/411468.html#.WkoSYX-B1xw.twitter on URL http://english.onlinekhabar.com/2018/01/01/411468.html#.WkoSYX-B1xw.twitter\n",
      "Article `download()` failed with 404 Client Error: Not Found for url: https://english.onlinekhabar.com/2018/01/01/411465.html#.WkoO9pcTjoI.twitter on URL http://english.onlinekhabar.com/2018/01/01/411465.html#.WkoO9pcTjoI.twitter\n",
      "Article `download()` failed with 404 Client Error: Not Found for url: https://english.onlinekhabar.com/2018/01/01/411463.html#.WkoDgnYZF3o.twitter on URL http://english.onlinekhabar.com/2018/01/01/411463.html#.WkoDgnYZF3o.twitter\n",
      "Article `download()` failed with 404 Client Error: Not Found for url: https://english.onlinekhabar.com/2018/01/01/411460.html#.Wkn2NY2djJo.twitter on URL http://english.onlinekhabar.com/2018/01/01/411460.html#.Wkn2NY2djJo.twitter\n",
      "Article `download()` failed with 404 Client Error: Not Found for url: https://english.onlinekhabar.com/2018/01/01/411456.html#.WknmDrjO_io.twitter on URL http://english.onlinekhabar.com/2018/01/01/411456.html#.WknmDrjO_io.twitter\n",
      "Article `download()` failed with 404 Client Error: Not Found for url: https://english.onlinekhabar.com/2018/01/01/411454.html#.WknZ3by4kow.twitter on URL http://english.onlinekhabar.com/2018/01/01/411454.html#.WknZ3by4kow.twitter\n",
      "Article `download()` failed with 404 Client Error: Not Found for url: https://english.onlinekhabar.com/2018/01/01/411451.html#.WknWF9rm5tY.twitter on URL http://english.onlinekhabar.com/2018/01/01/411451.html#.WknWF9rm5tY.twitter\n",
      "Article `download()` failed with 404 Client Error: Not Found for url: https://english.onlinekhabar.com/2018/01/01/411435.html#.WknMj7viOH4.twitter on URL http://english.onlinekhabar.com/2018/01/01/411435.html#.WknMj7viOH4.twitter\n",
      "Article `download()` failed with 404 Client Error: Not Found for url: https://english.onlinekhabar.com/2018/01/01/411448.html#.WknM_WE-AIk.twitter on URL http://english.onlinekhabar.com/2018/01/01/411448.html#.WknM_WE-AIk.twitter\n",
      "Article `download()` failed with 404 Client Error: Not Found for url: https://english.onlinekhabar.com/2018/01/01/411438.html#.Wkm_PXK2qnw.twitter on URL http://english.onlinekhabar.com/2018/01/01/411438.html#.Wkm_PXK2qnw.twitter\n",
      "Article `download()` failed with 404 Client Error: Not Found for url: https://english.onlinekhabar.com/2018/01/01/411434.html#.Wkm1USs821Q.twitter on URL http://english.onlinekhabar.com/2018/01/01/411434.html#.Wkm1USs821Q.twitter\n",
      "\n"
     ]
    }
   ],
   "source": [
    "pd.read_csv(file_path, nrows=1).head(0).to_csv(result_file_path)\n",
    "dataframe = pd.read_csv(file_path, iterator=True, chunksize=500)\n",
    "\n",
    "for chunk in dataframe:\n",
    "   chunk['article'] = chunk['urls'].progress_apply(article)\n",
    "   chunk.to_csv(result_file_path, mode='a', header=None)"
   ]
  },
  {
   "cell_type": "code",
   "execution_count": 20,
   "metadata": {},
   "outputs": [],
   "source": [
    "df_ = pd.read_csv(result_file_path)"
   ]
  },
  {
   "cell_type": "code",
   "execution_count": 24,
   "metadata": {},
   "outputs": [
    {
     "data": {
      "text/html": [
       "<div>\n",
       "<style scoped>\n",
       "    .dataframe tbody tr th:only-of-type {\n",
       "        vertical-align: middle;\n",
       "    }\n",
       "\n",
       "    .dataframe tbody tr th {\n",
       "        vertical-align: top;\n",
       "    }\n",
       "\n",
       "    .dataframe thead th {\n",
       "        text-align: right;\n",
       "    }\n",
       "</style>\n",
       "<table border=\"1\" class=\"dataframe\">\n",
       "  <thead>\n",
       "    <tr style=\"text-align: right;\">\n",
       "      <th></th>\n",
       "      <th>Unnamed: 0</th>\n",
       "      <th>id</th>\n",
       "      <th>created_at</th>\n",
       "      <th>urls</th>\n",
       "      <th>article</th>\n",
       "    </tr>\n",
       "  </thead>\n",
       "  <tbody>\n",
       "    <tr>\n",
       "      <th>0</th>\n",
       "      <td>0</td>\n",
       "      <td>1377022218178154498</td>\n",
       "      <td>2021-03-31 04:02:35+05:45</td>\n",
       "      <td>https://english.onlinekhabar.com/mithila-house...</td>\n",
       "      <td>When people talk about Ramayana, one of the gr...</td>\n",
       "    </tr>\n",
       "    <tr>\n",
       "      <th>1</th>\n",
       "      <td>1</td>\n",
       "      <td>1376853071083413505</td>\n",
       "      <td>2021-03-30 16:50:27+05:45</td>\n",
       "      <td>https://english.onlinekhabar.com/uml-feud-nepa...</td>\n",
       "      <td>Kathmandu, March 30\\n\\nThe faction of the ruli...</td>\n",
       "    </tr>\n",
       "    <tr>\n",
       "      <th>2</th>\n",
       "      <td>2</td>\n",
       "      <td>1376844319739371521</td>\n",
       "      <td>2021-03-30 16:15:41+05:45</td>\n",
       "      <td>https://english.onlinekhabar.com/bara-sexagena...</td>\n",
       "      <td>Birgunj, March 30\\n\\nA 65-year-old woman died ...</td>\n",
       "    </tr>\n",
       "    <tr>\n",
       "      <th>3</th>\n",
       "      <td>3</td>\n",
       "      <td>1376839101039607808</td>\n",
       "      <td>2021-03-30 15:54:56+05:45</td>\n",
       "      <td>https://english.onlinekhabar.com/nepal-covid-1...</td>\n",
       "      <td>Kathmandu, March 29\\n\\nThe Ministry of Health ...</td>\n",
       "    </tr>\n",
       "    <tr>\n",
       "      <th>4</th>\n",
       "      <td>4</td>\n",
       "      <td>1376835218607198211</td>\n",
       "      <td>2021-03-30 15:39:31+05:45</td>\n",
       "      <td>https://english.onlinekhabar.com/78-businesses...</td>\n",
       "      <td>Kathmandu, March 30\\n\\nThe Department of Food ...</td>\n",
       "    </tr>\n",
       "    <tr>\n",
       "      <th>...</th>\n",
       "      <td>...</td>\n",
       "      <td>...</td>\n",
       "      <td>...</td>\n",
       "      <td>...</td>\n",
       "      <td>...</td>\n",
       "    </tr>\n",
       "    <tr>\n",
       "      <th>9091</th>\n",
       "      <td>9091</td>\n",
       "      <td>972791011457032193</td>\n",
       "      <td>2018-03-11 16:52:05+05:45</td>\n",
       "      <td>http://english.onlinekhabar.com/kailali-withcr...</td>\n",
       "      <td>Kathmandu, March 11\\n\\nThe Mayor of a town in ...</td>\n",
       "    </tr>\n",
       "    <tr>\n",
       "      <th>9092</th>\n",
       "      <td>9092</td>\n",
       "      <td>972785320977752065</td>\n",
       "      <td>2018-03-11 16:29:28+05:45</td>\n",
       "      <td>http://english.onlinekhabar.com/province-5-chi...</td>\n",
       "      <td>Kathmandu, March 11\\n\\nProvince 5 Chief Minist...</td>\n",
       "    </tr>\n",
       "    <tr>\n",
       "      <th>9093</th>\n",
       "      <td>9093</td>\n",
       "      <td>972770673549627392</td>\n",
       "      <td>2018-03-11 15:31:16+05:45</td>\n",
       "      <td>http://english.onlinekhabar.com/kailali-withcr...</td>\n",
       "      <td>Kathmandu, March 11\\n\\nThe policemen who relea...</td>\n",
       "    </tr>\n",
       "    <tr>\n",
       "      <th>9094</th>\n",
       "      <td>9094</td>\n",
       "      <td>972760525049335808</td>\n",
       "      <td>2018-03-11 14:50:56+05:45</td>\n",
       "      <td>http://english.onlinekhabar.com/icc-world-cup-...</td>\n",
       "      <td>Watching Nepal play in the World Cup is every ...</td>\n",
       "    </tr>\n",
       "    <tr>\n",
       "      <th>9095</th>\n",
       "      <td>9095</td>\n",
       "      <td>972732728662745088</td>\n",
       "      <td>2018-03-11 13:00:29+05:45</td>\n",
       "      <td>http://english.onlinekhabar.com/meet-sunil-lam...</td>\n",
       "      <td>At the training facility of Balwatar Cricket C...</td>\n",
       "    </tr>\n",
       "  </tbody>\n",
       "</table>\n",
       "<p>9080 rows × 5 columns</p>\n",
       "</div>"
      ],
      "text/plain": [
       "      Unnamed: 0                   id                 created_at  \\\n",
       "0              0  1377022218178154498  2021-03-31 04:02:35+05:45   \n",
       "1              1  1376853071083413505  2021-03-30 16:50:27+05:45   \n",
       "2              2  1376844319739371521  2021-03-30 16:15:41+05:45   \n",
       "3              3  1376839101039607808  2021-03-30 15:54:56+05:45   \n",
       "4              4  1376835218607198211  2021-03-30 15:39:31+05:45   \n",
       "...          ...                  ...                        ...   \n",
       "9091        9091   972791011457032193  2018-03-11 16:52:05+05:45   \n",
       "9092        9092   972785320977752065  2018-03-11 16:29:28+05:45   \n",
       "9093        9093   972770673549627392  2018-03-11 15:31:16+05:45   \n",
       "9094        9094   972760525049335808  2018-03-11 14:50:56+05:45   \n",
       "9095        9095   972732728662745088  2018-03-11 13:00:29+05:45   \n",
       "\n",
       "                                                   urls  \\\n",
       "0     https://english.onlinekhabar.com/mithila-house...   \n",
       "1     https://english.onlinekhabar.com/uml-feud-nepa...   \n",
       "2     https://english.onlinekhabar.com/bara-sexagena...   \n",
       "3     https://english.onlinekhabar.com/nepal-covid-1...   \n",
       "4     https://english.onlinekhabar.com/78-businesses...   \n",
       "...                                                 ...   \n",
       "9091  http://english.onlinekhabar.com/kailali-withcr...   \n",
       "9092  http://english.onlinekhabar.com/province-5-chi...   \n",
       "9093  http://english.onlinekhabar.com/kailali-withcr...   \n",
       "9094  http://english.onlinekhabar.com/icc-world-cup-...   \n",
       "9095  http://english.onlinekhabar.com/meet-sunil-lam...   \n",
       "\n",
       "                                                article  \n",
       "0     When people talk about Ramayana, one of the gr...  \n",
       "1     Kathmandu, March 30\\n\\nThe faction of the ruli...  \n",
       "2     Birgunj, March 30\\n\\nA 65-year-old woman died ...  \n",
       "3     Kathmandu, March 29\\n\\nThe Ministry of Health ...  \n",
       "4     Kathmandu, March 30\\n\\nThe Department of Food ...  \n",
       "...                                                 ...  \n",
       "9091  Kathmandu, March 11\\n\\nThe Mayor of a town in ...  \n",
       "9092  Kathmandu, March 11\\n\\nProvince 5 Chief Minist...  \n",
       "9093  Kathmandu, March 11\\n\\nThe policemen who relea...  \n",
       "9094  Watching Nepal play in the World Cup is every ...  \n",
       "9095  At the training facility of Balwatar Cricket C...  \n",
       "\n",
       "[9080 rows x 5 columns]"
      ]
     },
     "execution_count": 24,
     "metadata": {},
     "output_type": "execute_result"
    }
   ],
   "source": [
    "df_[df_.article!='404']"
   ]
  },
  {
   "cell_type": "code",
   "execution_count": 26,
   "metadata": {},
   "outputs": [],
   "source": [
    "# did not have to continue in this case\n",
    "df_[df_.article!='404'][['id', 'created_at', 'urls', 'article']].to_csv(file_path, index=False)"
   ]
  }
 ],
 "metadata": {
  "kernelspec": {
   "display_name": "Python 3",
   "language": "python",
   "name": "python3"
  },
  "language_info": {
   "codemirror_mode": {
    "name": "ipython",
    "version": 3
   },
   "file_extension": ".py",
   "mimetype": "text/x-python",
   "name": "python",
   "nbconvert_exporter": "python",
   "pygments_lexer": "ipython3",
   "version": "3.8.5"
  }
 },
 "nbformat": 4,
 "nbformat_minor": 4
}
