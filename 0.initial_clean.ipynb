{
 "cells": [
  {
   "cell_type": "code",
   "execution_count": 20,
   "metadata": {},
   "outputs": [],
   "source": [
    "import pandas as pd\n",
    "from newspaper import Article\n",
    "import nltk\n",
    "import ast\n",
    "import requests\n",
    "from tqdm.auto import tqdm\n",
    "tqdm.pandas()\n",
    "from bs4 import BeautifulSoup, Comment"
   ]
  },
  {
   "cell_type": "code",
   "execution_count": 21,
   "metadata": {},
   "outputs": [],
   "source": [
    "headers = {\n",
    "    'Access-Control-Allow-Origin': '*',\n",
    "    'Access-Control-Allow-Methods': 'GET',\n",
    "    'Access-Control-Allow-Headers': 'Content-Type',\n",
    "    'Access-Control-Max-Age': '3600',\n",
    "    'User-Agent': 'Mozilla/5.0 (X11; Ubuntu; Linux x86_64; rv:52.0) Gecko/20100101 Firefox/52.0'\n",
    "    }"
   ]
  },
  {
   "cell_type": "code",
   "execution_count": 22,
   "metadata": {},
   "outputs": [],
   "source": [
    "initial_tweet_path = 'thehimalayan/tweets.csv'\n",
    "file_path = \"thehimalayan.csv\"\n",
    "result_file_path = \"thehimalayan_articles.csv\""
   ]
  },
  {
   "cell_type": "code",
   "execution_count": 23,
   "metadata": {},
   "outputs": [],
   "source": [
    "df = pd.read_csv(initial_tweet_path, usecols=['id', 'created_at', 'urls'], parse_dates=['created_at'])"
   ]
  },
  {
   "cell_type": "code",
   "execution_count": 24,
   "metadata": {},
   "outputs": [
    {
     "data": {
      "text/plain": [
       "['id', 'created_at', 'urls']"
      ]
     },
     "execution_count": 24,
     "metadata": {},
     "output_type": "execute_result"
    }
   ],
   "source": [
    "list(df)"
   ]
  },
  {
   "cell_type": "code",
   "execution_count": 25,
   "metadata": {},
   "outputs": [
    {
     "data": {
      "text/plain": [
       "(39023, 3)"
      ]
     },
     "execution_count": 25,
     "metadata": {},
     "output_type": "execute_result"
    }
   ],
   "source": [
    "df.shape"
   ]
  },
  {
   "cell_type": "code",
   "execution_count": 26,
   "metadata": {},
   "outputs": [
    {
     "data": {
      "text/html": [
       "<div>\n",
       "<style scoped>\n",
       "    .dataframe tbody tr th:only-of-type {\n",
       "        vertical-align: middle;\n",
       "    }\n",
       "\n",
       "    .dataframe tbody tr th {\n",
       "        vertical-align: top;\n",
       "    }\n",
       "\n",
       "    .dataframe thead th {\n",
       "        text-align: right;\n",
       "    }\n",
       "</style>\n",
       "<table border=\"1\" class=\"dataframe\">\n",
       "  <thead>\n",
       "    <tr style=\"text-align: right;\">\n",
       "      <th></th>\n",
       "      <th>id</th>\n",
       "      <th>created_at</th>\n",
       "      <th>urls</th>\n",
       "    </tr>\n",
       "  </thead>\n",
       "  <tbody>\n",
       "    <tr>\n",
       "      <th>0</th>\n",
       "      <td>1386731977542455296</td>\n",
       "      <td>2021-04-26 23:05:42+05:45</td>\n",
       "      <td>['https://bit.ly/3gBXQpn']</td>\n",
       "    </tr>\n",
       "    <tr>\n",
       "      <th>1</th>\n",
       "      <td>1386727294434254857</td>\n",
       "      <td>2021-04-26 22:47:05+05:45</td>\n",
       "      <td>['https://bit.ly/2RWCAjG']</td>\n",
       "    </tr>\n",
       "    <tr>\n",
       "      <th>2</th>\n",
       "      <td>1386722788099170307</td>\n",
       "      <td>2021-04-26 22:29:11+05:45</td>\n",
       "      <td>['https://bit.ly/2PpCtwj']</td>\n",
       "    </tr>\n",
       "    <tr>\n",
       "      <th>3</th>\n",
       "      <td>1386713496511975428</td>\n",
       "      <td>2021-04-26 21:52:16+05:45</td>\n",
       "      <td>['https://bit.ly/3evKsAu']</td>\n",
       "    </tr>\n",
       "    <tr>\n",
       "      <th>4</th>\n",
       "      <td>1386709296264658950</td>\n",
       "      <td>2021-04-26 21:35:34+05:45</td>\n",
       "      <td>['https://bit.ly/2R0XC0g']</td>\n",
       "    </tr>\n",
       "  </tbody>\n",
       "</table>\n",
       "</div>"
      ],
      "text/plain": [
       "                    id                created_at                        urls\n",
       "0  1386731977542455296 2021-04-26 23:05:42+05:45  ['https://bit.ly/3gBXQpn']\n",
       "1  1386727294434254857 2021-04-26 22:47:05+05:45  ['https://bit.ly/2RWCAjG']\n",
       "2  1386722788099170307 2021-04-26 22:29:11+05:45  ['https://bit.ly/2PpCtwj']\n",
       "3  1386713496511975428 2021-04-26 21:52:16+05:45  ['https://bit.ly/3evKsAu']\n",
       "4  1386709296264658950 2021-04-26 21:35:34+05:45  ['https://bit.ly/2R0XC0g']"
      ]
     },
     "execution_count": 26,
     "metadata": {},
     "output_type": "execute_result"
    }
   ],
   "source": [
    "df.head()"
   ]
  },
  {
   "cell_type": "code",
   "execution_count": 27,
   "metadata": {},
   "outputs": [
    {
     "data": {
      "text/html": [
       "<div>\n",
       "<style scoped>\n",
       "    .dataframe tbody tr th:only-of-type {\n",
       "        vertical-align: middle;\n",
       "    }\n",
       "\n",
       "    .dataframe tbody tr th {\n",
       "        vertical-align: top;\n",
       "    }\n",
       "\n",
       "    .dataframe thead th {\n",
       "        text-align: right;\n",
       "    }\n",
       "</style>\n",
       "<table border=\"1\" class=\"dataframe\">\n",
       "  <thead>\n",
       "    <tr style=\"text-align: right;\">\n",
       "      <th></th>\n",
       "      <th>id</th>\n",
       "      <th>created_at</th>\n",
       "      <th>urls</th>\n",
       "    </tr>\n",
       "  </thead>\n",
       "  <tbody>\n",
       "    <tr>\n",
       "      <th>39018</th>\n",
       "      <td>947678773498933249</td>\n",
       "      <td>2018-01-01 09:45:01+05:45</td>\n",
       "      <td>['https://wp.me/p6iC0n-1YTA']</td>\n",
       "    </tr>\n",
       "    <tr>\n",
       "      <th>39019</th>\n",
       "      <td>947677332487020544</td>\n",
       "      <td>2018-01-01 09:39:17+05:45</td>\n",
       "      <td>['https://wp.me/p6iC0n-1YUL']</td>\n",
       "    </tr>\n",
       "    <tr>\n",
       "      <th>39020</th>\n",
       "      <td>947674994766516224</td>\n",
       "      <td>2018-01-01 09:30:00+05:45</td>\n",
       "      <td>['https://wp.me/p6iC0n-1YU4']</td>\n",
       "    </tr>\n",
       "    <tr>\n",
       "      <th>39021</th>\n",
       "      <td>947668683454799878</td>\n",
       "      <td>2018-01-01 09:04:55+05:45</td>\n",
       "      <td>['https://wp.me/p6iC0n-1YU3']</td>\n",
       "    </tr>\n",
       "    <tr>\n",
       "      <th>39022</th>\n",
       "      <td>947656457888993281</td>\n",
       "      <td>2018-01-01 08:16:20+05:45</td>\n",
       "      <td>['https://wp.me/p6iC0n-1YTU']</td>\n",
       "    </tr>\n",
       "  </tbody>\n",
       "</table>\n",
       "</div>"
      ],
      "text/plain": [
       "                       id                created_at  \\\n",
       "39018  947678773498933249 2018-01-01 09:45:01+05:45   \n",
       "39019  947677332487020544 2018-01-01 09:39:17+05:45   \n",
       "39020  947674994766516224 2018-01-01 09:30:00+05:45   \n",
       "39021  947668683454799878 2018-01-01 09:04:55+05:45   \n",
       "39022  947656457888993281 2018-01-01 08:16:20+05:45   \n",
       "\n",
       "                                urls  \n",
       "39018  ['https://wp.me/p6iC0n-1YTA']  \n",
       "39019  ['https://wp.me/p6iC0n-1YUL']  \n",
       "39020  ['https://wp.me/p6iC0n-1YU4']  \n",
       "39021  ['https://wp.me/p6iC0n-1YU3']  \n",
       "39022  ['https://wp.me/p6iC0n-1YTU']  "
      ]
     },
     "execution_count": 27,
     "metadata": {},
     "output_type": "execute_result"
    }
   ],
   "source": [
    "df.tail()"
   ]
  },
  {
   "cell_type": "code",
   "execution_count": 28,
   "metadata": {},
   "outputs": [
    {
     "data": {
      "text/html": [
       "<div>\n",
       "<style scoped>\n",
       "    .dataframe tbody tr th:only-of-type {\n",
       "        vertical-align: middle;\n",
       "    }\n",
       "\n",
       "    .dataframe tbody tr th {\n",
       "        vertical-align: top;\n",
       "    }\n",
       "\n",
       "    .dataframe thead th {\n",
       "        text-align: right;\n",
       "    }\n",
       "</style>\n",
       "<table border=\"1\" class=\"dataframe\">\n",
       "  <thead>\n",
       "    <tr style=\"text-align: right;\">\n",
       "      <th></th>\n",
       "      <th>id</th>\n",
       "    </tr>\n",
       "    <tr>\n",
       "      <th>created_at</th>\n",
       "      <th></th>\n",
       "    </tr>\n",
       "  </thead>\n",
       "  <tbody>\n",
       "    <tr>\n",
       "      <th>2018-12-31 00:00:00+05:45</th>\n",
       "      <td>14060</td>\n",
       "    </tr>\n",
       "    <tr>\n",
       "      <th>2019-12-31 00:00:00+05:45</th>\n",
       "      <td>8984</td>\n",
       "    </tr>\n",
       "    <tr>\n",
       "      <th>2020-12-31 00:00:00+05:45</th>\n",
       "      <td>12492</td>\n",
       "    </tr>\n",
       "    <tr>\n",
       "      <th>2021-12-31 00:00:00+05:45</th>\n",
       "      <td>3487</td>\n",
       "    </tr>\n",
       "  </tbody>\n",
       "</table>\n",
       "</div>"
      ],
      "text/plain": [
       "                              id\n",
       "created_at                      \n",
       "2018-12-31 00:00:00+05:45  14060\n",
       "2019-12-31 00:00:00+05:45   8984\n",
       "2020-12-31 00:00:00+05:45  12492\n",
       "2021-12-31 00:00:00+05:45   3487"
      ]
     },
     "execution_count": 28,
     "metadata": {},
     "output_type": "execute_result"
    }
   ],
   "source": [
    "df.resample('Y', on='created_at')[['id']].count()"
   ]
  },
  {
   "cell_type": "code",
   "execution_count": 29,
   "metadata": {},
   "outputs": [
    {
     "data": {
      "text/plain": [
       "<AxesSubplot:xlabel='created_at'>"
      ]
     },
     "execution_count": 29,
     "metadata": {},
     "output_type": "execute_result"
    },
    {
     "data": {
      "image/png": "[encoded data removed]",
      "text/plain": [
       "<Figure size 432x288 with 1 Axes>"
      ]
     },
     "metadata": {
      "needs_background": "light"
     },
     "output_type": "display_data"
    }
   ],
   "source": [
    "df.resample('Y', on='created_at')[['id']].count().plot(kind='bar')"
   ]
  },
  {
   "cell_type": "markdown",
   "metadata": {},
   "source": [
    "### Remove tweets without a URL"
   ]
  },
  {
   "cell_type": "code",
   "execution_count": 30,
   "metadata": {},
   "outputs": [],
   "source": [
    "df=df[df.urls!=\"[]\"]"
   ]
  },
  {
   "cell_type": "code",
   "execution_count": 31,
   "metadata": {},
   "outputs": [],
   "source": [
    "df = df.drop_duplicates(['urls'], keep=\"last\")"
   ]
  },
  {
   "cell_type": "code",
   "execution_count": 32,
   "metadata": {},
   "outputs": [
    {
     "data": {
      "text/html": [
       "<div>\n",
       "<style scoped>\n",
       "    .dataframe tbody tr th:only-of-type {\n",
       "        vertical-align: middle;\n",
       "    }\n",
       "\n",
       "    .dataframe tbody tr th {\n",
       "        vertical-align: top;\n",
       "    }\n",
       "\n",
       "    .dataframe thead th {\n",
       "        text-align: right;\n",
       "    }\n",
       "</style>\n",
       "<table border=\"1\" class=\"dataframe\">\n",
       "  <thead>\n",
       "    <tr style=\"text-align: right;\">\n",
       "      <th></th>\n",
       "      <th>id</th>\n",
       "      <th>created_at</th>\n",
       "      <th>urls</th>\n",
       "    </tr>\n",
       "  </thead>\n",
       "  <tbody>\n",
       "    <tr>\n",
       "      <th>0</th>\n",
       "      <td>1386731977542455296</td>\n",
       "      <td>2021-04-26 23:05:42+05:45</td>\n",
       "      <td>['https://bit.ly/3gBXQpn']</td>\n",
       "    </tr>\n",
       "    <tr>\n",
       "      <th>1</th>\n",
       "      <td>1386727294434254857</td>\n",
       "      <td>2021-04-26 22:47:05+05:45</td>\n",
       "      <td>['https://bit.ly/2RWCAjG']</td>\n",
       "    </tr>\n",
       "    <tr>\n",
       "      <th>2</th>\n",
       "      <td>1386722788099170307</td>\n",
       "      <td>2021-04-26 22:29:11+05:45</td>\n",
       "      <td>['https://bit.ly/2PpCtwj']</td>\n",
       "    </tr>\n",
       "    <tr>\n",
       "      <th>3</th>\n",
       "      <td>1386713496511975428</td>\n",
       "      <td>2021-04-26 21:52:16+05:45</td>\n",
       "      <td>['https://bit.ly/3evKsAu']</td>\n",
       "    </tr>\n",
       "    <tr>\n",
       "      <th>4</th>\n",
       "      <td>1386709296264658950</td>\n",
       "      <td>2021-04-26 21:35:34+05:45</td>\n",
       "      <td>['https://bit.ly/2R0XC0g']</td>\n",
       "    </tr>\n",
       "    <tr>\n",
       "      <th>...</th>\n",
       "      <td>...</td>\n",
       "      <td>...</td>\n",
       "      <td>...</td>\n",
       "    </tr>\n",
       "    <tr>\n",
       "      <th>39018</th>\n",
       "      <td>947678773498933249</td>\n",
       "      <td>2018-01-01 09:45:01+05:45</td>\n",
       "      <td>['https://wp.me/p6iC0n-1YTA']</td>\n",
       "    </tr>\n",
       "    <tr>\n",
       "      <th>39019</th>\n",
       "      <td>947677332487020544</td>\n",
       "      <td>2018-01-01 09:39:17+05:45</td>\n",
       "      <td>['https://wp.me/p6iC0n-1YUL']</td>\n",
       "    </tr>\n",
       "    <tr>\n",
       "      <th>39020</th>\n",
       "      <td>947674994766516224</td>\n",
       "      <td>2018-01-01 09:30:00+05:45</td>\n",
       "      <td>['https://wp.me/p6iC0n-1YU4']</td>\n",
       "    </tr>\n",
       "    <tr>\n",
       "      <th>39021</th>\n",
       "      <td>947668683454799878</td>\n",
       "      <td>2018-01-01 09:04:55+05:45</td>\n",
       "      <td>['https://wp.me/p6iC0n-1YU3']</td>\n",
       "    </tr>\n",
       "    <tr>\n",
       "      <th>39022</th>\n",
       "      <td>947656457888993281</td>\n",
       "      <td>2018-01-01 08:16:20+05:45</td>\n",
       "      <td>['https://wp.me/p6iC0n-1YTU']</td>\n",
       "    </tr>\n",
       "  </tbody>\n",
       "</table>\n",
       "<p>34971 rows × 3 columns</p>\n",
       "</div>"
      ],
      "text/plain": [
       "                        id                created_at  \\\n",
       "0      1386731977542455296 2021-04-26 23:05:42+05:45   \n",
       "1      1386727294434254857 2021-04-26 22:47:05+05:45   \n",
       "2      1386722788099170307 2021-04-26 22:29:11+05:45   \n",
       "3      1386713496511975428 2021-04-26 21:52:16+05:45   \n",
       "4      1386709296264658950 2021-04-26 21:35:34+05:45   \n",
       "...                    ...                       ...   \n",
       "39018   947678773498933249 2018-01-01 09:45:01+05:45   \n",
       "39019   947677332487020544 2018-01-01 09:39:17+05:45   \n",
       "39020   947674994766516224 2018-01-01 09:30:00+05:45   \n",
       "39021   947668683454799878 2018-01-01 09:04:55+05:45   \n",
       "39022   947656457888993281 2018-01-01 08:16:20+05:45   \n",
       "\n",
       "                                urls  \n",
       "0         ['https://bit.ly/3gBXQpn']  \n",
       "1         ['https://bit.ly/2RWCAjG']  \n",
       "2         ['https://bit.ly/2PpCtwj']  \n",
       "3         ['https://bit.ly/3evKsAu']  \n",
       "4         ['https://bit.ly/2R0XC0g']  \n",
       "...                              ...  \n",
       "39018  ['https://wp.me/p6iC0n-1YTA']  \n",
       "39019  ['https://wp.me/p6iC0n-1YUL']  \n",
       "39020  ['https://wp.me/p6iC0n-1YU4']  \n",
       "39021  ['https://wp.me/p6iC0n-1YU3']  \n",
       "39022  ['https://wp.me/p6iC0n-1YTU']  \n",
       "\n",
       "[34971 rows x 3 columns]"
      ]
     },
     "execution_count": 32,
     "metadata": {},
     "output_type": "execute_result"
    }
   ],
   "source": [
    "df"
   ]
  },
  {
   "cell_type": "code",
   "execution_count": 33,
   "metadata": {},
   "outputs": [],
   "source": [
    "df['article'] = None"
   ]
  },
  {
   "cell_type": "code",
   "execution_count": 34,
   "metadata": {},
   "outputs": [
    {
     "data": {
      "application/vnd.jupyter.widget-view+json": {
       "model_id": "b7c8e31e3fb94dcfbc56931d361f2128",
       "version_major": 2,
       "version_minor": 0
      },
      "text/plain": [
       "HBox(children=(HTML(value=''), FloatProgress(value=0.0, max=34971.0), HTML(value='')))"
      ]
     },
     "metadata": {},
     "output_type": "display_data"
    },
    {
     "name": "stdout",
     "output_type": "stream",
     "text": [
      "\n"
     ]
    }
   ],
   "source": [
    "def urlstourl(urls):\n",
    "    return ast.literal_eval(urls)[0]\n",
    "\n",
    "df['urls'] = df.urls.progress_apply(urlstourl)"
   ]
  },
  {
   "cell_type": "code",
   "execution_count": 35,
   "metadata": {},
   "outputs": [
    {
     "data": {
      "text/html": [
       "<div>\n",
       "<style scoped>\n",
       "    .dataframe tbody tr th:only-of-type {\n",
       "        vertical-align: middle;\n",
       "    }\n",
       "\n",
       "    .dataframe tbody tr th {\n",
       "        vertical-align: top;\n",
       "    }\n",
       "\n",
       "    .dataframe thead th {\n",
       "        text-align: right;\n",
       "    }\n",
       "</style>\n",
       "<table border=\"1\" class=\"dataframe\">\n",
       "  <thead>\n",
       "    <tr style=\"text-align: right;\">\n",
       "      <th></th>\n",
       "      <th>id</th>\n",
       "      <th>created_at</th>\n",
       "      <th>urls</th>\n",
       "      <th>article</th>\n",
       "    </tr>\n",
       "  </thead>\n",
       "  <tbody>\n",
       "    <tr>\n",
       "      <th>0</th>\n",
       "      <td>1386731977542455296</td>\n",
       "      <td>2021-04-26 23:05:42+05:45</td>\n",
       "      <td>https://bit.ly/3gBXQpn</td>\n",
       "      <td>None</td>\n",
       "    </tr>\n",
       "    <tr>\n",
       "      <th>1</th>\n",
       "      <td>1386727294434254857</td>\n",
       "      <td>2021-04-26 22:47:05+05:45</td>\n",
       "      <td>https://bit.ly/2RWCAjG</td>\n",
       "      <td>None</td>\n",
       "    </tr>\n",
       "    <tr>\n",
       "      <th>2</th>\n",
       "      <td>1386722788099170307</td>\n",
       "      <td>2021-04-26 22:29:11+05:45</td>\n",
       "      <td>https://bit.ly/2PpCtwj</td>\n",
       "      <td>None</td>\n",
       "    </tr>\n",
       "    <tr>\n",
       "      <th>3</th>\n",
       "      <td>1386713496511975428</td>\n",
       "      <td>2021-04-26 21:52:16+05:45</td>\n",
       "      <td>https://bit.ly/3evKsAu</td>\n",
       "      <td>None</td>\n",
       "    </tr>\n",
       "    <tr>\n",
       "      <th>4</th>\n",
       "      <td>1386709296264658950</td>\n",
       "      <td>2021-04-26 21:35:34+05:45</td>\n",
       "      <td>https://bit.ly/2R0XC0g</td>\n",
       "      <td>None</td>\n",
       "    </tr>\n",
       "    <tr>\n",
       "      <th>...</th>\n",
       "      <td>...</td>\n",
       "      <td>...</td>\n",
       "      <td>...</td>\n",
       "      <td>...</td>\n",
       "    </tr>\n",
       "    <tr>\n",
       "      <th>39018</th>\n",
       "      <td>947678773498933249</td>\n",
       "      <td>2018-01-01 09:45:01+05:45</td>\n",
       "      <td>https://wp.me/p6iC0n-1YTA</td>\n",
       "      <td>None</td>\n",
       "    </tr>\n",
       "    <tr>\n",
       "      <th>39019</th>\n",
       "      <td>947677332487020544</td>\n",
       "      <td>2018-01-01 09:39:17+05:45</td>\n",
       "      <td>https://wp.me/p6iC0n-1YUL</td>\n",
       "      <td>None</td>\n",
       "    </tr>\n",
       "    <tr>\n",
       "      <th>39020</th>\n",
       "      <td>947674994766516224</td>\n",
       "      <td>2018-01-01 09:30:00+05:45</td>\n",
       "      <td>https://wp.me/p6iC0n-1YU4</td>\n",
       "      <td>None</td>\n",
       "    </tr>\n",
       "    <tr>\n",
       "      <th>39021</th>\n",
       "      <td>947668683454799878</td>\n",
       "      <td>2018-01-01 09:04:55+05:45</td>\n",
       "      <td>https://wp.me/p6iC0n-1YU3</td>\n",
       "      <td>None</td>\n",
       "    </tr>\n",
       "    <tr>\n",
       "      <th>39022</th>\n",
       "      <td>947656457888993281</td>\n",
       "      <td>2018-01-01 08:16:20+05:45</td>\n",
       "      <td>https://wp.me/p6iC0n-1YTU</td>\n",
       "      <td>None</td>\n",
       "    </tr>\n",
       "  </tbody>\n",
       "</table>\n",
       "<p>34971 rows × 4 columns</p>\n",
       "</div>"
      ],
      "text/plain": [
       "                        id                created_at  \\\n",
       "0      1386731977542455296 2021-04-26 23:05:42+05:45   \n",
       "1      1386727294434254857 2021-04-26 22:47:05+05:45   \n",
       "2      1386722788099170307 2021-04-26 22:29:11+05:45   \n",
       "3      1386713496511975428 2021-04-26 21:52:16+05:45   \n",
       "4      1386709296264658950 2021-04-26 21:35:34+05:45   \n",
       "...                    ...                       ...   \n",
       "39018   947678773498933249 2018-01-01 09:45:01+05:45   \n",
       "39019   947677332487020544 2018-01-01 09:39:17+05:45   \n",
       "39020   947674994766516224 2018-01-01 09:30:00+05:45   \n",
       "39021   947668683454799878 2018-01-01 09:04:55+05:45   \n",
       "39022   947656457888993281 2018-01-01 08:16:20+05:45   \n",
       "\n",
       "                            urls article  \n",
       "0         https://bit.ly/3gBXQpn    None  \n",
       "1         https://bit.ly/2RWCAjG    None  \n",
       "2         https://bit.ly/2PpCtwj    None  \n",
       "3         https://bit.ly/3evKsAu    None  \n",
       "4         https://bit.ly/2R0XC0g    None  \n",
       "...                          ...     ...  \n",
       "39018  https://wp.me/p6iC0n-1YTA    None  \n",
       "39019  https://wp.me/p6iC0n-1YUL    None  \n",
       "39020  https://wp.me/p6iC0n-1YU4    None  \n",
       "39021  https://wp.me/p6iC0n-1YU3    None  \n",
       "39022  https://wp.me/p6iC0n-1YTU    None  \n",
       "\n",
       "[34971 rows x 4 columns]"
      ]
     },
     "execution_count": 35,
     "metadata": {},
     "output_type": "execute_result"
    }
   ],
   "source": [
    "df"
   ]
  },
  {
   "cell_type": "code",
   "execution_count": 36,
   "metadata": {},
   "outputs": [],
   "source": [
    "df.to_csv(file_path, index=False)"
   ]
  },
  {
   "cell_type": "markdown",
   "metadata": {},
   "source": [
    "## Chunk"
   ]
  },
  {
   "cell_type": "code",
   "execution_count": 37,
   "metadata": {},
   "outputs": [],
   "source": [
    "def article_ktmpost(url):\n",
    "    try:\n",
    "        req = requests.get(url, headers)\n",
    "        soup = BeautifulSoup(req.content, 'html.parser')\n",
    "        result = soup.find(\"div\", {\"class\": \"col-sm-8\"})\n",
    "        return result.text\n",
    "    except Exception as e:\n",
    "        print (str(e))\n",
    "        return 404\n",
    "    \n",
    "def article(url):\n",
    "    try:\n",
    "        article = Article(url)\n",
    "        article.download()\n",
    "        article.parse()\n",
    "        return article.text\n",
    "    except Exception as e:\n",
    "        print (str(e))\n",
    "        return 404        "
   ]
  },
  {
   "cell_type": "code",
   "execution_count": null,
   "metadata": {},
   "outputs": [
    {
     "data": {
      "application/vnd.jupyter.widget-view+json": {
       "model_id": "61f7e619dc1a41779606d8e1fe483cd7",
       "version_major": 2,
       "version_minor": 0
      },
      "text/plain": [
       "HBox(children=(HTML(value=''), FloatProgress(value=0.0, max=1000.0), HTML(value='')))"
      ]
     },
     "metadata": {},
     "output_type": "display_data"
    }
   ],
   "source": [
    "pd.read_csv(file_path, nrows=1).head(0).to_csv(result_file_path)\n",
    "dataframe = pd.read_csv(file_path, iterator=True, chunksize=1000)\n",
    "\n",
    "for chunk in dataframe:\n",
    "   chunk['article'] = chunk['urls'].progress_apply(article)\n",
    "   chunk.to_csv(result_file_path, mode='a', header=None)"
   ]
  },
  {
   "cell_type": "code",
   "execution_count": 20,
   "metadata": {},
   "outputs": [],
   "source": [
    "df_ = pd.read_csv(result_file_path)"
   ]
  },
  {
   "cell_type": "code",
   "execution_count": 24,
   "metadata": {},
   "outputs": [
    {
     "data": {
      "text/html": [
       "<div>\n",
       "<style scoped>\n",
       "    .dataframe tbody tr th:only-of-type {\n",
       "        vertical-align: middle;\n",
       "    }\n",
       "\n",
       "    .dataframe tbody tr th {\n",
       "        vertical-align: top;\n",
       "    }\n",
       "\n",
       "    .dataframe thead th {\n",
       "        text-align: right;\n",
       "    }\n",
       "</style>\n",
       "<table border=\"1\" class=\"dataframe\">\n",
       "  <thead>\n",
       "    <tr style=\"text-align: right;\">\n",
       "      <th></th>\n",
       "      <th>Unnamed: 0</th>\n",
       "      <th>id</th>\n",
       "      <th>created_at</th>\n",
       "      <th>urls</th>\n",
       "      <th>article</th>\n",
       "    </tr>\n",
       "  </thead>\n",
       "  <tbody>\n",
       "    <tr>\n",
       "      <th>0</th>\n",
       "      <td>0</td>\n",
       "      <td>1377022218178154498</td>\n",
       "      <td>2021-03-31 04:02:35+05:45</td>\n",
       "      <td>https://english.onlinekhabar.com/mithila-house...</td>\n",
       "      <td>When people talk about Ramayana, one of the gr...</td>\n",
       "    </tr>\n",
       "    <tr>\n",
       "      <th>1</th>\n",
       "      <td>1</td>\n",
       "      <td>1376853071083413505</td>\n",
       "      <td>2021-03-30 16:50:27+05:45</td>\n",
       "      <td>https://english.onlinekhabar.com/uml-feud-nepa...</td>\n",
       "      <td>Kathmandu, March 30\\n\\nThe faction of the ruli...</td>\n",
       "    </tr>\n",
       "    <tr>\n",
       "      <th>2</th>\n",
       "      <td>2</td>\n",
       "      <td>1376844319739371521</td>\n",
       "      <td>2021-03-30 16:15:41+05:45</td>\n",
       "      <td>https://english.onlinekhabar.com/bara-sexagena...</td>\n",
       "      <td>Birgunj, March 30\\n\\nA 65-year-old woman died ...</td>\n",
       "    </tr>\n",
       "    <tr>\n",
       "      <th>3</th>\n",
       "      <td>3</td>\n",
       "      <td>1376839101039607808</td>\n",
       "      <td>2021-03-30 15:54:56+05:45</td>\n",
       "      <td>https://english.onlinekhabar.com/nepal-covid-1...</td>\n",
       "      <td>Kathmandu, March 29\\n\\nThe Ministry of Health ...</td>\n",
       "    </tr>\n",
       "    <tr>\n",
       "      <th>4</th>\n",
       "      <td>4</td>\n",
       "      <td>1376835218607198211</td>\n",
       "      <td>2021-03-30 15:39:31+05:45</td>\n",
       "      <td>https://english.onlinekhabar.com/78-businesses...</td>\n",
       "      <td>Kathmandu, March 30\\n\\nThe Department of Food ...</td>\n",
       "    </tr>\n",
       "    <tr>\n",
       "      <th>...</th>\n",
       "      <td>...</td>\n",
       "      <td>...</td>\n",
       "      <td>...</td>\n",
       "      <td>...</td>\n",
       "      <td>...</td>\n",
       "    </tr>\n",
       "    <tr>\n",
       "      <th>9091</th>\n",
       "      <td>9091</td>\n",
       "      <td>972791011457032193</td>\n",
       "      <td>2018-03-11 16:52:05+05:45</td>\n",
       "      <td>http://english.onlinekhabar.com/kailali-withcr...</td>\n",
       "      <td>Kathmandu, March 11\\n\\nThe Mayor of a town in ...</td>\n",
       "    </tr>\n",
       "    <tr>\n",
       "      <th>9092</th>\n",
       "      <td>9092</td>\n",
       "      <td>972785320977752065</td>\n",
       "      <td>2018-03-11 16:29:28+05:45</td>\n",
       "      <td>http://english.onlinekhabar.com/province-5-chi...</td>\n",
       "      <td>Kathmandu, March 11\\n\\nProvince 5 Chief Minist...</td>\n",
       "    </tr>\n",
       "    <tr>\n",
       "      <th>9093</th>\n",
       "      <td>9093</td>\n",
       "      <td>972770673549627392</td>\n",
       "      <td>2018-03-11 15:31:16+05:45</td>\n",
       "      <td>http://english.onlinekhabar.com/kailali-withcr...</td>\n",
       "      <td>Kathmandu, March 11\\n\\nThe policemen who relea...</td>\n",
       "    </tr>\n",
       "    <tr>\n",
       "      <th>9094</th>\n",
       "      <td>9094</td>\n",
       "      <td>972760525049335808</td>\n",
       "      <td>2018-03-11 14:50:56+05:45</td>\n",
       "      <td>http://english.onlinekhabar.com/icc-world-cup-...</td>\n",
       "      <td>Watching Nepal play in the World Cup is every ...</td>\n",
       "    </tr>\n",
       "    <tr>\n",
       "      <th>9095</th>\n",
       "      <td>9095</td>\n",
       "      <td>972732728662745088</td>\n",
       "      <td>2018-03-11 13:00:29+05:45</td>\n",
       "      <td>http://english.onlinekhabar.com/meet-sunil-lam...</td>\n",
       "      <td>At the training facility of Balwatar Cricket C...</td>\n",
       "    </tr>\n",
       "  </tbody>\n",
       "</table>\n",
       "<p>9080 rows × 5 columns</p>\n",
       "</div>"
      ],
      "text/plain": [
       "      Unnamed: 0                   id                 created_at  \\\n",
       "0              0  1377022218178154498  2021-03-31 04:02:35+05:45   \n",
       "1              1  1376853071083413505  2021-03-30 16:50:27+05:45   \n",
       "2              2  1376844319739371521  2021-03-30 16:15:41+05:45   \n",
       "3              3  1376839101039607808  2021-03-30 15:54:56+05:45   \n",
       "4              4  1376835218607198211  2021-03-30 15:39:31+05:45   \n",
       "...          ...                  ...                        ...   \n",
       "9091        9091   972791011457032193  2018-03-11 16:52:05+05:45   \n",
       "9092        9092   972785320977752065  2018-03-11 16:29:28+05:45   \n",
       "9093        9093   972770673549627392  2018-03-11 15:31:16+05:45   \n",
       "9094        9094   972760525049335808  2018-03-11 14:50:56+05:45   \n",
       "9095        9095   972732728662745088  2018-03-11 13:00:29+05:45   \n",
       "\n",
       "                                                   urls  \\\n",
       "0     https://english.onlinekhabar.com/mithila-house...   \n",
       "1     https://english.onlinekhabar.com/uml-feud-nepa...   \n",
       "2     https://english.onlinekhabar.com/bara-sexagena...   \n",
       "3     https://english.onlinekhabar.com/nepal-covid-1...   \n",
       "4     https://english.onlinekhabar.com/78-businesses...   \n",
       "...                                                 ...   \n",
       "9091  http://english.onlinekhabar.com/kailali-withcr...   \n",
       "9092  http://english.onlinekhabar.com/province-5-chi...   \n",
       "9093  http://english.onlinekhabar.com/kailali-withcr...   \n",
       "9094  http://english.onlinekhabar.com/icc-world-cup-...   \n",
       "9095  http://english.onlinekhabar.com/meet-sunil-lam...   \n",
       "\n",
       "                                                article  \n",
       "0     When people talk about Ramayana, one of the gr...  \n",
       "1     Kathmandu, March 30\\n\\nThe faction of the ruli...  \n",
       "2     Birgunj, March 30\\n\\nA 65-year-old woman died ...  \n",
       "3     Kathmandu, March 29\\n\\nThe Ministry of Health ...  \n",
       "4     Kathmandu, March 30\\n\\nThe Department of Food ...  \n",
       "...                                                 ...  \n",
       "9091  Kathmandu, March 11\\n\\nThe Mayor of a town in ...  \n",
       "9092  Kathmandu, March 11\\n\\nProvince 5 Chief Minist...  \n",
       "9093  Kathmandu, March 11\\n\\nThe policemen who relea...  \n",
       "9094  Watching Nepal play in the World Cup is every ...  \n",
       "9095  At the training facility of Balwatar Cricket C...  \n",
       "\n",
       "[9080 rows x 5 columns]"
      ]
     },
     "execution_count": 24,
     "metadata": {},
     "output_type": "execute_result"
    }
   ],
   "source": [
    "df_[df_.article!='404']"
   ]
  },
  {
   "cell_type": "code",
   "execution_count": 26,
   "metadata": {},
   "outputs": [],
   "source": [
    "# did not have to continue in this case\n",
    "df_[df_.article!='404'][['id', 'created_at', 'urls', 'article']].to_csv(file_path, index=False)"
   ]
  }
 ],
 "metadata": {
  "kernelspec": {
   "display_name": "Python 3",
   "language": "python",
   "name": "python3"
  },
  "language_info": {
   "codemirror_mode": {
    "name": "ipython",
    "version": 3
   },
   "file_extension": ".py",
   "mimetype": "text/x-python",
   "name": "python",
   "nbconvert_exporter": "python",
   "pygments_lexer": "ipython3",
   "version": "3.8.5"
  }
 },
 "nbformat": 4,
 "nbformat_minor": 4
}
