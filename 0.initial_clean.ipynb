{
 "cells": [
  {
   "cell_type": "code",
   "execution_count": 1,
   "metadata": {},
   "outputs": [],
   "source": [
    "import pandas as pd\n",
    "from newspaper import Article\n",
    "import nltk\n",
    "import ast\n",
    "import requests\n",
    "from tqdm.auto import tqdm\n",
    "tqdm.pandas()\n",
    "from bs4 import BeautifulSoup, Comment"
   ]
  },
  {
   "cell_type": "code",
   "execution_count": 2,
   "metadata": {},
   "outputs": [],
   "source": [
    "headers = {\n",
    "    'Access-Control-Allow-Origin': '*',\n",
    "    'Access-Control-Allow-Methods': 'GET',\n",
    "    'Access-Control-Allow-Headers': 'Content-Type',\n",
    "    'Access-Control-Max-Age': '3600',\n",
    "    'User-Agent': 'Mozilla/5.0 (X11; Ubuntu; Linux x86_64; rv:52.0) Gecko/20100101 Firefox/52.0'\n",
    "    }"
   ]
  },
  {
   "cell_type": "code",
   "execution_count": 3,
   "metadata": {},
   "outputs": [],
   "source": [
    "initial_tweet_path = 'RepublicaNepal/tweets.csv'\n",
    "file_path = \"RepublicaNepal.csv\"\n",
    "result_file_path = \"RepublicaNepal_articles.csv\""
   ]
  },
  {
   "cell_type": "code",
   "execution_count": 4,
   "metadata": {},
   "outputs": [],
   "source": [
    "df = pd.read_csv(initial_tweet_path, usecols=['id', 'created_at', 'urls'], parse_dates=['created_at'])"
   ]
  },
  {
   "cell_type": "code",
   "execution_count": 5,
   "metadata": {},
   "outputs": [
    {
     "data": {
      "text/plain": [
       "['id', 'created_at', 'urls']"
      ]
     },
     "execution_count": 5,
     "metadata": {},
     "output_type": "execute_result"
    }
   ],
   "source": [
    "list(df)"
   ]
  },
  {
   "cell_type": "code",
   "execution_count": 6,
   "metadata": {},
   "outputs": [
    {
     "data": {
      "text/plain": [
       "(45541, 3)"
      ]
     },
     "execution_count": 6,
     "metadata": {},
     "output_type": "execute_result"
    }
   ],
   "source": [
    "df.shape"
   ]
  },
  {
   "cell_type": "code",
   "execution_count": 7,
   "metadata": {},
   "outputs": [
    {
     "data": {
      "text/html": [
       "<div>\n",
       "<style scoped>\n",
       "    .dataframe tbody tr th:only-of-type {\n",
       "        vertical-align: middle;\n",
       "    }\n",
       "\n",
       "    .dataframe tbody tr th {\n",
       "        vertical-align: top;\n",
       "    }\n",
       "\n",
       "    .dataframe thead th {\n",
       "        text-align: right;\n",
       "    }\n",
       "</style>\n",
       "<table border=\"1\" class=\"dataframe\">\n",
       "  <thead>\n",
       "    <tr style=\"text-align: right;\">\n",
       "      <th></th>\n",
       "      <th>id</th>\n",
       "      <th>created_at</th>\n",
       "      <th>urls</th>\n",
       "    </tr>\n",
       "  </thead>\n",
       "  <tbody>\n",
       "    <tr>\n",
       "      <th>0</th>\n",
       "      <td>1376900077713678345</td>\n",
       "      <td>2021-03-30 19:57:14+05:45</td>\n",
       "      <td>['https://myrepublica.nagariknetwork.com/news/...</td>\n",
       "    </tr>\n",
       "    <tr>\n",
       "      <th>1</th>\n",
       "      <td>1376899173098745862</td>\n",
       "      <td>2021-03-30 19:53:39+05:45</td>\n",
       "      <td>['https://myrepublica.nagariknetwork.com/news/...</td>\n",
       "    </tr>\n",
       "    <tr>\n",
       "      <th>2</th>\n",
       "      <td>1376885989214355469</td>\n",
       "      <td>2021-03-30 19:01:15+05:45</td>\n",
       "      <td>['https://myrepublica.nagariknetwork.com/news/...</td>\n",
       "    </tr>\n",
       "    <tr>\n",
       "      <th>3</th>\n",
       "      <td>1376871383347519488</td>\n",
       "      <td>2021-03-30 18:03:13+05:45</td>\n",
       "      <td>['https://myrepublica.nagariknetwork.com/news/...</td>\n",
       "    </tr>\n",
       "    <tr>\n",
       "      <th>4</th>\n",
       "      <td>1376866695051014146</td>\n",
       "      <td>2021-03-30 17:44:35+05:45</td>\n",
       "      <td>['https://myrepublica.nagariknetwork.com/news/...</td>\n",
       "    </tr>\n",
       "  </tbody>\n",
       "</table>\n",
       "</div>"
      ],
      "text/plain": [
       "                    id                created_at  \\\n",
       "0  1376900077713678345 2021-03-30 19:57:14+05:45   \n",
       "1  1376899173098745862 2021-03-30 19:53:39+05:45   \n",
       "2  1376885989214355469 2021-03-30 19:01:15+05:45   \n",
       "3  1376871383347519488 2021-03-30 18:03:13+05:45   \n",
       "4  1376866695051014146 2021-03-30 17:44:35+05:45   \n",
       "\n",
       "                                                urls  \n",
       "0  ['https://myrepublica.nagariknetwork.com/news/...  \n",
       "1  ['https://myrepublica.nagariknetwork.com/news/...  \n",
       "2  ['https://myrepublica.nagariknetwork.com/news/...  \n",
       "3  ['https://myrepublica.nagariknetwork.com/news/...  \n",
       "4  ['https://myrepublica.nagariknetwork.com/news/...  "
      ]
     },
     "execution_count": 7,
     "metadata": {},
     "output_type": "execute_result"
    }
   ],
   "source": [
    "df.head()"
   ]
  },
  {
   "cell_type": "code",
   "execution_count": 8,
   "metadata": {},
   "outputs": [
    {
     "data": {
      "text/html": [
       "<div>\n",
       "<style scoped>\n",
       "    .dataframe tbody tr th:only-of-type {\n",
       "        vertical-align: middle;\n",
       "    }\n",
       "\n",
       "    .dataframe tbody tr th {\n",
       "        vertical-align: top;\n",
       "    }\n",
       "\n",
       "    .dataframe thead th {\n",
       "        text-align: right;\n",
       "    }\n",
       "</style>\n",
       "<table border=\"1\" class=\"dataframe\">\n",
       "  <thead>\n",
       "    <tr style=\"text-align: right;\">\n",
       "      <th></th>\n",
       "      <th>id</th>\n",
       "      <th>created_at</th>\n",
       "      <th>urls</th>\n",
       "    </tr>\n",
       "  </thead>\n",
       "  <tbody>\n",
       "    <tr>\n",
       "      <th>45536</th>\n",
       "      <td>947658764064243713</td>\n",
       "      <td>2018-01-01 08:25:30+05:45</td>\n",
       "      <td>['https://goo.gl/6aTfY9']</td>\n",
       "    </tr>\n",
       "    <tr>\n",
       "      <th>45537</th>\n",
       "      <td>947658303290580993</td>\n",
       "      <td>2018-01-01 08:23:40+05:45</td>\n",
       "      <td>['https://goo.gl/eLy4Pe']</td>\n",
       "    </tr>\n",
       "    <tr>\n",
       "      <th>45538</th>\n",
       "      <td>947655493631188992</td>\n",
       "      <td>2018-01-01 08:12:30+05:45</td>\n",
       "      <td>['https://goo.gl/CwpTUq']</td>\n",
       "    </tr>\n",
       "    <tr>\n",
       "      <th>45539</th>\n",
       "      <td>947654732121743361</td>\n",
       "      <td>2018-01-01 08:09:29+05:45</td>\n",
       "      <td>['https://goo.gl/WpfygX']</td>\n",
       "    </tr>\n",
       "    <tr>\n",
       "      <th>45540</th>\n",
       "      <td>947654028317507584</td>\n",
       "      <td>2018-01-01 08:06:41+05:45</td>\n",
       "      <td>['https://goo.gl/e47Gfo']</td>\n",
       "    </tr>\n",
       "  </tbody>\n",
       "</table>\n",
       "</div>"
      ],
      "text/plain": [
       "                       id                created_at                       urls\n",
       "45536  947658764064243713 2018-01-01 08:25:30+05:45  ['https://goo.gl/6aTfY9']\n",
       "45537  947658303290580993 2018-01-01 08:23:40+05:45  ['https://goo.gl/eLy4Pe']\n",
       "45538  947655493631188992 2018-01-01 08:12:30+05:45  ['https://goo.gl/CwpTUq']\n",
       "45539  947654732121743361 2018-01-01 08:09:29+05:45  ['https://goo.gl/WpfygX']\n",
       "45540  947654028317507584 2018-01-01 08:06:41+05:45  ['https://goo.gl/e47Gfo']"
      ]
     },
     "execution_count": 8,
     "metadata": {},
     "output_type": "execute_result"
    }
   ],
   "source": [
    "df.tail()"
   ]
  },
  {
   "cell_type": "code",
   "execution_count": 9,
   "metadata": {},
   "outputs": [
    {
     "data": {
      "text/html": [
       "<div>\n",
       "<style scoped>\n",
       "    .dataframe tbody tr th:only-of-type {\n",
       "        vertical-align: middle;\n",
       "    }\n",
       "\n",
       "    .dataframe tbody tr th {\n",
       "        vertical-align: top;\n",
       "    }\n",
       "\n",
       "    .dataframe thead th {\n",
       "        text-align: right;\n",
       "    }\n",
       "</style>\n",
       "<table border=\"1\" class=\"dataframe\">\n",
       "  <thead>\n",
       "    <tr style=\"text-align: right;\">\n",
       "      <th></th>\n",
       "      <th>id</th>\n",
       "    </tr>\n",
       "    <tr>\n",
       "      <th>created_at</th>\n",
       "      <th></th>\n",
       "    </tr>\n",
       "  </thead>\n",
       "  <tbody>\n",
       "    <tr>\n",
       "      <th>2018-12-31 00:00:00+05:45</th>\n",
       "      <td>18060</td>\n",
       "    </tr>\n",
       "    <tr>\n",
       "      <th>2019-12-31 00:00:00+05:45</th>\n",
       "      <td>13281</td>\n",
       "    </tr>\n",
       "    <tr>\n",
       "      <th>2020-12-31 00:00:00+05:45</th>\n",
       "      <td>11757</td>\n",
       "    </tr>\n",
       "    <tr>\n",
       "      <th>2021-12-31 00:00:00+05:45</th>\n",
       "      <td>2443</td>\n",
       "    </tr>\n",
       "  </tbody>\n",
       "</table>\n",
       "</div>"
      ],
      "text/plain": [
       "                              id\n",
       "created_at                      \n",
       "2018-12-31 00:00:00+05:45  18060\n",
       "2019-12-31 00:00:00+05:45  13281\n",
       "2020-12-31 00:00:00+05:45  11757\n",
       "2021-12-31 00:00:00+05:45   2443"
      ]
     },
     "execution_count": 9,
     "metadata": {},
     "output_type": "execute_result"
    }
   ],
   "source": [
    "df.resample('Y', on='created_at')[['id']].count()"
   ]
  },
  {
   "cell_type": "code",
   "execution_count": 10,
   "metadata": {},
   "outputs": [
    {
     "data": {
      "text/plain": [
       "<AxesSubplot:xlabel='created_at'>"
      ]
     },
     "execution_count": 10,
     "metadata": {},
     "output_type": "execute_result"
    },
    {
     "data": {
      "image/png": "[encoded data removed]",
      "text/plain": [
       "<Figure size 432x288 with 1 Axes>"
      ]
     },
     "metadata": {
      "needs_background": "light"
     },
     "output_type": "display_data"
    }
   ],
   "source": [
    "df.resample('Y', on='created_at')[['id']].count().plot(kind='bar')"
   ]
  },
  {
   "cell_type": "markdown",
   "metadata": {},
   "source": [
    "### Remove tweets without a URL"
   ]
  },
  {
   "cell_type": "code",
   "execution_count": 11,
   "metadata": {},
   "outputs": [],
   "source": [
    "df=df[df.urls!=\"[]\"]"
   ]
  },
  {
   "cell_type": "code",
   "execution_count": 12,
   "metadata": {},
   "outputs": [],
   "source": [
    "df = df.drop_duplicates(['urls'], keep=\"last\")"
   ]
  },
  {
   "cell_type": "code",
   "execution_count": 13,
   "metadata": {},
   "outputs": [
    {
     "data": {
      "text/html": [
       "<div>\n",
       "<style scoped>\n",
       "    .dataframe tbody tr th:only-of-type {\n",
       "        vertical-align: middle;\n",
       "    }\n",
       "\n",
       "    .dataframe tbody tr th {\n",
       "        vertical-align: top;\n",
       "    }\n",
       "\n",
       "    .dataframe thead th {\n",
       "        text-align: right;\n",
       "    }\n",
       "</style>\n",
       "<table border=\"1\" class=\"dataframe\">\n",
       "  <thead>\n",
       "    <tr style=\"text-align: right;\">\n",
       "      <th></th>\n",
       "      <th>id</th>\n",
       "      <th>created_at</th>\n",
       "      <th>urls</th>\n",
       "    </tr>\n",
       "  </thead>\n",
       "  <tbody>\n",
       "    <tr>\n",
       "      <th>0</th>\n",
       "      <td>1376900077713678345</td>\n",
       "      <td>2021-03-30 19:57:14+05:45</td>\n",
       "      <td>['https://myrepublica.nagariknetwork.com/news/...</td>\n",
       "    </tr>\n",
       "    <tr>\n",
       "      <th>1</th>\n",
       "      <td>1376899173098745862</td>\n",
       "      <td>2021-03-30 19:53:39+05:45</td>\n",
       "      <td>['https://myrepublica.nagariknetwork.com/news/...</td>\n",
       "    </tr>\n",
       "    <tr>\n",
       "      <th>2</th>\n",
       "      <td>1376885989214355469</td>\n",
       "      <td>2021-03-30 19:01:15+05:45</td>\n",
       "      <td>['https://myrepublica.nagariknetwork.com/news/...</td>\n",
       "    </tr>\n",
       "    <tr>\n",
       "      <th>3</th>\n",
       "      <td>1376871383347519488</td>\n",
       "      <td>2021-03-30 18:03:13+05:45</td>\n",
       "      <td>['https://myrepublica.nagariknetwork.com/news/...</td>\n",
       "    </tr>\n",
       "    <tr>\n",
       "      <th>4</th>\n",
       "      <td>1376866695051014146</td>\n",
       "      <td>2021-03-30 17:44:35+05:45</td>\n",
       "      <td>['https://myrepublica.nagariknetwork.com/news/...</td>\n",
       "    </tr>\n",
       "    <tr>\n",
       "      <th>...</th>\n",
       "      <td>...</td>\n",
       "      <td>...</td>\n",
       "      <td>...</td>\n",
       "    </tr>\n",
       "    <tr>\n",
       "      <th>45536</th>\n",
       "      <td>947658764064243713</td>\n",
       "      <td>2018-01-01 08:25:30+05:45</td>\n",
       "      <td>['https://goo.gl/6aTfY9']</td>\n",
       "    </tr>\n",
       "    <tr>\n",
       "      <th>45537</th>\n",
       "      <td>947658303290580993</td>\n",
       "      <td>2018-01-01 08:23:40+05:45</td>\n",
       "      <td>['https://goo.gl/eLy4Pe']</td>\n",
       "    </tr>\n",
       "    <tr>\n",
       "      <th>45538</th>\n",
       "      <td>947655493631188992</td>\n",
       "      <td>2018-01-01 08:12:30+05:45</td>\n",
       "      <td>['https://goo.gl/CwpTUq']</td>\n",
       "    </tr>\n",
       "    <tr>\n",
       "      <th>45539</th>\n",
       "      <td>947654732121743361</td>\n",
       "      <td>2018-01-01 08:09:29+05:45</td>\n",
       "      <td>['https://goo.gl/WpfygX']</td>\n",
       "    </tr>\n",
       "    <tr>\n",
       "      <th>45540</th>\n",
       "      <td>947654028317507584</td>\n",
       "      <td>2018-01-01 08:06:41+05:45</td>\n",
       "      <td>['https://goo.gl/e47Gfo']</td>\n",
       "    </tr>\n",
       "  </tbody>\n",
       "</table>\n",
       "<p>41226 rows × 3 columns</p>\n",
       "</div>"
      ],
      "text/plain": [
       "                        id                created_at  \\\n",
       "0      1376900077713678345 2021-03-30 19:57:14+05:45   \n",
       "1      1376899173098745862 2021-03-30 19:53:39+05:45   \n",
       "2      1376885989214355469 2021-03-30 19:01:15+05:45   \n",
       "3      1376871383347519488 2021-03-30 18:03:13+05:45   \n",
       "4      1376866695051014146 2021-03-30 17:44:35+05:45   \n",
       "...                    ...                       ...   \n",
       "45536   947658764064243713 2018-01-01 08:25:30+05:45   \n",
       "45537   947658303290580993 2018-01-01 08:23:40+05:45   \n",
       "45538   947655493631188992 2018-01-01 08:12:30+05:45   \n",
       "45539   947654732121743361 2018-01-01 08:09:29+05:45   \n",
       "45540   947654028317507584 2018-01-01 08:06:41+05:45   \n",
       "\n",
       "                                                    urls  \n",
       "0      ['https://myrepublica.nagariknetwork.com/news/...  \n",
       "1      ['https://myrepublica.nagariknetwork.com/news/...  \n",
       "2      ['https://myrepublica.nagariknetwork.com/news/...  \n",
       "3      ['https://myrepublica.nagariknetwork.com/news/...  \n",
       "4      ['https://myrepublica.nagariknetwork.com/news/...  \n",
       "...                                                  ...  \n",
       "45536                          ['https://goo.gl/6aTfY9']  \n",
       "45537                          ['https://goo.gl/eLy4Pe']  \n",
       "45538                          ['https://goo.gl/CwpTUq']  \n",
       "45539                          ['https://goo.gl/WpfygX']  \n",
       "45540                          ['https://goo.gl/e47Gfo']  \n",
       "\n",
       "[41226 rows x 3 columns]"
      ]
     },
     "execution_count": 13,
     "metadata": {},
     "output_type": "execute_result"
    }
   ],
   "source": [
    "df"
   ]
  },
  {
   "cell_type": "code",
   "execution_count": 14,
   "metadata": {},
   "outputs": [],
   "source": [
    "df['article'] = None"
   ]
  },
  {
   "cell_type": "code",
   "execution_count": 15,
   "metadata": {},
   "outputs": [
    {
     "data": {
      "application/vnd.jupyter.widget-view+json": {
       "model_id": "5f196898dc244b39a8a019352deef4d8",
       "version_major": 2,
       "version_minor": 0
      },
      "text/plain": [
       "HBox(children=(HTML(value=''), FloatProgress(value=0.0, max=41226.0), HTML(value='')))"
      ]
     },
     "metadata": {},
     "output_type": "display_data"
    },
    {
     "name": "stdout",
     "output_type": "stream",
     "text": [
      "\n"
     ]
    }
   ],
   "source": [
    "def urlstourl(urls):\n",
    "    return ast.literal_eval(urls)[0]\n",
    "\n",
    "df['urls'] = df.urls.progress_apply(urlstourl)"
   ]
  },
  {
   "cell_type": "code",
   "execution_count": 16,
   "metadata": {},
   "outputs": [
    {
     "data": {
      "text/html": [
       "<div>\n",
       "<style scoped>\n",
       "    .dataframe tbody tr th:only-of-type {\n",
       "        vertical-align: middle;\n",
       "    }\n",
       "\n",
       "    .dataframe tbody tr th {\n",
       "        vertical-align: top;\n",
       "    }\n",
       "\n",
       "    .dataframe thead th {\n",
       "        text-align: right;\n",
       "    }\n",
       "</style>\n",
       "<table border=\"1\" class=\"dataframe\">\n",
       "  <thead>\n",
       "    <tr style=\"text-align: right;\">\n",
       "      <th></th>\n",
       "      <th>id</th>\n",
       "      <th>created_at</th>\n",
       "      <th>urls</th>\n",
       "      <th>article</th>\n",
       "    </tr>\n",
       "  </thead>\n",
       "  <tbody>\n",
       "    <tr>\n",
       "      <th>0</th>\n",
       "      <td>1376900077713678345</td>\n",
       "      <td>2021-03-30 19:57:14+05:45</td>\n",
       "      <td>https://myrepublica.nagariknetwork.com/news/ne...</td>\n",
       "      <td>None</td>\n",
       "    </tr>\n",
       "    <tr>\n",
       "      <th>1</th>\n",
       "      <td>1376899173098745862</td>\n",
       "      <td>2021-03-30 19:53:39+05:45</td>\n",
       "      <td>https://myrepublica.nagariknetwork.com/news/go...</td>\n",
       "      <td>None</td>\n",
       "    </tr>\n",
       "    <tr>\n",
       "      <th>2</th>\n",
       "      <td>1376885989214355469</td>\n",
       "      <td>2021-03-30 19:01:15+05:45</td>\n",
       "      <td>https://myrepublica.nagariknetwork.com/news/yo...</td>\n",
       "      <td>None</td>\n",
       "    </tr>\n",
       "    <tr>\n",
       "      <th>3</th>\n",
       "      <td>1376871383347519488</td>\n",
       "      <td>2021-03-30 18:03:13+05:45</td>\n",
       "      <td>https://myrepublica.nagariknetwork.com/news/us...</td>\n",
       "      <td>None</td>\n",
       "    </tr>\n",
       "    <tr>\n",
       "      <th>4</th>\n",
       "      <td>1376866695051014146</td>\n",
       "      <td>2021-03-30 17:44:35+05:45</td>\n",
       "      <td>https://myrepublica.nagariknetwork.com/news/pm...</td>\n",
       "      <td>None</td>\n",
       "    </tr>\n",
       "    <tr>\n",
       "      <th>...</th>\n",
       "      <td>...</td>\n",
       "      <td>...</td>\n",
       "      <td>...</td>\n",
       "      <td>...</td>\n",
       "    </tr>\n",
       "    <tr>\n",
       "      <th>45536</th>\n",
       "      <td>947658764064243713</td>\n",
       "      <td>2018-01-01 08:25:30+05:45</td>\n",
       "      <td>https://goo.gl/6aTfY9</td>\n",
       "      <td>None</td>\n",
       "    </tr>\n",
       "    <tr>\n",
       "      <th>45537</th>\n",
       "      <td>947658303290580993</td>\n",
       "      <td>2018-01-01 08:23:40+05:45</td>\n",
       "      <td>https://goo.gl/eLy4Pe</td>\n",
       "      <td>None</td>\n",
       "    </tr>\n",
       "    <tr>\n",
       "      <th>45538</th>\n",
       "      <td>947655493631188992</td>\n",
       "      <td>2018-01-01 08:12:30+05:45</td>\n",
       "      <td>https://goo.gl/CwpTUq</td>\n",
       "      <td>None</td>\n",
       "    </tr>\n",
       "    <tr>\n",
       "      <th>45539</th>\n",
       "      <td>947654732121743361</td>\n",
       "      <td>2018-01-01 08:09:29+05:45</td>\n",
       "      <td>https://goo.gl/WpfygX</td>\n",
       "      <td>None</td>\n",
       "    </tr>\n",
       "    <tr>\n",
       "      <th>45540</th>\n",
       "      <td>947654028317507584</td>\n",
       "      <td>2018-01-01 08:06:41+05:45</td>\n",
       "      <td>https://goo.gl/e47Gfo</td>\n",
       "      <td>None</td>\n",
       "    </tr>\n",
       "  </tbody>\n",
       "</table>\n",
       "<p>41226 rows × 4 columns</p>\n",
       "</div>"
      ],
      "text/plain": [
       "                        id                created_at  \\\n",
       "0      1376900077713678345 2021-03-30 19:57:14+05:45   \n",
       "1      1376899173098745862 2021-03-30 19:53:39+05:45   \n",
       "2      1376885989214355469 2021-03-30 19:01:15+05:45   \n",
       "3      1376871383347519488 2021-03-30 18:03:13+05:45   \n",
       "4      1376866695051014146 2021-03-30 17:44:35+05:45   \n",
       "...                    ...                       ...   \n",
       "45536   947658764064243713 2018-01-01 08:25:30+05:45   \n",
       "45537   947658303290580993 2018-01-01 08:23:40+05:45   \n",
       "45538   947655493631188992 2018-01-01 08:12:30+05:45   \n",
       "45539   947654732121743361 2018-01-01 08:09:29+05:45   \n",
       "45540   947654028317507584 2018-01-01 08:06:41+05:45   \n",
       "\n",
       "                                                    urls article  \n",
       "0      https://myrepublica.nagariknetwork.com/news/ne...    None  \n",
       "1      https://myrepublica.nagariknetwork.com/news/go...    None  \n",
       "2      https://myrepublica.nagariknetwork.com/news/yo...    None  \n",
       "3      https://myrepublica.nagariknetwork.com/news/us...    None  \n",
       "4      https://myrepublica.nagariknetwork.com/news/pm...    None  \n",
       "...                                                  ...     ...  \n",
       "45536                              https://goo.gl/6aTfY9    None  \n",
       "45537                              https://goo.gl/eLy4Pe    None  \n",
       "45538                              https://goo.gl/CwpTUq    None  \n",
       "45539                              https://goo.gl/WpfygX    None  \n",
       "45540                              https://goo.gl/e47Gfo    None  \n",
       "\n",
       "[41226 rows x 4 columns]"
      ]
     },
     "execution_count": 16,
     "metadata": {},
     "output_type": "execute_result"
    }
   ],
   "source": [
    "df"
   ]
  },
  {
   "cell_type": "code",
   "execution_count": 17,
   "metadata": {},
   "outputs": [],
   "source": [
    "df.to_csv(file_path, index=False)"
   ]
  },
  {
   "cell_type": "markdown",
   "metadata": {},
   "source": [
    "## Chunk"
   ]
  },
  {
   "cell_type": "code",
   "execution_count": 18,
   "metadata": {},
   "outputs": [],
   "source": [
    "def article_ktmpost(url):\n",
    "    try:\n",
    "        req = requests.get(url, headers)\n",
    "        soup = BeautifulSoup(req.content, 'html.parser')\n",
    "        result = soup.find(\"div\", {\"class\": \"col-sm-8\"})\n",
    "        return result.text\n",
    "    except Exception as e:\n",
    "        print (str(e))\n",
    "        return 404\n",
    "    \n",
    "def article(url):\n",
    "    try:\n",
    "        article = Article(url)\n",
    "        article.download()\n",
    "        article.parse()\n",
    "        return article.text\n",
    "    except Exception as e:\n",
    "        print (str(e))\n",
    "        return 404        "
   ]
  },
  {
   "cell_type": "code",
   "execution_count": null,
   "metadata": {},
   "outputs": [
    {
     "data": {
      "application/vnd.jupyter.widget-view+json": {
       "model_id": "cebdf103ccf547f9aa80a9112a0f6f27",
       "version_major": 2,
       "version_minor": 0
      },
      "text/plain": [
       "HBox(children=(HTML(value=''), FloatProgress(value=0.0, max=1000.0), HTML(value='')))"
      ]
     },
     "metadata": {},
     "output_type": "display_data"
    },
    {
     "name": "stdout",
     "output_type": "stream",
     "text": [
      "Article `download()` failed with HTTPConnectionPool(host='www.iporesult.cdsc.com.np', port=80): Max retries exceeded with url: / (Caused by NewConnectionError('<urllib3.connection.HTTPConnection object at 0x7fdafcc9bc10>: Failed to establish a new connection: [Errno 8] nodename nor servname provided, or not known')) on URL http://www.iporesult.cdsc.com.np\n",
      "\n"
     ]
    },
    {
     "data": {
      "application/vnd.jupyter.widget-view+json": {
       "model_id": "d8332c4f0c0f4e7096a6b7d0d933dddd",
       "version_major": 2,
       "version_minor": 0
      },
      "text/plain": [
       "HBox(children=(HTML(value=''), FloatProgress(value=0.0, max=1000.0), HTML(value='')))"
      ]
     },
     "metadata": {},
     "output_type": "display_data"
    },
    {
     "name": "stdout",
     "output_type": "stream",
     "text": [
      "\n"
     ]
    },
    {
     "data": {
      "application/vnd.jupyter.widget-view+json": {
       "model_id": "fc8349c0124f4ed999f825ad1e8ca7d1",
       "version_major": 2,
       "version_minor": 0
      },
      "text/plain": [
       "HBox(children=(HTML(value=''), FloatProgress(value=0.0, max=1000.0), HTML(value='')))"
      ]
     },
     "metadata": {},
     "output_type": "display_data"
    },
    {
     "name": "stdout",
     "output_type": "stream",
     "text": [
      "\n"
     ]
    },
    {
     "data": {
      "application/vnd.jupyter.widget-view+json": {
       "model_id": "e40d3f63b16e489583665096884cdd72",
       "version_major": 2,
       "version_minor": 0
      },
      "text/plain": [
       "HBox(children=(HTML(value=''), FloatProgress(value=0.0, max=1000.0), HTML(value='')))"
      ]
     },
     "metadata": {},
     "output_type": "display_data"
    },
    {
     "name": "stdout",
     "output_type": "stream",
     "text": [
      "\n"
     ]
    },
    {
     "data": {
      "application/vnd.jupyter.widget-view+json": {
       "model_id": "bc083edf23d349f5adf3401d8ad504c0",
       "version_major": 2,
       "version_minor": 0
      },
      "text/plain": [
       "HBox(children=(HTML(value=''), FloatProgress(value=0.0, max=1000.0), HTML(value='')))"
      ]
     },
     "metadata": {},
     "output_type": "display_data"
    },
    {
     "name": "stdout",
     "output_type": "stream",
     "text": [
      "\n"
     ]
    },
    {
     "data": {
      "application/vnd.jupyter.widget-view+json": {
       "model_id": "b06fb285c21e46e2ae22d522b9fa30cc",
       "version_major": 2,
       "version_minor": 0
      },
      "text/plain": [
       "HBox(children=(HTML(value=''), FloatProgress(value=0.0, max=1000.0), HTML(value='')))"
      ]
     },
     "metadata": {},
     "output_type": "display_data"
    },
    {
     "name": "stdout",
     "output_type": "stream",
     "text": [
      "\n"
     ]
    },
    {
     "data": {
      "application/vnd.jupyter.widget-view+json": {
       "model_id": "20eb01b44e1f4c32b290981dc3af7bcb",
       "version_major": 2,
       "version_minor": 0
      },
      "text/plain": [
       "HBox(children=(HTML(value=''), FloatProgress(value=0.0, max=1000.0), HTML(value='')))"
      ]
     },
     "metadata": {},
     "output_type": "display_data"
    },
    {
     "name": "stdout",
     "output_type": "stream",
     "text": [
      "\n"
     ]
    },
    {
     "data": {
      "application/vnd.jupyter.widget-view+json": {
       "model_id": "b2ba048bf26045f0b23df82e7d942ed6",
       "version_major": 2,
       "version_minor": 0
      },
      "text/plain": [
       "HBox(children=(HTML(value=''), FloatProgress(value=0.0, max=1000.0), HTML(value='')))"
      ]
     },
     "metadata": {},
     "output_type": "display_data"
    },
    {
     "name": "stdout",
     "output_type": "stream",
     "text": [
      "\n"
     ]
    },
    {
     "data": {
      "application/vnd.jupyter.widget-view+json": {
       "model_id": "c6fe40e1ad034d9d9348ae5003bd2984",
       "version_major": 2,
       "version_minor": 0
      },
      "text/plain": [
       "HBox(children=(HTML(value=''), FloatProgress(value=0.0, max=1000.0), HTML(value='')))"
      ]
     },
     "metadata": {},
     "output_type": "display_data"
    },
    {
     "name": "stdout",
     "output_type": "stream",
     "text": [
      "Article `download()` failed with HTTPConnectionPool(host='www.nepalarm.mil.np', port=80): Max retries exceeded with url: / (Caused by NewConnectionError('<urllib3.connection.HTTPConnection object at 0x7fdafce8b2b0>: Failed to establish a new connection: [Errno 8] nodename nor servname provided, or not known')) on URL http://www.nepalarm.mil.np\n",
      "Article `download()` failed with HTTPConnectionPool(host='www.covid.mohp.gov.np', port=80): Max retries exceeded with url: / (Caused by NewConnectionError('<urllib3.connection.HTTPConnection object at 0x7fdafce8b130>: Failed to establish a new connection: [Errno 8] nodename nor servname provided, or not known')) on URL http://www.covid.mohp.gov.np\n",
      "\n"
     ]
    },
    {
     "data": {
      "application/vnd.jupyter.widget-view+json": {
       "model_id": "9c206259a27c44998cf3f9694872182f",
       "version_major": 2,
       "version_minor": 0
      },
      "text/plain": [
       "HBox(children=(HTML(value=''), FloatProgress(value=0.0, max=1000.0), HTML(value='')))"
      ]
     },
     "metadata": {},
     "output_type": "display_data"
    },
    {
     "name": "stdout",
     "output_type": "stream",
     "text": [
      "\n"
     ]
    },
    {
     "data": {
      "application/vnd.jupyter.widget-view+json": {
       "model_id": "3800fb03593441e99e6b18475756cdcb",
       "version_major": 2,
       "version_minor": 0
      },
      "text/plain": [
       "HBox(children=(HTML(value=''), FloatProgress(value=0.0, max=1000.0), HTML(value='')))"
      ]
     },
     "metadata": {},
     "output_type": "display_data"
    },
    {
     "name": "stdout",
     "output_type": "stream",
     "text": [
      "Article `download()` failed with 404 Client Error: Not Found for url: https://myrepublica.nagariknetwork.com/news/apex-court-seeks-written-reasons-for-not-indicting-former-pms-in-baluwatar-land-scam/A on URL https://myrepublica.nagariknetwork.com/news/apex-court-seeks-written-reasons-for-not-indicting-former-pms-in-baluwatar-land-scam/A\n",
      "\n"
     ]
    },
    {
     "data": {
      "application/vnd.jupyter.widget-view+json": {
       "model_id": "badf242911bf45ce82dc57790ec21fc6",
       "version_major": 2,
       "version_minor": 0
      },
      "text/plain": [
       "HBox(children=(HTML(value=''), FloatProgress(value=0.0, max=1000.0), HTML(value='')))"
      ]
     },
     "metadata": {},
     "output_type": "display_data"
    },
    {
     "name": "stdout",
     "output_type": "stream",
     "text": [
      "\n"
     ]
    },
    {
     "data": {
      "application/vnd.jupyter.widget-view+json": {
       "model_id": "d44e025f89a049fdadf2aa2d69520a9f",
       "version_major": 2,
       "version_minor": 0
      },
      "text/plain": [
       "HBox(children=(HTML(value=''), FloatProgress(value=0.0, max=1000.0), HTML(value='')))"
      ]
     },
     "metadata": {},
     "output_type": "display_data"
    },
    {
     "name": "stdout",
     "output_type": "stream",
     "text": [
      "\n"
     ]
    },
    {
     "data": {
      "application/vnd.jupyter.widget-view+json": {
       "model_id": "ef5128ffda1f48dca49cc8d5ba35adde",
       "version_major": 2,
       "version_minor": 0
      },
      "text/plain": [
       "HBox(children=(HTML(value=''), FloatProgress(value=0.0, max=1000.0), HTML(value='')))"
      ]
     },
     "metadata": {},
     "output_type": "display_data"
    },
    {
     "name": "stdout",
     "output_type": "stream",
     "text": [
      "\n"
     ]
    },
    {
     "data": {
      "application/vnd.jupyter.widget-view+json": {
       "model_id": "873afed985674077b6620eb8c785ca59",
       "version_major": 2,
       "version_minor": 0
      },
      "text/plain": [
       "HBox(children=(HTML(value=''), FloatProgress(value=0.0, max=1000.0), HTML(value='')))"
      ]
     },
     "metadata": {},
     "output_type": "display_data"
    },
    {
     "name": "stdout",
     "output_type": "stream",
     "text": [
      "Article `download()` failed with HTTPSConnectionPool(host='tinyurl.com', port=443): Read timed out. (read timeout=7) on URL https://tinyurl.com/y3y4oagr\n",
      "\n"
     ]
    },
    {
     "data": {
      "application/vnd.jupyter.widget-view+json": {
       "model_id": "2056b7c085cc46b9b679a35b671e8a14",
       "version_major": 2,
       "version_minor": 0
      },
      "text/plain": [
       "HBox(children=(HTML(value=''), FloatProgress(value=0.0, max=1000.0), HTML(value='')))"
      ]
     },
     "metadata": {},
     "output_type": "display_data"
    }
   ],
   "source": [
    "pd.read_csv(file_path, nrows=1).head(0).to_csv(result_file_path)\n",
    "dataframe = pd.read_csv(file_path, iterator=True, chunksize=1000)\n",
    "\n",
    "for chunk in dataframe:\n",
    "   chunk['article'] = chunk['urls'].progress_apply(article)\n",
    "   chunk.to_csv(result_file_path, mode='a', header=None)"
   ]
  },
  {
   "cell_type": "code",
   "execution_count": 20,
   "metadata": {},
   "outputs": [],
   "source": [
    "df_ = pd.read_csv(result_file_path)"
   ]
  },
  {
   "cell_type": "code",
   "execution_count": 24,
   "metadata": {},
   "outputs": [
    {
     "data": {
      "text/html": [
       "<div>\n",
       "<style scoped>\n",
       "    .dataframe tbody tr th:only-of-type {\n",
       "        vertical-align: middle;\n",
       "    }\n",
       "\n",
       "    .dataframe tbody tr th {\n",
       "        vertical-align: top;\n",
       "    }\n",
       "\n",
       "    .dataframe thead th {\n",
       "        text-align: right;\n",
       "    }\n",
       "</style>\n",
       "<table border=\"1\" class=\"dataframe\">\n",
       "  <thead>\n",
       "    <tr style=\"text-align: right;\">\n",
       "      <th></th>\n",
       "      <th>Unnamed: 0</th>\n",
       "      <th>id</th>\n",
       "      <th>created_at</th>\n",
       "      <th>urls</th>\n",
       "      <th>article</th>\n",
       "    </tr>\n",
       "  </thead>\n",
       "  <tbody>\n",
       "    <tr>\n",
       "      <th>0</th>\n",
       "      <td>0</td>\n",
       "      <td>1377022218178154498</td>\n",
       "      <td>2021-03-31 04:02:35+05:45</td>\n",
       "      <td>https://english.onlinekhabar.com/mithila-house...</td>\n",
       "      <td>When people talk about Ramayana, one of the gr...</td>\n",
       "    </tr>\n",
       "    <tr>\n",
       "      <th>1</th>\n",
       "      <td>1</td>\n",
       "      <td>1376853071083413505</td>\n",
       "      <td>2021-03-30 16:50:27+05:45</td>\n",
       "      <td>https://english.onlinekhabar.com/uml-feud-nepa...</td>\n",
       "      <td>Kathmandu, March 30\\n\\nThe faction of the ruli...</td>\n",
       "    </tr>\n",
       "    <tr>\n",
       "      <th>2</th>\n",
       "      <td>2</td>\n",
       "      <td>1376844319739371521</td>\n",
       "      <td>2021-03-30 16:15:41+05:45</td>\n",
       "      <td>https://english.onlinekhabar.com/bara-sexagena...</td>\n",
       "      <td>Birgunj, March 30\\n\\nA 65-year-old woman died ...</td>\n",
       "    </tr>\n",
       "    <tr>\n",
       "      <th>3</th>\n",
       "      <td>3</td>\n",
       "      <td>1376839101039607808</td>\n",
       "      <td>2021-03-30 15:54:56+05:45</td>\n",
       "      <td>https://english.onlinekhabar.com/nepal-covid-1...</td>\n",
       "      <td>Kathmandu, March 29\\n\\nThe Ministry of Health ...</td>\n",
       "    </tr>\n",
       "    <tr>\n",
       "      <th>4</th>\n",
       "      <td>4</td>\n",
       "      <td>1376835218607198211</td>\n",
       "      <td>2021-03-30 15:39:31+05:45</td>\n",
       "      <td>https://english.onlinekhabar.com/78-businesses...</td>\n",
       "      <td>Kathmandu, March 30\\n\\nThe Department of Food ...</td>\n",
       "    </tr>\n",
       "    <tr>\n",
       "      <th>...</th>\n",
       "      <td>...</td>\n",
       "      <td>...</td>\n",
       "      <td>...</td>\n",
       "      <td>...</td>\n",
       "      <td>...</td>\n",
       "    </tr>\n",
       "    <tr>\n",
       "      <th>9091</th>\n",
       "      <td>9091</td>\n",
       "      <td>972791011457032193</td>\n",
       "      <td>2018-03-11 16:52:05+05:45</td>\n",
       "      <td>http://english.onlinekhabar.com/kailali-withcr...</td>\n",
       "      <td>Kathmandu, March 11\\n\\nThe Mayor of a town in ...</td>\n",
       "    </tr>\n",
       "    <tr>\n",
       "      <th>9092</th>\n",
       "      <td>9092</td>\n",
       "      <td>972785320977752065</td>\n",
       "      <td>2018-03-11 16:29:28+05:45</td>\n",
       "      <td>http://english.onlinekhabar.com/province-5-chi...</td>\n",
       "      <td>Kathmandu, March 11\\n\\nProvince 5 Chief Minist...</td>\n",
       "    </tr>\n",
       "    <tr>\n",
       "      <th>9093</th>\n",
       "      <td>9093</td>\n",
       "      <td>972770673549627392</td>\n",
       "      <td>2018-03-11 15:31:16+05:45</td>\n",
       "      <td>http://english.onlinekhabar.com/kailali-withcr...</td>\n",
       "      <td>Kathmandu, March 11\\n\\nThe policemen who relea...</td>\n",
       "    </tr>\n",
       "    <tr>\n",
       "      <th>9094</th>\n",
       "      <td>9094</td>\n",
       "      <td>972760525049335808</td>\n",
       "      <td>2018-03-11 14:50:56+05:45</td>\n",
       "      <td>http://english.onlinekhabar.com/icc-world-cup-...</td>\n",
       "      <td>Watching Nepal play in the World Cup is every ...</td>\n",
       "    </tr>\n",
       "    <tr>\n",
       "      <th>9095</th>\n",
       "      <td>9095</td>\n",
       "      <td>972732728662745088</td>\n",
       "      <td>2018-03-11 13:00:29+05:45</td>\n",
       "      <td>http://english.onlinekhabar.com/meet-sunil-lam...</td>\n",
       "      <td>At the training facility of Balwatar Cricket C...</td>\n",
       "    </tr>\n",
       "  </tbody>\n",
       "</table>\n",
       "<p>9080 rows × 5 columns</p>\n",
       "</div>"
      ],
      "text/plain": [
       "      Unnamed: 0                   id                 created_at  \\\n",
       "0              0  1377022218178154498  2021-03-31 04:02:35+05:45   \n",
       "1              1  1376853071083413505  2021-03-30 16:50:27+05:45   \n",
       "2              2  1376844319739371521  2021-03-30 16:15:41+05:45   \n",
       "3              3  1376839101039607808  2021-03-30 15:54:56+05:45   \n",
       "4              4  1376835218607198211  2021-03-30 15:39:31+05:45   \n",
       "...          ...                  ...                        ...   \n",
       "9091        9091   972791011457032193  2018-03-11 16:52:05+05:45   \n",
       "9092        9092   972785320977752065  2018-03-11 16:29:28+05:45   \n",
       "9093        9093   972770673549627392  2018-03-11 15:31:16+05:45   \n",
       "9094        9094   972760525049335808  2018-03-11 14:50:56+05:45   \n",
       "9095        9095   972732728662745088  2018-03-11 13:00:29+05:45   \n",
       "\n",
       "                                                   urls  \\\n",
       "0     https://english.onlinekhabar.com/mithila-house...   \n",
       "1     https://english.onlinekhabar.com/uml-feud-nepa...   \n",
       "2     https://english.onlinekhabar.com/bara-sexagena...   \n",
       "3     https://english.onlinekhabar.com/nepal-covid-1...   \n",
       "4     https://english.onlinekhabar.com/78-businesses...   \n",
       "...                                                 ...   \n",
       "9091  http://english.onlinekhabar.com/kailali-withcr...   \n",
       "9092  http://english.onlinekhabar.com/province-5-chi...   \n",
       "9093  http://english.onlinekhabar.com/kailali-withcr...   \n",
       "9094  http://english.onlinekhabar.com/icc-world-cup-...   \n",
       "9095  http://english.onlinekhabar.com/meet-sunil-lam...   \n",
       "\n",
       "                                                article  \n",
       "0     When people talk about Ramayana, one of the gr...  \n",
       "1     Kathmandu, March 30\\n\\nThe faction of the ruli...  \n",
       "2     Birgunj, March 30\\n\\nA 65-year-old woman died ...  \n",
       "3     Kathmandu, March 29\\n\\nThe Ministry of Health ...  \n",
       "4     Kathmandu, March 30\\n\\nThe Department of Food ...  \n",
       "...                                                 ...  \n",
       "9091  Kathmandu, March 11\\n\\nThe Mayor of a town in ...  \n",
       "9092  Kathmandu, March 11\\n\\nProvince 5 Chief Minist...  \n",
       "9093  Kathmandu, March 11\\n\\nThe policemen who relea...  \n",
       "9094  Watching Nepal play in the World Cup is every ...  \n",
       "9095  At the training facility of Balwatar Cricket C...  \n",
       "\n",
       "[9080 rows x 5 columns]"
      ]
     },
     "execution_count": 24,
     "metadata": {},
     "output_type": "execute_result"
    }
   ],
   "source": [
    "df_[df_.article!='404']"
   ]
  },
  {
   "cell_type": "code",
   "execution_count": 26,
   "metadata": {},
   "outputs": [],
   "source": [
    "# did not have to continue in this case\n",
    "df_[df_.article!='404'][['id', 'created_at', 'urls', 'article']].to_csv(file_path, index=False)"
   ]
  }
 ],
 "metadata": {
  "kernelspec": {
   "display_name": "Python 3",
   "language": "python",
   "name": "python3"
  },
  "language_info": {
   "codemirror_mode": {
    "name": "ipython",
    "version": 3
   },
   "file_extension": ".py",
   "mimetype": "text/x-python",
   "name": "python",
   "nbconvert_exporter": "python",
   "pygments_lexer": "ipython3",
   "version": "3.8.5"
  }
 },
 "nbformat": 4,
 "nbformat_minor": 4
}
