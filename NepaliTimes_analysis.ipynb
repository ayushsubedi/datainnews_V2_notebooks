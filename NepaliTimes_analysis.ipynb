{
 "cells": [
  {
   "cell_type": "code",
   "execution_count": 1,
   "metadata": {},
   "outputs": [],
   "source": [
    "import pandas as pd\n",
    "import numpy as np\n",
    "import re\n",
    "from bs4 import BeautifulSoup\n",
    "from nltk.corpus import stopwords\n",
    "from nltk.tokenize import word_tokenize\n",
    "stop_words = set(stopwords.words('english'))\n",
    "# import nltk\n",
    "# nltk.download('stopwords')"
   ]
  },
  {
   "cell_type": "code",
   "execution_count": 2,
   "metadata": {},
   "outputs": [],
   "source": [
    "data_level1 = [\n",
    "    'arabl land',\n",
    "    'avail data',\n",
    "    'bureau statist',\n",
    "    'busi survey',\n",
    "    'cens publi',\n",
    "    'cens pop',\n",
    "    'children employ',\n",
    "    'civil registr',\n",
    "    'collect method',\n",
    "    'commerci export',\n",
    "    'complet rate',\n",
    "    'consum electr',\n",
    "    'consum energ',\n",
    "    'data access',\n",
    "    'data collect',\n",
    "    'data compil',\n",
    "    'data entri',\n",
    "    'data manag',\n",
    "    'data releas',\n",
    "    'data standard',\n",
    "    'data user',\n",
    "    'demograph data',\n",
    "    'densit popul',\n",
    "    'develop data',\n",
    "    'difusion dat',\n",
    "    'direct statist',\n",
    "    'disaggreg data',\n",
    "    'electr access',\n",
    "    'electr consumpt',\n",
    "    'energi consumpt',\n",
    "    'establish survey',\n",
    "    'exchang rate',\n",
    "    'extern debt',\n",
    "    'fertil rate',\n",
    "    'food import',\n",
    "    'food product',\n",
    "    'gender gap',\n",
    "    'govern debt',\n",
    "    'govern statist',\n",
    "    'gross domest',\n",
    "    'gross nation',\n",
    "    'health expenditur',\n",
    "    'health survey',\n",
    "    'import marchandis',\n",
    "    'improv data',\n",
    "    'improv statist',\n",
    "    'indic measur',\n",
    "    'indic preci',\n",
    "    'inflat rate',\n",
    "    'institut statist',\n",
    "    'interest payment',\n",
    "    'intern tourism',\n",
    "    'irrig land',\n",
    "    'land use',\n",
    "    'life expect',\n",
    "    'livestock product',\n",
    "    'merchandis export',\n",
    "    'merchandis trade',\n",
    "    'model statist',\n",
    "    'mortal rate',\n",
    "    'multilater debt',\n",
    "    'nation account',\n",
    "    'nation statist',\n",
    "    'nation survey',\n",
    "    'national brut',\n",
    "    'national statist',\n",
    "    'open data',\n",
    "    'part revenus',\n",
    "    'pay gap',\n",
    "    'popul census',\n",
    "    'popul growth',\n",
    "    'popul rate',\n",
    "    'price index',\n",
    "    'produccion aliment',\n",
    "    'purchas power',\n",
    "    'qualiti data',\n",
    "    'receit fiscal',\n",
    "    'releas data',\n",
    "    'revenu fiscal',\n",
    "    'rural popul',\n",
    "    'servic export',\n",
    "    'statist agenc',\n",
    "    'statist author',\n",
    "    'statist avail',\n",
    "    'statist committe',\n",
    "    'statist data',\n",
    "    'statist depart',\n",
    "    'statist national',\n",
    "    'statist offic',\n",
    "    'statist servic',\n",
    "    'statist studi',\n",
    "    'survey catalogu',\n",
    "    'tax payment',\n",
    "    'tax revenu',\n",
    "    'trade balanc',\n",
    "    'unemploy rate',\n",
    "    'use data',\n",
    "    'water suppli',\n",
    "    'youth unemploy',\n",
    "    ]\n",
    "\n",
    "data_level2 = [\n",
    "    'accur',\n",
    "    'adequ',\n",
    "    'ambigu',\n",
    "    'apropi',\n",
    "    'bancal',\n",
    "    'bias',\n",
    "    'confiabl',\n",
    "    'correct',\n",
    "    'deceit',\n",
    "    'deceiv',\n",
    "    'decept',\n",
    "    'defectu',\n",
    "    'delud',\n",
    "    'engan',\n",
    "    'equivoc',\n",
    "    'erreur',\n",
    "    'erro',\n",
    "    'erron',\n",
    "    'errone',\n",
    "    'error',\n",
    "    'exact',\n",
    "    'exat',\n",
    "    'fake',\n",
    "    'fallaci',\n",
    "    'faux',\n",
    "    'fiabl',\n",
    "    'generaliz',\n",
    "    'illus',\n",
    "    'imparcial',\n",
    "    'impartial',\n",
    "    'imprecis',\n",
    "    'improp',\n",
    "    'inaccur',\n",
    "    'incorrect',\n",
    "    'inexact',\n",
    "    'invalid',\n",
    "    'limit',\n",
    "    'manipul',\n",
    "    'mislead',\n",
    "    'mistaken',\n",
    "    'parcial',\n",
    "    'prec',\n",
    "    'precis',\n",
    "    'proper',\n",
    "    'reliabl',\n",
    "    'rigor',\n",
    "    'rigour',\n",
    "    'scientif',\n",
    "    'spurious',\n",
    "    'tromp',\n",
    "    'trompeur',\n",
    "    'unbias',\n",
    "    'unreli',\n",
    "    'unscientif',\n",
    "    'unsound',\n",
    "    'vag',\n",
    "    'vagu',\n",
    "    'val',\n",
    "    'valid',\n",
    "    ]\n",
    "\n",
    "data_level3 = [\n",
    "    'data manipul',\n",
    "    'lead question',\n",
    "    'manipul dat',\n",
    "    'report bias',\n",
    "    'sampl select',\n",
    "    'sampl size',\n",
    "    ]\n",
    "\n",
    "data_level_indicator = [\n",
    "    ' cpi ',\n",
    "    ' fdi ',\n",
    "    ' gdp ',\n",
    "    ' gnp ',\n",
    "    ' hdi ',\n",
    "    ' wdi ',\n",
    "    ]\n",
    "\n",
    "filter_list = [' data ', ' record ', ' research ', ' statistics ',\n",
    "               ' study ']"
   ]
  },
  {
   "cell_type": "code",
   "execution_count": 3,
   "metadata": {},
   "outputs": [],
   "source": [
    "\n",
    "def clean_text(raw_html):\n",
    "    text = BeautifulSoup(raw_html, 'lxml').text\n",
    "    word_tokens = word_tokenize(text.lower().rstrip())\n",
    "    filtered_sentence = [w for w in word_tokens if not w in stop_words]\n",
    "    return ' '.join(filtered_sentence)\n",
    "\n",
    "\n",
    "def level1_count(article):\n",
    "    if article:\n",
    "        article = str(article)\n",
    "        keyword_list = []\n",
    "        for word in data_level1:\n",
    "            search_ = r\"\\b\" + word.split()[0] + r\"[a-zA-Z]*\\s\\b\" \\\n",
    "                + word.split()[1] + r\"[a-zA-Z]*\"\n",
    "            if re.search(search_, article):\n",
    "                keyword_list.append(word)\n",
    "        for word in data_level_indicator:\n",
    "            if word in article:\n",
    "                keyword_list.append(word)\n",
    "        return keyword_list\n",
    "    return []\n",
    "\n",
    "\n",
    "def level2_count(article, valid):\n",
    "    if valid == 1:\n",
    "        article = str(article)\n",
    "        keyword_list = []\n",
    "        for word in data_level2:\n",
    "            search_ = r\"\\b\" + word + r\"[a-zA-Z]*\"\n",
    "            if re.search(search_,  article):\n",
    "                keyword_list.append(word)\n",
    "        return keyword_list\n",
    "    return []\n",
    "\n",
    "\n",
    "def level3_count(article, valid):\n",
    "    if valid == 1:\n",
    "        article = str(article)\n",
    "        keyword_list = []\n",
    "        for word in data_level3:\n",
    "            search_ = r\"\\b\" + word + r\"[a-zA-Z]*\"\n",
    "            if re.search(search_,   article):\n",
    "                keyword_list.append(word)\n",
    "        return keyword_list\n",
    "    return []\n",
    "\n",
    "\n",
    "def level_2_3_filter(article):\n",
    "    article = str(article)\n",
    "    for word in filter_list:\n",
    "        if word in article:\n",
    "            return 1\n",
    "    return 0\n",
    "\n",
    "\n",
    "def level_len(count_list):\n",
    "    if type(count_list) == str:\n",
    "        return (1 if len(count_list) > 2 else 0)\n",
    "    return (1 if len(count_list) > 0 else 0)"
   ]
  },
  {
   "cell_type": "code",
   "execution_count": 4,
   "metadata": {},
   "outputs": [],
   "source": [
    "df = pd.read_csv(\"NepaliTimes_articles.csv\", parse_dates=['created_at'], na_filter=False)"
   ]
  },
  {
   "cell_type": "code",
   "execution_count": 5,
   "metadata": {},
   "outputs": [],
   "source": [
    "df['article'] = df.article.apply(clean_text)"
   ]
  },
  {
   "cell_type": "markdown",
   "metadata": {},
   "source": [
    "## Level1"
   ]
  },
  {
   "cell_type": "code",
   "execution_count": 6,
   "metadata": {},
   "outputs": [],
   "source": [
    "df['level1'] = np.nan\n",
    "df['level2'] = np.nan\n",
    "df['level3'] = np.nan"
   ]
  },
  {
   "cell_type": "code",
   "execution_count": 7,
   "metadata": {},
   "outputs": [],
   "source": [
    "df['level1'] = df.apply(lambda x: (level1_count(x['article']) if pd.isnull(x.level1) else x.level1), axis=1)"
   ]
  },
  {
   "cell_type": "code",
   "execution_count": 8,
   "metadata": {},
   "outputs": [],
   "source": [
    "df['level1_count'] = df.level1.apply(level_len)"
   ]
  },
  {
   "cell_type": "code",
   "execution_count": 9,
   "metadata": {},
   "outputs": [
    {
     "data": {
      "text/plain": [
       "390"
      ]
     },
     "execution_count": 9,
     "metadata": {},
     "output_type": "execute_result"
    }
   ],
   "source": [
    "df.level1_count.sum()"
   ]
  },
  {
   "cell_type": "markdown",
   "metadata": {},
   "source": [
    "## Level2"
   ]
  },
  {
   "cell_type": "code",
   "execution_count": 10,
   "metadata": {},
   "outputs": [],
   "source": [
    "df['level_2_3_valid'] = df['article'].apply(level_2_3_filter)"
   ]
  },
  {
   "cell_type": "code",
   "execution_count": 11,
   "metadata": {},
   "outputs": [],
   "source": [
    "df['level2'] = df.apply(lambda x: (level2_count(x['article'\n",
    "                                    ], x['level_2_3_valid'\n",
    "                                    ]) if pd.isnull(x.level2) else x.level2),\n",
    "                                    axis=1)\n"
   ]
  },
  {
   "cell_type": "code",
   "execution_count": 12,
   "metadata": {},
   "outputs": [],
   "source": [
    "df['level2_count'] = df.level2.apply(level_len)"
   ]
  },
  {
   "cell_type": "markdown",
   "metadata": {},
   "source": [
    "### Level3"
   ]
  },
  {
   "cell_type": "code",
   "execution_count": 13,
   "metadata": {},
   "outputs": [],
   "source": [
    "df['level3'] = df.apply(lambda x: (level3_count(x['article'\n",
    "                                    ], x['level_2_3_valid'\n",
    "                                    ]) if pd.isnull(x.level3) else x.level3),\n",
    "                                    axis=1)"
   ]
  },
  {
   "cell_type": "code",
   "execution_count": 14,
   "metadata": {},
   "outputs": [],
   "source": [
    "df['level3_count'] = df.level3.apply(level_len)"
   ]
  },
  {
   "cell_type": "markdown",
   "metadata": {},
   "source": [
    "# df"
   ]
  },
  {
   "cell_type": "code",
   "execution_count": 15,
   "metadata": {},
   "outputs": [
    {
     "data": {
      "text/plain": [
       "0.06924715909090909"
      ]
     },
     "execution_count": 15,
     "metadata": {},
     "output_type": "execute_result"
    }
   ],
   "source": [
    "df.level1_count.sum()/df.shape[0]"
   ]
  },
  {
   "cell_type": "code",
   "execution_count": 16,
   "metadata": {},
   "outputs": [
    {
     "data": {
      "text/plain": [
       "0.643756050338819"
      ]
     },
     "execution_count": 16,
     "metadata": {},
     "output_type": "execute_result"
    }
   ],
   "source": [
    "df.level2_count.sum()/df.level_2_3_valid.sum()"
   ]
  },
  {
   "cell_type": "code",
   "execution_count": 17,
   "metadata": {},
   "outputs": [
    {
     "data": {
      "text/plain": [
       "0.0"
      ]
     },
     "execution_count": 17,
     "metadata": {},
     "output_type": "execute_result"
    }
   ],
   "source": [
    "df.level3_count.sum()/df.level_2_3_valid.sum()"
   ]
  },
  {
   "cell_type": "code",
   "execution_count": 18,
   "metadata": {},
   "outputs": [],
   "source": [
    "df.to_csv('NepaliTimes_analysis.csv', index=False)"
   ]
  }
 ],
 "metadata": {
  "kernelspec": {
   "display_name": "Python 3",
   "language": "python",
   "name": "python3"
  },
  "language_info": {
   "codemirror_mode": {
    "name": "ipython",
    "version": 3
   },
   "file_extension": ".py",
   "mimetype": "text/x-python",
   "name": "python",
   "nbconvert_exporter": "python",
   "pygments_lexer": "ipython3",
   "version": "3.8.5"
  }
 },
 "nbformat": 4,
 "nbformat_minor": 4
}
